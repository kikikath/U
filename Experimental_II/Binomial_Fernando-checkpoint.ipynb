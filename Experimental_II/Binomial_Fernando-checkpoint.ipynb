{
 "cells": [
  {
   "cell_type": "markdown",
   "id": "spatial-timber",
   "metadata": {
    "id": "spatial-timber"
   },
   "source": [
    "# DISTRIBUCIÓN BINOMIAL"
   ]
  },
  {
   "cell_type": "markdown",
   "id": "popular-brighton",
   "metadata": {
    "id": "popular-brighton"
   },
   "source": [
    "La distribución binomial es aplicada en experimentos repetidos, donde existen dos posibles resultados, por ejemplo, al usar una moneda y lanzarla al aire, tendremos dos alternativas, cara o sello, siendo, una de las dos opciones considerada como acierto, mientras la otra es considerada fracaso. Otro ejemplo, de este tipo de distribución, es al usar dados, podemos indicar que al lanzar un dado cierto número de veces,    "
   ]
  },
  {
   "cell_type": "markdown",
   "id": "medium-campbell",
   "metadata": {
    "id": "medium-campbell"
   },
   "source": [
    "# Características de la distribución binomial"
   ]
  },
  {
   "cell_type": "markdown",
   "id": "australian-richardson",
   "metadata": {
    "id": "australian-richardson"
   },
   "source": [
    "- El resultado de cada prueba es aompletamente aleatorio\n",
    "- Existen solamente dos posibles resultados\n",
    "- Todas las pruebas tiene la misma probabilidad para un resultado en particular, esto indica que existe una probabilidad p de suceso para cada prueba.\n",
    "- El numero de pruebas es un número entero y positivo"
   ]
  },
  {
   "cell_type": "markdown",
   "id": "other-movie",
   "metadata": {
    "id": "other-movie"
   },
   "source": [
    "El modelo es dados por la siguiente función de probabilidad de la distribución binomial:\n",
    "$$ b(n;N,p) = \\frac{N!}{n!(N-n)!}p^n q^{N-n} \\quad (1)$$\n",
    "\n",
    "$$\\mu = Np (2)$$\n",
    "\n",
    "$$\\sigma = \\sqrt{Npq} (3)$$"
   ]
  },
  {
   "cell_type": "code",
   "execution_count": 2,
   "id": "sharing-diameter",
   "metadata": {
    "colab": {
     "base_uri": "https://localhost:8080/",
     "height": 265
    },
    "executionInfo": {
     "elapsed": 981,
     "status": "ok",
     "timestamp": 1636863739272,
     "user": {
      "displayName": "FERNANDO ANDRES LONDOÑO BADILLO",
      "photoUrl": "https://lh3.googleusercontent.com/a-/AOh14Gjfey_DlZSx3-nyezAaSLYXgaXi_NHyxUuu8a_zVg=s64",
      "userId": "05247467568545661127"
     },
     "user_tz": 300
    },
    "id": "sharing-diameter",
    "outputId": "d08384d5-25e4-4ac9-f1eb-aeaae860973f",
    "scrolled": true
   },
   "outputs": [
    {
     "data": {
      "image/png": "[encoded data removed]",
      "text/plain": [
       "<Figure size 432x288 with 1 Axes>"
      ]
     },
     "metadata": {
      "needs_background": "light"
     },
     "output_type": "display_data"
    }
   ],
   "source": [
    "from scipy.stats import binom\n",
    "import matplotlib.pyplot as plt\n",
    "import numpy as np \n",
    "fig, ax = plt.subplots(1, 1)\n",
    "N, p = 10, 0.028 #Define las variables de la distribución binomial\n",
    "mean, var, skew, kurt = binom.stats(N+1, p, moments=\"mvsk\")\n",
    "x = np.arange(binom.ppf(0.0000000001, N+1, p),\n",
    "              binom.ppf(0.9999999999, N+1, p))\n",
    "ax.plot(x, binom.pmf(x, N, p), \" \", ms=8, label=\"Histograma Distribución Binomial\")\n",
    "ax.vlines(x, 0, binom.pmf(x, N, p), colors='b', lw=20, alpha=1.0)\n",
    "rv = binom(N, p)\n",
    "ax.vlines(x, 0, rv.pmf(x), colors=\"w\", linestyles=\"-\", lw=0.1,\n",
    "        label=\"\")\n",
    "ax.legend(loc=\"best\", frameon=False)\n",
    "plt.show()"
   ]
  },
  {
   "cell_type": "code",
   "execution_count": 3,
   "id": "artistic-response",
   "metadata": {
    "colab": {
     "base_uri": "https://localhost:8080/"
    },
    "executionInfo": {
     "elapsed": 415,
     "status": "ok",
     "timestamp": 1636863748337,
     "user": {
      "displayName": "FERNANDO ANDRES LONDOÑO BADILLO",
      "photoUrl": "https://lh3.googleusercontent.com/a-/AOh14Gjfey_DlZSx3-nyezAaSLYXgaXi_NHyxUuu8a_zVg=s64",
      "userId": "05247467568545661127"
     },
     "user_tz": 300
    },
    "id": "artistic-response",
    "outputId": "66d0a3c0-6ebb-4c76-8145-c9c80ffc8721",
    "scrolled": true
   },
   "outputs": [
    {
     "name": "stdout",
     "output_type": "stream",
     "text": [
      "Valores de n: [0. 1. 2. 3. 4. 5. 6.]\n",
      "Valor medio es: 0.308\n",
      "La probabilidad es: 0.00010885515728749125\n"
     ]
    }
   ],
   "source": [
    "print (\"Valores de n:\",x)\n",
    "print (\"Valor medio es:\", mean)\n",
    "print (\"La probabilidad es:\", binom.pmf(4, N, p))"
   ]
  },
  {
   "cell_type": "code",
   "execution_count": 4,
   "id": "stainless-championship",
   "metadata": {
    "colab": {
     "base_uri": "https://localhost:8080/"
    },
    "executionInfo": {
     "elapsed": 314,
     "status": "ok",
     "timestamp": 1636863751517,
     "user": {
      "displayName": "FERNANDO ANDRES LONDOÑO BADILLO",
      "photoUrl": "https://lh3.googleusercontent.com/a-/AOh14Gjfey_DlZSx3-nyezAaSLYXgaXi_NHyxUuu8a_zVg=s64",
      "userId": "05247467568545661127"
     },
     "user_tz": 300
    },
    "id": "stainless-championship",
    "outputId": "d994c777-9f82-4b03-aca7-062cbfaebd87"
   },
   "outputs": [
    {
     "name": "stdout",
     "output_type": "stream",
     "text": [
      "La probabilidad es: [0.7527706  0.2168475  0.02810986]\n"
     ]
    },
    {
     "data": {
      "text/plain": [
       "0.997727959240023"
      ]
     },
     "execution_count": 4,
     "metadata": {},
     "output_type": "execute_result"
    }
   ],
   "source": [
    "T=0,1,2\n",
    "print (\"La probabilidad es:\", binom.pmf(T, N, p))\n",
    "lista = binom.pmf(T, N, p)\n",
    "sum(binom.pmf(T, N, p))"
   ]
  },
  {
   "cell_type": "code",
   "execution_count": null,
   "id": "documentary-airport",
   "metadata": {
    "id": "documentary-airport"
   },
   "outputs": [],
   "source": []
  },
  {
   "cell_type": "code",
   "execution_count": null,
   "id": "criminal-church",
   "metadata": {
    "id": "criminal-church"
   },
   "outputs": [],
   "source": []
  }
 ],
 "metadata": {
  "colab": {
   "name": "Binomial_Fernando.ipynb",
   "provenance": []
  },
  "kernelspec": {
   "display_name": "Python 3",
   "language": "python",
   "name": "python3"
  },
  "language_info": {
   "codemirror_mode": {
    "name": "ipython",
    "version": 3
   },
   "file_extension": ".py",
   "mimetype": "text/x-python",
   "name": "python",
   "nbconvert_exporter": "python",
   "pygments_lexer": "ipython3",
   "version": "3.8.8"
  }
 },
 "nbformat": 4,
 "nbformat_minor": 5
}
