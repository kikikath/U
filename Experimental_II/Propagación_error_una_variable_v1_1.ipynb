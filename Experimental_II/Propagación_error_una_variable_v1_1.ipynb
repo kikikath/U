{
  "nbformat": 4,
  "nbformat_minor": 0,
  "metadata": {
    "colab": {
      "name": "Propagación_error_una_variable_v1_1.ipynb",
      "provenance": [],
      "collapsed_sections": []
    },
    "kernelspec": {
      "name": "python3",
      "display_name": "Python 3"
    }
  },
  "cells": [
    {
      "cell_type": "markdown",
      "metadata": {
        "id": "ZTHU-GvgYQE6"
      },
      "source": [
        "# Propagación del error en una sola variable\n",
        "\n",
        "Material en construcción, Edgar Rueda, marzo 2021\n",
        "\n",
        "**Conocimientos previos recomendados**\n",
        "- Concepto de error estándar\n",
        "- Concepto de error en el error.\n",
        "\n",
        "**Bibliografía**\n",
        "- Hughes, I., & Hase, T. (2010). Measurements and their uncertainties: a practical guide to modern error analysis. Oxford University Press.\n",
        "\n",
        "- Lyons, L., & Louis, L. (1991). A practical guide to data analysis for physical science students. Cambridge University Press.\n",
        "\n",
        "- Squires, G. L. (2001). Practical physics. Cambridge university press.\n"
      ]
    },
    {
      "cell_type": "markdown",
      "metadata": {
        "id": "uzWN9P-pdeZQ"
      },
      "source": [
        "## 1. Error en la variable directa\n",
        "Hasta ahora sabemos que cuando tenemos una variable directa, es decir, que podemos medirla directamente con un instrumento, pueden ocurrir dos cosas, que solo midamos una vez, o que el instrumento siempre nos de el mismo valor: aquí reportamos el valor y por defecto como error reportamos la apreciación del instrumento:\n",
        "\n",
        "$$ X = x_I \\pm \\Delta_I \\quad (1)$$\n",
        "\n",
        "donde $x_I$ es el valor en el instrumento y $\\Delta_I$ es la apreciación del instrumento.\n",
        "\n",
        "La otra opción es cuando el valor en el instrumento fluctua, entonces luego de varias mediciones reportamos el valor promedio y el error estándar:\n",
        "\n",
        "$$ X = \\bar x \\pm \\alpha \\quad (2) $$\n",
        "\n",
        "donde $\\bar x$ es el valor promedio y $\\alpha$ es el error estándar.\n",
        "\n"
      ]
    },
    {
      "cell_type": "markdown",
      "metadata": {
        "id": "kzFSqTXCjKsn"
      },
      "source": [
        "## 2. Error en la variable indirecta\n",
        "En algunas ocasiones la variable de interés no la podemos medir directamente con el instrumento, en cambio, debemos usar una función matemática para obtenerla a partir de una variable directa: $Y = y(X)$. Pero como nuestra variable directa tiene una incertidumbre (según la ecuación 2 sabemos el valor de la variable directa con una confiabilidad del 68%), nuestra variable indirecta $Y$ tendrá también una incertidumbre.\n",
        "\n",
        "La forma más conservadora de determinar $Y$ y su incertidumbre es calcular los valores extremos $y(\\bar x + \\alpha)$ y $y(\\bar x - \\alpha)$, o $y(x_I + \\Delta_I)$ y $y(x_I - \\Delta_I)$, y definir el nuevo intervalo\n",
        "\n",
        "$$Y = y(\\bar x)_{-\\alpha_d}^{+\\alpha_u} \\quad (3a)$$\n",
        "\n",
        "o\n",
        "\n",
        "$$Y = y(x_I)_{-\\Delta_d}^{+\\Delta_u} \\quad (3b)$$\n",
        "\n",
        "donde $\\Delta_d$ o $\\alpha_d$ define el límite inferior, y $\\Delta_u$ o $\\alpha_u$ define el límite superior. Note que esto nos indica que no tiene que haber simetría alrededor del valor central.\n",
        "\n",
        "**Nota**: cuando el error es asimétrico se debe tener precaución con la interpretación que se da del mismo en términos de confiabilidad, esto porque la asimetría indica que la distribución de la variable indirecta no es gaussiana, y la definición de confiabilidad la hicimos a partir de una distribución gaussiana."
      ]
    },
    {
      "cell_type": "markdown",
      "metadata": {
        "id": "vveJJ4Nlo3X_"
      },
      "source": [
        "## 3. Ejemplo\n",
        "Supongamos que nuestra variable directa es $X = 3.4 \\pm 0.5$, y que nuestra variable indirecta está definida por la función $Y = \\sqrt{X}$, entonces aplicando lo visto arriba el valor a reportar será:\n",
        "\n",
        "$$Y = 1.84_{-0.14}^{+0.13}$$"
      ]
    },
    {
      "cell_type": "code",
      "metadata": {
        "colab": {
          "base_uri": "https://localhost:8080/"
        },
        "id": "SVSM56SrYFpp",
        "outputId": "77dd0a83-1602-4d8a-971e-8efe55581670"
      },
      "source": [
        "#@title Código:\n",
        "import numpy as np\n",
        "x = 3.4\n",
        "ex = 0.5\n",
        "y = np.sqrt(x)\n",
        "alpha1 = np.sqrt(x + ex)\n",
        "alpha2 = np.sqrt(x - ex)\n",
        "print('y = %f, alpha1 = %f, alpha2 = %f'%(y,alpha1, alpha2))"
      ],
      "execution_count": null,
      "outputs": [
        {
          "output_type": "stream",
          "name": "stdout",
          "text": [
            "y = 1.843909, alpha1 = 1.974842, alpha2 = 1.702939\n"
          ]
        }
      ]
    },
    {
      "cell_type": "markdown",
      "metadata": {
        "id": "Fuf5Z4xyD75Z"
      },
      "source": [
        "#3. Incertidumbres pequeñas y simétricas\n",
        "Hasta ahora hemos visto como lidiar con cualquier tipo de error, pero en principio si estamos midiendo bien, con los instrumentos adecuados, nuestros errores deberían ser pequeños y simétricos. Podemos entonces escribir:\n",
        "\n",
        "$$\\Delta_Y = \\frac{y(x_0 + \\alpha) - y(x_0)}{\\alpha} \\alpha \\quad (4)$$\n",
        "\n",
        "donde $x_0 = \\bar x = x_I$, y $x = x_0 + \\alpha = x_0 +\\Delta_I$. Gráficamente lo podemos observar en la figura 1.\n",
        "\n",
        "<img src=\"https://docs.google.com/uc?export=download&id=1mwu5MbxSdY6uy4vB3g8uB7Albg_nGVEd\" width=\"400\" height=\"350\"> \n",
        "\n",
        "Figura 1. Derivada como la tangente de la curva.\n"
      ]
    },
    {
      "cell_type": "markdown",
      "metadata": {
        "id": "4SiJxaLAcJD8"
      },
      "source": [
        "Ahora, cuando el error tiende a cero, en el límite, obtenemos la definición de la derivada,\n",
        "\n",
        "$$ \\text{lim}_{\\alpha \\to 0} \\frac{y(x_0 + \\alpha) - y(x_0)}{\\alpha} = \\frac{dy}{dx}\\bigg|_{x_0} \\quad (5) $$\n",
        "\n",
        "y podemos reescribir el error en $Y$ como \n",
        "\n",
        "$$ \\alpha_Y = \\bigg|\\frac{dy}{dx}\\bigg|_{x_0}\\alpha \\quad (6) $$\n",
        "\n",
        "Note que la derivada se toma con su valor absoluto puesto que la incertidumbre será simétrica alrededor del valor central. Para el caso de una sola medida se reemplaza $\\alpha$ por $\\delta_I$, siendo $\\delta_1 = \\Delta_I \\to 0$.\n",
        "\n",
        "Finalmente, el valor a reportar de una variable indirecta, cuando dicha variable solo depende de una variable directa cuya incertidumbre es pequeña, será:\n",
        "\n",
        "$$ Y = y(x_0) \\pm \\alpha_Y \\quad (7) $$"
      ]
    },
    {
      "cell_type": "markdown",
      "metadata": {
        "id": "7HTCcFQwfiw_"
      },
      "source": [
        "## 4.  Ejemplo\n",
        "Del ejemplo anterior, recordando que nuestra variable directa es $X = 3.452 \\pm 0.013$, pero ahora con una incertidumbre aproximadamente un orden de magnitud menor, y que nuestra variable indirecta está definida por la función $Y = \\sqrt{X}$, entonces aplicando lo visto en la sección 2 el valor a reportar será:\n",
        "\n",
        "$$Y = 1.857_{-0.004}^{+0.004}$$"
      ]
    },
    {
      "cell_type": "code",
      "metadata": {
        "cellView": "form",
        "id": "95CienqQrTha"
      },
      "source": [
        "#@title Código:\n",
        "import numpy as np\n",
        "x = 3.45\n",
        "ex = 0.013\n",
        "y = np.sqrt(x)\n",
        "alpha1 = np.sqrt(x + ex)\n",
        "alpha2 = np.sqrt(x - ex)\n",
        "#print('y = %f, alpha1 = %f, alpha2 = %f'%(y,alpha1, alpha2))\n",
        "#print('mayor',(alpha1-y))\n",
        "#print('menor',(y-alpha2))"
      ],
      "execution_count": null,
      "outputs": []
    },
    {
      "cell_type": "markdown",
      "metadata": {
        "id": "BopArGXvhQY1"
      },
      "source": [
        "Si usamos la ecuación 7 el error en la variable indirecta será\n",
        "\n",
        "$$ \\alpha_Y = \\bigg|\\frac{1}{2\\sqrt{X}}\\bigg|_{x_0=3.452}\\times 0.013 = 0.004$$\n",
        "\n",
        "Y por lo tanto el valor de la variable indirecta será $ Y = 1.857 \\pm 0.004 $."
      ]
    },
    {
      "cell_type": "code",
      "metadata": {
        "cellView": "form",
        "id": "T5YHISkkgbnG"
      },
      "source": [
        "#@title Código:\n",
        "#(1/2/np.sqrt(1.8574))*0.01"
      ],
      "execution_count": null,
      "outputs": []
    },
    {
      "cell_type": "markdown",
      "metadata": {
        "id": "vvLaXTf8lfdm"
      },
      "source": [
        "Para esta incertidumbre en la variable directa ambos resultados fueron iguales, y por lo tanto la incertidumbre en la variable indirecta se reporta una vez y se usa el símbolo $\\pm$. Tuvimos que bajar dos órdenes de magnitud para que el error se pudiera aproximar con la derivada. En general, no se suele ser tan extrictos con el uso de la definición del error en términos de derivada, y queda bajo criterio del experimentador decidir si es correcto usarlo."
      ]
    },
    {
      "cell_type": "markdown",
      "metadata": {
        "id": "LElBLpgGO0yp"
      },
      "source": [
        "##5. Simulación\n",
        "Vamos a simular el experimento suponiendo que el error en $X$ es aletorio y sigue una distribución gaussiana: miremos que tipo de distribución nos da $Y$. Sea $X$ una variable directa con media $3.4$ y dispersión de $1.3$, y $Y=\\sqrt{X}$ una variable indirecta que queremos medir. Contruyamos una distribución para $X$, y tomemos $N=30$ datos de dicha distribución para determinar el valor central $\\bar x$ y el error estándar $\\alpha_x$ de la variable directa $X$. Luego determinemos la distribución de $Y$ con los $N$ datos."
      ]
    },
    {
      "cell_type": "code",
      "metadata": {
        "colab": {
          "base_uri": "https://localhost:8080/",
          "height": 367
        },
        "id": "sI8EL42wPp9j",
        "cellView": "form",
        "outputId": "85f001d3-15f3-4348-8dc3-ab79a9d19a3a"
      },
      "source": [
        "#@title Código...\n",
        "#@markdown Forms support many types of fields.\n",
        "Valor_central = \"3.4\" #@param [\"3.4\",\"3.452\"] {allow-input: true}\n",
        "Dispersion = \"1.3\" #@param [\"1.3\",\"2.0\"] {allow-input: true}\n",
        "Tamaño_muestra = \"30\" #@param [\"5\",\"30\"] {allow-input: true}\n",
        "#@markdown ---\n",
        "\n",
        "import pylab as plt\n",
        "from scipy.stats import norm\n",
        "\n",
        "np.random.seed(0)\n",
        "X = float(Valor_central)\n",
        "eX = float(Dispersion)\n",
        "N = int(Tamaño_muestra)\n",
        "x = np.random.normal(loc=X,scale=eX,size=5000)\n",
        "xm = np.mean(x)\n",
        "xdev = np.std(x,ddof=1)\n",
        "\n",
        "##\n",
        "xmed = np.random.choice(x,size=N)\n",
        "x_bar = np.mean(xmed)\n",
        "x_err = np.std(xmed,ddof=1)/np.sqrt(N)\n",
        "print('x_bar',x_bar)\n",
        "print('x_err',x_err)\n",
        "\n",
        "y_bar = np.sqrt(x_bar)\n",
        "y_err = x_err*np.sqrt(1/x_bar)/2\n",
        "print('y_bar',y_bar)\n",
        "print('y_err',y_err)\n",
        "\n",
        "fig,(ax1,ax2) = plt.subplots(1,2,figsize=(10,4))\n",
        "ax1.set_title(r'media = %.3f, dispersión = %.3f'%(xm,xdev))\n",
        "n,bins,patches = ax1.hist(x,bins=int(np.sqrt(len(x))))\n",
        "ax1.plot(bins,norm.pdf(bins,xm,xdev)*len(x)*(abs(bins[0]-bins[1])),'r--')\n",
        "ax1.set_xlabel('$X$')\n",
        "ax1.set_ylabel('Frecuencia')\n",
        "\n",
        "#Se calcula la distribución de Y\n",
        "y = np.sqrt(abs(xmed))\n",
        "ym = np.mean(y)\n",
        "ydev = np.std(y,ddof=1)\n",
        "ax2.set_title(r'media = %.3f, dispersión = %.3f'%(ym,ydev))\n",
        "n,bins,patches = ax2.hist(y,bins=int(np.sqrt(len(y))))\n",
        "ax2.plot(bins,norm.pdf(bins,ym,ydev)*len(y)*(abs(bins[0]-bins[1])),'r--')\n",
        "ax2.set_xlabel('$Y$')\n",
        "ax2.set_ylabel('Frecuencia')\n",
        "fig.show()"
      ],
      "execution_count": null,
      "outputs": [
        {
          "output_type": "stream",
          "text": [
            "x_bar 3.4185577344603275\n",
            "x_err 0.2792701218975839\n",
            "y_bar 1.8489342158282234\n",
            "y_err 0.07552191946766636\n"
          ],
          "name": "stdout"
        },
        {
          "output_type": "display_data",
          "data": {
            "image/png": "[encoded data removed]",
            "text/plain": [
              "<Figure size 720x288 with 2 Axes>"
            ]
          },
          "metadata": {
            "tags": [],
            "needs_background": "light"
          }
        }
      ]
    },
    {
      "cell_type": "markdown",
      "metadata": {
        "id": "DrGJ2DDDYA5L"
      },
      "source": [
        "**Análisis**:\n",
        "El valor obtenido para la variable directa fue $X = 3.4 \\pm 0.3$. Y aplicando propagación del error el valor obtenido para la variable indirecta fue $Y = 1.85 \\pm 0.08$.\n",
        "\n",
        "Si ahora miramos la distribución que obtuvimos para $Y$ calculando los $N=30$ datos la media es $1.79$ con desviación estándar de $0.46$. Comparado con el resultado de la propagación del error, el valor central concuerda pero el error que se puede obtener de la distribución es mucho más grande.\n",
        "\n",
        "Si ahora aplicamos el teorema del límite central a la distribución de $Y$ obtenemos:"
      ]
    },
    {
      "cell_type": "code",
      "metadata": {
        "id": "7myDqvuEWYHg",
        "colab": {
          "base_uri": "https://localhost:8080/"
        },
        "cellView": "form",
        "outputId": "742e6985-40f0-4dde-a230-0bb9aada5a31"
      },
      "source": [
        "#@title Código...\n",
        "erry = ydev/np.sqrt(len(y))\n",
        "print('ym',ym)\n",
        "print('erry',erry)"
      ],
      "execution_count": null,
      "outputs": [
        {
          "output_type": "stream",
          "text": [
            "ym 1.7920842884674626\n",
            "erry 0.08448457061507554\n"
          ],
          "name": "stdout"
        }
      ]
    },
    {
      "cell_type": "markdown",
      "metadata": {
        "id": "HLT2sJtAacUT"
      },
      "source": [
        "Con los $30$ calculados el valor a reportar sería $Y = 1.79 \\pm 0.08$. \n",
        "\n",
        "**Conclusión**: Podemos decir que no hay diferencia entre usar propagación del error o determinar el error estándar de la variable indirecta. Algo particular que se observa es que el valor central para la propagación siempre da mayor que el obtenido con la distribución; este resultado es extraño y actualmente no tenemos una razón para explicarlo. Por otro lado, que sea mayor o menor depende de la función $y=y(x)$."
      ]
    },
    {
      "cell_type": "code",
      "metadata": {
        "id": "UIlapkyDaaul"
      },
      "source": [
        ""
      ],
      "execution_count": null,
      "outputs": []
    }
  ]
}