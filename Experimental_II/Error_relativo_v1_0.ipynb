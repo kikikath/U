{
  "nbformat": 4,
  "nbformat_minor": 0,
  "metadata": {
    "colab": {
      "name": "Error_relativo_v1_0.ipynb",
      "provenance": []
    },
    "kernelspec": {
      "name": "python3",
      "display_name": "Python 3"
    }
  },
  "cells": [
    {
      "cell_type": "markdown",
      "metadata": {
        "id": "V3OOZ_Ay_kew"
      },
      "source": [
        "# Error relativo - Error dominante\n",
        "\n",
        "*   Elemento de la lista\n",
        "*   Elemento de la lista\n",
        "\n",
        "\n",
        "\n",
        "Material en construcción, Edgar Rueda, marzo 2021\n",
        "\n",
        "**Conocimientos previos recomendados**\n",
        "- Concepto de error estándar.\n",
        "- Propagación del error.\n",
        "- Cifras significativas.\n",
        "\n",
        "**Bibliografía**\n",
        "- Hughes, I., & Hase, T. (2010). Measurements and their uncertainties: a practical guide to modern error analysis. Oxford University Press.\n",
        "\n",
        "- Lyons, L., & Louis, L. (1991). A practical guide to data analysis for physical science students. Cambridge University Press.\n",
        "\n",
        "- Squires, G. L. (2001). Practical physics. Cambridge university press."
      ]
    },
    {
      "cell_type": "code",
      "metadata": {
        "id": "2eRXQVHXu6zl"
      },
      "source": [
        ""
      ],
      "execution_count": null,
      "outputs": []
    },
    {
      "cell_type": "markdown",
      "metadata": {
        "id": "ffCzxL-__33O"
      },
      "source": [
        "##1. Definición del error relativo\n",
        "Sea la variable experimental $X = x_0 \\pm \\alpha_x$, se define error relativo a la razón entre el error absoluto y el valor central: $ \\frac{\\alpha_x}{x_0}$. El error relativo es entonces una fracción o porcentaje que no depende directamente del valor central de la variable y por lo tanto es más general que el error absoluto. Definido el error relativo otra forma equivalente de reportar la variable experimental será: $X = x_0 \\pm 100\\frac{\\alpha_x}{x_0}\\%$."
      ]
    },
    {
      "cell_type": "markdown",
      "metadata": {
        "id": "k27vJwI_EBaB"
      },
      "source": [
        "**Ejemplo**: supongamos que tenemos una regla que mide con una precisión de $\\alpha_x = 1$ mm. El problema con el valor absoluto del error es que realmente no sabemos si es un error pequeño o grande. Sin embargo, luego de hacer las medidas y reportar el resultado en términos del error relativo podemos cláramente saber si la regla es adecuada o no. Por ejemplo, si la medida hecha con la regla nos da $x_0 = 3$ mm su error relativo será $0.33$, que es un error importante, y la medida la prodremos reportar como $3 \\pm 1$ mm ó $3$ mm $\\pm33\\%$. Si al medir con la regla nos da $35$ mm el error relativo será $0.03$, y la medida la podremos reportar como $35 \\pm 1$ mm ó $35$ mm $\\pm3\\%$.\n"
      ]
    },
    {
      "cell_type": "markdown",
      "metadata": {
        "id": "kkoFhD3F17Mt"
      },
      "source": [
        "##2. Error dominante\n",
        "En general, el tiempo y los recursos con los que se cuentan para realizar un experimento son limitados, por lo que dicho tiempo se debe usar de la manera más inteligente. Para nuestro caso particular significa aquella que nos permita reportar la variable experimental con la mayor precisión posible. \n",
        "\n",
        "En el caso de que nuestra variable experimental sea una variable directa en principio debemos medir la mayor cantidad de veces para reportar la menor incertidumbre usando el error estándar, pero si nuestra variable es indirecta, y depende de varias variables directas, entonces lo importante aquí es saber a cuál variable directa le dedicamos más tiempo y recursos. Dependiendo de la relación entre la variable indirecta y las variables indirectas esta decisión será más sencilla porque nos permitirá identificar el error dominante, y por lo tanto tomar decisiones como despreciar los demás errores o medir con mayor precisión el error dominante con el fin de aumentar la precisión. Miremos algunos ejemplos:"
      ]
    },
    {
      "cell_type": "markdown",
      "metadata": {
        "id": "7R6leehaxa-Q"
      },
      "source": [
        "1. $ Z_1 = A + B, \\quad\\quad \\alpha_{Z_1}^2 = \\alpha_A^2 + \\alpha_B^2 $ : cuando la relación es de sumas o restas notamos que los errores absolutos de cada variable independiente aparecen por separado, lo que nos permite identificar cuál es dominante.\n",
        "\n",
        "2. $ Z_2 = B^2/C, \\quad\\quad \\bigg(\\frac{\\alpha_{Z_2}}{Z_2}\\bigg)^2 = \\bigg(\\frac{2\\alpha_B}{B}\\bigg)^2 + \\bigg(\\frac{\\alpha_C}{C}\\bigg)^2 $: cuando la relación es de productos, fracciones, y potencias notamos que los errores relativos de cada variable independiente aparecen por separado, lo que nos permite identificar cuál es dominante.\n",
        "\n",
        "3. $ Z_3 = A + B^2, \\quad\\quad \\alpha_{Z_3}^2 = \\alpha_A^2 + (2B)^2\\alpha_B^2 $: En este caso, aunque los errores absolutos de cada variable independiente aparecen por separado, uno de los errores aparece multiplicado por el valor central (nominal) lo que limita el análisis del error dominante a casos particulares.\n",
        "\n",
        "4. $ Z_4 = A + B^2/C, \\quad\\quad \\alpha_{Z_4}^2 = \\alpha_A^2 + \\bigg(\\frac{2B}{C}\\bigg)^2\\alpha_B^2 + \\bigg(\\frac{B^2}{C^2}\\bigg)^2\\alpha_C^2 $: igual que en el ejemplo tres, el análisis solo se puede hacer para casos particulares, y ahora algunos de los errores dependen de los valores centrales de las otras variables independientes."
      ]
    },
    {
      "cell_type": "markdown",
      "metadata": {
        "id": "ZwvZIx1H9lLP"
      },
      "source": [
        "##3. Caso especial\n",
        "Cuando la relación está dada por una diferencia entre las variables independientes hay que tener cuidado especial si los valores de dichas variables centrales son similares porque el error relativo de la variable independiente puede terminar disparándose. Por ejemplo, si tenemos la diferencia y su incertidumbre:\n",
        "$$ Z_5 = A - B, \\quad\\quad \\alpha_{Z_5}^2 = \\alpha_A^2 + \\alpha_B^2$$\n",
        "Al comparar los errores relativos de la suma y la diferencia,\n",
        "$$ \\frac{\\alpha_{Z_1}}{Z_1} = \\frac{\\alpha_A^2 + \\alpha_B^2}{A+B} $$\n",
        "\n",
        "$$ \\frac{\\alpha_{Z_5}}{Z_5} = \\frac{\\alpha_A^2 + \\alpha_B^2}{A-B} $$\n",
        "\n",
        "Para $A \\sim B$ se tiene $\\frac{\\alpha_{Z_1}}{Z_1} << \\frac{\\alpha_{Z_5}}{Z_5} $. En estos casos se debe de buscar otra relación que permita determinar la variable indirecta."
      ]
    }
  ]
}