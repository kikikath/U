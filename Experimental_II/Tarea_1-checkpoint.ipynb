{
 "cells": [
  {
   "cell_type": "markdown",
   "metadata": {
    "id": "Qr3RPW8pCePS"
   },
   "source": [
    "# TAREA 1: Teoréma del límite central, error estándar,  y error en el error.\n",
    "\n",
    "**Nombre**: Shirley Katherine Maldonado Meza\n",
    "\n",
    "**Identificación**: 1004807437\n"
   ]
  },
  {
   "cell_type": "markdown",
   "metadata": {
    "id": "oyi1tXcJCQB2"
   },
   "source": [
    "##0. Grabar el archivo LenaCrip.png en el drive y abrirlo en un notebook.\n",
    "Leer el archivo en el drive:\n",
    "\n",
    "```python \n",
    "# Código de Google Colaboratory para subir el archivo WAV y trabajar con él\n",
    "from google.colab import drive \n",
    "drive.mount('/content/gdrive')\n",
    "\n",
    "!cp '/content/gdrive/My Drive/Colab Notebooks/LenaCrip.png' 'LenaCrip.png'\n",
    "```\n",
    "\n",
    "Abrir el archivo con el siguiente código:\n",
    "\n",
    "```python\n",
    "import numpy as np`\n",
    "import pylab as plt\n",
    "from imageio import imread\n",
    "\n",
    "Ima = imread('LenaCrip.png')[:,:,0]\n",
    "forma = np.shape(Ima)\n",
    "datos = np.reshape(Ima,(np.size(Ima),1)).astype('int')[:,0]\n",
    "print('Tamaño archivo original = %d'%(len(datos)))\n",
    "```\n",
    "\n",
    "En el arreglo `datos` se encuentran los valores experimentales de una variable que se pretende medir."
   ]
  },
  {
   "cell_type": "code",
   "execution_count": 3,
   "metadata": {
    "id": "3O8jt9miO_Sd"
   },
   "outputs": [
    {
     "ename": "ModuleNotFoundError",
     "evalue": "No module named 'google'",
     "output_type": "error",
     "traceback": [
      "\u001b[1;31m---------------------------------------------------------------------------\u001b[0m",
      "\u001b[1;31mModuleNotFoundError\u001b[0m                       Traceback (most recent call last)",
      "\u001b[1;32m<ipython-input-3-96c84ba13efb>\u001b[0m in \u001b[0;36m<module>\u001b[1;34m\u001b[0m\n\u001b[1;32m----> 1\u001b[1;33m \u001b[1;32mfrom\u001b[0m \u001b[0mgoogle\u001b[0m\u001b[1;33m.\u001b[0m\u001b[0mcolab\u001b[0m \u001b[1;32mimport\u001b[0m \u001b[0mdrive\u001b[0m\u001b[1;33m\u001b[0m\u001b[1;33m\u001b[0m\u001b[0m\n\u001b[0m\u001b[0;32m      2\u001b[0m \u001b[0mdrive\u001b[0m\u001b[1;33m.\u001b[0m\u001b[0mmount\u001b[0m\u001b[1;33m(\u001b[0m\u001b[1;34m'/content/gdrive'\u001b[0m\u001b[1;33m)\u001b[0m\u001b[1;33m\u001b[0m\u001b[1;33m\u001b[0m\u001b[0m\n\u001b[0;32m      3\u001b[0m \u001b[1;33m\u001b[0m\u001b[0m\n\u001b[0;32m      4\u001b[0m \u001b[0mget_ipython\u001b[0m\u001b[1;33m(\u001b[0m\u001b[1;33m)\u001b[0m\u001b[1;33m.\u001b[0m\u001b[0msystem\u001b[0m\u001b[1;33m(\u001b[0m\u001b[1;34m\"cp '/content/gdrive/My Drive/Colab Notebooks/LenaCrip.png' 'LenaCrip.png'\"\u001b[0m\u001b[1;33m)\u001b[0m\u001b[1;33m\u001b[0m\u001b[1;33m\u001b[0m\u001b[0m\n\u001b[0;32m      5\u001b[0m \u001b[1;33m\u001b[0m\u001b[0m\n",
      "\u001b[1;31mModuleNotFoundError\u001b[0m: No module named 'google'"
     ]
    }
   ],
   "source": [
    "from google.colab import drive \n",
    "drive.mount('/content/gdrive')\n",
    "\n",
    "!cp '/content/gdrive/My Drive/Colab Notebooks/LenaCrip.png' 'LenaCrip.png'\n",
    "\n",
    "import numpy as np\n",
    "import pylab as plt\n",
    "from imageio import imread\n",
    "\n",
    "Ima = imread('LenaCrip.png')[:,:,0]\n",
    "forma = np.shape(Ima)\n",
    "datos = np.reshape(Ima,(np.size(Ima),1)).astype('int')[:,0]\n",
    "print('Tamaño archivo original = %d'%(len(datos)))"
   ]
  },
  {
   "cell_type": "markdown",
   "metadata": {
    "id": "94hc9S7jdeeI"
   },
   "source": [
    "## 1. Grafique el histograma de los datos con 30 intervalos (bins) y diga si su forma se corresponde a la forma de una distribución gaussiana. Determine la media aritmética y la desviación estándar.\n"
   ]
  },
  {
   "cell_type": "code",
   "execution_count": null,
   "metadata": {
    "id": "tiC4xtgkPApT"
   },
   "outputs": [],
   "source": []
  },
  {
   "cell_type": "markdown",
   "metadata": {
    "id": "PGzpZO5glMPg"
   },
   "source": [
    "---\n",
    "\n",
    "**NOTA**: para los siguientes ejercicios considere el arreglo datos como todos los posibles valores de la variable experimental que quiere medir que puede obtener. Y para cada una de las preguntas siguientes tome los $N$ valores de la variable experimental usando la función `np.random.choice(datos,N)`. Para que los valores aleatorios no cambien use la función `np.random.seed(0)` antes de `np.random.choice()`.\n",
    "\n",
    "**Nota**: además de reportar el valor experimental con su error estándar, imprima también sin formato los valores del valor central, el error estándar, y el error en el error. Por ejemplo para $N = 10$ datos:\n",
    "\n",
    "```\n",
    "N = 10\n",
    "media = 69.400000\n",
    "error = 6.698059\n",
    "error error = 1.578748\n",
    "```\n",
    "Valor a reportar = $69 \\pm 7$\n",
    "\n",
    "---"
   ]
  },
  {
   "cell_type": "markdown",
   "metadata": {
    "id": "3ElFOj50kpDE"
   },
   "source": [
    "## 2. Suponiendo que la distribución es gaussiana, determine el valor de la variable experimental con un error de una cifra significativa para un experimento de $N = 100$ datos. "
   ]
  },
  {
   "cell_type": "code",
   "execution_count": null,
   "metadata": {
    "id": "irOowvk9PBtu"
   },
   "outputs": [],
   "source": []
  },
  {
   "cell_type": "markdown",
   "metadata": {
    "id": "B1ZWXcHspjeS"
   },
   "source": [
    "##3. Suponiendo que la distribución es gaussiana, determine el valor de la variable experimental con un error de dos cifras significativas, con el menor número de valores experimentales posible (haga incrementos de a 100 valores experimentales). "
   ]
  },
  {
   "cell_type": "code",
   "execution_count": null,
   "metadata": {
    "id": "YASkNAR4PCYW"
   },
   "outputs": [],
   "source": []
  },
  {
   "cell_type": "markdown",
   "metadata": {
    "id": "62DG8wXdqNZo"
   },
   "source": [
    "##4. Suponiendo que la distribución es gaussiana, determine el valor de la variable experimental con un error de tres cifras significativas, con el menor número de valores experimentales posible (haga incrementos de a 5000 valores experimentales). "
   ]
  },
  {
   "cell_type": "code",
   "execution_count": null,
   "metadata": {
    "id": "s0-5DL9iGp1-"
   },
   "outputs": [],
   "source": []
  },
  {
   "cell_type": "markdown",
   "metadata": {
    "id": "YCNDbvU6QIZ1"
   },
   "source": [
    "##5. En función de los resultados obtenidos en los puntos 2, 3, y 4, haga un análisis de los resultados y concluya."
   ]
  },
  {
   "cell_type": "markdown",
   "metadata": {
    "id": "GoEiw5tXQK92"
   },
   "source": []
  }
 ],
 "metadata": {
  "colab": {
   "collapsed_sections": [],
   "name": "Tarea_1.ipynb",
   "provenance": []
  },
  "kernelspec": {
   "display_name": "Python 3",
   "language": "python",
   "name": "python3"
  },
  "language_info": {
   "codemirror_mode": {
    "name": "ipython",
    "version": 3
   },
   "file_extension": ".py",
   "mimetype": "text/x-python",
   "name": "python",
   "nbconvert_exporter": "python",
   "pygments_lexer": "ipython3",
   "version": "3.8.8"
  }
 },
 "nbformat": 4,
 "nbformat_minor": 1
}
