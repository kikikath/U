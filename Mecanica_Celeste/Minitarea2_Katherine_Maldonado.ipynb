{
  "nbformat": 4,
  "nbformat_minor": 0,
  "metadata": {
    "colab": {
      "provenance": []
    },
    "kernelspec": {
      "name": "python3",
      "display_name": "Python 3"
    },
    "language_info": {
      "name": "python"
    }
  },
  "cells": [
    {
      "cell_type": "markdown",
      "source": [
        "Calcular la distancia del centro de masa al centro del cuerpo más grande del sistema, y compararla con el radio del cuerpo más grande, en los siguientes sistemas astronómicos:\n",
        "- Sol - Saturno.\n",
        "- Júpiter - Ganímedes.\n",
        "- Plutón - Caronte.\n",
        "- Sirio A - Sirio B.\n",
        "- Alfa Centauri A - Alfa Centauri B"
      ],
      "metadata": {
        "id": "coDEjduR35AY"
      }
    },
    {
      "cell_type": "markdown",
      "source": [
        "Se tomo el centro del cuerpo más grande como origen del sistema de coordenadas."
      ],
      "metadata": {
        "id": "V_iQhNEp4UMT"
      }
    },
    {
      "cell_type": "markdown",
      "source": [
        "####Sol-Saturno"
      ],
      "metadata": {
        "id": "G9Tx3hkt4D2p"
      }
    },
    {
      "cell_type": "code",
      "source": [
        "!pip install -q pymcel"
      ],
      "metadata": {
        "colab": {
          "base_uri": "https://localhost:8080/"
        },
        "id": "w91XxQ_UZA6N",
        "outputId": "1e77ab31-45bf-4c1d-a8f1-35f5391dc3ab"
      },
      "execution_count": 1,
      "outputs": [
        {
          "output_type": "stream",
          "name": "stdout",
          "text": [
            "\u001b[2K     \u001b[90m━━━━━━━━━━━━━━━━━━━━━━━━━━━━━━━━━━━━━━━━\u001b[0m \u001b[32m1.7/1.7 MB\u001b[0m \u001b[31m16.4 MB/s\u001b[0m eta \u001b[36m0:00:00\u001b[0m\n",
            "\u001b[2K     \u001b[90m━━━━━━━━━━━━━━━━━━━━━━━━━━━━━━━━━━━━━━━━\u001b[0m \u001b[32m4.5/4.5 MB\u001b[0m \u001b[31m53.0 MB/s\u001b[0m eta \u001b[36m0:00:00\u001b[0m\n",
            "\u001b[2K     \u001b[90m━━━━━━━━━━━━━━━━━━━━━━━━━━━━━━━━━━━━━━\u001b[0m \u001b[32m295.3/295.3 KB\u001b[0m \u001b[31m12.3 MB/s\u001b[0m eta \u001b[36m0:00:00\u001b[0m\n",
            "\u001b[?25h  Installing build dependencies ... \u001b[?25l\u001b[?25hdone\n",
            "  Getting requirements to build wheel ... \u001b[?25l\u001b[?25hdone\n",
            "  Installing backend dependencies ... \u001b[?25l\u001b[?25hdone\n",
            "  Preparing metadata (pyproject.toml) ... \u001b[?25l\u001b[?25hdone\n",
            "\u001b[2K     \u001b[90m━━━━━━━━━━━━━━━━━━━━━━━━━━━━━━━━━━━━━━\u001b[0m \u001b[32m887.9/887.9 KB\u001b[0m \u001b[31m38.0 MB/s\u001b[0m eta \u001b[36m0:00:00\u001b[0m\n",
            "\u001b[2K     \u001b[90m━━━━━━━━━━━━━━━━━━━━━━━━━━━━━━━━━━━━━━━━\u001b[0m \u001b[32m48.4/48.4 KB\u001b[0m \u001b[31m5.1 MB/s\u001b[0m eta \u001b[36m0:00:00\u001b[0m\n",
            "\u001b[2K     \u001b[90m━━━━━━━━━━━━━━━━━━━━━━━━━━━━━━━━━━━━━━━━\u001b[0m \u001b[32m4.2/4.2 MB\u001b[0m \u001b[31m78.2 MB/s\u001b[0m eta \u001b[36m0:00:00\u001b[0m\n",
            "\u001b[?25h  Building wheel for rebound (pyproject.toml) ... \u001b[?25l\u001b[?25hdone\n"
          ]
        }
      ]
    },
    {
      "cell_type": "code",
      "source": [
        "from astroquery.jplhorizons import Horizons\n",
        "import matplotlib.pyplot as plt\n",
        "import numpy as np\n",
        "#import rebound as rb\n",
        "\n",
        "#from celluloid import Camera\n",
        "#from IPython.core.display import HTML"
      ],
      "metadata": {
        "id": "1PvoFj0OZCke"
      },
      "execution_count": 3,
      "outputs": []
    },
    {
      "cell_type": "code",
      "source": [
        "def Rcm(d1, d2, m1, m2):\n",
        "  return ((d1*m2)+(d2*m2))/(m1+m2)"
      ],
      "metadata": {
        "id": "yq-G8qK26GZm"
      },
      "execution_count": 36,
      "outputs": []
    },
    {
      "cell_type": "code",
      "execution_count": 38,
      "metadata": {
        "colab": {
          "base_uri": "https://localhost:8080/"
        },
        "id": "7yH8ww4b321N",
        "outputId": "beeaf61a-e941-4f23-9580-2456964ea0a3"
      },
      "outputs": [
        {
          "output_type": "stream",
          "name": "stdout",
          "text": [
            "La distancia entre el centro de masa del sistema Sol-Saturno y el Sol es de: 0.0027 AU\n",
            "El radio del Sol es 1.7175220825889923 veces la distancia entre el Sol y el centro de masa Sol-Saturno.\n"
          ]
        }
      ],
      "source": [
        "ds_s = 9.48 #Distancia entre los dos cuerpos en AU\n",
        "rsol = 0.00465047  #radio del Sol\n",
        "M = 1 #masas solares\n",
        "m = 0.0002857  #masa de Saturno\n",
        "\n",
        "print(\"La distancia entre el centro de masa del sistema Sol-Saturno y el Sol es de:\", np.round(Rcm(0,ds_s,M,m), 4), \"AU\")\n",
        "print(\"El radio del Sol es {} veces la distancia entre el Sol y el centro de masa Sol-Saturno.\".format(rsol/Rcm(0, ds_s, M, m)))"
      ]
    },
    {
      "cell_type": "markdown",
      "source": [
        "####Júpiter-Ganímedes"
      ],
      "metadata": {
        "id": "mYxAvy_p7HFN"
      }
    },
    {
      "cell_type": "code",
      "source": [
        "jupiter=Horizons(id=\"Jupiter Barycenter\",location=\"@ssb\",  \n",
        "                 epochs={\"2023-03-16\"}).vectors().to_pandas()\n",
        "ganimedes = Horizons(id=\"Ganymede\",location=\"@ssb\",  \n",
        "                 epochs={\"2023-03-16\"}).vectors().to_pandas()"
      ],
      "metadata": {
        "id": "jPwXxNsF62VQ"
      },
      "execution_count": 52,
      "outputs": []
    },
    {
      "cell_type": "code",
      "source": [
        "rjup = [np.array(jupiter.x)[0], np.array(jupiter.y)[0], np.array(jupiter.z)[0]]  #AU\n",
        "rgan = [np.array(ganimedes.x)[0], np.array(ganimedes.y)[0], np.array(ganimedes.z)[0]]  #AU\n",
        "mjup = 1.900e27 #kg\n",
        "mgan = 1.482e23 #kg\n",
        "r_jup = 0.000477895 #AU\n",
        "\n",
        "#Calculo vector del centro de masa (Aunque no es necesario)\n",
        "Rj_g = Rcm(np.array(rjup), np.array(rgan), mjup, mgan)\n",
        "Rj_g\n",
        "\n",
        "#Calculo de la distancia del centro de masa al cuerpo más grande\n",
        "rj_g = np.array(rjup)-np.array(rgan)\n",
        "j_cm = mgan*rj_g/(mjup+mgan)\n",
        "d_j_cm = np.linalg.norm(j_cm)\n",
        "\n",
        "print(\"La distancia entre Jupiter y el centro de masa del sistema Jupiter-Ganimedes es: {} AU o {} km\".format(d_j_cm, np.round(d_j_cm*1.496e8, 2)))\n",
        "print(\"El radio del Jupiter es {} veces la distancia entre jupiter y el centro de masa Jup-Gan.\".format(r_jup/d_j_cm) )"
      ],
      "metadata": {
        "colab": {
          "base_uri": "https://localhost:8080/"
        },
        "id": "1HqdzYXJcF60",
        "outputId": "37d199e9-0d19-4a4f-8892-06a3961bc16c"
      },
      "execution_count": 78,
      "outputs": [
        {
          "output_type": "stream",
          "name": "stdout",
          "text": [
            "La distancia entre Jupiter y el centro de masa del sistema Jupiter-Ganimedes es: 5.57727881415564e-07 AU o 83.44 km\n",
            "El radio del Jupiter es 856.8605155386156 veces la distancia entre jupiter y el centro de masa Jup-Gan.\n"
          ]
        }
      ]
    },
    {
      "cell_type": "markdown",
      "source": [
        "####Plutón-Caronte"
      ],
      "metadata": {
        "id": "IC6KUMW3dU3I"
      }
    },
    {
      "cell_type": "code",
      "source": [
        "pluton=Horizons(id=\"Pluto Barycenter\",location=\"@ssb\",  \n",
        "                 epochs={\"2023-03-16\"}).vectors().to_pandas()\n",
        "caronte = Horizons(id=\"Charon\",location=\"@ssb\",  \n",
        "                 epochs={\"2023-03-16\"}).vectors().to_pandas()"
      ],
      "metadata": {
        "id": "dnMxSZkgdWmM"
      },
      "execution_count": 59,
      "outputs": []
    },
    {
      "cell_type": "code",
      "source": [
        "rplu = [np.array(pluton.x)[0], np.array(pluton.y)[0], np.array(pluton.z)[0]]  #AU\n",
        "rcar = [np.array(caronte.x)[0], np.array(caronte.y)[0], np.array(caronte.z)[0]]  #AU\n",
        "mplu = 1.30e22\n",
        "mcar = 1.52e21\n",
        "r_plu = 7.94e-6 #AU\n",
        "\n",
        "#Calculo de la distancia del centro de masa al cuerpo más grande\n",
        "rp_c = np.array(rplu)-np.array(rcar)\n",
        "p_cm = mcar*rp_c/(mplu+mcar)\n",
        "d_p_cm = np.linalg.norm(p_cm)\n",
        "\n",
        "print(\"La distancia entre pluton y el centro de masa del sistema Plutón-Caronte es: {} AU o {} km\".format(np.round(d_p_cm,5), np.round(d_p_cm*1.496e8,5)) )\n",
        "print(\"El radio del plutón es {} veces la distancia entre pluton y el centro de masa plu-car.\".format(r_plu/d_p_cm) )"
      ],
      "metadata": {
        "colab": {
          "base_uri": "https://localhost:8080/"
        },
        "id": "dap-dSipeaQI",
        "outputId": "040958b6-b673-46b9-e6c4-38379e4f2c2a"
      },
      "execution_count": 79,
      "outputs": [
        {
          "output_type": "stream",
          "name": "stdout",
          "text": [
            "La distancia entre pluton y el centro de masa del sistema Plutón-Caronte es: 1e-05 AU o 1836.88536 km\n",
            "El radio del plutón es 0.6466511344993157 veces la distancia entre pluton y el centro de masa plu-car.\n"
          ]
        }
      ]
    },
    {
      "cell_type": "markdown",
      "source": [
        "####Sirio A-Sirio B"
      ],
      "metadata": {
        "id": "DewLjxXvguEq"
      }
    },
    {
      "cell_type": "markdown",
      "source": [
        "Para este caso, cambiaré el origen del sistema de referencia al baricentro de la Tierra pues los datos de astroquery se encuentran desde allí."
      ],
      "metadata": {
        "id": "ypUCfFllsrR-"
      }
    },
    {
      "cell_type": "code",
      "source": [
        "#RA de A 06h 45m 08.917s\n",
        "#Dec de A −16° 42′ 58.02\"\n",
        "#RA de B 06h 45m 09\"\n",
        "#Dec de B −16° 43′ 06\"\n",
        "\n",
        "mra = 8.917/60 + 45 + 6*60\n",
        "mrb = 60*6 + 45 + 9/60\n",
        "deca = -16\n",
        "da = (deca*np.pi)/180\n",
        "\n",
        "rra = (mra* np.pi)/(60*180)\n",
        "rrb = (mrb* np.pi)/(60*180)\n",
        "\n",
        "disa = 5.439e+6\n",
        "\n",
        "ra = rra*dis\n",
        "rb = rrb*dis\n",
        "\n",
        "rsa = [np.array(sa.x)[0], np.array(sa.y)[0], np.array(sa.z)[0]]  #AU\n",
        "rsb = [np.array(sb.x)[0], np.array(sb.y)[0], np.array(sb.z)[0]]  #AU\n",
        "msa = 2.02e5  #Masas solares\n",
        "msb = 0.978e5   #Masas solares\n",
        "\n",
        "#Calculo de la distancia del centro de masa al cuerpo más grande\n",
        "ra_b = np.array(rsa)-np.array(rsb)\n",
        "a_cm = mcar*ra_b/(msb+msa)\n",
        "d_a_cm = np.linalg.norm(a_cm)\n",
        "\n",
        "print(\"La distancia entre pluton y el centro de masa del sistema Plutón-Caronte es: {} AU o {} km\".format(np.round(d_p_cm,5), np.round(d_p_cm*1.496e8,5)) )"
      ],
      "metadata": {
        "colab": {
          "base_uri": "https://localhost:8080/",
          "height": 244
        },
        "id": "qs_wMmBMgvw1",
        "outputId": "c4b58b64-3416-489e-bc14-2d7a60cec6a3"
      },
      "execution_count": 80,
      "outputs": [
        {
          "output_type": "error",
          "ename": "NameError",
          "evalue": "ignored",
          "traceback": [
            "\u001b[0;31m---------------------------------------------------------------------------\u001b[0m",
            "\u001b[0;31mNameError\u001b[0m                                 Traceback (most recent call last)",
            "\u001b[0;32m<ipython-input-80-b5f978b0af8a>\u001b[0m in \u001b[0;36m<module>\u001b[0;34m\u001b[0m\n\u001b[1;32m     14\u001b[0m \u001b[0mdisa\u001b[0m \u001b[0;34m=\u001b[0m \u001b[0;36m5.439e+6\u001b[0m\u001b[0;34m\u001b[0m\u001b[0;34m\u001b[0m\u001b[0m\n\u001b[1;32m     15\u001b[0m \u001b[0;34m\u001b[0m\u001b[0m\n\u001b[0;32m---> 16\u001b[0;31m \u001b[0mra\u001b[0m \u001b[0;34m=\u001b[0m \u001b[0mrra\u001b[0m\u001b[0;34m*\u001b[0m\u001b[0mdis\u001b[0m\u001b[0;34m\u001b[0m\u001b[0;34m\u001b[0m\u001b[0m\n\u001b[0m\u001b[1;32m     17\u001b[0m \u001b[0mrb\u001b[0m \u001b[0;34m=\u001b[0m \u001b[0mrrb\u001b[0m\u001b[0;34m*\u001b[0m\u001b[0mdis\u001b[0m\u001b[0;34m\u001b[0m\u001b[0;34m\u001b[0m\u001b[0m\n\u001b[1;32m     18\u001b[0m \u001b[0;34m\u001b[0m\u001b[0m\n",
            "\u001b[0;31mNameError\u001b[0m: name 'dis' is not defined"
          ]
        }
      ]
    },
    {
      "cell_type": "code",
      "source": [],
      "metadata": {
        "id": "-fe8iE9hyo5A"
      },
      "execution_count": null,
      "outputs": []
    }
  ]
}