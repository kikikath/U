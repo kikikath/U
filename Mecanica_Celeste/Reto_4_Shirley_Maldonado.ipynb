{
  "nbformat": 4,
  "nbformat_minor": 0,
  "metadata": {
    "colab": {
      "provenance": []
    },
    "kernelspec": {
      "name": "python3",
      "display_name": "Python 3"
    },
    "language_info": {
      "name": "python"
    }
  },
  "cells": [
    {
      "cell_type": "markdown",
      "source": [
        "Modelar los siguientes sistemas como sistemas jerárquicos de N cuerpos; es decir, encontrar la posición y la velocidad de las componentes del sistema resolviendo por separado la ecuación de movimiento del problema de los 2 cuerpos para las parejas resultantes y después ensamblando las soluciones como vimos en el ejercicio en clase (ver archivo adjunto):\n",
        "\n",
        "\n",
        "- Sistema planetario con una Luna alrededor de una de las estrellas de un sistema binario. 4 cuerpos, estrella \"s\" mₛ = 1, estrella \"e\" mₑ = 0.5, un planeta \"p\" alrededor de la estrella e, mₚ = 0.01 y una Luna \"l\" alrededor del planeta p mₗ = 0.001.  Las dos estrellas están inicialmente separadas por una distancia de 3 y se mueven una respecto de la otra con una velocidad de 1.  El planeta \"p\" se mueve alrededor de la estrella \"e\" a una distancia de 0.4 con una velocidad respecto de su estrella igual a 1.  La Luna del planeta \"p\" está a una distancia de 0.05 del planeta y se mueve con velocidad de 0.5.\n",
        "Todas las cantidades están en unidades canónicas. En los dos casos se deben elegir componentes x, y, z de las posiciones y las velocidades como la persona desee.\n",
        "\n",
        "Comparar la solución obtenida usando el método de los sistemas jerárquicos y la solución numérica al problema completo."
      ],
      "metadata": {
        "id": "0BGLMr96WkG1"
      }
    },
    {
      "cell_type": "markdown",
      "source": [
        "##3 cuerpos:\n",
        "\n",
        "- Lunas de un planeta enano: 3 cuerpos, planeta \"p\" mₚ = 1, luna \"a\" mₐ = 0.02 y luna \"e\" mₑ = 0.01.  La luna \"a\" está a una distancia de 1 del planeta y se mueve con una velocidad 0.7.  La luna \"e\" está a una distancia 1.5 del planeta y se mueve con una velocidad de 0.8.  "
      ],
      "metadata": {
        "id": "ClTy0CSXcmjO"
      }
    },
    {
      "cell_type": "markdown",
      "source": [
        "Este sistema es un sistema central (parecido al sistema solar) en donde el cuerpo principal es el planeta y las 2 lunas orbitan alrededor de este a diferentes distancias. \n",
        "\n",
        "Los dos pares del sistema son:\n",
        "- Par p-a\n",
        "- Par pa-e\n"
      ],
      "metadata": {
        "id": "HcET4HeWfA2V"
      }
    },
    {
      "cell_type": "code",
      "execution_count": 2,
      "metadata": {
        "id": "Z4h2ubzBWdaz"
      },
      "outputs": [],
      "source": [
        "!pip install -q pymcel\n",
        "import pymcel as pc\n",
        "import numpy as np\n",
        "import matplotlib.pyplot as plt"
      ]
    },
    {
      "cell_type": "code",
      "source": [
        "#Masas\n",
        "m0=1      #mp\n",
        "m1=0.02   #ma\n",
        "m2=0.01   #me\n",
        "\n",
        "#Tiempo de integración\n",
        "T=100"
      ],
      "metadata": {
        "id": "4OgTsGv_dA5u"
      },
      "execution_count": 3,
      "outputs": []
    },
    {
      "cell_type": "code",
      "source": [
        "sistema01=[\n",
        "           dict(m=m0,r=[0,0,0],v=[0,0,0]),\n",
        "           dict(m=m1,r=[1,0,0],v=[0,-0.7,0])]\n",
        "\n",
        "ts=np.linspace(0, T, 200)\n",
        "\n",
        "rs,vs,rps,vps,constantes=pc.ncuerpos_solucion(sistema01,ts)\n",
        "\n",
        "r01=rs[0,:,:]-rs[1,:,:]\n",
        "v01=vs[0,:,:]-vs[1,:,:]\n",
        "\n",
        "plt.plot(rps[0,:,0],rps[0,:,1],'ko')"
      ],
      "metadata": {
        "colab": {
          "base_uri": "https://localhost:8080/",
          "height": 282
        },
        "id": "DJHRvANQdY47",
        "outputId": "45b1ce86-d15a-4e66-8c73-ecdd3438d506"
      },
      "execution_count": 15,
      "outputs": [
        {
          "output_type": "execute_result",
          "data": {
            "text/plain": [
              "[<matplotlib.lines.Line2D at 0x7fb34101a280>]"
            ]
          },
          "metadata": {},
          "execution_count": 15
        },
        {
          "output_type": "display_data",
          "data": {
            "text/plain": [
              "<Figure size 432x288 with 1 Axes>"
            ],
            "image/png": "[encoded data removed]"
          },
          "metadata": {
            "needs_background": "light"
          }
        }
      ]
    },
    {
      "cell_type": "code",
      "source": [],
      "metadata": {
        "id": "UsolChdjeDb2"
      },
      "execution_count": null,
      "outputs": []
    }
  ]
}