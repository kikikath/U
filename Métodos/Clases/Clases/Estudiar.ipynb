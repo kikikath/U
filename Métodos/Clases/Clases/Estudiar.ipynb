{
 "cells": [
  {
   "cell_type": "code",
   "execution_count": 19,
   "id": "a00ac7dd",
   "metadata": {},
   "outputs": [],
   "source": [
    "import numpy as np\n",
    "sigma=np.random.randint(1,100,10) \n",
    "np.random.rand(3,2)\n",
    "mu=np.random.uniform(2,5,10)"
   ]
  },
  {
   "cell_type": "code",
   "execution_count": 34,
   "id": "cb7c6716",
   "metadata": {},
   "outputs": [
    {
     "data": {
      "text/plain": [
       "array([[34, 89, 55, 10, 68, 60, 71, 33, 81,  5],\n",
       "       [78, 70, 56, 86,  4, 87, 42, 78, 67, 53],\n",
       "       [15, 91, 91, 57, 34, 45, 82, 19, 35, 65],\n",
       "       [89, 50, 58, 73, 79, 86, 21, 45,  7, 40],\n",
       "       [43, 50,  6, 74,  8, 47, 51, 66, 27, 86],\n",
       "       [ 1, 98, 31, 53, 97, 36, 79, 42, 46, 40],\n",
       "       [80,  8, 76, 42, 80, 45, 61, 71,  1, 70],\n",
       "       [42, 33, 60, 17, 96, 44, 46,  4, 37, 62],\n",
       "       [83, 69, 26, 42, 58, 34,  4, 87, 72, 87],\n",
       "       [76, 93, 72, 31, 68, 24, 18, 17, 54, 59]])"
      ]
     },
     "execution_count": 34,
     "metadata": {},
     "output_type": "execute_result"
    }
   ],
   "source": [
    "np.random.randint(1,100,(10,10)) "
   ]
  },
  {
   "cell_type": "code",
   "execution_count": 24,
   "id": "0bf9e62a",
   "metadata": {},
   "outputs": [
    {
     "data": {
      "text/plain": [
       "array([[ 1.85003690e+01, -9.44227745e+01,  1.81468462e+01,\n",
       "         7.05795518e+00,  2.21482649e+01,  2.06608647e+01,\n",
       "         6.65037354e+00, -3.42285972e+01,  8.12629296e-04,\n",
       "        -3.62962463e+01],\n",
       "       [ 3.73691095e+01,  9.39237232e+00,  5.29574994e-01,\n",
       "         5.38579520e+00, -3.04460150e+01,  1.49397111e+02,\n",
       "         8.83035430e+00, -1.38746758e+01, -1.48290430e+02,\n",
       "        -5.53732655e+01],\n",
       "       [-2.14526006e+01,  1.29005606e+02,  3.03275555e+01,\n",
       "         1.42145349e+01,  4.47670940e+01,  4.36878093e+01,\n",
       "         7.78154227e+00,  2.77494566e+01,  6.64601320e+01,\n",
       "        -8.15151934e+00],\n",
       "       [ 1.02211292e+02,  2.23711575e+01,  2.89182369e+01,\n",
       "         1.38765307e+01,  1.99409042e+01, -1.58005287e+01,\n",
       "        -2.53944083e+01,  1.06183831e+01,  1.76698863e+02,\n",
       "         2.57415151e+01],\n",
       "       [-4.86683838e+01,  1.68473470e+01,  2.57785038e+01,\n",
       "         1.16488203e+01,  1.90834906e+01, -3.30755700e+01,\n",
       "         1.42347062e+01, -1.84825883e+01,  6.18727710e+01,\n",
       "         2.60923449e+01],\n",
       "       [ 9.16782737e+01, -4.37496706e+01,  8.10086991e+01,\n",
       "         1.06682657e+01,  1.20569813e+01,  1.09075878e+02,\n",
       "         3.59818646e+00, -5.50171404e+00, -5.88863047e+01,\n",
       "        -1.61422334e+01],\n",
       "       [-4.10494541e+01,  4.11651309e+01,  1.15583217e+02,\n",
       "         6.45391874e+00,  8.13812912e+01,  2.24689301e+02,\n",
       "        -5.47648654e+00, -8.11165208e+00,  2.76375273e+01,\n",
       "         5.31299404e-01],\n",
       "       [-6.34206701e+01,  4.16905084e+01, -7.47172562e+00,\n",
       "         1.57880775e+01, -4.24705767e+00, -4.35235699e+01,\n",
       "         3.52544506e+00, -9.40001584e+00, -5.71772132e+01,\n",
       "        -4.34337132e+00],\n",
       "       [ 1.42250346e+02, -5.11065776e+01,  2.75100644e+01,\n",
       "         2.14599734e+01,  4.30166472e+01,  4.47812080e+01,\n",
       "        -8.05297331e+00, -9.94564226e-01, -2.96055497e+01,\n",
       "         1.08538539e+01],\n",
       "       [ 3.98859795e+01, -4.42537936e+01, -7.53369261e+01,\n",
       "         5.97814148e+00,  8.95956803e+01, -9.04242173e+01,\n",
       "        -5.57538790e+00,  8.90188510e+00,  7.57685151e+01,\n",
       "         1.21083667e+01]])"
      ]
     },
     "execution_count": 24,
     "metadata": {},
     "output_type": "execute_result"
    }
   ],
   "source": [
    "np.random.normal(mu,sigma,size=(10,10))"
   ]
  },
  {
   "cell_type": "code",
   "execution_count": 32,
   "id": "a2060501",
   "metadata": {},
   "outputs": [],
   "source": [
    "x=np.random.rand(3,2)"
   ]
  },
  {
   "cell_type": "code",
   "execution_count": 35,
   "id": "41f8fdae",
   "metadata": {},
   "outputs": [
    {
     "name": "stdout",
     "output_type": "stream",
     "text": [
      "[[0.15478168 0.6962771 ]\n",
      " [0.12379258 0.59622656]\n",
      " [0.19198216 0.38690686]]\n",
      "[[0.02395737 0.4848018 ]\n",
      " [0.0153246  0.35548611]\n",
      " [0.03685715 0.14969692]]\n"
     ]
    },
    {
     "ename": "ValueError",
     "evalue": "matmul: Input operand 1 has a mismatch in its core dimension 0, with gufunc signature (n?,k),(k,m?)->(n?,m?) (size 3 is different from 2)",
     "output_type": "error",
     "traceback": [
      "\u001b[1;31m---------------------------------------------------------------------------\u001b[0m",
      "\u001b[1;31mValueError\u001b[0m                                Traceback (most recent call last)",
      "\u001b[1;32m<ipython-input-35-cb496877829b>\u001b[0m in \u001b[0;36m<module>\u001b[1;34m\u001b[0m\n\u001b[0;32m      1\u001b[0m \u001b[0mprint\u001b[0m\u001b[1;33m(\u001b[0m\u001b[0mx\u001b[0m\u001b[1;33m)\u001b[0m\u001b[1;33m\u001b[0m\u001b[1;33m\u001b[0m\u001b[0m\n\u001b[0;32m      2\u001b[0m \u001b[0mprint\u001b[0m\u001b[1;33m(\u001b[0m\u001b[0mx\u001b[0m\u001b[1;33m*\u001b[0m\u001b[0mx\u001b[0m\u001b[1;33m)\u001b[0m\u001b[1;33m\u001b[0m\u001b[1;33m\u001b[0m\u001b[0m\n\u001b[1;32m----> 3\u001b[1;33m \u001b[0mprint\u001b[0m\u001b[1;33m(\u001b[0m\u001b[0mx\u001b[0m\u001b[1;33m@\u001b[0m\u001b[0mx\u001b[0m\u001b[1;33m)\u001b[0m\u001b[1;33m\u001b[0m\u001b[1;33m\u001b[0m\u001b[0m\n\u001b[0m",
      "\u001b[1;31mValueError\u001b[0m: matmul: Input operand 1 has a mismatch in its core dimension 0, with gufunc signature (n?,k),(k,m?)->(n?,m?) (size 3 is different from 2)"
     ]
    }
   ],
   "source": [
    "np."
   ]
  },
  {
   "cell_type": "code",
   "execution_count": null,
   "id": "2d1c60f6",
   "metadata": {},
   "outputs": [],
   "source": []
  }
 ],
 "metadata": {
  "kernelspec": {
   "display_name": "Python 3",
   "language": "python",
   "name": "python3"
  },
  "language_info": {
   "codemirror_mode": {
    "name": "ipython",
    "version": 3
   },
   "file_extension": ".py",
   "mimetype": "text/x-python",
   "name": "python",
   "nbconvert_exporter": "python",
   "pygments_lexer": "ipython3",
   "version": "3.8.8"
  }
 },
 "nbformat": 4,
 "nbformat_minor": 5
}
