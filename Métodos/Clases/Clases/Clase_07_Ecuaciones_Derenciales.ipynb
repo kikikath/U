{
 "cells": [
  {
   "cell_type": "markdown",
   "metadata": {
    "id": "OlRvAU9mfRQC"
   },
   "source": [
    "# Métodos Computacionales\n"
   ]
  },
  {
   "cell_type": "markdown",
   "metadata": {
    "id": "Yp5ZiaIdfRQF"
   },
   "source": [
    "## Unidad 3: \n",
    "\n",
    "### Ecuaciones diferenciales\n",
    "- EDO Simbólico\n",
    "- Metodo de Euler\n",
    "- Método de Verlet\n",
    "- Runge-kuta\n"
   ]
  },
  {
   "cell_type": "markdown",
   "metadata": {
    "id": "vuRHh6cwfRQG"
   },
   "source": [
    "## Introducción"
   ]
  },
  {
   "cell_type": "markdown",
   "metadata": {
    "id": "bo5jPIUofRQG"
   },
   "source": [
    "Las ecuaciones diferenciales son sin duda una de las ramas más útiles de las matemáticas en la ciencia. Se utilizan para modelar problemas que implican el cambio de una variable con respecto a otra. Las ecuaciones diferenciales cubren una amplia gama de aplicaciones diferentes, que van desde ecuaciones diferenciales ordinarias (EDO) hasta problemas de valor límite que involucran muchas variables. En aras de la simplicidad, a lo largo de esta sección cubriremos solo los sistemas EDO, ya que son más elementales e igualmente útiles. Primero, cubriremos los métodos de primer orden, luego los métodos de segundo orden y finalmente, el sistema de ecuaciones diferenciales.\n",
    "\n",
    "Las ecuaciones diferenciales ordinarias normalmente implican la solución de un problema de valor inicial, es decir, la solución tiene que satisfacer la ecuación diferencial junto con alguna condición inicial. Los problemas de la vida real generalmente implican problemas muy complicados e incluso no solubles, lo que hace inviable cualquier aproximación analítica. Afortunadamente, hay dos formas de manejar esto. Primero, para casi todas las situaciones, generalmente es posible simplificar el problema original y obtener uno más simple que pueda resolverse fácilmente. Luego, utilizando la teoría de la perturbación, podemos perturbar esta solución para aproximarnos a la real. Este enfoque es útil, sin embargo, depende mucho del problema específico y un estudio sistemático es bastante complicado.\n",
    "\n",
    "La segunda aproximación, y la utilizada aquí, consiste en una reducción numérica completa del problema, resolviéndolo exactamente dentro de la precisión permitida por los errores implícitos de los métodos. Para esta parte, vamos a asumir problemas bien definidos, donde se espera que las soluciones se comporten bien."
   ]
  },
  {
   "cell_type": "markdown",
   "metadata": {
    "id": "Vm0SMhr0fRQH"
   },
   "source": [
    "## Cálculo Simbólico"
   ]
  },
  {
   "cell_type": "markdown",
   "metadata": {
    "id": "Gc6StqdRfRQI"
   },
   "source": [
    "## Máquina de Atwood"
   ]
  },
  {
   "cell_type": "markdown",
   "metadata": {
    "id": "eIntvdWHfRQI"
   },
   "source": [
    "La longitud de la cuerda en la polea de radio $R$ estará compuesta por:\n",
    "\n",
    "$$ x+y+\\pi R = l \\quad \\rightarrow \\quad y = -x + \\pi R-l$$\n",
    "Entonces obtenemos:\n",
    "$$ \\dot{y} = - \\dot{x} $$\n",
    "\n",
    "Siendo $x$ e $y$, longitudes de las cuerdas de $m_1$ y $m_2$.\n",
    "\n",
    "\n",
    " ![Img1.png](attachment:Img1.png)"
   ]
  },
  {
   "cell_type": "markdown",
   "metadata": {
    "id": "M17QtI6hfRQJ"
   },
   "source": [
    "### Solución simbólica "
   ]
  },
  {
   "cell_type": "code",
   "execution_count": 1,
   "metadata": {
    "id": "4zT0Ry2_fRQK"
   },
   "outputs": [],
   "source": [
    "%matplotlib inline\n",
    "import matplotlib.pyplot as plt\n",
    "\n",
    "import numpy as np\n",
    "import sympy as sym\n",
    "\n",
    "#notacion punto\n",
    "import sympy.physics.mechanics as mech\n",
    "mech.init_vprinting()"
   ]
  },
  {
   "cell_type": "markdown",
   "metadata": {
    "id": "b8f9UXnZfRQL"
   },
   "source": [
    "Estableciendo constantes:"
   ]
  },
  {
   "cell_type": "code",
   "execution_count": 2,
   "metadata": {
    "id": "LI7QddKMfRQM"
   },
   "outputs": [],
   "source": [
    "R,m1,m2,g,L=sym.symbols('R,m_1,m_2,g,L', positive=True)\n",
    "\n",
    "t=sym.symbols('t')\n",
    "\n",
    "x=sym.Function('x')\n",
    "\n",
    "y=-x(t)+ (L-sym.pi*R)"
   ]
  },
  {
   "cell_type": "markdown",
   "metadata": {
    "id": "aEZgLfN9fRQM"
   },
   "source": [
    "Definiendo energías:"
   ]
  },
  {
   "cell_type": "code",
   "execution_count": 3,
   "metadata": {
    "id": "0qI4blOEfRQN",
    "outputId": "d9700381-f7e2-4527-e9db-26ecb4f5b2f7"
   },
   "outputs": [
    {
     "data": {
      "image/png": "[encoded data removed]",
      "text/latex": [
       "$\\displaystyle \\frac{m_{1} \\dot{x}^{2}}{2} + \\frac{m_{2} \\dot{x}^{2}}{2}$"
      ],
      "text/plain": [
       "    2       2\n",
       "m₁⋅ẋ    m₂⋅ẋ \n",
       "───── + ─────\n",
       "  2       2  "
      ]
     },
     "execution_count": 3,
     "metadata": {},
     "output_type": "execute_result"
    }
   ],
   "source": [
    "# Energía cinética (T)\n",
    "# x.diff(t), y.diff(t) : velocidades\n",
    "T=sym.Rational(1,2)*m1*(x(t).diff(t)**2) + sym.Rational(1,2)*m2* (y.diff(t)**2)\n",
    "T#.simplify()"
   ]
  },
  {
   "cell_type": "code",
   "execution_count": 4,
   "metadata": {
    "id": "F4zN1d4DfRQQ",
    "outputId": "b8f5724f-a559-4a64-e6cb-ad106ffa61da"
   },
   "outputs": [
    {
     "data": {
      "image/png": "[encoded data removed]",
      "text/latex": [
       "$\\displaystyle - g m_{1} x - g m_{2} \\left(L - \\pi R - x\\right)$"
      ],
      "text/plain": [
       "-g⋅m₁⋅x - g⋅m₂⋅(L - π⋅R - x)"
      ]
     },
     "execution_count": 4,
     "metadata": {},
     "output_type": "execute_result"
    }
   ],
   "source": [
    "# Energía potencial (U)\n",
    "\n",
    "U= -m1*g*x(t) - m2*g*y\n",
    "U#.simplify()"
   ]
  },
  {
   "cell_type": "code",
   "execution_count": 5,
   "metadata": {
    "id": "oRvyLNmJfRQR",
    "outputId": "4ac0d63a-b292-4dec-eddb-e74054532c24"
   },
   "outputs": [
    {
     "data": {
      "image/png": "[encoded data removed]",
      "text/latex": [
       "$\\displaystyle g m_{1} x + g m_{2} \\left(L - \\pi R - x\\right) + \\frac{m_{1} \\dot{x}^{2}}{2} + \\frac{m_{2} \\dot{x}^{2}}{2}$"
      ],
      "text/plain": [
       "                                  2       2\n",
       "                              m₁⋅ẋ    m₂⋅ẋ \n",
       "g⋅m₁⋅x + g⋅m₂⋅(L - π⋅R - x) + ───── + ─────\n",
       "                                2       2  "
      ]
     },
     "execution_count": 5,
     "metadata": {},
     "output_type": "execute_result"
    }
   ],
   "source": [
    "Lagr= T-U\n",
    "Lagr#.simplify()"
   ]
  },
  {
   "cell_type": "markdown",
   "metadata": {
    "id": "LD9DEZWBfRQR"
   },
   "source": [
    "Obteniendo así el Lagrangiano de la forma: $L(t,x,\\dot x) $"
   ]
  },
  {
   "cell_type": "markdown",
   "metadata": {
    "id": "6lI2fUMrfRQR"
   },
   "source": [
    "$$ \\frac{\\partial L}{\\partial x} $$"
   ]
  },
  {
   "cell_type": "code",
   "execution_count": 6,
   "metadata": {
    "id": "u39geLgBfRQS",
    "outputId": "0f5037e2-cc7e-4deb-f5b7-f9534533f208"
   },
   "outputs": [
    {
     "data": {
      "image/png": "[encoded data removed]",
      "text/latex": [
       "$\\displaystyle g m_{1} - g m_{2}$"
      ],
      "text/plain": [
       "g⋅m₁ - g⋅m₂"
      ]
     },
     "execution_count": 6,
     "metadata": {},
     "output_type": "execute_result"
    }
   ],
   "source": [
    "rhs=Lagr.diff(x(t))\n",
    "rhs"
   ]
  },
  {
   "cell_type": "code",
   "execution_count": 7,
   "metadata": {
    "id": "3bzZ5eN8fRQS",
    "outputId": "9131a96a-cee4-4ccf-9226-7b1f43648122"
   },
   "outputs": [
    {
     "data": {
      "image/png": "[encoded data removed]",
      "text/latex": [
       "$\\displaystyle m_{1} \\ddot{x} + m_{2} \\ddot{x}$"
      ],
      "text/plain": [
       "m₁⋅ẍ + m₂⋅ẍ"
      ]
     },
     "execution_count": 7,
     "metadata": {},
     "output_type": "execute_result"
    }
   ],
   "source": [
    "lhs= Lagr.diff(x(t).diff(t)).diff(t)\n",
    "lhs"
   ]
  },
  {
   "cell_type": "markdown",
   "metadata": {
    "id": "4JyIg3b7fRQT"
   },
   "source": [
    "**Euler-Lagrange equation**:\n",
    "\n",
    "$$ \\frac{d}{dt} \\left( \\frac{\\partial L}{\\partial \\dot x} \\right) - \\frac{\\partial L}{\\partial x} = 0$$"
   ]
  },
  {
   "cell_type": "code",
   "execution_count": 8,
   "metadata": {
    "id": "96nnktolfRQT",
    "outputId": "2ec689a0-9583-4dd7-bd30-9618285af694"
   },
   "outputs": [
    {
     "data": {
      "image/png": "[encoded data removed]",
      "text/latex": [
       "$\\displaystyle m_{1} \\ddot{x} + m_{2} \\ddot{x} = g m_{1} - g m_{2}$"
      ],
      "text/plain": [
       "m₁⋅ẍ + m₂⋅ẍ = g⋅m₁ - g⋅m₂"
      ]
     },
     "execution_count": 8,
     "metadata": {},
     "output_type": "execute_result"
    }
   ],
   "source": [
    "E_L=sym.Eq(lhs,rhs)\n",
    "E_L"
   ]
  },
  {
   "cell_type": "markdown",
   "metadata": {
    "id": "eY5nXLcAfRQT"
   },
   "source": [
    "**Finalmente resolvemos la ecuación diferencial:**\n",
    "$$\\ddot{x}=\\frac{g(m_1-m_2)}{(m_1+m_2)}$$"
   ]
  },
  {
   "cell_type": "code",
   "execution_count": 9,
   "metadata": {
    "id": "gN3CJpSefRQT",
    "outputId": "7893794d-6ff7-45ef-9669-9d49e9fa889d"
   },
   "outputs": [
    {
     "data": {
      "image/png": "[encoded data removed]",
      "text/latex": [
       "$\\displaystyle x = C_{1} + \\frac{t \\left(C_{2} \\left(m_{1} + m_{2}\\right) + \\frac{g t \\left(m_{1} - m_{2}\\right)}{2}\\right)}{m_{1} + m_{2}}$"
      ],
      "text/plain": [
       "           ⎛               g⋅t⋅(m₁ - m₂)⎞\n",
       "         t⋅⎜C₂⋅(m₁ + m₂) + ─────────────⎟\n",
       "           ⎝                     2      ⎠\n",
       "x = C₁ + ────────────────────────────────\n",
       "                     m₁ + m₂             "
      ]
     },
     "execution_count": 9,
     "metadata": {},
     "output_type": "execute_result"
    }
   ],
   "source": [
    "g_pos = sym.dsolve(E_L) #posición general\n",
    "g_pos"
   ]
  },
  {
   "cell_type": "markdown",
   "metadata": {
    "id": "DEOUcisqfRQU"
   },
   "source": [
    "**Reemplazando valores iniciales**\n",
    "\n",
    "$$x(0)=0, \\qquad \\left.\\frac{dx}{dt}\\right|_0=0$$"
   ]
  },
  {
   "cell_type": "code",
   "execution_count": 10,
   "metadata": {
    "id": "AgtJBTbQfRQU"
   },
   "outputs": [],
   "source": [
    "ics={x(0): 0, sym.diff(x(t), t).subs(t,0): 0}"
   ]
  },
  {
   "cell_type": "code",
   "execution_count": 11,
   "metadata": {
    "id": "P_e5x_-yfRQU",
    "outputId": "7b891e47-b4b9-49e0-b5d4-03788dc2c471"
   },
   "outputs": [
    {
     "data": {
      "image/png": "[encoded data removed]",
      "text/latex": [
       "$\\displaystyle x = \\frac{g t^{2} \\left(m_{1} - m_{2}\\right)}{2 \\left(m_{1} + m_{2}\\right)}$"
      ],
      "text/plain": [
       "       2          \n",
       "    g⋅t ⋅(m₁ - m₂)\n",
       "x = ──────────────\n",
       "     2⋅(m₁ + m₂)  "
      ]
     },
     "execution_count": 11,
     "metadata": {},
     "output_type": "execute_result"
    }
   ],
   "source": [
    "pos_eq = sym.dsolve(E_L,ics=ics) # reemplazsando condiciones iniciales\n",
    "pos_eq #ecuación de posición"
   ]
  },
  {
   "cell_type": "code",
   "execution_count": 12,
   "metadata": {
    "id": "OO0R8DTmfRQV",
    "outputId": "a172bb61-72a3-4344-9270-d59e1f38aa32"
   },
   "outputs": [
    {
     "data": {
      "image/png": "[encoded data removed]",
      "text/latex": [
       "$\\displaystyle \\frac{g t^{2} \\left(m_{1} - m_{2}\\right)}{2 \\left(m_{1} + m_{2}\\right)}$"
      ],
      "text/plain": [
       "   2          \n",
       "g⋅t ⋅(m₁ - m₂)\n",
       "──────────────\n",
       " 2⋅(m₁ + m₂)  "
      ]
     },
     "execution_count": 12,
     "metadata": {},
     "output_type": "execute_result"
    }
   ],
   "source": [
    "pos= pos_eq.rhs #solo la parte derecha\n",
    "pos"
   ]
  },
  {
   "cell_type": "code",
   "execution_count": 13,
   "metadata": {
    "id": "g5NVcEe0fRQV",
    "outputId": "78120584-5c20-4bbf-ca8c-61fbebe767b1"
   },
   "outputs": [
    {
     "data": {
      "image/png": "[encoded data removed]",
      "text/latex": [
       "$\\displaystyle \\frac{g t \\left(m_{1} - m_{2}\\right)}{m_{1} + m_{2}}$"
      ],
      "text/plain": [
       "g⋅t⋅(m₁ - m₂)\n",
       "─────────────\n",
       "   m₁ + m₂   "
      ]
     },
     "execution_count": 13,
     "metadata": {},
     "output_type": "execute_result"
    }
   ],
   "source": [
    "vel=pos.diff(t)\n",
    "vel"
   ]
  },
  {
   "cell_type": "markdown",
   "metadata": {
    "id": "aTycpBuFfRQW"
   },
   "source": [
    "**Reemplazando valores numéricos**\n",
    "\n",
    "$$m_1=10, \\quad m_2=5, \\quad g=9.8$$"
   ]
  },
  {
   "cell_type": "code",
   "execution_count": 14,
   "metadata": {
    "id": "-ShfmtUjfRQW",
    "outputId": "c6ecd3b5-1782-4e97-e99a-18b9ff096c2d"
   },
   "outputs": [
    {
     "data": {
      "image/png": "[encoded data removed]",
      "text/latex": [
       "$\\displaystyle 1.63333333333333 t^{2}$"
      ],
      "text/plain": [
       "                  2\n",
       "1.63333333333333⋅t "
      ]
     },
     "execution_count": 14,
     "metadata": {},
     "output_type": "execute_result"
    }
   ],
   "source": [
    "pos= pos.subs([(g,9.8),(m1,10),(m2,5)])\n",
    "pos"
   ]
  },
  {
   "cell_type": "code",
   "execution_count": 15,
   "metadata": {
    "id": "wM8fzHJMfRQW"
   },
   "outputs": [],
   "source": [
    "#pasar de simbolica a numerica\n",
    "np_pos=sym.lambdify(t,pos,'numpy')"
   ]
  },
  {
   "cell_type": "code",
   "execution_count": 16,
   "metadata": {
    "id": "j-AUvmI0fRQW",
    "outputId": "e868a862-7bb0-463c-c26d-9498a90fa1c9"
   },
   "outputs": [
    {
     "data": {
      "text/plain": [
       "Text(0.5, 1.0, 'Máquina de Atwood - m1= 10Kg , m2=5kg, g=9.8')"
      ]
     },
     "execution_count": 16,
     "metadata": {},
     "output_type": "execute_result"
    },
    {
     "data": {
      "image/png": "[encoded data removed]",
      "text/plain": [
       "<Figure size 432x288 with 1 Axes>"
      ]
     },
     "metadata": {
      "needs_background": "light"
     },
     "output_type": "display_data"
    }
   ],
   "source": [
    "tt=np.linspace(0,50)\n",
    "pos_numpy=np_pos(tt)\n",
    "plt.plot(tt,pos_numpy)\n",
    "\n",
    "plt.xlabel('tiempo (s)')\n",
    "plt.ylabel('posición $(m)$')\n",
    "plt.title('Máquina de Atwood - m1= 10Kg , m2=5kg, g=9.8')"
   ]
  },
  {
   "cell_type": "markdown",
   "metadata": {
    "id": "YSmgi_6cfRQX"
   },
   "source": [
    "## Método de Euler"
   ]
  },
  {
   "cell_type": "markdown",
   "metadata": {
    "id": "DWyCpSEBfRQX"
   },
   "source": [
    "### Problema bien planteado\n",
    "\n",
    "El problema de valor inicial:\n",
    "\n",
    "$$\\frac{dy}{dt}=f(t,y), \\qquad a\\leq t\\leq b, \\qquad y(a)=\\alpha,$$\n",
    "\n",
    "Se dice que es un **problema bien planteado** si:\n",
    "\n",
    "\n",
    "\n",
    "1.   Existe una única, y(t), y\n",
    "2.   Existen constante $\\epsilon \\gt 0$ y $k \\gt 0$, tales que para cualquier $\\epsilon$ en $(0,\\epsilon_0)$, siempre que $\\delta(t)$ es continua con $|\\delta(t)|\\lt \\epsilon$ para todo t en $[a,b]$ y cuando $|\\delta_0|\\lt \\epsilon$, el problema de valor inicial\n",
    "\n",
    "$$\\frac{dz}{dt}=f(t,z)+\\delta(t), \\qquad a \\leq t \\leq b, \\qquad z(a)  =\\alpha + \\delta_0 $$\n",
    "\n",
    "tiene una única solución $z(t)$ que satisfac e\n",
    "\n",
    "$$|z(t)-y(t)|\\lt k\\epsilon$$\n",
    "\n",
    "para todo $t$ en $[a,b]$.\n"
   ]
  },
  {
   "cell_type": "markdown",
   "metadata": {
    "id": "4w-xvywMfRQX"
   },
   "source": [
    "### Método"
   ]
  },
  {
   "cell_type": "markdown",
   "metadata": {
    "id": "5YfO4irtfRQa"
   },
   "source": [
    "No se obtendrá una aproximación continua a la solución $y(t)$; en su lugar, las aproximaciones se generarán para varios valores llamados **puntos de malla** en el intervalo $[a,b]$.\n",
    "\n",
    "Una vez que se obtiene la solución aproximada en los puntos, la solución aproximada en otros puntos en el intervalo se puede encontrar a través de interpolación.\n",
    "\n",
    "primero estipulamos que los puntos de ma ya están Igualmente espaciados a lo largo del intervalo $[a,b]$. Esta copndición se garantiza al seleccionar un entero positivo $N$, al establecer $h=(b-a)/N$, y seleccionar los puntos de malla\n",
    "\n",
    "$$t_i=a+ih, \\qquad i=0,1,2,..,N.$$\n",
    "\n",
    "Usaremos el teorema de Taylor para deducir el método de Euler para deducir el método de Euler. Suponga que $y(t)$, la única solución, tiene dos derivada continuas en $[a,b]$, de tal forma que cada $i=0,1,2,...,N-1$.\n",
    "\n",
    "$$y(t_ {i+1})=y(t_i)+(t_{i+1}-t_i)y'(t_i)+\\frac{(t_{i+1}-t_i)^2}{2}y''(\\xi_i),$$\n",
    "\n",
    "y ya que $y(t)$ satisface la ecuación (1).\n",
    "\n",
    "$$y(t_{i+1})=y(t_i)+hf(t_i,y(t_i))+\\frac{h^2}{2}y''(\\xi_i)$$\n",
    "\n",
    "El método de Euler es \n",
    "\n",
    "$$w_0=\\alpha$$\n",
    "\n",
    "$$w_{i+1}=w_i +hf(t_i,w_i), \\qquad i =0,1,...,N-1$$"
   ]
  },
  {
   "cell_type": "code",
   "execution_count": 17,
   "metadata": {
    "id": "pc4h9bH8fRQa"
   },
   "outputs": [],
   "source": [
    "def euler(f,x0,xn,n,y0):\n",
    "    \n",
    "    h=(xn-x0)/n\n",
    "    x0_l=[]\n",
    "    yn_l=[]\n",
    "    \n",
    "    for i in range(n):\n",
    "        slope=f(x0,y0)\n",
    "        yn=y0+h*slope\n",
    "        y0=yn\n",
    "        x0=x0+h\n",
    "        x0_l.append(x0)\n",
    "        yn_l.append(yn)\n",
    "    \n",
    "    return x0_l, yn_l"
   ]
  },
  {
   "cell_type": "markdown",
   "metadata": {
    "id": "fCKfZi8XfRQb"
   },
   "source": [
    "**Problema ejemplo: Ley de enfriamiento de Newton**\n",
    "\n",
    "Ley que describe como un objeto con una temperatura inicial  $T(t_0)=T_0$ es enfriado en una temperatura ambiente $T_R$\n",
    "\n",
    "$$\\frac{dT(t)}{dt}=-k\\Delta T =-k(T(t)-T_R)$$\n",
    "\n",
    "$\\frac{dT(t)}{dt}$ nos dice la taza de enfriamiento de un objeto es proporcional a la diferencia de temperaturas.\n",
    "\n",
    "Cuya solución analítica es: \n",
    "\n",
    "$$T(t)=T_R+(T(0)-T_R)e^{-kt}$$"
   ]
  },
  {
   "cell_type": "code",
   "execution_count": 18,
   "metadata": {
    "id": "gF9rd1fofRQb",
    "outputId": "dfb6f5ce-1231-4ae6-e80e-415cb39dbe07"
   },
   "outputs": [
    {
     "data": {
      "image/png": "[encoded data removed]",
      "text/latex": [
       "$\\displaystyle \\dot{T} = - k \\left(- Tr + T\\right)$"
      ],
      "text/plain": [
       "Ṫ = -k⋅(-Tr + T)"
      ]
     },
     "execution_count": 18,
     "metadata": {},
     "output_type": "execute_result"
    }
   ],
   "source": [
    "Tr,t,k,T0=sym.symbols('Tr,t,k,T0')\n",
    "Tt=sym.Function('T')\n",
    "dTdt=Tt(t).diff(t)\n",
    "exp=sym.Eq(dTdt,-k*(Tt(t)-Tr))\n",
    "exp"
   ]
  },
  {
   "cell_type": "code",
   "execution_count": 19,
   "metadata": {
    "id": "GYBJs_lyfRQb",
    "outputId": "de50154f-1b39-4373-ddbf-8d4f0bb3907a"
   },
   "outputs": [
    {
     "data": {
      "image/png": "[encoded data removed]",
      "text/latex": [
       "$\\displaystyle T = C_{1} e^{- k t} + Tr$"
      ],
      "text/plain": [
       "        -k⋅t     \n",
       "T = C₁⋅ℯ     + Tr"
      ]
     },
     "execution_count": 19,
     "metadata": {},
     "output_type": "execute_result"
    }
   ],
   "source": [
    "sym.dsolve(exp)"
   ]
  },
  {
   "cell_type": "code",
   "execution_count": 20,
   "metadata": {
    "id": "dDj8FxOAfRQb",
    "outputId": "4d4745c5-a281-4a39-8e0d-20b868ae6541"
   },
   "outputs": [
    {
     "data": {
      "image/png": "[encoded data removed]",
      "text/latex": [
       "$\\displaystyle T = Tr + \\left(T_{0} - Tr\\right) e^{- k t}$"
      ],
      "text/plain": [
       "                    -k⋅t\n",
       "T = Tr + (T₀ - Tr)⋅ℯ    "
      ]
     },
     "execution_count": 20,
     "metadata": {},
     "output_type": "execute_result"
    }
   ],
   "source": [
    "ics2={Tt(0):T0}\n",
    "Eq_sol=sym.dsolve(exp,ics=ics2)\n",
    "Eq_sol"
   ]
  },
  {
   "cell_type": "code",
   "execution_count": 21,
   "metadata": {
    "id": "lXRg-FE8fRQc"
   },
   "outputs": [],
   "source": [
    "#k=0.07\n",
    "def newton(time,temp):\n",
    "    return -0.07*(temp-20)\n",
    "\n",
    "def newton_ana(t,Tr=20,T0=100,k=0.07):\n",
    "    return Tr+(T0-Tr)*np.exp(-k*t)"
   ]
  },
  {
   "cell_type": "code",
   "execution_count": 22,
   "metadata": {
    "id": "UZ6UzKoRfRQc"
   },
   "outputs": [],
   "source": [
    "a=0\n",
    "b=100\n",
    "N1=10\n",
    "N2=100\n",
    "h1=(b-a)/N1\n",
    "h2=(b-a)/N2\n",
    "\n",
    "t_T=np.linspace(a,b,N2)\n",
    "Tem=euler(newton,a,b,100,N2)\n",
    "Tem_ana=newton_ana(t_T)"
   ]
  },
  {
   "cell_type": "code",
   "execution_count": 23,
   "metadata": {
    "id": "y1J3SpwUfRQc",
    "outputId": "416205fc-af22-4717-ae80-ec841538f88f"
   },
   "outputs": [
    {
     "data": {
      "image/png": "[encoded data removed]",
      "text/plain": [
       "<Figure size 432x288 with 1 Axes>"
      ]
     },
     "metadata": {
      "needs_background": "light"
     },
     "output_type": "display_data"
    }
   ],
   "source": [
    "fig=plt.figure()\n",
    "\n",
    "plt.plot(t_T,Tem,'--')\n",
    "plt.plot(t_T,Tem_ana)\n",
    "\n",
    "plt.grid()\n",
    "plt.show()"
   ]
  },
  {
   "cell_type": "markdown",
   "metadata": {
    "id": "Ut7IwIT8fRQd"
   },
   "source": [
    "## Método de Verlet"
   ]
  },
  {
   "cell_type": "markdown",
   "metadata": {
    "id": "6m9TGlSxfRQd"
   },
   "source": [
    "El problema de valor inicial (de segundo orden):\n",
    "\n",
    "\\begin{equation}\n",
    "\\left\\{\n",
    "\t       \\begin{array}{ll}\n",
    "\t\t y'' = F(y) \\\\\n",
    "\t\t y(0) = \\alpha \\\\\n",
    "         y'(0) = \\beta\n",
    "\t       \\end{array}\n",
    "\t     \\right.\n",
    "\\end{equation}\n",
    "\n",
    "se discretiza de manera similar al método de Euler y luego se aplica el siguiente algoritmo (*la deducción de este algoritmo se realiza truncando series de Taylor hacia adelante y hacia atras de $F(y)$*):\n",
    "\n",
    "\\begin{equation}\n",
    "\\left\\{\n",
    "\t       \\begin{array}{ll}\n",
    "\t\t y_0 = \\alpha \\\\\n",
    "\t\t y_{-1} = y_0 - \\beta \\Delta x + \\frac{1}{2}F(y_0)\\Delta x^2 \\\\\n",
    "         y_{i+1} = 2 y_i -y_{i-1} + F(y_i)\\Delta x^2\n",
    "\t       \\end{array}\n",
    "\t     \\right.\n",
    "\\end{equation}"
   ]
  },
  {
   "cell_type": "code",
   "execution_count": 24,
   "metadata": {
    "id": "YpyDBsigfRQd"
   },
   "outputs": [],
   "source": [
    "def verlet(f,a,b,xf,ninter):\n",
    "    dx=xf/(ninter-1)\n",
    "    xs=np.arenge(0,xf+dx,dx)\n",
    "    ys=np.zeros(np.size(xs))\n",
    "    \n",
    "    yinit=a-dx*b+0.5*dx*dx*f(a)\n",
    "    ys[0]=yinit\n",
    "    ys[1]=a\n",
    "    for i in range(1,ninter-1):\n",
    "        ys[i+1]=2*y[i]-y[i-1]+f(y[i])*pow(dx,2)\n",
    "    \n",
    "    return xs,ys"
   ]
  },
  {
   "cell_type": "markdown",
   "metadata": {
    "id": "JIVJU-lvfRQe"
   },
   "source": [
    "## Métodos de alto orden"
   ]
  },
  {
   "cell_type": "markdown",
   "metadata": {
    "id": "YSOshfXmfRQe"
   },
   "source": [
    "Aunque los esquemas de primer orden como el método de Euler son ilustrativos y permiten una buena comprensión del problema numérico, las aplicaciones reales no pueden tratarse con ellos, sino que deben invocarse métodos más precisos y precisos de alto orden. En esta sección cubriremos una conocida familia de integradores numéricos, los métodos Runge-Kutta."
   ]
  },
  {
   "cell_type": "markdown",
   "metadata": {
    "id": "Wg4FsXHxfRQe"
   },
   "source": [
    "### Métodos de Runge-Kutta "
   ]
  },
  {
   "cell_type": "markdown",
   "metadata": {
    "id": "x7GHNs7jfRQf"
   },
   "source": [
    "Los métodos de Runge-Kutta (RK) son un conjunto de métodos iterativos (implícitos y explícitos) para la aproximación de soluciones de ecuaciones diferenciales ordinarias, concretamente, del problema de valor inicial.\n",
    "\n",
    "Sean:\n",
    "\n",
    "$$ y'(t)=f(t,y(t))$$\n",
    "\n",
    "\n",
    "Entonces el método RK (de orden s) tiene la siguiente expresión, en su forma más general:\n",
    "\n",
    "$${\\displaystyle y_{n+1}=y_{n}+h\\,\\sum _{i=1}^{s}b_{i}k_{i}} \\qquad \\qquad (1)$$\n",
    "\n",
    "\n",
    "donde h es el paso por iteración, o lo que es lo mismo, el incremento ${\\displaystyle \\Delta t_{n}}$ entre los sucesivos puntos ${\\displaystyle t_{n}}$ y ${\\displaystyle t_{n+1}}$. Los coeficientes ${\\displaystyle k_{i}}$ son términos de aproximación intermedios, evaluados en ƒ de manera local\n",
    "\n",
    "$${\\displaystyle k_{i}=f\\left(t_{n}+h\\,c_{i}\\,,y_{n}+h\\,\\sum _{j=1}^{s}a_{ij}k_{j}\\right)\\quad i=1,...,s.} \\qquad \\qquad (2)$$\n",
    "\n",
    "con ${\\displaystyle a_{ij},b_{i},c_{i}}$ coeficientes propios del esquema numérico elegido, dependiente de la regla de cuadratura utilizada. Los esquemas Runge-Kutta pueden ser explícitos o implícitos dependiendo de las constantes ${\\displaystyle a_{ij}}$ del esquema. Si esta matriz es triangular inferior con todos los elementos de la diagonal principal iguales a cero; es decir, ${\\displaystyle a_{ij}=0}$ para ${\\displaystyle j=i,...,s}$, los esquemas son explícitos."
   ]
  },
  {
   "cell_type": "markdown",
   "metadata": {
    "id": "LQNMo5oxfRQf"
   },
   "source": [
    "### Método Runge-Kutta de segundo orden\n"
   ]
  },
  {
   "cell_type": "markdown",
   "metadata": {
    "id": "_AepykeRfRQf"
   },
   "source": [
    "De (1) y (2), para s=2, obtenemos el método de Runge-Kutta de orden 2 (RK2):\n",
    "\n",
    "$$ y_{n+1}=y_n+K2+O(h^3)$$\n",
    "\n",
    "$$ K_1= h f(x_n,y_n) $$\n",
    "\n",
    "$$ K_2= h f((x_n +h/2),(y_n+ \\frac{1}{2}hK_1))$$"
   ]
  },
  {
   "cell_type": "markdown",
   "metadata": {
    "id": "8R6TVn68fRQg"
   },
   "source": [
    "La fórmula básicamente calcula el siguiente valor yn + 1 usando yn actual más el promedio ponderado de dos incrementos:\n",
    "\n",
    "\n",
    "*   $K_1$ es el incremento basado en la pendiente al comienzo del intervalo, usando $y$.\n",
    "*   $K_2$ es el incremento basado en la pendiente en el punto medio del intervalo, usando $(y + h K1 / 2)$.\n",
    "\n",
    "El método es un método de segundo orden, lo que significa que el error de truncamiento local es del orden de $O (h^3)$, mientras que el error acumulado total es de orden $O (h^4)$.\n",
    "\n",
    "A continuación se muestra la implementación de RK2:"
   ]
  },
  {
   "cell_type": "code",
   "execution_count": null,
   "metadata": {
    "id": "rdTLP3bRfRQg"
   },
   "outputs": [],
   "source": [
    "def rk2(f,a,b,y0,n):\n",
    "    h=(b-a)/n\n",
    "    y=y0\n",
    "    \n",
    "    for i in range(1,n+1):\n",
    "        k1=h*f(a,y)\n",
    "        k2=h*f(a+0.5*h,y+0.5*h*k1)\n",
    "        \n",
    "        y=y+(1.0/6.0)*(k1+2*k2)\n",
    "        a=a+h\n",
    "    return y"
   ]
  },
  {
   "cell_type": "markdown",
   "metadata": {
    "id": "TCgB2WRXfRQg"
   },
   "source": [
    "**Problema ejemplo:** \n",
    "\\begin{equation}\n",
    "\\left\\{\n",
    "\t       \\begin{array}{ll}\n",
    "\t\t \\frac{dy}{dx}=x+y-2 \\\\\n",
    "\t\t y(0) = 1\n",
    "\t       \\end{array}\n",
    "\t     \\right.\n",
    "\\end{equation}"
   ]
  },
  {
   "cell_type": "code",
   "execution_count": null,
   "metadata": {
    "id": "kV_QdQOXfRQh",
    "outputId": "14e63fe3-2c57-40ee-c326-776157f8786d"
   },
   "outputs": [
    {
     "name": "stdout",
     "output_type": "stream",
     "text": [
      "1.4815330703425391\n"
     ]
    }
   ],
   "source": [
    "def dydx(x,y):\n",
    "    return (x+y-2)\n",
    "\n",
    "a=0\n",
    "b=3\n",
    "y0=1\n",
    "n=10000\n",
    "\n",
    "print(rk2(dydx,a,b,y0,n))"
   ]
  },
  {
   "cell_type": "markdown",
   "metadata": {
    "id": "VEvIdhttfRQh"
   },
   "source": [
    "### 1.2 RK de orden 4 (RK4)\n",
    "\n",
    "De (1) y (2), para s=4, obtenemos el método de RK4:\n",
    "\n",
    "\\begin{equation}\n",
    "\\left\\{\n",
    "\t       \\begin{array}{ll}\n",
    "\t\t x_{i+1} = x_i +\\Delta x \\\\\n",
    "\t\t y_{i+1} = y_i + \\frac{\\Delta x}{6} \\left( K_1 + 2K_2 +2 K_3 +K_4 \\right)\n",
    "\t       \\end{array}\n",
    "\t     \\right.\n",
    "\\end{equation}\n",
    "\n",
    "donde: \n",
    "\n",
    "\\begin{equation}\n",
    "\\left\\{\n",
    "\t       \\begin{array}{ll}\n",
    "\t\t K_1 = f(x_i,y_i) \\\\\n",
    "\t\t K_2 = f\\left( x_i + \\frac{\\Delta x}{2},y_i + \\frac{\\Delta x}{2} K_1\\right) \\\\\n",
    "         K_3 = f\\left( x_i + \\frac{\\Delta x}{2},y_i + \\frac{\\Delta x}{2} K_2\\right) \\\\\n",
    "         K_4 = f(x_i +\\Delta x,y_i +\\Delta x K_3)\n",
    "\t       \\end{array}\n",
    "\t     \\right.\n",
    "\\end{equation}\n",
    "\n",
    "De aqui vemos que el método RK4 toma una mejor estimacion de la pendiente, ya que (dado un intervalo $[x_i,x_{i+1}]$) considera un promedio ponderado de la pendiente en el extremo izquierdo $K_1$, dos pendientes mejoradas en el punto medio $K_2$ y $K_3$ y una pendiente en el extremo derecho $K_4$. "
   ]
  },
  {
   "cell_type": "code",
   "execution_count": null,
   "metadata": {
    "id": "2SLBlAhpfRQh"
   },
   "outputs": [],
   "source": [
    "def rk4(f,a,b,y0,n):\n",
    "    x=np.zeros(n+1)\n",
    "    y=np.zeros(n+1)\n",
    "    h=(b-a)/n\n",
    "    \n",
    "    x[0]=a\n",
    "    y[0]=y0\n",
    "    \n",
    "    for i in range(n):\n",
    "        \n",
    "        x[i+1]=x[i]+h\n",
    "        \n",
    "        k1=f(x[i],y[i])\n",
    "        k2=f(x[i]+0.5*h,y[i]+0.5*h*k1)\n",
    "        k3=f(x[i]+0.5*h,y[i]+0.5*h*k2)\n",
    "        k4=f(x[i]+h,y[i]+h*k3)\n",
    "        \n",
    "        y[i+1]=y[i]+(h/6.0)*(k1+2*k2+2*k3+k4)\n",
    "        \n",
    "    return x, y\n",
    "        \n",
    "        "
   ]
  },
  {
   "cell_type": "markdown",
   "metadata": {
    "id": "1P3OildufRQi"
   },
   "source": [
    "**Problema ejemplo:**\n",
    "\n",
    "\\begin{equation}\n",
    "\\left\\{\n",
    "\t       \\begin{array}{ll}\n",
    "\t\t y' = ty + t^3 \\\\\n",
    "\t\t y(0) = 1\n",
    "\t       \\end{array}\n",
    "\t     \\right.\n",
    "\\end{equation}\n",
    "\n"
   ]
  },
  {
   "cell_type": "code",
   "execution_count": null,
   "metadata": {
    "id": "Sl3D23K1fRQi",
    "outputId": "40c0455e-7812-4669-ff32-9fb443c51f6e"
   },
   "outputs": [
    {
     "data": {
      "text/plain": [
       "[<matplotlib.lines.Line2D at 0x7f5e30bb1c50>]"
      ]
     },
     "execution_count": 48,
     "metadata": {},
     "output_type": "execute_result"
    },
    {
     "data": {
      "image/png": "[encoded data removed]",
      "text/plain": [
       "<Figure size 432x288 with 1 Axes>"
      ]
     },
     "metadata": {
      "needs_background": "light"
     },
     "output_type": "display_data"
    }
   ],
   "source": [
    "def f(t,y):\n",
    "    return(t*y+pow(t,3))\n",
    "\n",
    "def exp_sol(t):\n",
    "    return 3*np.exp(t*t/2.0)-t*t-2\n",
    "\n",
    "a=0\n",
    "b=2\n",
    "n=20\n",
    "\n",
    "xx,yy=rk4(f,a,b,1,n)\n",
    "\n",
    "plt.plot(xx,exp_sol(xx),'k', label= 'ana')\n",
    "plt.plot(xx,yy,'r*', label= 'numerica')"
   ]
  },
  {
   "cell_type": "markdown",
   "metadata": {
    "id": "qLpWdmVHfRQi"
   },
   "source": [
    "# Anexo"
   ]
  },
  {
   "cell_type": "markdown",
   "metadata": {
    "id": "WOsV9tJ6fRQi"
   },
   "source": [
    "## Sistemas de EDOs"
   ]
  },
  {
   "cell_type": "markdown",
   "metadata": {
    "id": "IsVBH2jXfRQj"
   },
   "source": [
    "Generalmente, la mayoría de los problemas se presentan en la forma de sistemas de ecuaciones diferenciales ordinarias, es decir, que incluyen varias ecuaciones a resolver. \n",
    "\n",
    "Para ver como podemos utilizar a integrate.odeint para resolver este tipo de problemas, consideremos el siguiente sistema de ecuaciones diferenciales ordinarias, conocido el atractor de Lorenz.\n",
    "\n",
    "### **EL ATRACTOR DE LORENZ**\n",
    "\n",
    "El atractor de Lorenz es un concepto introducido por Edward Lorenz en 1963. Se trata de un sistema dinámico determinista tridimensional no lineal derivado de las ecuaciones simplificadas de rollos de convección que se producen en las ecuaciones dinámicas de la atmósfera terrestre.\n",
    "\n",
    "Para ciertos valores de los parámetros $\\rho, \\sigma, \\beta$, el sistema exhibe un comportamiento caótico y muestra lo que actualmente se llama un atractor extraño; esto fue probado por Warwick Tucker (2002). El atractor extraño en este caso es un fractal de dimensión de Hausdorff entre 2 y 3. Grassberger (1983) ha estimado la dimensión de Hausdorff en 2,06 ± 0,01 y la dimensión de correlación en 2,05 ± 0,01.\n",
    "\n",
    "El sistema aparece en láseres, en generadores eléctricos y en determinadas ruedas de agua.\n",
    "\n",
    "\\begin{align}\n",
    "x'(t) &= \\sigma(y-x)  \\\\\n",
    "y'(t) &= x(\\rho - z) - y \\\\\n",
    "z'(t) & = xy - \\beta z\n",
    "\\end{align}\n",
    "\n",
    "donde $\\sigma$ es llamado el número de Prandtl y $\\rho$ se llama el número de Rayleigh.\n",
    "\n",
    "usualmente $\\rho=10$, $\\beta=8/3$ y b es variado. El sistema exhibe un comportamiento caótico para $\\rho=28$ pero muestra órbitas periódicas para otros valores de b; por ejemplo, con $\\rho=99.96$ se convierte en un nudo tórico. La forma de mariposa del atractor de Lorenz puede haber inspirado el nombre del efecto mariposa en la teoría del caos.\n",
    "\n",
    "Estas ecuaciones son conocidas por sus soluciones caóticas, que dependen sensiblemente de los valores de los parámetros $\\rho, \\sigma, \\beta$. Veamos como podemos resolverlas con la ayuda de Python."
   ]
  },
  {
   "cell_type": "code",
   "execution_count": null,
   "metadata": {
    "id": "9xKYizCPfRQj"
   },
   "outputs": [],
   "source": []
  }
 ],
 "metadata": {
  "colab": {
   "name": "Clase_07_Ecuaciones_Derenciales.ipynb",
   "provenance": []
  },
  "kernelspec": {
   "display_name": "Python 3",
   "language": "python",
   "name": "python3"
  },
  "language_info": {
   "codemirror_mode": {
    "name": "ipython",
    "version": 3
   },
   "file_extension": ".py",
   "mimetype": "text/x-python",
   "name": "python",
   "nbconvert_exporter": "python",
   "pygments_lexer": "ipython3",
   "version": "3.8.8"
  }
 },
 "nbformat": 4,
 "nbformat_minor": 1
}
