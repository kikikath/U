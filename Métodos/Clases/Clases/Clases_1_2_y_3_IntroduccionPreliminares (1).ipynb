{
 "cells": [
  {
   "cell_type": "markdown",
   "metadata": {},
   "source": [
    "<!--- Hecho por:\n",
    "      Oscar Antonio Restrepo Gutiérrez\n",
    "--->\n",
    "\n",
    "# Introducción a la programación \n",
    "\n",
    "\n",
    "### Qué es un problema en computación\n",
    "Un problema es una pregunta de si/no a una entrada particular, por ejemplo:\n",
    "\n",
    "    dados a,b,c entradas, ¿es a + b = c?\n",
    "\n",
    "es decir se debe tomar una decisión, esto se conoce como *problema de decisión*.    \n",
    "\n",
    "### Qué es un algoritmo\n",
    "Un algoritmo, es un conjunto de pasos lógicos que da respuesta a la pregunta en un tiempo limitado.\n",
    "\n",
    "### Qué es un programa\n",
    "Un programa es un conjunto de instrucciones lógicas que resuelven un problema determinado y que se guardan en un archivo. \n",
    "\n",
    "### Problemas decidibles e indecidibles\n",
    "Un problema es decidible si tiene solución algorítmica en tiempo limitado, si no existe un algoritmo que responda el problema en un tiempo finito el problema es indecidible.\n",
    "¿Son todos los problemas decidibles? en 1931, el matemático [Kurt Gödel](https://es.wikipedia.org/wiki/Kurt_G%C3%B6del) demostró que no (ver [teorema de incompletitud de Gödel](https://www.gaussianos.com/que-dice-exactamente-el-primer-teorema-de-incompletitud-de-godel/)). Más tarde [Alan Turin](https://es.wikipedia.org/wiki/Alan_Turing) en su [tesis](https://math.stanford.edu/~feferman/papers/turing.pdf) análogamente demostró lo mismo en ciencias de la computación al formular el [problema de parada](https://es.wikipedia.org/wiki/Problema_de_la_parada), que se refiere a la imposibilidad the construir un programa (o algoritmo) que determine si un programa cualquiera al ser corrido en una maquina de Turing para o corre para siempre (bucle infinito); este problema es indecidible. Si un problema es no decidible entonces no hay que gastar energías buscando una solución, simplemente se descarta.\n",
    "\n",
    "### Problemas de typo P y NP\n",
    "Los problemas decidibles se dividen en tipo P (polinomiales) y tipo NP (no polinomiales). Este criterio se basa en el tiempo de ejecución del problema respecto al número de operaciones, así si el tiempo de ejecución de un algoritmo para obtener la solución a un problema tiene una forma polinómial (por ejemplo, si una operación de $N$ pasos toma un tiempo, $t = 10N^2 + N$) entonces el problema es tipo P, sino es tipo NP (por ejemplo, $t = e^{N^2}$). \n",
    "\n",
    "Interesante video sobre la computación: [link](https://www.youtube.com/watch?v=ioP0N4zYJeA)."
   ]
  },
  {
   "cell_type": "markdown",
   "metadata": {},
   "source": [
    "## Sistemas operativos\n",
    "Los sistemas más comunes son Windows, Linux y Unix (computadores mac)\n",
    "\n",
    "## Leguajes de programación\n",
    "Los lenguajes de programación se dividen en tipo bajo, medio o alto según su nivel respecto al lenguaje de *ensambladores* que es lenguaje de las computadoras, el lenguaje de alto nivel es aquel que se aproxima más al lenguaje natural humano, es más práctico y fácil de manipular para el programador y este no corre tantos riesgos de cometer errores, no obstante el programa es más lento.  \n",
    "\n",
    "Los lenguajes de nivel medio-bajo: son compilados, es decir que se usa un compilador para transformar las instrucciones de lenguaje humano a lenguaje de maquina que es un lenguaje binario (ceros y unos), los más comunes son:\n",
    "  * C\n",
    "  * C++\n",
    "  * Fortran (77, 90, 95, 2003)\n",
    "  \n",
    "Los compiladores más comunes  son GNU de distribución gratuita, Intel (gratuito para linux) e IBM.\n",
    "\n",
    "Lenguajes de nivel alto (son interpretados y por lo tanto no hay que compilar):\n",
    " \n",
    "* Mathematica\n",
    "* Matlab\n",
    "* Maple\n",
    "* Obtave\n",
    "* Java\n",
    "* Ruby\n",
    "* Julia\n",
    "* Python\n",
    "* Bash\n",
    "\n",
    "Los tres primeros requieren licencia, mientras los demás son de distribución gratuita. En el curso se utilizará python. \n",
    "\n",
    "\n",
    "# Conceptos preliminares de python\n",
    "Python es un lenguaje de programación de alto nivel y es [interpretado](https://en.wikipedia.org/wiki/Interpreted_language) (no compilado), actualmente existen dos ramas principales: python 2.7 y 3.x. \n",
    " Aquí una lista de las principales diferencias entre python 2.7 y python 3.x:\n",
    " \n",
    "Python2.7   |  Python3.x \n",
    "------------|--------------\n",
    "print x     |  print(x)\n",
    "raw_input(x)|  input(x)\n",
    "range(n)    |  --\n",
    "xrange(n)   |  range(n)\n",
    "3/2 da 1    |  3/2 da 1.5 \n",
    "  --        |  3//1 da 1\n",
    "\n",
    "Donde \"--\" significa que no existe un equivalente. Para ver más diferencias abrir este [link](https://sebastianraschka.com/Articles/2014_python_2_3_key_diff.html).\n",
    "\n",
    "\n",
    "Python se puede trabajar de dos maneras: en modo \"interactivo\" o en modo \"scripts\", veamos:\n",
    "\n",
    "\n",
    "### Python en modo interactivo\n",
    "En el modo iterativo cada instrucción (o comando) de python se puede ejecutar y ver los resultados, para esto se abre el `Iddle` que es la terminal por defecto de python, en linux en simplemente escribir en la terminal `python` (abre una terminal bruta) o mejor Ipython (terminal inteligente); en windows buscar explícitamente Iddle, por ejemplo, se abre el Iddle y se escribe:\n",
    "```python \n",
    "In [1]: print('hola mundo') # esto es un comentario\n",
    "```\n",
    "También se puede ejecutar lineas de comandos simples en una terminal sin necesidad de abrir el Iddle, por ejemplo de la siguiente manera,\n",
    "```bash    \n",
    "$]  python -c 'print(\"hola mundo\")'\n",
    "```\n",
    "Note que que la instrucción va entre comillas simples y que el \"hola mundo\" va entre comillas  dobles para evitar confusión.\n",
    "\n",
    "### Python \"scripts\"\n",
    "También se puede trabajar de manera tradicional, es decir, se hace un \"script\" o programa en un editor cualquiera y luego en una terminal se llama el programa. \n",
    "Un script en python es un programa que se guarda en un archivo con una extensión `.py` por ejemplo \"mi_programa.py\".\n",
    "Es importante guardar los programas con nombres que representen lo que hace el script, pues así es más fácil encontrar y recordar que hace el programa/script.\n",
    "\n",
    "Para correr el script un una terminal `shell` de linux (`cmd` de windows) escribimos,\n",
    "```bash    \n",
    "$]  python mi_programa.py\n",
    "```\n",
    "y en una terminal ipython se usa el comando magico `%run`,\n",
    "```python \n",
    "In [1]: %run mi_programa.py\n",
    "```          \n",
    "Los editores para python más comunes son,\n",
    "* Iddle en windows (o python en linux)\n",
    "* ipython (terminal inteligente)\n",
    "* Spyder\n",
    "* Pycham\n",
    "* Jupyter notebook\n",
    "\n",
    "El la terminal Ipython es una versión mejorada del Iddle (terminal interactiva por defecto de python). El Spider es un editor avanzado que viene instalado por defecto cuando python se instala con la distribución [Anaconda](https://www.anaconda.com/distribution/) y cuenta con una terminal Ipython para correr y probar porciones del código; [Pycham](https://www.jetbrains.com/pycharm/) es similar a Spyder pero bajo licencia. Si se usa el Spyder o Pycham, se da click en el icono de correr (run).\n",
    "\n",
    "Jupyter notebook, es otra alternativa, viene también instalada por defecto en Anaconda y se abre al escribir en una terminal linux,\n",
    "```bash\n",
    "$] Jupyter notebook \n",
    "```\n",
    "o también,\n",
    "```bash\n",
    "$] Jupyter notebook mi_notebook.ipynb \n",
    "```\n",
    "esto abrirá en el navegador (firefox, chrome) un editor que tiene la ventaja  de que  tiene varios typos de celdas, una para cálculos (son celdas tipo Ipython) y otro tipo de celda para modo documento latex, así es más fácil tener la teoría y el programa en un solo documento. Los archivos jupyter tienen extención `.ipynb`.\n",
    "\n",
    "Nota: Los comandos mágicos (`%rm`, `pwd`, `%cat`, `%run`, `%timeit`, `%pylab`, `%matplotlib`, `%%writefile` etc) son comandos  que pertenecen a Ipython/Jupyter y no son instrucciones propias del python, por lo que darán problemas si se ponen en `scripts.py` (ver más sobre [comandos mágicos de Jupyter](https://ipython.readthedocs.io/en/stable/interactive/magics.html)).\n",
    "\n",
    "### Tipos de variables\n",
    "Hay varios tipos de variables en python y para asignarles un valor solo escribimos: \n",
    "\n",
    "    enteros:  a = 2; b=5, \n",
    "    reales:   x = 1.5; y = 0.00123; pi = 3.14 \n",
    "    lógicos:  value = True; value = False\n",
    "    string:   x=\"a\"; x='b'; y='casa'; z='casa \"bonita\"'\n",
    "los strings son conjuntos de caracteres y pueden estar dentro de comillas simples o dobles.  "
   ]
  },
  {
   "cell_type": "code",
   "execution_count": 1,
   "metadata": {},
   "outputs": [
    {
     "data": {
      "text/plain": [
       "(2, 5)"
      ]
     },
     "execution_count": 1,
     "metadata": {},
     "output_type": "execute_result"
    }
   ],
   "source": [
    "a = 2; b=5 # definir variables en una misma linea\n",
    "a,b = 2, 5 # otra forma de hacer lo mismo\n",
    "a,b        # imprimir valores de a y b en una tupla"
   ]
  },
  {
   "cell_type": "code",
   "execution_count": 2,
   "metadata": {},
   "outputs": [
    {
     "data": {
      "text/plain": [
       "(True, False, False)"
      ]
     },
     "execution_count": 2,
     "metadata": {},
     "output_type": "execute_result"
    }
   ],
   "source": [
    "# variables lógicas\n",
    "c = True\n",
    "d = False\n",
    "c, d, c&d"
   ]
  },
  {
   "cell_type": "code",
   "execution_count": 3,
   "metadata": {},
   "outputs": [
    {
     "data": {
      "text/plain": [
       "(3+4j)"
      ]
     },
     "execution_count": 3,
     "metadata": {},
     "output_type": "execute_result"
    }
   ],
   "source": [
    "# complejos\n",
    "z1 = 1 + 1j\n",
    "z2 = 2 + 3j\n",
    "\n",
    "z1 + z2"
   ]
  },
  {
   "cell_type": "code",
   "execution_count": 4,
   "metadata": {},
   "outputs": [
    {
     "data": {
      "text/plain": [
       "(1.0, 1.0, 1.4142135623730951)"
      ]
     },
     "execution_count": 4,
     "metadata": {},
     "output_type": "execute_result"
    }
   ],
   "source": [
    "# parte real, parte imaginaria y módulo\n",
    "z1.real, z1.imag, abs(z1), #np.angle(z1)"
   ]
  },
  {
   "cell_type": "code",
   "execution_count": 5,
   "metadata": {},
   "outputs": [
    {
     "data": {
      "text/plain": [
       "('casa', 'cacaca')"
      ]
     },
     "execution_count": 5,
     "metadata": {},
     "output_type": "execute_result"
    }
   ],
   "source": [
    "# strings o cadenas de caracteres \n",
    "s1 = 'ca'\n",
    "s2 = 'sa'\n",
    "s3 = s1+s2 # contatenación o unión de strings.\n",
    "s4 = s1*3  # aumentar string por 3. \n",
    "s3, s4"
   ]
  },
  {
   "cell_type": "markdown",
   "metadata": {},
   "source": [
    "## Entrada de datos por teclado\n",
    "Los valores de las variables se pueden introducir por teclado mediante las funciones `input()` en python3.x y `raw_input ()` in python 2.7 , así,\n",
    "   \n",
    "```python\n",
    "name = raw_input(\"What is your name? \") # python 2.7\n",
    "print \"Hello, %s.\" % name\n",
    "```\n",
    "\n",
    "o\n",
    "```python\n",
    "name = input(\"What is your name? \")     # python 3.x,\n",
    "print ( \"Hello, %s.\" % name)\n",
    "```\n",
    "**Tarea**: hacer un programa que lea datos del teclado."
   ]
  },
  {
   "cell_type": "code",
   "execution_count": 6,
   "metadata": {},
   "outputs": [],
   "source": [
    "# hacer tarea"
   ]
  },
  {
   "cell_type": "markdown",
   "metadata": {},
   "source": [
    " Los ingredientes principales de todo algoritmo son esencialmente tres:\n",
    "\n",
    "1. Las operaciones aricméticas.\n",
    "2. Los condicionales.\n",
    "3. los bucles.\n",
    "\n",
    "A continuación una explicación de como se usan en python:\n",
    "\n",
    "\n",
    "## Aritmética básica\n",
    "Se pueden hacer las operaciones básicas de suma, resta, división, modulo, potencia, notación científica, etc, ejemplo"
   ]
  },
  {
   "cell_type": "code",
   "execution_count": 7,
   "metadata": {},
   "outputs": [
    {
     "name": "stdout",
     "output_type": "stream",
     "text": [
      "7 0.4 32 11 0.000312\n"
     ]
    }
   ],
   "source": [
    "c  = a + b   # suma\n",
    "d  = a / b   # division\n",
    "di = a // b  # division como en python 2.7\n",
    "f  = a**b    # potencia \n",
    "md = 23%12   # da residuo de dividir por 12\n",
    "e  = 3.12e-4 # también funciona 3.12E-4 \n",
    "print(c,d,f,md,e)"
   ]
  },
  {
   "cell_type": "markdown",
   "metadata": {},
   "source": [
    "## Lógica y condicionales: and, or, not  \n",
    "Los condicionales son la parte esencial de la programación ya que permiten tomar las decisiones para dar respuesta al problema, en python se definen por, \n",
    "```python\n",
    "if (condición): hacer algo\n",
    "else: hacer otra cosa\n",
    "```\n",
    "otra manera \n",
    "```python\n",
    "if (condición): \n",
    "     hacer algo\n",
    "else: \n",
    "     hacer otra cosa   \n",
    "```    \n",
    "La `condición` debe ser un valor lógico que toma los valores Falso (False) o Verdadero (True). \n",
    "Según lo anterior, note que por ejemplo,\n",
    "```python\n",
    "if (x<10): y=2; print('hola'); print(x)\n",
    "```\n",
    "es equivalente a escribir,\n",
    "```python\n",
    "if (x<10): \n",
    "    y=2\n",
    "    print('hola')\n",
    "    print(x)\n",
    "```    \n",
    "\n",
    "Si hay varias condiciones se implementan mediante la instrucción `elif`:\n",
    "```python\n",
    "if  (condición1):\n",
    "elif(condición2): \n",
    "else:\n",
    "```    \n",
    "Si hay más condiciones se agregan más `elif`. \n",
    "Por defecto la operación se hace si la condición es verdadera, sino se ignora y pasa a al siguiente linea. Es importante notar que los computadores solo entienden ceros y unos, así, que por convención `Falso` tiene el valor cero y `True` valor uno (u otro número), según esto qué da escribir?\n",
    "```python\n",
    "    if (1): print ('hola')\n",
    "``` \n",
    "\n",
    "**Tarea**: Verifique esto:"
   ]
  },
  {
   "cell_type": "code",
   "execution_count": 8,
   "metadata": {},
   "outputs": [],
   "source": [
    "# hacer tarea"
   ]
  },
  {
   "cell_type": "markdown",
   "metadata": {},
   "source": [
    "### Tablas de verdad en computación\n",
    "Las tablas de verdad dadas en lógica matemática,\n",
    "\n",
    "p | q |(not p) |(not q) |(p and q) | (p or q) \n",
    "--|---|---|---|---|---\n",
    "V | V | F | F | V | V\n",
    "V | F | F | V | F | V\n",
    "F | V | V | F | F | V\n",
    "F | F | V | V | F | F\n",
    "\n",
    "y definidas por sus operaciones lógicas `and`, `or`, `not` son muy importantes para entender programación y tomar decisiones, así por ejemplo si se define, `p = 1<3` y  `q = 3>4`, que toman los valores `p = True` y `q = False`, se puede definir diferentes condiciones lógicas con las tablas de verdad, Ejemplo:"
   ]
  },
  {
   "cell_type": "code",
   "execution_count": 9,
   "metadata": {},
   "outputs": [
    {
     "name": "stdout",
     "output_type": "stream",
     "text": [
      "valores p y q:  True False\n",
      "negación de p: False\n",
      "\"p o q\" verdadero\n",
      "negación de \"p y q\" es verdadera\n"
     ]
    }
   ],
   "source": [
    "p = 1<3; q = 3>4 # da P = True y q = False\n",
    "print ('valores p y q: ', p, q)\n",
    "np = not p\n",
    "print ('negación de p:', np )\n",
    "\n",
    "# uso de valores de verdad en condicionales\n",
    "if (p and q): print ('\"p y q\" verdaderos')\n",
    "if (p or q): print ('\"p o q\" verdadero')\n",
    "if (not(p and q)): print ('negación de \"p y q\" es verdadera')"
   ]
  },
  {
   "cell_type": "markdown",
   "metadata": {},
   "source": [
    "Se pueden poner varios condicionales, por ejemplo,\n",
    "```python\n",
    "if (a > x and x < b or y == d):\n",
    "```\n",
    "Las tablas de verdad, se pueden usar para cambiar el condicional, por ejemplo\n",
    "recuerde de lógica que al negar un condicional se cambian el `and` por el `or` y se invierten los operadores $>$ y $<$), osea,\n",
    "```python\n",
    "not (a > b) es equivalente a (a < b)\n",
    "not (a > x and x < b) es equivalente a (a < x or x > b)\n",
    "```\n",
    "etc, según lo anterior ¿qué da la negación? \n",
    "```python\n",
    "not (a > x and x < b or y == d)\n",
    "```\n",
    "**Tarea**: practicar los condicionales y vericar lo afirmado anteriormente."
   ]
  },
  {
   "cell_type": "code",
   "execution_count": 10,
   "metadata": {},
   "outputs": [],
   "source": [
    "# Hacer tarea"
   ]
  },
  {
   "cell_type": "markdown",
   "metadata": {},
   "source": [
    "**Tarea**: hacer un condicional que diga si un punto $(x,y)$ está dentro del rectangulo con $(1 \\leq x \\leq 10)$ y $(5 \\leq y \\leq 11)$. "
   ]
  },
  {
   "cell_type": "code",
   "execution_count": 11,
   "metadata": {},
   "outputs": [],
   "source": [
    "# hacer tarea"
   ]
  },
  {
   "cell_type": "markdown",
   "metadata": {},
   "source": [
    " ### If anidados\n",
    " Se pueden hacer varios `if` anidados, es decir,\n",
    "```python\n",
    "if condición1: if condición2:  ...  if condiciónN: print(x)\n",
    "```\n",
    "También (a diferencia de otros lenguages como C, C++ o fortran) en python se puede hacer,\n",
    "```python\n",
    "if x < y < z: print(x,y,z)\n",
    "```\n",
    "donde `(x < y < z)` es equivalente a `(x < y and y < z)`.\n",
    "\n",
    "**Tarea**: El siguiente código muestra todos los print o ninguno según los valores de (x,y,z), cambie los valores de (x,y,z) y verifique esto:  "
   ]
  },
  {
   "cell_type": "code",
   "execution_count": 12,
   "metadata": {},
   "outputs": [
    {
     "name": "stdout",
     "output_type": "stream",
     "text": [
      "1\n",
      "2\n",
      "3\n"
     ]
    }
   ],
   "source": [
    "# los 3 print están condicionados por el if\n",
    "x,y,z = 1,2,3\n",
    "if x < y < z: print(x); print(y); print(z)"
   ]
  },
  {
   "cell_type": "markdown",
   "metadata": {},
   "source": [
    "# Bucles for y while\n",
    "Este es la segunda parte esencial de la programación después de los condicionales, cuando queremos que una operación se repita muchas veces se usa los bucles, la sintaxis del buche `for` es,\n",
    "```python\n",
    "    for var in arreglo: hacer algo\n",
    "```    \n",
    "en el bucle `for` se suele usar `range(N)` (en python 2.7 se usa `xrange(N)`, este comando ya no existe en python 3.x) para crear una lista de números sobre la que el `for` hace bucle. Para el while la sintaxis es,\n",
    "```python    \n",
    "    while (condición): hacer algo\n",
    "```\n",
    "si se quiere interrumpir el bucle se usa el commando `break` o si se quiere ignorar un paso se usa el comando `continue` \n",
    ", ejemplo:"
   ]
  },
  {
   "cell_type": "code",
   "execution_count": 13,
   "metadata": {},
   "outputs": [
    {
     "name": "stdout",
     "output_type": "stream",
     "text": [
      "variable 0 0 0\n",
      "variable 1 2 1\n",
      "variable 2 4 4\n",
      "variable 3 6 9\n",
      "variable 4 8 16\n",
      "variable 5 10 25\n"
     ]
    }
   ],
   "source": [
    "for i in range(6): # range(comienzo=0, Final=6-paso, paso=1)\n",
    "    print('variable', i, i*2, i**2)"
   ]
  },
  {
   "cell_type": "code",
   "execution_count": 14,
   "metadata": {},
   "outputs": [
    {
     "name": "stdout",
     "output_type": "stream",
     "text": [
      "1\n",
      "3\n"
     ]
    },
    {
     "name": "stderr",
     "output_type": "stream",
     "text": [
      "<>:6: SyntaxWarning: \"is\" with a literal. Did you mean \"==\"?\n",
      "<>:6: SyntaxWarning: \"is\" with a literal. Did you mean \"==\"?\n",
      "<ipython-input-14-2f7cb9e2e0a9>:6: SyntaxWarning: \"is\" with a literal. Did you mean \"==\"?\n",
      "  if i is 2: continue # ignorar  2, note que \"is\" es equivalente a ==\n"
     ]
    }
   ],
   "source": [
    "i = 0                   # inicialización\n",
    "while i < 6:            # hacer bucle\n",
    "    if i == 3: break    # condición de parada\n",
    "    i += 1              # incrementar valor en uno\n",
    "    #i = i + 1          # equivalente a linea anterior\n",
    "    if i is 2: continue # ignorar  2, note que \"is\" es equivalente a == \n",
    "    print(i)      "
   ]
  },
  {
   "cell_type": "markdown",
   "metadata": {},
   "source": [
    "### Uso de enumerate \n",
    "Considere el siguiente for en donde se necesita el contador sobre el numero de iteraciones, pero el range aumenta de dos en dos (es decir `range(2,10,2)`), esto es especialmente critico si el contador es por ejemplo el indice de una lista o array (ver mas abajo definición de lista), para solucionar este problema hay que crear un variable adicional que `i` para el contador,\n",
    "```python\n",
    "    i=0\n",
    "    for j in range (2,10,2):\n",
    "        x = i*j + 1\n",
    "        print (i, j, x)\n",
    "        i = i + 1 # incremente i en 1\n",
    "```\n",
    "El método `enumerate(iterable, start=0)` es otra opción para el bucle `for` y adiciona un contador de una manera más fácil a la iteración, el siguiente ejemplo hace lo mismo que el anterior bucle: "
   ]
  },
  {
   "cell_type": "code",
   "execution_count": 15,
   "metadata": {},
   "outputs": [
    {
     "name": "stdout",
     "output_type": "stream",
     "text": [
      "0 2\n",
      "1 4\n",
      "2 6\n",
      "3 8\n"
     ]
    }
   ],
   "source": [
    "# Ejemplo 2\n",
    "for i,j in enumerate(range(2,10,2)): print(i,j)"
   ]
  },
  {
   "cell_type": "code",
   "execution_count": 16,
   "metadata": {},
   "outputs": [
    {
     "name": "stdout",
     "output_type": "stream",
     "text": [
      "5 0\n",
      "6 1\n",
      "7 2\n",
      "8 3\n",
      "9 4\n",
      "10 5\n",
      "11 6\n",
      "12 7\n",
      "13 8\n",
      "14 9\n"
     ]
    }
   ],
   "source": [
    "# ejemplo 3\n",
    "for i,j in enumerate(range(10),5): print(i,j)"
   ]
  },
  {
   "cell_type": "markdown",
   "metadata": {},
   "source": [
    "# Listas, tuplas, diccionarios y arrays\n",
    "Una *lista* es un conjunto ordenado de elementos (del mismo o diferente tipo):\n",
    "```python\n",
    "    L = [1, \"a\", 3.14]  # lista\n",
    "```\n",
    "Una *tupla* es un conjunto ordenado de elementos (del mismo o diferente tipo) y sus elementos no se puede cambiar unas vez creada. Las tuplas se representan escribiendo los elementos entre paréntesis y separados por comas,\n",
    "```python\n",
    "    T = (1, \"a\", 3.14) # tupla\n",
    "```     \n",
    "Se puede pasar de lista a tupla(o viceversa) usando,\n",
    "```python    \n",
    "    L = list(T)\n",
    "    T = tuple(L)\n",
    "```    \n",
    "En listas y tuplas de `n` elementos el indice toma los valores de 0 a `n`-1, así por ejemplo, \n",
    "```python\n",
    "    L[0] = 1, L[1] = \"a\" y L[2] = 3.14.\n",
    "```    \n",
    "Los *dicionarios* son un tipo de estructuras de datos que permite guardar un conjunto no ordenado de pares, para crearlo se encierra el listado de valores entre llaves, las parejas de clave y valor se separan con comas, y la clave y el valor se separan con :, por ejemplo\n",
    "```python   \n",
    "    D = {'x': 2, 'y': 1, 'z': 4}\n",
    "```   \n",
    "se usan igual que las listas, así por ejemplo,\n",
    "```python\n",
    "    D['x'] = 2\n",
    "```   \n",
    "Note que tanto en listas como tuplas y diccionarios, los elementos pueden ser también otras listas tuplas o diccionarios.\n",
    "\n",
    "Finalmente los *arrays* son listas con propiedades especiales donde todos los elementos son números, los arrays pertenecen a la librería `numpy` que es una librería especializada para manejo de solo arrays de una manera eficaz, la veremos más adelante.   \n",
    "\n",
    "Ejemplo con listas:"
   ]
  },
  {
   "cell_type": "code",
   "execution_count": 17,
   "metadata": {},
   "outputs": [
    {
     "name": "stdout",
     "output_type": "stream",
     "text": [
      "10\n",
      "[10, 20]\n",
      "[40, 20, 10, 0]\n",
      "0 40\n"
     ]
    },
    {
     "data": {
      "text/plain": [
       "[1, 1, 1, 1, 1, 1]"
      ]
     },
     "execution_count": 17,
     "metadata": {},
     "output_type": "execute_result"
    }
   ],
   "source": [
    "L = [0,10,20,40]\n",
    "\n",
    "print(L[1])\n",
    "print(L[1:3])     # imprimir elementos del 1 al 3-1\n",
    "print(L[::-1])    # da lista invertida [40, 20, 10, 0]\n",
    "print(L[0],L[-1]) # primer y ultimo elemento de la lista\n",
    "[1,1]*3 # da [1,1,1,1,1,1] y no [3,3] (si 3.0 es float da error) "
   ]
  },
  {
   "cell_type": "code",
   "execution_count": 18,
   "metadata": {},
   "outputs": [],
   "source": [
    "# practicar listas:"
   ]
  },
  {
   "cell_type": "markdown",
   "metadata": {},
   "source": [
    "## Propiedades generales\n",
    "A continuación algunas de las propiedades de las listas,\n",
    "```python\n",
    "    n = len(L)   # número de elementos\n",
    "    item = L[i]  # tomar un elemento i de la lista o tupla\n",
    "    seq = L[i:j] # tomar elementos desde i hasta j-1\n",
    "```\n",
    "Crear lista con elementos,\n",
    "```python\n",
    "    L = []       # crear lista vacía, luego se puede agregar elementos con append\n",
    "    L = [expresión for variable in secuencia]\n",
    "    L = list(sequencia)\n",
    "    L = list(expresión for variable in secuencia)\n",
    "```\n",
    "por ejemplo: \n",
    "```python\n",
    "    S = [x**2 for x in range(10)]    # significa: S = {x² : x in {0 ... 9}}\n",
    "    V = [2**i for i in range(13)]    # significa: V = (1, 2, 4, 8, ..., 2¹²)\n",
    "    M = [x for x in S if x % 2 == 0] # significa: M = {x | x in S and x even}\n",
    "```\n",
    "Modificar listas (no tuplas, pues son inmutables),\n",
    "```python\n",
    "    L.append(item)         # agrega item a la lista, item es un solo elemento\n",
    "    L.extend(secuencia)    # agrega secuencia a la lista, secuencia tiene más de un elemento\n",
    "    L.insert(index, item)  # insertar item a un indice determinado\n",
    "```\n",
    "Borrar elementos de listas (no de tuplas),\n",
    "```python\n",
    "    del L[i]\n",
    "    del L[i:j]             # borrar elementos desde i hasta j-1 \n",
    "    item = L.pop()         # elimina último item de L y lo almacena en item\n",
    "    item = L.pop(0)        # elimina primer item de L y lo almacena en item\n",
    "    item = L.pop(index)    # elimina item con indice index de L y lo almacena en item\n",
    "    L.remove(item)\n",
    "```\n",
    "Note `L.remove()` o `del L` borra toda las lista, en este caso si aplica a tuplas. \n",
    "\n",
    "Los elementos de una lista pueden ser otra lista,\n",
    "```python\n",
    "L2 = [['h','hola'], 1.0, 3.14]\n",
    "```\n",
    "para acceder a los elementos se hace con dos índices,\n",
    "```python\n",
    "L2[0][0] = 'h'\n",
    "L2[0][1] = 'hola'\n",
    "L2[1]    = 1.0\n",
    "L2[2]    = 3.14\n",
    "```\n",
    "No usar `L2[i,j]`, esta notación solo funciona con arrays numpy.\n",
    "\n",
    "**Tarea** probar las anteriores propiedades en listas y tuplas.    "
   ]
  },
  {
   "cell_type": "code",
   "execution_count": 19,
   "metadata": {},
   "outputs": [],
   "source": [
    "# hacer tarea"
   ]
  },
  {
   "cell_type": "markdown",
   "metadata": {},
   "source": [
    "### Crear y adicionar elementos a diccionarios\n",
    "\n",
    "Los diccionarios no tienen el método `append()`, en este caso simplemente se crea el elemento,\n",
    "```python\n",
    "D = {}                     # Inicializa diccionario, luego:\n",
    "D[\"index1\"] = 1            # da D = {\"index1\":1}\n",
    "D[\"index2\"] = 2            # da D = {\"index1\":1,\"index2\":2} \n",
    "```\n",
    "También puede usar el método `update(item)` que agrega el dicionario `item`, pero si hay índices repetidos, solo se cambian los valores asociados a dichos índices,\n",
    "```python\n",
    "D.update({\"index3\":3})     # da D = {\"index1\":1,\"index2\":2,\"index3\":3}, si se repite:\n",
    "D.update({\"index3\":6})     # para \"index3\", cambia 3 por 6. \n",
    "D.update(dic)              # Hacer update o agregar a D otro diccionario.\n",
    "```    \n",
    "\n",
    "**Tarea** crear un diccionario donde los indices sean los nombres de los planetas del sistema solar y los valores el diámetro ecuatorial y la masa medida respecto ala masa de la tierra (es decir la relación M/m), probar las anteriores propiedades en el diccionario."
   ]
  },
  {
   "cell_type": "code",
   "execution_count": 20,
   "metadata": {},
   "outputs": [
    {
     "data": {
      "text/plain": [
       "'\\nPlaneta    Diametro(Km)  Masa\\nMercurio    4878         0,39\\nVenus      12100         0,95\\nTierra     12756         1,00\\nMarte       6787         0,53\\nJúpiter   142984         11,2\\nSaturno   120536         9,41\\nUrano      51108         3,98\\nNeptuno    49538         3,81\\n'"
      ]
     },
     "execution_count": 20,
     "metadata": {},
     "output_type": "execute_result"
    }
   ],
   "source": [
    "# hacer tarea\n",
    "'''\n",
    "Planeta    Diametro(Km)  Masa\n",
    "Mercurio    4878         0,39\n",
    "Venus      12100         0,95\n",
    "Tierra     12756         1,00\n",
    "Marte       6787         0,53\n",
    "Júpiter   142984         11,2\n",
    "Saturno   120536         9,41\n",
    "Urano      51108         3,98\n",
    "Neptuno    49538         3,81\n",
    "'''"
   ]
  },
  {
   "cell_type": "markdown",
   "metadata": {},
   "source": [
    "## Funciones\n",
    "Las funciones en python se definen mediante el comando `def` o el comando `lambda`, el valor que toma la función se retorna mediante el comando `return`, una vez python encuentra esta instrucción sale de la función e ignora el resto de las lineas de la función, por esto es usual encontrar el return al final de la función (se puede encontrar antes pero condicionado a un `if`). Por definición una *rutina* es una función sin return (por ejemplo una función que solo hace cálculos y luego usa print para mostrar los resultados). Esto se entiende mejor mediante un ejemplo:  "
   ]
  },
  {
   "cell_type": "code",
   "execution_count": 21,
   "metadata": {},
   "outputs": [
    {
     "data": {
      "text/plain": [
       "5"
      ]
     },
     "execution_count": 21,
     "metadata": {},
     "output_type": "execute_result"
    }
   ],
   "source": [
    "a = 1; b = 2\n",
    "\n",
    "# 1) Definir una función:\n",
    "def f(x):\n",
    "    y = a*x + b\n",
    "    return y\n",
    "\n",
    "# 2) o también\n",
    "def f(x):\n",
    "    if x < 2: return (a*x)\n",
    "    else:     return (a*x + b) \n",
    "\n",
    "# Usar la función:\n",
    "y = f(3)       # el valor de f(x) se puede enviara ana variable\n",
    "\n",
    "y"
   ]
  },
  {
   "cell_type": "markdown",
   "metadata": {},
   "source": [
    "Una función puede retornar varios valores a la vez (arreglos, tuplas, diccionarios, etc), "
   ]
  },
  {
   "cell_type": "code",
   "execution_count": 22,
   "metadata": {},
   "outputs": [
    {
     "data": {
      "text/plain": [
       "(4, 6)"
      ]
     },
     "execution_count": 22,
     "metadata": {},
     "output_type": "execute_result"
    }
   ],
   "source": [
    "def f2(x):\n",
    "    y = a*x + b\n",
    "    z = 3*x\n",
    "    return y, z\n",
    "\n",
    "Y, Z = f2(2) # se debe asignar a una tupla\n",
    "Y, Z         # imprimir valores de tupla"
   ]
  },
  {
   "cell_type": "markdown",
   "metadata": {},
   "source": [
    "### Paso de variables a funciones\n",
    "En general en una función cuando se pasa una variable, python crea una copia de esta (esto se llama \"*paso por valor*\"), por lo que no importa la letra o nombre que se use para definirla, por ejemplo,"
   ]
  },
  {
   "cell_type": "code",
   "execution_count": 23,
   "metadata": {},
   "outputs": [
    {
     "data": {
      "text/plain": [
       "(10, 8)"
      ]
     },
     "execution_count": 23,
     "metadata": {},
     "output_type": "execute_result"
    }
   ],
   "source": [
    "x = 10    # la variable x no debe cambiar al llamar la función.\n",
    "def f(x): # esta x no tiene nada que ver con la x previa.\n",
    "    return 4*x\n",
    "\n",
    "z = 2     # note que se usa z y no x\n",
    "y = f(z)  \n",
    "x, y      # note f(z) no cambia el valor de x"
   ]
  },
  {
   "cell_type": "markdown",
   "metadata": {},
   "source": [
    "### Funciones de varias variables y con parámetros predifinidos\n",
    "También se puede definir una función de varias variables, y asignar valores por defecto (o inicializar) las variables, en el siguiente ejemplo se define la función, $g(x,a,b)=ax+b$ pero los parámetros $a,b$ toman por defecto los valores (2,1),"
   ]
  },
  {
   "cell_type": "code",
   "execution_count": 24,
   "metadata": {},
   "outputs": [
    {
     "data": {
      "text/plain": [
       "(7, 19, 16, 8)"
      ]
     },
     "execution_count": 24,
     "metadata": {},
     "output_type": "execute_result"
    }
   ],
   "source": [
    "# función de tres variables\n",
    "def g(x, a=2, b=1):\n",
    "    return (a*x + b)\n",
    "\n",
    "#  uso de variables en funciones y su inicialización\n",
    "y  = g(3)      # se incializa x y a,b toman los valores por defecto\n",
    "y1 = g(3,4,7)  # se inicializan los 3 valores\n",
    "y2 = g(3, a=5) # se cambia el valor inicial de a\n",
    "y3 = g(3, b=2) # se cambia el valor inicial de b\n",
    "\n",
    "y, y1, y2, y3  # mostrar los valores en una tupla"
   ]
  },
  {
   "cell_type": "markdown",
   "metadata": {},
   "source": [
    "En el siguiente ejemplo se hace uso del comando `lambda` para definir $f(x)$ y $g(x,y)$: "
   ]
  },
  {
   "cell_type": "code",
   "execution_count": 25,
   "metadata": {},
   "outputs": [
    {
     "data": {
      "text/plain": [
       "24"
      ]
     },
     "execution_count": 25,
     "metadata": {},
     "output_type": "execute_result"
    }
   ],
   "source": [
    "# Funciones lambda de una y de dos variables\n",
    "f = lambda x: x**2 + 3 \n",
    "g = lambda x,y: x*y\n",
    "y = f(3)\n",
    "g(2,y)  # función de dos variables"
   ]
  },
  {
   "cell_type": "markdown",
   "metadata": {},
   "source": [
    "Otro *Ejemplo*, si $f(x)=x^2$ y $g(x)=2x+1$, hacer $f(g(x))$ para $x=1$."
   ]
  },
  {
   "cell_type": "code",
   "execution_count": 26,
   "metadata": {},
   "outputs": [
    {
     "data": {
      "text/plain": [
       "9"
      ]
     },
     "execution_count": 26,
     "metadata": {},
     "output_type": "execute_result"
    }
   ],
   "source": [
    "g = lambda x: x*2 + 1\n",
    "f = lambda x: x**2\n",
    "\n",
    "f(g(1))"
   ]
  },
  {
   "cell_type": "markdown",
   "metadata": {},
   "source": [
    "### Retorno de funciones por funciones\n",
    "También una función puede retornar otra función, veamos,"
   ]
  },
  {
   "cell_type": "code",
   "execution_count": 27,
   "metadata": {},
   "outputs": [
    {
     "data": {
      "text/plain": [
       "1570.8000000000002"
      ]
     },
     "execution_count": 27,
     "metadata": {},
     "output_type": "execute_result"
    }
   ],
   "source": [
    "# Como retornar una función desde otra función\n",
    "\n",
    "# 1) una forma \n",
    "def cilindro(r):\n",
    "    def volumen(h):\n",
    "        return 3.1416*r*r*h\n",
    "    return volumen                # retorna función\n",
    "\n",
    "# 2) o también\n",
    "def cilindro(r):\n",
    "    return lambda h: 3.1416*r*r*h # retorna función\n",
    "          \n",
    "\n",
    "Nueva_function = cilindro(10) # crear nueva función\n",
    "Nueva_function(5)             # usar nueva función => 1570.8"
   ]
  },
  {
   "cell_type": "markdown",
   "metadata": {},
   "source": [
    "### Valores de una variable y su alcance (scope)\n",
    "\n",
    "Las variables son por defecto globales (es decir toda función o rutina dentro del programa las ve y puede usar los valores almacenados en ellas), pero si en una función damos el mismo nombre con otro valor, entonces python crea una replica con el nuevo valor (excepto si dentro de la función se dice explicitamente que la variable es global) y esta replica solo es definida dentro de la función, ejemplo:"
   ]
  },
  {
   "cell_type": "code",
   "execution_count": 28,
   "metadata": {},
   "outputs": [
    {
     "name": "stdout",
     "output_type": "stream",
     "text": [
      "hola antes 20\n",
      "hola dentro de la función 5\n",
      "hola después 20\n"
     ]
    }
   ],
   "source": [
    "h = 20\n",
    "print(\"hola antes\",h)\n",
    "def f():\n",
    "    # Aquí h es variable local pero \n",
    "    # global h # si descomenta esta linea h se hace global.\n",
    "    h = 5 \n",
    "    print (\"hola dentro de la función\", h) # variable local\n",
    "    \n",
    "f() # imprime\n",
    "print(\"hola después\",h)"
   ]
  },
  {
   "cell_type": "code",
   "execution_count": 29,
   "metadata": {
    "scrolled": true
   },
   "outputs": [],
   "source": [
    "# # Aquí da error!\n",
    "# h= 20\n",
    "# def f():\n",
    "#     print(h) # variable global\n",
    "#     h = 5 \n",
    "#     print(h) # variable local\n",
    "#     \n",
    "# f() # da error, pues o uso la variable local o la global."
   ]
  },
  {
   "cell_type": "markdown",
   "metadata": {
    "collapsed": true
   },
   "source": [
    "# Librerías básicas de python\n",
    " \n",
    "Librerías en más usadas en este curso de python: \n",
    "1. *numpy*,      librería numérica.\n",
    "2. *matplotlib*, librería para hacer gráficos en 2D.\n",
    "\n",
    "Otras librerías importates:\n",
    "\n",
    "3. *scipy*,       librerías con rutinas y programas algebraicos.<br>\n",
    "4. *simpy*,       python simbolico, hacer problemas en forma simbolica.\n",
    "\n",
    "\n",
    "5. *mayavi*,      gráficos en 3D.\n",
    "6. *vpython*,     \"visual python\" para hacer gráficos en 3D.\n",
    "7. *pandas*,        libreria para problemas estadisticos.\n",
    "    \n",
    " \n",
    "# Cómo importar librerías\n",
    "hay tres formas, \n",
    "\n",
    "1) Solo se importa un solo método de interés de la librería (donde un método es una función que está definida en la librería) ,\n",
    "```python\n",
    "from librería import método  \n",
    "```\n",
    "luego la función se usa de la siguiente manera:\n",
    "```python       \n",
    "var = metodo()  \n",
    "```\n",
    "Ventaja: no hay que referenciar la librería de donde viene el método.\n",
    "Desventaja: al no referenciar la librería se pierde el contesto y de donde viene el método.\n",
    "\n",
    "2) También se puede importar toda la librería: \n",
    "```python\n",
    "import libreria\n",
    "```\n",
    "pero en esta forma hay que decir de donde viene el método, más técnicamente hay que dar toda la ruta hacia el método cuando se crea el objeto con la variable var: \n",
    "```python\n",
    "var = libreria.metodo()\n",
    "```\n",
    "3) pero se puede crear un alias:\n",
    "```python\n",
    "import librería as lib\n",
    "```\n",
    "de esta forma simplifica la creación del objeto:\n",
    "```python \n",
    "var = lib.metodo()\n",
    "```\n",
    "4) Finalmente también se puede escribir:\n",
    "```python    \n",
    "from librería import *\n",
    "```\n",
    "en esta forma se crea una referencia a cada objeto de la librería, igual que en 1) pero se importa todo, el problema es que se pierde el origen de de la librería al crear el método,\n",
    "```python\n",
    "var = metodo()\n",
    "```\n",
    "esto no es conveniente ya que pueden haber dos librería que tengan funciones con los mismos nombres, tal es el caso las funciones trigonométricas en numpy y sympy, por ejemplo, no se puede saber si `sin(x)` es `numpy.sin(x)` o es `sympy.sin()` y peor aún, si importamos de la siguiente manera, \n",
    "```python\n",
    "from numpy import *\n",
    "from sympy import * \n",
    "``` \n",
    "como solo se importan los métodos sin los nombres de las librerías, el segundo import sobreescribe sus métodos sobre el primero, resultado: solo tendremos funciones trigonométricas de carácter simbólico, por lo tanto esta manera solo se recomienda en scripts te tengan pocas lineas y sea explícito su significado, también es útil para uso en modo interactivo en Ipython.\n",
    "\n",
    "## Uso de arrays numpy\n",
    "Numpy es la librería de Python con arreglos multidimensionales y con alta eficiencia,  diseñada para cálculo científico.\n",
    "Un array puede ser un vector multidimensional, una matriz o un tensor. Se crea a partir de una lista,\n",
    "```python\n",
    "import numpy as np    \n",
    "lista = [1, 2, 3, 4 , 5]\n",
    "a = np.array(lista)\n",
    "```\n",
    "que crea el array,\n",
    "```python\n",
    "a = np.array([1, 2, 3, 4, 5])\n",
    "```   \n",
    "un array puede tener enteros reales o complejos,\n",
    "```python\n",
    "a = np.array(lista, dtype=complex)\n",
    "```\n",
    "da\n",
    "```python    \n",
    "a = np.array([ 1.+0.j,  2.+0.j,  3.+0.j,  4.+0.j,  5.+0.j])\n",
    "```\n",
    "los arrays tienen propiedades diferentes a las listas, por ejemplo\n",
    "```python\n",
    "Lista*2 da [1, 2, 3, 4 , 5, 1, 2, 3, 4 , 5]\n",
    "```\n",
    "mientras que,\n",
    "```python\n",
    "a*2 da np.array([2, 4, 6, 8, 10]) \n",
    "```"
   ]
  },
  {
   "cell_type": "code",
   "execution_count": 30,
   "metadata": {},
   "outputs": [],
   "source": [
    "#-------------- Primer paso, importar la libreria numpy: ----------------\n",
    "import numpy as np    # np es un alias de numpy."
   ]
  },
  {
   "cell_type": "code",
   "execution_count": 31,
   "metadata": {},
   "outputs": [
    {
     "data": {
      "text/plain": [
       "array([0, 1, 2, 3, 4, 5, 6, 7, 8, 9])"
      ]
     },
     "execution_count": 31,
     "metadata": {},
     "output_type": "execute_result"
    }
   ],
   "source": [
    "#-------------------------- Como crear arrays en numpy: -----------------\n",
    "x1 = np.arange(10)    # lista de números de 0 a 9 \n",
    "x1"
   ]
  },
  {
   "cell_type": "code",
   "execution_count": 32,
   "metadata": {},
   "outputs": [
    {
     "data": {
      "text/plain": [
       "array([0. , 0.5, 1. , 1.5, 2. , 2.5, 3. , 3.5, 4. , 4.5, 5. , 5.5, 6. ,\n",
       "       6.5, 7. , 7.5, 8. , 8.5, 9. , 9.5])"
      ]
     },
     "execution_count": 32,
     "metadata": {},
     "output_type": "execute_result"
    }
   ],
   "source": [
    "# lista de números comenzando en 0.0 hasta 10 en incrementos de 0.5 \n",
    "x2 = np.arange(0.0,10,0.5) \n",
    "x2"
   ]
  },
  {
   "cell_type": "code",
   "execution_count": 33,
   "metadata": {},
   "outputs": [
    {
     "data": {
      "text/plain": [
       "array([ 0.,  1.,  2.,  3.,  4.,  5.,  6.,  7.,  8.,  9., 10.])"
      ]
     },
     "execution_count": 33,
     "metadata": {},
     "output_type": "execute_result"
    }
   ],
   "source": [
    "# lista de números, donde 11 es el numero de divisiones del intervalo (0,10)\n",
    "x2 = np.linspace(0,10,11) \n",
    "x2"
   ]
  },
  {
   "cell_type": "code",
   "execution_count": 34,
   "metadata": {},
   "outputs": [
    {
     "data": {
      "text/plain": [
       "array([0., 0., 0., 0., 0., 0., 0., 0., 0., 0.])"
      ]
     },
     "execution_count": 34,
     "metadata": {},
     "output_type": "execute_result"
    }
   ],
   "source": [
    "x3 = np.zeros(10)     # crea array con ceros:\n",
    "x3                    # array([ 0.,  0.,  0.,  0.,  0.,  0.,  0.,  0.,  0.,  0.])"
   ]
  },
  {
   "cell_type": "code",
   "execution_count": 35,
   "metadata": {},
   "outputs": [
    {
     "data": {
      "text/plain": [
       "array([1., 1., 1., 1., 1., 1., 1., 1., 1., 1.])"
      ]
     },
     "execution_count": 35,
     "metadata": {},
     "output_type": "execute_result"
    }
   ],
   "source": [
    "x4 = np.ones(10)      # crea array con unos:\n",
    "x4                    # array([ 1.,  1.,  1.,  1.,  1.,  1.,  1.,  1.,  1.,  1.])"
   ]
  },
  {
   "cell_type": "code",
   "execution_count": 36,
   "metadata": {},
   "outputs": [
    {
     "data": {
      "text/plain": [
       "array([7, 7, 7, 7, 7, 7, 7, 7, 7, 7])"
      ]
     },
     "execution_count": 36,
     "metadata": {},
     "output_type": "execute_result"
    }
   ],
   "source": [
    "x5 = np.full(10, 7)   # Crea un array con 10 elementos con valor constante 7:\n",
    "x5                    # array([ 7.,  7.,  7.,  7.,  7.,  7.,  7.,  7.,  7.,  7.])    "
   ]
  },
  {
   "cell_type": "code",
   "execution_count": 37,
   "metadata": {},
   "outputs": [
    {
     "data": {
      "text/plain": [
       "array([0.80182488, 0.25189713, 0.34269585, 0.2130847 , 0.23132109,\n",
       "       0.26292857, 0.97525284, 0.11282918, 0.51019839, 0.80191156])"
      ]
     },
     "execution_count": 37,
     "metadata": {},
     "output_type": "execute_result"
    }
   ],
   "source": [
    "x6 = np.random.random(10) # array con números aleatorios\n",
    "x6                    # ej. \"array([ 0.91940167  0.08143941, ...])"
   ]
  },
  {
   "cell_type": "markdown",
   "metadata": {},
   "source": [
    "### Métodos definidos en la librería numpy\n",
    "Como se dijo anteriormente para acceder a los métodos se pone un punto después del variable, se presiona tab y se busca con las flechas. Para ver qué significa cada método usar la ayudar del Ipython, es decir escriba por ejemplo en la celda `x1.sum()??`, se presiona enter y se despliega el manual que explica el método `sum()`, aquí algunos métodos numpy (ver más de `numpy` en el siguiente [link](http://damianavila.github.io/Python-Cientifico-HCC/3_NumPy.html)) son:"
   ]
  },
  {
   "cell_type": "code",
   "execution_count": 38,
   "metadata": {},
   "outputs": [
    {
     "name": "stdout",
     "output_type": "stream",
     "text": [
      "[0 1 2 3 4 5 6 7 8 9]\n",
      "0\n",
      "9\n",
      "45\n",
      "4.5\n",
      "2.8722813232690143\n"
     ]
    }
   ],
   "source": [
    "print(x1)\n",
    "print(x1.min())\n",
    "print(x1.max())\n",
    "print(x1.sum())      # suma de los elementos de x1.\n",
    "print(x1.mean())\n",
    "print(x1.std())"
   ]
  },
  {
   "cell_type": "markdown",
   "metadata": {},
   "source": [
    "### Arrays 2D\n",
    "Los arrays numpy también pueden ser de varias dimensiones, para acceder a los elementos se hace uso de dos indices, por ejemplo\n",
    "```python\n",
    "M[i,j] (o también M[i][j]),\n",
    "```\n",
    "veamos algunos ejemplos de arrays en dos dimensiones,"
   ]
  },
  {
   "cell_type": "code",
   "execution_count": 39,
   "metadata": {},
   "outputs": [
    {
     "data": {
      "text/plain": [
       "array([[0, 1, 2],\n",
       "       [3, 4, 5],\n",
       "       [6, 7, 8]])"
      ]
     },
     "execution_count": 39,
     "metadata": {},
     "output_type": "execute_result"
    }
   ],
   "source": [
    "# array 1D a matrix \n",
    "M = np.arange(9) \n",
    "M.reshape(3,3)"
   ]
  },
  {
   "cell_type": "code",
   "execution_count": 40,
   "metadata": {},
   "outputs": [
    {
     "data": {
      "text/plain": [
       "array([[0., 0.],\n",
       "       [0., 0.]])"
      ]
     },
     "execution_count": 40,
     "metadata": {},
     "output_type": "execute_result"
    }
   ],
   "source": [
    "m1 = np.zeros((2,2))  # matrix con ceros:\n",
    "m1 "
   ]
  },
  {
   "cell_type": "code",
   "execution_count": 41,
   "metadata": {},
   "outputs": [
    {
     "data": {
      "text/plain": [
       "array([[1., 1.],\n",
       "       [1., 1.],\n",
       "       [1., 1.]])"
      ]
     },
     "execution_count": 41,
     "metadata": {},
     "output_type": "execute_result"
    }
   ],
   "source": [
    "m2 = np.ones((3,2))   #  matrix con 3x2 con unos\n",
    "m2                    "
   ]
  },
  {
   "cell_type": "code",
   "execution_count": 42,
   "metadata": {},
   "outputs": [
    {
     "data": {
      "text/plain": [
       "array([[7, 7],\n",
       "       [7, 7]])"
      ]
     },
     "execution_count": 42,
     "metadata": {},
     "output_type": "execute_result"
    }
   ],
   "source": [
    "m3 = np.full((2,2), 7)#  matrix con 2x2 con 7\n",
    "m3               "
   ]
  },
  {
   "cell_type": "code",
   "execution_count": 43,
   "metadata": {},
   "outputs": [
    {
     "data": {
      "text/plain": [
       "array([[1., 0.],\n",
       "       [0., 1.]])"
      ]
     },
     "execution_count": 43,
     "metadata": {},
     "output_type": "execute_result"
    }
   ],
   "source": [
    "m4 = np.eye(2)        #  matrix con identidad 2x2\n",
    "m4              "
   ]
  },
  {
   "cell_type": "code",
   "execution_count": 44,
   "metadata": {},
   "outputs": [
    {
     "data": {
      "text/plain": [
       "array([[0.85275228, 0.73054938, 0.97137572],\n",
       "       [0.06884515, 0.60540177, 0.38936706],\n",
       "       [0.09606349, 0.95756364, 0.13832052]])"
      ]
     },
     "execution_count": 44,
     "metadata": {},
     "output_type": "execute_result"
    }
   ],
   "source": [
    "m5 = np.random.random((3,3)) # Matrix 3x3 de números aleatorios \n",
    "m5                     "
   ]
  },
  {
   "cell_type": "code",
   "execution_count": 45,
   "metadata": {},
   "outputs": [
    {
     "data": {
      "text/plain": [
       "array([[ 1,  2,  3,  4],\n",
       "       [ 5,  6,  7,  8],\n",
       "       [ 9, 10, 11, 12]])"
      ]
     },
     "execution_count": 45,
     "metadata": {},
     "output_type": "execute_result"
    }
   ],
   "source": [
    "a = np.array([[1,2,3,4], [5,6,7,8], [9,10,11,12]])\n",
    "a"
   ]
  },
  {
   "cell_type": "code",
   "execution_count": 46,
   "metadata": {},
   "outputs": [
    {
     "data": {
      "text/plain": [
       "(3, 4)"
      ]
     },
     "execution_count": 46,
     "metadata": {},
     "output_type": "execute_result"
    }
   ],
   "source": [
    "a.shape             # dimensión del arreglo"
   ]
  },
  {
   "cell_type": "code",
   "execution_count": 47,
   "metadata": {},
   "outputs": [
    {
     "data": {
      "text/plain": [
       "1"
      ]
     },
     "execution_count": 47,
     "metadata": {},
     "output_type": "execute_result"
    }
   ],
   "source": [
    "a11 = a[0,0]        # da 1\n",
    "a11"
   ]
  },
  {
   "cell_type": "code",
   "execution_count": 48,
   "metadata": {},
   "outputs": [
    {
     "data": {
      "text/plain": [
       "array([[2, 3],\n",
       "       [6, 7]])"
      ]
     },
     "execution_count": 48,
     "metadata": {},
     "output_type": "execute_result"
    }
   ],
   "source": [
    "# submatrix 2x2 de a\n",
    "b = a[:2, 1:3]      # [[2 3]                                              \n",
    "                    #  [6 7]]\n",
    "b"
   ]
  },
  {
   "cell_type": "code",
   "execution_count": 49,
   "metadata": {},
   "outputs": [
    {
     "data": {
      "text/plain": [
       "(array([1, 2, 3, 4]), array([5, 6, 7, 8]), array([ 9, 10, 11, 12]))"
      ]
     },
     "execution_count": 49,
     "metadata": {},
     "output_type": "execute_result"
    }
   ],
   "source": [
    "fila0 = a[0, :]     # fila cero                    \n",
    "fila1 = a[1, :]     # fila uno\n",
    "fila2 = a[2,:]      # fila dos\n",
    "\n",
    "fila0, fila1, fila2"
   ]
  },
  {
   "cell_type": "code",
   "execution_count": 50,
   "metadata": {},
   "outputs": [
    {
     "data": {
      "text/plain": [
       "array([1, 5, 9])"
      ]
     },
     "execution_count": 50,
     "metadata": {},
     "output_type": "execute_result"
    }
   ],
   "source": [
    "col1  = a[:, 0]     # columna cero\n",
    "col1"
   ]
  },
  {
   "cell_type": "code",
   "execution_count": 51,
   "metadata": {},
   "outputs": [
    {
     "data": {
      "text/plain": [
       "array([ 2,  6, 10])"
      ]
     },
     "execution_count": 51,
     "metadata": {},
     "output_type": "execute_result"
    }
   ],
   "source": [
    "col1  = a[:, 1]     # columna uno\n",
    "col1"
   ]
  },
  {
   "cell_type": "code",
   "execution_count": 52,
   "metadata": {},
   "outputs": [
    {
     "data": {
      "text/plain": [
       "array([[ 2],\n",
       "       [ 6],\n",
       "       [10]])"
      ]
     },
     "execution_count": 52,
     "metadata": {},
     "output_type": "execute_result"
    }
   ],
   "source": [
    "col2  = a[:, 1:2]   # columna dos\n",
    "col2"
   ]
  },
  {
   "cell_type": "markdown",
   "metadata": {},
   "source": [
    "### Eficacia de numpy \n",
    "Por qué usar numpy? los arrays de numpy son más rápidos que las listas, esto se puede comprobar mediante el uso del comando mágico de Ipython `%timeit` que da el tiempo de ejecución:"
   ]
  },
  {
   "cell_type": "code",
   "execution_count": 53,
   "metadata": {},
   "outputs": [
    {
     "name": "stdout",
     "output_type": "stream",
     "text": [
      "309 µs ± 15.5 µs per loop (mean ± std. dev. of 7 runs, 1000 loops each)\n"
     ]
    }
   ],
   "source": [
    "# lista python es lenta:\n",
    "L = range(1000) # lista con números de 1 a 10000\n",
    "# luego usando comando ipython timeit (no es un comando de python):\n",
    "%timeit [i**2 for i in L] "
   ]
  },
  {
   "cell_type": "code",
   "execution_count": 54,
   "metadata": {},
   "outputs": [
    {
     "name": "stdout",
     "output_type": "stream",
     "text": [
      "1.11 µs ± 48.3 ns per loop (mean ± std. dev. of 7 runs, 1000000 loops each)\n"
     ]
    }
   ],
   "source": [
    "# pero en numpy es más rapido:\n",
    "a = np.arange(1000)\n",
    "%timeit a**2 "
   ]
  },
  {
   "cell_type": "markdown",
   "metadata": {},
   "source": [
    "###  Paso de arrays a funciones\n",
    "Los arrays y diccionarios -a diferencia de las variables- si se pasan por los argumentos de la función pueden ser  modificados permanentemente dentro de esta (esto se llama \"*paso por referencia*\" y no crea copia), esto se puede usar para retornar arrays, pero si se hace la modificación mediante funciones numpy, estas crean copias del array dentro de la función y los arrays no quedan permanentemente modificados, veamos,"
   ]
  },
  {
   "cell_type": "code",
   "execution_count": 55,
   "metadata": {},
   "outputs": [
    {
     "name": "stdout",
     "output_type": "stream",
     "text": [
      "[3. 3. 3. 3. 3. 3. 3. 3. 3. 3.] [5. 5. 5. 5. 5. 5. 5. 5. 5. 5.]\n"
     ]
    },
    {
     "data": {
      "text/plain": [
       "(array([3., 3., 3., 3., 3., 3., 3., 3., 3., 3.]),\n",
       " array([0., 0., 0., 0., 0., 0., 0., 0., 0., 0.]))"
      ]
     },
     "execution_count": 55,
     "metadata": {},
     "output_type": "execute_result"
    }
   ],
   "source": [
    "import numpy as np\n",
    "a = np.zeros(10)      \n",
    "b = np.zeros(10)\n",
    "\n",
    "def f(a, b):\n",
    "    for i in range(10): a[i] = 3 # modifica el valor del array a permanentemente.\n",
    "    b = np.ones(10)*5            # no modifica el valor del array a permanentemente,\n",
    "                                 # crea copia de b dentro de la función (bug??).\n",
    "    print(a,b)                   # imprimir array modificados.\n",
    "\n",
    "f(a,b)  # llamar función.\n",
    "a, b    # Note que solo a es permanentemente modificado, solo a sirve como retorno de f(a,b)."
   ]
  },
  {
   "cell_type": "markdown",
   "metadata": {},
   "source": [
    "### Funciones con arrays\n",
    "Cuando el argumento de una función predefinida (`np.sin(x)`, `np.exp(x)`, etc) es un array, la función retorna un array con la función evaluada en cada elemento del array, ejemplos:"
   ]
  },
  {
   "cell_type": "code",
   "execution_count": 56,
   "metadata": {},
   "outputs": [
    {
     "name": "stdout",
     "output_type": "stream",
     "text": [
      "[0.         1.         1.41421356 1.73205081 2.         2.23606798\n",
      " 2.44948974 2.64575131 2.82842712 3.        ]\n",
      "[ 0.          0.84147098  0.90929743  0.14112001 -0.7568025  -0.95892427\n",
      " -0.2794155   0.6569866   0.98935825  0.41211849]\n",
      "315\n",
      "285\n"
     ]
    }
   ],
   "source": [
    "# ----------------- funciones con arrays ----------------------------\n",
    "raiz = np.sqrt(x1)    # array con elementos que son la raiz de los elementos de x1\n",
    "print (raiz)          # x1**.5  equivalente.\n",
    "\n",
    "y = np.sin(x1)        # array donde cada elemento es el seno de cada elemento de x1\n",
    "print (y) \n",
    "\n",
    "dd = np.dot(x1,x5)    # producto punto o producto escalar de x1 y x2\n",
    "print (dd)\n",
    "\n",
    "magnitud = x1.dot(x1) # igual resultado que dot(x1,x1), esta es la magnitud del vertor x1\n",
    "print (magnitud)"
   ]
  },
  {
   "cell_type": "markdown",
   "metadata": {},
   "source": [
    "# Gráficos con matplotlib\n",
    "Para hacer gráficos se usa la librería Matplotlib, Matplotlib es la librería fundamental para gráficos 2D (y algunos 3D). Ejemplo con los comandos mínimos necesitados para hacer un gráfico 2D:"
   ]
  },
  {
   "cell_type": "code",
   "execution_count": 57,
   "metadata": {},
   "outputs": [],
   "source": [
    "# Comandos mínimos necesitados para hacer un gráfico\n",
    "import numpy as np\n",
    "import matplotlib.pyplot as plt"
   ]
  },
  {
   "cell_type": "code",
   "execution_count": 58,
   "metadata": {},
   "outputs": [
    {
     "data": {
      "image/png": "[encoded data removed]",
      "text/plain": [
       "<Figure size 432x288 with 1 Axes>"
      ]
     },
     "metadata": {
      "needs_background": "light"
     },
     "output_type": "display_data"
    }
   ],
   "source": [
    "x = np.arange(0, 3 * np.pi, 0.1)# crear array con valores de x\n",
    "y = np.sin(x)              # crear array con valores de y\n",
    "z = np.cos(x)              # crear array con valores de z\n",
    "\n",
    "# Plot usando matplotlib\n",
    "plt.plot(x, y)\n",
    "plt.plot(x, z)\n",
    "\n",
    "plt.xlabel('x')            # nombre eje x\n",
    "plt.ylabel('y')            # nombre eje y\n",
    "plt.title('Seno y Coseno') # título\n",
    "plt.legend(['Sen', 'Cos']) # legenda de cada gráfico\n",
    "\n",
    "plt.show()"
   ]
  },
  {
   "cell_type": "markdown",
   "metadata": {},
   "source": [
    "**Ejercicio**: Las celdas anteriores tienen la información mínima para hacer un script de un gráfico, cree un archivo python llamado `plot_basico.py` y luego correrlo desde una celda usando el comando mágico,\n",
    "```python\n",
    "%run plot_basico.py\n",
    "```\n",
    "También puede usar el comando de ipython,\n",
    "```python\n",
    "%load ~/directorio/plot_basico.py # en windows \\c\\directorio\\plot_basico.py\n",
    "```\n",
    "\n",
    "\n",
    "### Gráficos y cálculos numéricos en modo interactivo\n",
    "Muchas veces no necesitamos guardar el gráfico en un archivo y solo necesitamos visualizar los datos, entonces se usa la librería `pylab` para simplificar el modo interactivo (en ipython/jupyter, no en scripts). Hay tres formas de llamar la librería,\n",
    "\n",
    "1. `%pylab`, comando mágico de ipython,\n",
    "2.  `ipython --pylab` en la términal,\n",
    "3. `from pylab import *`\n",
    "\n",
    "Con `%pylab` se puede graficar simplemente poniendo `plot()` o `plt.plot` (igualmente no hay que escribir `np.sin()` por ejemplo) es indiferente, `%pylab` significa cargar `matplotlib` y `numpy` de manera interactiva (en una celda escribir `%pylab??` para saber más). En modo interactivo es muy fácil hacer un gráfico, el comando `%pylab inline` permite poner un gráfico embebido en jupyter pero si se requiere el gráfico en una ventana aparte entonces se pone `%pylab qt`, veamos un ejemplo,"
   ]
  },
  {
   "cell_type": "code",
   "execution_count": 59,
   "metadata": {},
   "outputs": [
    {
     "name": "stdout",
     "output_type": "stream",
     "text": [
      "Populating the interactive namespace from numpy and matplotlib\n"
     ]
    },
    {
     "name": "stderr",
     "output_type": "stream",
     "text": [
      "/Applications/anaconda/anaconda3/lib/python3.8/site-packages/IPython/core/magics/pylab.py:159: UserWarning: pylab import has clobbered these variables: ['e', 'f']\n",
      "`%matplotlib` prevents importing * from pylab and numpy\n",
      "  warn(\"pylab import has clobbered these variables: %s\"  % clobbered +\n"
     ]
    }
   ],
   "source": [
    "# Recordar: \"inline\" gráfico embebido,\n",
    "#           \"qt\"     gráfico en ventana aparte\n",
    "\n",
    "#%pylab inline\n",
    "%pylab qt\n",
    "#%matplotlib inline\n",
    "#%matplotlib qt"
   ]
  },
  {
   "cell_type": "code",
   "execution_count": 60,
   "metadata": {},
   "outputs": [
    {
     "data": {
      "text/plain": [
       "[<matplotlib.lines.Line2D at 0x7fd0beb28370>]"
      ]
     },
     "execution_count": 60,
     "metadata": {},
     "output_type": "execute_result"
    }
   ],
   "source": [
    "# 1)----------------- gráfico de seno de x -------------------------------\n",
    "x = arange(0.01,10,0.01) # array with elements\n",
    "y = sin(x)\n",
    "plot(x, y)               # simple! como en Matlab gracias a pylab!\n",
    "# show()                 # no siempre necesitado, si pylab esta bien implementado. "
   ]
  },
  {
   "cell_type": "markdown",
   "metadata": {},
   "source": [
    "### Hacer un segundo plot en la gráfica y borrarlo \n",
    "Una mejor manera de agregar un gráfico es asignarle una referencia a una variable para después manipularlo, por ejemplo `l, = plot()`, luego se puede usar `l.remove()` o `del l` para por ejemplo remover el gráfico, veamos,"
   ]
  },
  {
   "cell_type": "code",
   "execution_count": 61,
   "metadata": {},
   "outputs": [],
   "source": [
    "# 2)---------------- Agregar otro gráfico con referencia ------------------------\n",
    "l1, = plot(x,cos(x)) # \",\" es importante pues plot retorna una lista que usaremos después.\n",
    "# plot(x,cos(x))     # también se puede hacer, pero no hay una referencia para remover \n",
    "                     # el gráfico después si este no nos gusta."
   ]
  },
  {
   "cell_type": "code",
   "execution_count": 62,
   "metadata": {},
   "outputs": [],
   "source": [
    "l1.remove()          # removemos el gráfico referenciado con l2 que es el de coseno\n",
    "#draw()               # después de remover hay que usar este comando para ver el efecto"
   ]
  },
  {
   "cell_type": "markdown",
   "metadata": {},
   "source": [
    "Desafortunadamente el primer gráfico de `sin(x)` no se puede remover, pues no tiene referencia.\n",
    "\n",
    "Por defecto cada vez que se hace un plot este se pone en el mismo gráfico de la ventana abierta por defecto, pero pero si lo que queremos es hacer el plot en otra ventana (un segundo gráfico) se debe usar el método `figure(i)`, donde `i` es el número del gráfico a crear, por ejemplo `figure(1)` y `figure(2)`, abrirá dos vestanas. Esto es muy útil también si se quiere poner dos gráficos embebidos en una misma celda de jupyter.\n",
    "\n",
    "En matplotlib se puede cambiar la escala de los ejes, a logarítmica, semilogarítmica o lineal, en el siguiente gráfico, se habre una segunda ventana y gráfica $f(x)=e^x$ en escala semilogarítmica en el eje $y$, "
   ]
  },
  {
   "cell_type": "code",
   "execution_count": 63,
   "metadata": {},
   "outputs": [
    {
     "data": {
      "text/plain": [
       "Text(0.5, 1.0, '$y=2\\\\sin (2\\\\pi(x-1/4))$')"
      ]
     },
     "execution_count": 63,
     "metadata": {},
     "output_type": "execute_result"
    }
   ],
   "source": [
    "# 3)----------------cambiar la escala del eje -------------------------------------\n",
    "figure(2)            # abre una segunda ventana vacía.\n",
    "\n",
    "l2, = plot(x,exp(x),label=\"exp\")  \n",
    "yscale('log')        # scala logarítmica en y: \"log\"  or lineal \"linear\"\n",
    "#xscale('log')\n",
    "\n",
    "#---------------Siempre hay que dar nombre a los ejes X y Y -----------------------\n",
    "xlabel('x-axis')\n",
    "ylabel('y-axis')\n",
    "title(r'$y=2\\sin (2\\pi(x-1/4))$') # se puede usar comandos de latex "
   ]
  },
  {
   "cell_type": "markdown",
   "metadata": {},
   "source": [
    "### Hacer varios gráficos en la misma figura"
   ]
  },
  {
   "cell_type": "code",
   "execution_count": 64,
   "metadata": {},
   "outputs": [],
   "source": [
    "figure(3)  # abrir una tercera ventana y hacer 5 plots\n",
    "for i in range(5):\n",
    "   plot(x,sin(x - i))"
   ]
  },
  {
   "cell_type": "markdown",
   "metadata": {},
   "source": [
    "### Algunas propiedades adicionales para gráficos\n",
    "Para manipular graficos usar,\n",
    "```python\n",
    "title(\"título\")               # Título gráfico.      \n",
    "xlabel(\"x\")                   # Título eje x.\n",
    "ylabel(\"título eje y\")        # Título eje y.\n",
    "xlim(Min, Max)                # Dominio o valores minimo y maximo eje x.\n",
    "ylim(Min, Max)                # Rango o valores minimo y maximo eje y.\n",
    "```\n",
    "Adicionalmente, para redefinir los valores que matplotlib pone por defecto a los ejes `x,y` se usa,\n",
    "```python\n",
    "xticks(array_valores_desados) # Cambiar valores predeterminados en eje x.\n",
    "yticks(array_valores_desados) # Cambiar valores predeterminados en eje y.\n",
    "```\n",
    "\n",
    "Cambiar de figura y borrar cuando se está en modo interactivo en ipython:\n",
    "```python\n",
    "figure(1)    regresar a la figura 1.\n",
    "cla()        limpiar/borrar el \"axis\" en la figura actual (figura 1).\n",
    "clf()        borar toda la figura (solo una ventana vacía permanece).\n",
    "close(2)     cerrar figura 2.\n",
    "close('all') cerrar todas las ventanas.\n",
    "```\n",
    "\n",
    "\n",
    "### Salvar gráfico a un archivo\n",
    "En scripts se puede salvar el gráfico a formatos: eps, pdf, png, jpg, etc. \n",
    "```python\n",
    "savefig(\"Mifigura.eps\", format='eps', transparent=True)\n",
    "```\n",
    "Si se usa `\"transparent\"` el fondo es transparente. En jupyter se puede salvar desde la opción de ventana emergente, aunque no se puede aplicar transparencia.\n",
    "\n",
    "**Ejercicio**: Probar estos comandos en los gráficos anteriores."
   ]
  },
  {
   "cell_type": "markdown",
   "metadata": {},
   "source": [
    "## Salvar  datos en un archivo \n",
    "\n",
    "Hay varias formas de hacer esto, la más estándar es con `open`,\n",
    "```python     \n",
    "file = open(filename,\"w\")    # abrir archivo de escritura\n",
    "file.write(\"value: %s \"%a)   # escribir al archivo la variable a\n",
    "    ...                      # hacer algo\n",
    "file.close()                 # cerrar archivo de escritura al final de programa\n",
    "```     \n",
    "el primer argumento es el archivo a leer o escribir, el segundo argumento depende de si es escritura o lectura,\n",
    "\n",
    "* <font color='brown'>'r'\t</font> significa que el archivo es de lectura.\n",
    "* <font color='brown'>'w'\t</font> es archivo de escritura (si el archivo existe será sobre escrito).\n",
    "* <font color='brown'>'a'\t</font> abre un archivo y si existen datos, los nuevos se agregan al final del archivo.  \n",
    "* <font color='brown'>'r+'</font>\tabrir archivo de lectura y escritura.\n",
    "* <font color='brown'>'rb'</font>\tabrir archivo con formato cvf \"comma separted file\" (requiere `import csv`) (b es para archivos binarios, e.g, imagenes.\n",
    "* <font color='brown'>'wb'</font>\tabrir archivo para escritura en formato csv.\n",
    "\n",
    "Si es un arreglo numpy se puede usar usar una manera más fácil,  \n",
    "```python\n",
    "    np.savetxt('Tabla.dat',Miarray, fmt=formato, header='')\n",
    "```\n",
    "con esta función no hay que cerrar archivos, donde `fmt` es el formato a usar por ejemplo, `fmt = '%14.10f'`, que significa usar 14 espacios y 10 después del punto la `f` significa que los datos son números reales o de tipo flotante. "
   ]
  },
  {
   "cell_type": "code",
   "execution_count": 65,
   "metadata": {},
   "outputs": [
    {
     "name": "stdout",
     "output_type": "stream",
     "text": [
      "  0.000   0.000   0.000\r\n",
      "  1.000   1.000   1.000\r\n",
      "  2.000   2.000   2.000\r\n",
      "  3.000   3.000   3.000\r\n",
      "  4.000   4.000   4.000\r\n"
     ]
    }
   ],
   "source": [
    "# ejemplo con open\n",
    "x = y = z = np.arange(0.0,5.0,1.0) # datos\n",
    "\n",
    "file = open(\"test.dat\",\"w\") # abrir archivo de escritura\n",
    "\n",
    "for i in range(len(x)):\n",
    "    file.write(\"%7.3f %7.3f %7.3f\\n\"%(x[i], y[i], z[i]))\n",
    "\n",
    "file.close()                # cerrar archivo de escritura al final de programa\n",
    "\n",
    "%cat test.dat               # ver archivo creado en su directorio (solo en linux)"
   ]
  },
  {
   "cell_type": "code",
   "execution_count": 66,
   "metadata": {},
   "outputs": [
    {
     "name": "stdout",
     "output_type": "stream",
     "text": [
      "0.000000000000000000e+00 0.000000000000000000e+00 0.000000000000000000e+00\r\n",
      "1.000000000000000000e+00 1.000000000000000000e+00 1.000000000000000000e+00\r\n",
      "2.000000000000000000e+00 2.000000000000000000e+00 2.000000000000000000e+00\r\n",
      "3.000000000000000000e+00 3.000000000000000000e+00 3.000000000000000000e+00\r\n",
      "4.000000000000000000e+00 4.000000000000000000e+00 4.000000000000000000e+00\r\n"
     ]
    }
   ],
   "source": [
    "# ejemplo, imprimir sin formato\n",
    "x = y = z = np.arange(0.0,5.0,1.0)\n",
    "\n",
    "np.savetxt('test.dat', list(zip(x,y,z)))         # forma 1\n",
    "%cat test.dat # ver datos desde el archivo creado"
   ]
  },
  {
   "cell_type": "code",
   "execution_count": 67,
   "metadata": {},
   "outputs": [
    {
     "name": "stdout",
     "output_type": "stream",
     "text": [
      "# x, y, z\r\n",
      "  0  0  0\r\n",
      "  1  1  1\r\n",
      "  2  2  2\r\n",
      "  3  3  3\r\n",
      "  4  4  4\r\n"
     ]
    }
   ],
   "source": [
    "# más pulido, imprimir con formato\n",
    "np.savetxt('test.dat', np.c_[x,y,z], fmt='%3d %2d %2d', header='x, y, z') # forma 2\n",
    "%cat test.dat # ver datos desde el archivo creado (solo en linux)"
   ]
  },
  {
   "cell_type": "markdown",
   "metadata": {},
   "source": [
    "Finalmente recuerde que también se puede usar redireccionamiento para salvar a un archivo, simplemente se usa un `print()` en el script y en una terminal linux/mac o una terminal \"anaconda prompt\" en windows (o también el cmd cmd)  se escribe,\n",
    "```bash\n",
    "$] python miprograma.py > test.dat\n",
    "```\n",
    "esto también funciona en las celdas de `ipython/jupyter` si en vez de `python` se escribe `!python`.\n",
    "\n",
    "## Cargar datos desde un archivo\n",
    "Existen también varias formas, la más usual es hacer lo mismo que para guardar archivos (como el caso anterior, pero se cambia `\"w\"` por `\"r\"`), pero si se usa el comando `with` no hay necesidad de cerrar el archivo al final de la lectura (note que `with` también funciona para escritura),"
   ]
  },
  {
   "cell_type": "code",
   "execution_count": 68,
   "metadata": {},
   "outputs": [
    {
     "name": "stdout",
     "output_type": "stream",
     "text": [
      "['#', 'x,', 'y,', 'z']\n",
      "['0', '0', '0']\n",
      "['1', '1', '1']\n",
      "['2', '2', '2']\n",
      "['3', '3', '3']\n",
      "['4', '4', '4']\n"
     ]
    }
   ],
   "source": [
    "with open(\"test.dat\") as file:  # \"file\", variable que almacena los datos\n",
    "    #data = file.read()         # leer todo el archivo,\n",
    "    data = file.readlines()     # o leer por lineas.\n",
    "    #hacer algo con los datos. \n",
    "\n",
    "for line in data:\n",
    "    words = line.split()        # partir el string line en substrings \n",
    "    print(words)                # note que imprime strings y no números"
   ]
  },
  {
   "cell_type": "markdown",
   "metadata": {},
   "source": [
    "Pero aún más fácil, si el archivo es solo numérico o una tabla de datos se puede usar el comando `numpy.genfromtxt()` para importar el archivo,\n",
    "```python\n",
    "     E = np.genfromtxt(\"test.dat\")    #  importar array 2D\n",
    "```    \n",
    "donde `E[0], E[1], ..., E[n]` son las filas del archivo, si se desean las columnas pues se transpone la matrix `E`. Las lineas que comiencen con # son ignoradas. Nota, también existe `np.loadtxt()` que es similar (ver manual), ejemplos: "
   ]
  },
  {
   "cell_type": "code",
   "execution_count": 69,
   "metadata": {},
   "outputs": [
    {
     "name": "stdout",
     "output_type": "stream",
     "text": [
      "[0. 1. 2. 3. 4.] [0. 1. 2. 3. 4.]\n"
     ]
    },
    {
     "data": {
      "text/plain": [
       "array([[0., 1., 2., 3., 4.],\n",
       "       [0., 1., 2., 3., 4.],\n",
       "       [0., 1., 2., 3., 4.]])"
      ]
     },
     "execution_count": 69,
     "metadata": {},
     "output_type": "execute_result"
    }
   ],
   "source": [
    "# Ejemplo 1\n",
    "E = np.genfromtxt(\"test.dat\")\n",
    "E = E.T # Transponer para obtener: E[0] columna 1, E[1] columna 2, E[2] columna 3 \n",
    "print (E[0], E[1])\n",
    "E"
   ]
  },
  {
   "cell_type": "code",
   "execution_count": 70,
   "metadata": {},
   "outputs": [
    {
     "name": "stdout",
     "output_type": "stream",
     "text": [
      "[0. 1. 2. 3. 4.] [0. 1. 2. 3. 4.] [0. 1. 2. 3. 4.]\n"
     ]
    }
   ],
   "source": [
    "# ejemplo 2, la manera más practica\n",
    "x,y,z = np.genfromtxt(\"test.dat\",usecols=(0,1,2),unpack=True)\n",
    "print(x,y,z)\n",
    "\n",
    "%rm test.dat # borrar el archivo (solo linux, unix)"
   ]
  },
  {
   "cell_type": "code",
   "execution_count": 71,
   "metadata": {},
   "outputs": [],
   "source": [
    "# ejemplo 3, graficar de manera rápida datos de un archivo\n",
    "# np.savetxt('basu.txt',list(zip(x,y,z)), delimiter=',', fmt='%10.3f', header='c1,  c2, c3')\n",
    "#plotfile('./basu.txt',(0,1)) #, delimiter=' ') # por defecto delimiter=','"
   ]
  },
  {
   "cell_type": "markdown",
   "metadata": {},
   "source": [
    "**Tarea**: usando `with` crear un archivo anterior y luego leerlo. \n",
    "\n",
    "**Tarea**: Se deja caer una partícula en caída libre bajo al acción de la gravedad, la posición y la velocidad son dadas por, \n",
    "\n",
    "$$y=-10t^2 \\hbox{ y  } v = -20t$$\n",
    "\n",
    "crear un archivo `datos.dat` qué contenga $t,y,v$ para mil iteraciones."
   ]
  },
  {
   "cell_type": "markdown",
   "metadata": {},
   "source": [
    "**Tarea**: Dos cargas $q=1$ y $Q=1.2$, con masas $m_1=1$ y $m_2=1.5$ unidades interactúan mediante el potencial de Coulomb,\n",
    "$$E_p = k\\frac{Qq}{r},$$ \n",
    "(tome $k=1$) si las cargas están inicialmente en reposo y separadas $r_0=0.5$ unidades y se dejan interactuar, hacer un programa que calcule $100$ iteraciones en el intervalo $r_0\\leq r \\leq 10$, salve los datos de $r, E_p, F$, (posición,energía y fuerza) en el archivo `Energies.dat`, finalmente cargue el archivo y grafique los datos.\n",
    "\n",
    "Ayuda: Use el siguiente script para leer las energías, \n",
    "```python\n",
    "E = np.genfromtxt(\"Energies.dat\") # comando para importar un archivo con tabla de datos\n",
    "E = E.T                           # transpuesta par obtener: E[0] column 1, E[1] column 2,...  \n",
    "\n",
    "l1, = plot(E[:,1],E[:,2],\"-\",label=\"line\")  # gráfica columna 3 vs column 1\n",
    "l2, = plot(E[:,1],E[:,2],\"x\",label=\"cross\") # gráfica columna 3 vs column 1\n",
    "legend() # se necesita si queremos ver los \"labels\" (símbolos, para identificar cada gráfico)\n",
    "```"
   ]
  },
  {
   "cell_type": "code",
   "execution_count": 72,
   "metadata": {},
   "outputs": [],
   "source": [
    "# hacer tareas"
   ]
  },
  {
   "cell_type": "markdown",
   "metadata": {},
   "source": [
    "# Introducción a clases y programación orientada al objeto (POO)\n",
    "Python es un lenguaje de programación interpretado y orientado al objeto, es decir,\n",
    "cada variable (o lista, array, tupla, diccionario) tiene atributos definidos por funciones que se conocen como métodos, por\n",
    "ejemplo `a.sort()`, `a` es un objeto numpy y `sort` un atributo de `a`, `sort` es un método o función.\n",
    "\n",
    "Como se mencionó antes cada vez que se crea una nueva constante o variable (esta puede ser una tupla, lista, arreglo o diccionario) se crea un objeto el cual tiene una propiedades a las cuales se puede acceder poniendo un punto después de la variable y el nombre de la propiedad por ejemplo `x.propiedad()`. En el modo interactivo, en una celda ipython, se puede ver la lista de atributos escribiendo la variable más un punto y apretando la tecla tab, esto despliega todo los métodos que están definidos en la clase (o librería) y que se pueden usar; prueba con una arreglo y la librería numpy.  "
   ]
  },
  {
   "cell_type": "markdown",
   "metadata": {},
   "source": [
    "## Terminología en programación orientada al objeto (POO)\n",
    "Las clases son una forma de empaquetar datos y funcionalides juntos, al crear una clase se crea un nuevo tipo de objeto, permitiendo crear nuevas instancias de ese tipo.\n",
    "Las clase se definen en python mediante la palabra reservada *class*. Termilogía:\n",
    "\n",
    "**Variable de clase**: variable que comparten todas las instancias de una clase. Las variables de clase se definen dentro de una clase pero fuera de cualquiera de los métodos de la clase. Las variables de clase no se utilizan con tanta frecuencia como las variables de instancia.\n",
    "\n",
    "**Miembro dato**: variable de clase o variable de instancia que contiene datos asociados con una clase y sus objetos.\n",
    "\n",
    "**Sobrecarga de funciones**: La asignación de más de un comportamiento a una función en particular. La operación realizada varía según los tipos de objetos o argumentos involucrados.\n",
    "\n",
    "**Variable de instancia**: una variable que se define dentro de un método y pertenece solo a la instancia actual de una clase.\n",
    "\n",
    "**Herencia**: La transferencia de las características de una clase a otras clases que se derivan de ella.\n",
    "\n",
    "**Instancia**: un objeto individual de una determinada clase. Un objeto obj que pertenece a una clase Circle, por ejemplo, es una instancia de la clase Circle.\n",
    "\n",
    "**Instanciación**: La creación de una instancia de una clase.\n",
    "\n",
    "**Método**: un tipo especial de función que se define en una definición de clase.\n",
    "\n",
    "**Objeto**: una instancia única de una estructura de datos definida por su clase. Un objeto comprende tanto miembros de datos (variables de clase y variables de instancia) como métodos.\n",
    "\n",
    "**Sobrecarga de operador**: La asignación de más de una función a un operador en particular.\n",
    "\n",
    "(Tomado del [tutorial](https://www.tutorialspoint.com/python3/python_classes_objects.htm)).\n",
    "<!---\n",
    "## Overview of OOP and Terminology\n",
    "\n",
    "**Class**: A user-defined prototype for an object that defines a set of attributes that characterize any object of the class. The attributes are data members (class variables and instance variables) and methods, accessed via dot notation.\n",
    "\n",
    "   **Class variable**: A variable that is shared by all instances of a class. Class variables are defined within a class but outside any of the class's methods. Class variables are not used as frequently as instance variables are.\n",
    "\n",
    "   **Data member**: A class variable or instance variable that holds data associated with a class and its objects.\n",
    "\n",
    "   **Function overloading**: The assignment of more than one behavior to a particular function. The operation performed varies by the types of objects or arguments involved.\n",
    "\n",
    "   **Instance variable**: A variable that is defined inside a method and belongs only to the current instance of a class.\n",
    "\n",
    "   **Inheritance**: The transfer of the characteristics of a class to other classes that are derived from it.\n",
    "\n",
    "   **Instance**: An individual object of a certain class. An object obj that belongs to a class Circle, for example, is an instance of the class Circle.\n",
    "\n",
    "   **Instantiation**: The creation of an instance of a class.\n",
    "\n",
    "   **Method** : A special kind of function that is defined in a class definition.\n",
    "\n",
    "   **Object**: A unique instance of a data structure that's defined by its class. An object comprises both data members (class variables and instance variables) and methods.\n",
    "\n",
    "   **Operator overloading**: The assignment of more than one function to a particular operator.\n",
    "\n",
    "From this  [tutorial](https://www.tutorialspoint.com/python3/python_classes_objects.htm)\n",
    "\n",
    "## Example:\n",
    "Example of a class, see how it defines methods (functions) and inheritance. properties of an atom.\n",
    "\n",
    "Tips:\n",
    "* A classs is a set of functions and variables with \n",
    "  certain properties.\n",
    "* The first argument of a function within a class is self, \n",
    "  (warning, ignore it this produce an error). \n",
    "* Method and atribute are more or less same, they are the \n",
    "  functions implemented into a class.\n",
    "  If object is instanced from a class it has the properties \n",
    "  of the class (atributes, vars, etc).\n",
    "* Object and instance are more or less same\n",
    "* Inheritance means that child class inherence the \n",
    "  properties of the parent class.\n",
    "\n",
    "  “Magic methods” are those that start/end with underscores such as \n",
    "  __init__ , len and they provide special syntactic features \n",
    "  or does special things.  \n",
    "--->\n",
    "\n",
    "Algunas definciones extra:\n",
    "* Una clase es un conjunto de funciones y variables con ciertas propiedades encapsuladas.\n",
    "* El primer argumento de una función dentro de una clase es `self` e ignorarlo producirá un error.\n",
    "* Método y atributo son más o menos iguales, son las funciones implementadas en una clase.\n",
    "* Si el objeto es instanciado de una clase, tiene las propiedades de la clase (atributos, vars, etc).\n",
    "* Objeto e instancia son más o menos iguales, son las variables definidad a partir de una clase.\n",
    "* Herencia significa que la clase hija hereda el propiedades de la clase padre.\n",
    "* \"Métodos mágicos\", son aquellos que comienzan o terminan con guiones bajos, como `__init__` (aunque hay otros como `len`) y proporcionan características sintácticas especiales o hacen cosas especiales.\n",
    "\n",
    "Ejemplo: a continuación creamos la clase `atom()` y la clase `atomV()` la cual hereda las \n",
    "propiedades de la clase `atom()`:"
   ]
  },
  {
   "cell_type": "code",
   "execution_count": 73,
   "metadata": {},
   "outputs": [
    {
     "name": "stdout",
     "output_type": "stream",
     "text": [
      "Coord atoms a,b: (1, 1, 1) (2, 2, 2)\n",
      "magnitude a and b 1.7320508075688772 3.4641016151377544\n"
     ]
    }
   ],
   "source": [
    "#%pylab\n",
    "# parent or Base class\n",
    "class atom:\n",
    "    \n",
    "  # Constructor  \n",
    "  def  __init__(self,x,y,z): # variable initialization,\n",
    "      self.x=x               # self is always the first argument\n",
    "      self.y=y   \n",
    "      self.z=z\n",
    "  # magic method\n",
    "  def __abs__(self):         # computing the Norm by overloading the abs fuction\n",
    "      return (self.x**2. + self.y**2 + self.z**2)**0.5\n",
    "\n",
    "  # Instance methods\n",
    "  def coord(self):           # function without arguments (self is mandatory)    \n",
    "      return self.x, self.y, self.z #function that return cood, \n",
    "\n",
    "  def E(self,K=1):           # function with one argument.\n",
    "      return K/(self.x**2. + self.y**2. + self.z**2.)**0.5\n",
    "\n",
    "a=atom(1,1,1) # a is an object intanced from atom class\n",
    "b=atom(2,2,2) # another object with same properties that a\n",
    "\n",
    "print('Coord atoms a,b:',a.coord(), b.coord()) # coord is an atribute or method\n",
    "print(\"magnitude a and b\", abs(a), abs(b))"
   ]
  },
  {
   "cell_type": "code",
   "execution_count": 74,
   "metadata": {},
   "outputs": [
    {
     "name": "stdout",
     "output_type": "stream",
     "text": [
      "coord Atom (1, 1, 1)\n",
      "Velocities (0.1, 0.1, 0.1)\n",
      "Potential Ener 0.5773502691896258\n",
      "Kinetic Ener 37.5\n"
     ]
    }
   ],
   "source": [
    "# child or derived class\n",
    "class atomV(atom):\n",
    "    # init all vars (pa)\n",
    "    def  __init__(self,x,y,z, vx,vy,vz,t): # init child class\n",
    "        atom.__init__(self,x,y,z)          # init parent class\n",
    "        #super().__init__(x,y,z)           # equiv a atom.__init__ pero más general.\n",
    "        \n",
    "        # init vars of child class\n",
    "        self.t=t                \n",
    "        self.vx=vx\n",
    "        self.vy=vy\n",
    "        self.vz=vz\n",
    "        \n",
    "    #new functions of derived class    \n",
    "    def Vel(self):\n",
    "        return self.x/self.t,self.y/self.t,self.z/self.t\n",
    "    \n",
    "    def Kinetic(self,masa=1):\n",
    "        Ek=0.5*masa*(self.vx**2.+self.vy**2.+self.vz**2.)\n",
    "        return Ek\n",
    "\n",
    "\n",
    "c = atomV(1,1,1,5,5,5,10)\n",
    "# c is an object with additional atributes than a,b\n",
    "print ('coord Atom',    c.coord()) # Call an instance method and prints \n",
    "print ('Velocities',    c.Vel())\n",
    "print ('Potential Ener',c.E()) \n",
    "print ('Kinetic Ener',  c.Kinetic())"
   ]
  },
  {
   "cell_type": "markdown",
   "metadata": {},
   "source": [
    "## Qué significa la palabra \"*self*\" y uso en clases python\n",
    "¿Cuál es el propósito de la palabra \"*self*\" en una clase de python?\n",
    "Cuando se crea una instancia de un objeto, el objeto en sí se pasa al parámetro \"*self*\",\n",
    "es decir, suponga que una clase `Clase` contiene un método `Method` definido como:\n",
    "```python\n",
    "    def Method(self, x, y):\n",
    "         # hacer algo\n",
    "```\n",
    "y `Object = Class()` es una instancia de esa clase, ahora, cuando se llama a `Object.Method (x, y)`, Python lo convierte internamente a:\n",
    "```python\n",
    "    Class.Method(Object, x, y)\n",
    "```\n",
    "por lo que la variable `self` se refiere al objeto en sí, por ejemplo, en la clase anterior `atom`, la inicialización de los vectores de objetos declarados` a, b` toman la forma,\n",
    "```python               \n",
    "     Vector: a = atom(1,1,1)   |  Vector: b = atom(2,2,2)\n",
    "    ___________________________|__________________________\n",
    "    def  __init__(a,x,y,z):    |   def  __init__(b,x,y,z):   \n",
    "        a.x = x                |       b.x = x \n",
    "        a.y = y                |       b.y = y \n",
    "        a.z = z                |       b.z = z \n",
    "        a.E(k) = atom.E(a, k)  |       b.E(k) = atom.E(b, k) \n",
    "```\n",
    "Tenga en cuenta que, `a.E(k)` se transforma en `atom.E(a, k)` y `b.E(k)` se transforma en `atom.E(b, k)`.\n",
    "\n",
    "Por lo tanto, \"*self*\" se refiere a la variable u objeto ligado, \"*self*\" no es una palabra clave reservada en Python, es solo una fuerte convención que siempre debemos seguir, ya que evitarla conduce a errores de código.\n",
    "\n",
    "Para saber más ver [link](https://stackoverflow.com/questions/2709821/what-is-the-purpose-of-self).<br>\n",
    "Para saber más de los \"*Magic methods*\" ver [link](https://www.tutorialsteacher.com/python/magic-methods-in-python)\n",
    "\n",
    "### Otro ejemplo"
   ]
  },
  {
   "cell_type": "code",
   "execution_count": 75,
   "metadata": {},
   "outputs": [
    {
     "name": "stdout",
     "output_type": "stream",
     "text": [
      "Marge Simpson\n",
      "Homer Simpson, 1007\n"
     ]
    }
   ],
   "source": [
    "# http://www.python-course.eu/python3_inheritance.php\n",
    "# another example\n",
    "class Person:\n",
    "\n",
    "    def __init__(self, first, last):\n",
    "        self.firstname = first\n",
    "        self.lastname = last\n",
    "\n",
    "    def Name(self):\n",
    "        return self.firstname + \" \" + self.lastname\n",
    "\n",
    "class Employee(Person):\n",
    "\n",
    "    def __init__(self, first, last, staffnum):\n",
    "        Person.__init__(self,first, last)\n",
    "        self.staffnumber = staffnum\n",
    "\n",
    "    def GetEmployee(self):\n",
    "        return self.Name() + \", \" +  self.staffnumber\n",
    "\n",
    "x = Person(\"Marge\", \"Simpson\")\n",
    "y = Employee(\"Homer\", \"Simpson\", \"1007\")\n",
    "\n",
    "print(x.Name())\n",
    "print(y.GetEmployee())"
   ]
  },
  {
   "cell_type": "markdown",
   "metadata": {},
   "source": [
    "## Sobrecarga de operadores\n",
    "\n",
    "Considere los operadores +,* y las siguientes operaciones\n",
    "```python\n",
    "1 + 1 da 2\n",
    "2 * 3 da 6\n",
    "'note' + 'book' da 'notebook'\n",
    "'Note' * 3 da 'NoteNoteNote'\n",
    "```\n",
    "¿Cómo se hace para que un mismo operador tenga diferentes comportamientos? esto se hace mediante la sobrecarga de operadores. \n",
    "Ejemplo:"
   ]
  },
  {
   "cell_type": "code",
   "execution_count": 76,
   "metadata": {},
   "outputs": [
    {
     "name": "stdout",
     "output_type": "stream",
     "text": [
      "4\n",
      "5\n",
      "9\n",
      "254.46900494077323\n",
      "True\n",
      "True\n",
      "Radio = 9\n"
     ]
    },
    {
     "data": {
      "text/plain": [
       "<__main__.Circ at 0x7fd0bebaf8b0>"
      ]
     },
     "execution_count": 76,
     "metadata": {},
     "output_type": "execute_result"
    }
   ],
   "source": [
    "# https://thepythonguru.com/python-operator-overloading/\n",
    "# https://www.geeksforgeeks.org/operator-overloading-in-python/\n",
    "\n",
    "from numpy import pi\n",
    " \n",
    "class Circ:\n",
    "    def __init__(self, radio):\n",
    "        self.__radio = radio # note que __radio es diferente de radio\n",
    "    \n",
    "    # funciones definidas por el usuario:\n",
    "    def Radio(self):\n",
    "        return self.__radio\n",
    " \n",
    "    def area(self):\n",
    "        return pi * self.__radio ** 2\n",
    "\n",
    "    # estos métodos especiales hacen la sobrecarga de operadores:\n",
    "    def __add__(self, other):\n",
    "        return Circ( self.__radio + other.__radio )\n",
    " \n",
    "    def __gt__(self, other):\n",
    "        return self.__radio > other.__radio\n",
    " \n",
    "    def __lt__(self, other):\n",
    "        return self.__radio < other.__radio\n",
    " \n",
    "    def __str__(self):\n",
    "        return \"Radio = \" + str(self.__radio)\n",
    " \n",
    "c1 = Circ(4)\n",
    "print(c1.Radio())\n",
    " \n",
    "c2 = Circ(5)\n",
    "print(c2.Radio())\n",
    " \n",
    "c3 = c1 + c2    # esto es posible gracias al método __add__ \n",
    "\n",
    "print(c3.Radio())\n",
    "print(c3.area())\n",
    "print(c3 > c2)  # esto es posible gracias al método __gt__ \n",
    "print(c1 < c2)  # esto es posible gracias al método __lt__ \n",
    "print(c3)       # esto es posible gracias al método __str__\n",
    "c3"
   ]
  },
  {
   "cell_type": "code",
   "execution_count": 77,
   "metadata": {},
   "outputs": [],
   "source": [
    "# https://stackoverflow.com/questions/9455111/define-a-method-outside-of-class-definition\n",
    "# We can define a function outside of a class and then use it in the class body as a method:\n",
    "\n",
    "def func(self):\n",
    "    print(\"func\")\n",
    "\n",
    "class MyClass:\n",
    "    myMethod = func\n",
    "\n",
    "# We can also add a function to a class after it has been defined:\n",
    "\n",
    "class MyClass:\n",
    "    pass\n",
    "\n",
    "def func(self):\n",
    "    print(\"func\")\n",
    "\n",
    "MyClass.myMethod = func"
   ]
  },
  {
   "cell_type": "markdown",
   "metadata": {},
   "source": [
    "# Apendice\n",
    "## Escribir y salvar información de celdas a archivos python\n",
    "Los comandos mágicos de `ipython`,\n",
    "```python\n",
    "%%writefile myfile.py\n",
    "%%file myfile.py\n",
    "```\n",
    "permiten crear un archivo con la información de la celda.\n",
    "Si se ejecuta el comando una segunda vez, este sobreescribe el archivo por lo que se pierde la información escrita en la primera ejecución, pero si lo que se desea es adicionar información al archivo (de otra celda por ejemplo), se debe usar la opción `-a`, que agrega la información al final del archivo, \n",
    "```python\n",
    "%%writefile -a myfile.py\n",
    "```\n",
    "Ejemplo:"
   ]
  },
  {
   "cell_type": "code",
   "execution_count": 78,
   "metadata": {},
   "outputs": [],
   "source": [
    "%matplotlib inline"
   ]
  },
  {
   "cell_type": "code",
   "execution_count": 79,
   "metadata": {
    "scrolled": true
   },
   "outputs": [
    {
     "name": "stdout",
     "output_type": "stream",
     "text": [
      "Writing plot_basico.py\n"
     ]
    }
   ],
   "source": [
    "%%file plot_basico.py\n",
    "# Comandos mínimos necesitados para hacer un gráfico\n",
    "import numpy as np\n",
    "import matplotlib.pyplot as plt"
   ]
  },
  {
   "cell_type": "code",
   "execution_count": 80,
   "metadata": {},
   "outputs": [
    {
     "name": "stdout",
     "output_type": "stream",
     "text": [
      "Appending to plot_basico.py\n"
     ]
    }
   ],
   "source": [
    "%%file -a plot_basico.py\n",
    "\n",
    "x = np.arange(0, 3 * np.pi, 0.1)# crear array con valores de x\n",
    "y = np.sin(x)              # crear array con valores de y\n",
    "z = np.cos(x)              # crear array con valores de z\n",
    "\n",
    "# Plot usando matplotlib\n",
    "plt.plot(x, y)\n",
    "plt.plot(x, z)\n",
    "\n",
    "plt.xlabel('x')            # nombre eje x\n",
    "plt.ylabel('y')            # nombre eje y\n",
    "plt.title('Seno y Coseno') # título\n",
    "plt.legend(['Sen', 'Cos']) # legenda de cada gráfico\n",
    "\n",
    "plt.show()"
   ]
  },
  {
   "cell_type": "code",
   "execution_count": 81,
   "metadata": {},
   "outputs": [
    {
     "data": {
      "image/png": "[encoded data removed]",
      "text/plain": [
       "<Figure size 432x288 with 1 Axes>"
      ]
     },
     "metadata": {
      "needs_background": "light"
     },
     "output_type": "display_data"
    },
    {
     "data": {
      "text/plain": [
       "<Figure size 432x288 with 0 Axes>"
      ]
     },
     "metadata": {},
     "output_type": "display_data"
    }
   ],
   "source": [
    "# ejecutar el archivo:\n",
    "%run plot_basico.py\n",
    "# borrar el archivo:\n",
    "%rm plot_basico.py"
   ]
  },
  {
   "cell_type": "markdown",
   "metadata": {},
   "source": [
    "## Datos de entrada en funciones genéricas: args y kwards\n",
    "La forma más general de pasar argumentos a una función genérica es mediante el uso de args y kwards, esto permite pasar argumentos sin la limitación de tener que conocer cuantos valores o cuales valores usar. La forma más general de pasar argumentos a una función dada es mediante el uso de `*args` y `**kwargs` que significan el paso de un tupla/lista y un diccionario (note que args y kwards no son palabras reservadas pero son una convención muy usada para definir argumentos de funciones genéricas), por ejemplo considere la función,  \n",
    "```python\n",
    "def f(*a, **b): \n",
    "    print(a,b)\n",
    "\n",
    "# llamemos la función:    \n",
    "f()          # muestra (){} \n",
    "# pero \n",
    "f(1,2, c=12) # muestra (1,2),{'c'=12}\n",
    "```\n",
    "es decir `a=(1,2)` es una tupla y `b={'c'=12}` es un diccionario. \n",
    "También se usa en clases, por ejemplo,\n",
    "```python\n",
    "class MiClase(ClasePadreFoo):\n",
    " \n",
    "    def __init__(self, *args, **kwargs):         \n",
    "        print('mi Función')\n",
    "        super(MiClase, self).__init__(*args, **kwargs) # inicializar clase padre.\n",
    "```\n",
    "Este es el método muy usado en matplotlib en funciones como `plot(*args, **kwards)`.\n",
    "\n",
    "Ejemplos:"
   ]
  },
  {
   "cell_type": "code",
   "execution_count": 82,
   "metadata": {},
   "outputs": [
    {
     "name": "stdout",
     "output_type": "stream",
     "text": [
      "() {}\n",
      "(1, 2) {'c': 12, 'var': 'hola'}\n"
     ]
    },
    {
     "data": {
      "text/plain": [
       "(None, None)"
      ]
     },
     "execution_count": 82,
     "metadata": {},
     "output_type": "execute_result"
    }
   ],
   "source": [
    "def f(*a, **b): \n",
    "    print(a,b)\n",
    "\n",
    "f(),  f(1,2,c=12,var='hola')    "
   ]
  },
  {
   "cell_type": "code",
   "execution_count": 83,
   "metadata": {},
   "outputs": [
    {
     "data": {
      "text/plain": [
       "(6, 6)"
      ]
     },
     "execution_count": 83,
     "metadata": {},
     "output_type": "execute_result"
    }
   ],
   "source": [
    "def f(x,y,z): \n",
    "    return x+y+z\n",
    "    \n",
    "x = (1,2,3)                                                                                  \n",
    "f(*x), f(1,2,3)    # compare                                                                                          "
   ]
  },
  {
   "cell_type": "code",
   "execution_count": 84,
   "metadata": {},
   "outputs": [
    {
     "data": {
      "text/plain": [
       "(11, 11)"
      ]
     },
     "execution_count": 84,
     "metadata": {},
     "output_type": "execute_result"
    }
   ],
   "source": [
    "def f1(x,y, w=1, z=2): \n",
    "    return x*y*z + w \n",
    "                                                                                           \n",
    "x = (1,2,3,4)                                                                                \n",
    "f1(*x), f1(1,2,3,4)# compare                                                                                    "
   ]
  },
  {
   "cell_type": "code",
   "execution_count": 85,
   "metadata": {},
   "outputs": [
    {
     "data": {
      "text/plain": [
       "11"
      ]
     },
     "execution_count": 85,
     "metadata": {},
     "output_type": "execute_result"
    }
   ],
   "source": [
    "x = [1,2]          # también puede ser lista,\n",
    "y = {'w':3,'z':4}  # o diccionario con variables predefinidas                                                             \n",
    "\n",
    "f1(*x,**y)                                                                                  "
   ]
  },
  {
   "cell_type": "code",
   "execution_count": 86,
   "metadata": {},
   "outputs": [
    {
     "data": {
      "text/plain": [
       "<matplotlib.legend.Legend at 0x7fd0c07b5fa0>"
      ]
     },
     "execution_count": 86,
     "metadata": {},
     "output_type": "execute_result"
    },
    {
     "data": {
      "image/png": "[encoded data removed]",
      "text/plain": [
       "<Figure size 432x288 with 1 Axes>"
      ]
     },
     "metadata": {
      "needs_background": "light"
     },
     "output_type": "display_data"
    }
   ],
   "source": [
    "import matplotlib.pyplot as plt\n",
    "# la linea: plot([1,2,3],[1,2,3],'go-',label='line',linewidth=2) \n",
    "# es remplazada por:\n",
    "\n",
    "args = ([1,2,3],[1,2,3],'go-')\n",
    "kwards = {'label':'line','linewidth':2}\n",
    "\n",
    "plt.plot(*args, **kwards)\n",
    "plt.legend()"
   ]
  },
  {
   "cell_type": "markdown",
   "metadata": {},
   "source": [
    "## Paso de argumentos a la función main()\n",
    "Para pasar argumentos a la funcion `main()` desde el teclado se requiere la librería `sys`,\n",
    "```python\n",
    "import sys \n",
    "\n",
    "def main():    \n",
    "    for arg in sys.argv[1:]:\n",
    "    #... hacer algo\n",
    "```\n",
    "y cuando se ejecuta el programa en la terminal,\n",
    "```bash\n",
    "$] python my_programa.py 1,2 c=12, atom=5\n",
    "```\n",
    "este tomará los datos como argumentos de entrada y luego se usan en el programa, los argumentos se almacenan en la lista `sys.argv` donde el primer argumento es el nombre del archivo. Es importante enfatizar que los argumentos se leen con `sys.argv` que los almacena como un lista de strings por lo que si los argumentos dados son números habrá que transformarlos primero a flotantes o enteros, por ejemplo, puede usar `eval(arg)` o `int(arg)` o `float(arg)` o si el argumento es un string como `c=12` puede usar `split('=')`, etc. En el siguiente ejemplo se crea un script, se guarda en el disco duro y luego se ejecuta dandole argumentos:"
   ]
  },
  {
   "cell_type": "code",
   "execution_count": 87,
   "metadata": {},
   "outputs": [
    {
     "name": "stdout",
     "output_type": "stream",
     "text": [
      "Overwriting Args_main.py\n"
     ]
    }
   ],
   "source": [
    "%%file Args_main.py\n",
    "\n",
    "import sys \n",
    "\n",
    "def main():\n",
    "    print(\"Argumentos leidos: \", sys.argv)# mostrar lista de argumentos \n",
    "    for arg in sys.argv[1:]:\n",
    "        print(arg) # mostrar argumentos uno a uno (y excluir nombre de archivo)\n",
    "        # o hacer algo más con los argumentos\n",
    "    \n",
    "if __name__ == \"__main__\":\n",
    "    main()"
   ]
  },
  {
   "cell_type": "code",
   "execution_count": 88,
   "metadata": {},
   "outputs": [
    {
     "name": "stdout",
     "output_type": "stream",
     "text": [
      "Argumentos leidos:  ['Args_main.py', 'hola', '1', '2', 'c=12']\n",
      "hola\n",
      "1\n",
      "2\n",
      "c=12\n"
     ]
    },
    {
     "data": {
      "text/plain": [
       "<Figure size 432x288 with 0 Axes>"
      ]
     },
     "metadata": {},
     "output_type": "display_data"
    }
   ],
   "source": [
    "# ejecutar el archivo:\n",
    "%run Args_main.py \"hola\" 1 2 c=12\n",
    "# %run Args_main.py < 1 2 \"hello\" [3,4] # alternativa: por redirección (pipe)"
   ]
  },
  {
   "cell_type": "markdown",
   "metadata": {},
   "source": [
    "## Uso de la función main\n",
    "En el script anterior se ve el uso de `__name__ == \"__main__\"` en el programa principal,\n",
    "¿por qué usar `__name__ == \"__main__\"` al escribir un script en python? porque es considerado una buena práctica de programación en python (esto solo tiene sentido si se hacen scripts, no si es una celda Jupyter), para una mejor explicación \n",
    "ver [link](https://realpython.com/python-main-function/)."
   ]
  },
  {
   "cell_type": "code",
   "execution_count": 89,
   "metadata": {},
   "outputs": [
    {
     "name": "stdout",
     "output_type": "stream",
     "text": [
      "Hola mundo\n"
     ]
    }
   ],
   "source": [
    "def main():\n",
    "    print(\"Hola mundo\")\n",
    "    # hacer algo más ...\n",
    "    \n",
    "# estas dos lineas van al final del programa    \n",
    "if __name__ == \"__main__\": \n",
    "    main()"
   ]
  },
  {
   "cell_type": "markdown",
   "metadata": {},
   "source": [
    "## Método eval()\n",
    "Según el manual: \"*Evalúe la fuente dada en el contexto de globales y locales*\", es decir, `eval()` se usa \n",
    "para evaluar cadenas de texto que pueden contener expresiones o distintos tipos de estructuras de datos que pueden utilizarse con Python, tales como listas, tuplas, diccionarios y otros objetos que admiten asignación.\n",
    "Ejemplos:"
   ]
  },
  {
   "cell_type": "code",
   "execution_count": 90,
   "metadata": {},
   "outputs": [
    {
     "data": {
      "text/plain": [
       "(10, 5, 81)"
      ]
     },
     "execution_count": 90,
     "metadata": {},
     "output_type": "execute_result"
    }
   ],
   "source": [
    "x=10\n",
    "eval('x'), eval('5'), eval('(4+5)**2')"
   ]
  },
  {
   "cell_type": "code",
   "execution_count": 91,
   "metadata": {},
   "outputs": [
    {
     "data": {
      "text/plain": [
       "<function matplotlib.pyplot.plot(*args, scalex=True, scaley=True, data=None, **kwargs)>"
      ]
     },
     "execution_count": 91,
     "metadata": {},
     "output_type": "execute_result"
    }
   ],
   "source": [
    "eval('plt.plot') # Note que el argumento es un string y lo comvierte en la función plot."
   ]
  },
  {
   "cell_type": "code",
   "execution_count": 92,
   "metadata": {},
   "outputs": [
    {
     "data": {
      "text/plain": [
       "(array([3., 0., 0., 0., 0., 5., 0., 0., 0., 2.]),\n",
       " array([1. , 1.2, 1.4, 1.6, 1.8, 2. , 2.2, 2.4, 2.6, 2.8, 3. ]),\n",
       " <BarContainer object of 10 artists>)"
      ]
     },
     "execution_count": 92,
     "metadata": {},
     "output_type": "execute_result"
    },
    {
     "data": {
      "image/png": "[encoded data removed]",
      "text/plain": [
       "<Figure size 432x288 with 1 Axes>"
      ]
     },
     "metadata": {
      "needs_background": "light"
     },
     "output_type": "display_data"
    }
   ],
   "source": [
    "def plotting(var):\n",
    "   ''' Crear función generica para graficar, el estilo puede ser:\n",
    "             'hist', 'plot', 'scatter', etc \n",
    "   ''' \n",
    "   return eval('plt.' + var)\n",
    "\n",
    "style = 'hist'\n",
    "PPlot = plotting(style)\n",
    "\n",
    "PPlot([1,1,1,2,2,2,2,2,3,3])"
   ]
  },
  {
   "cell_type": "markdown",
   "metadata": {},
   "source": [
    "## Decoradores de funciones\n",
    "Los decoradores son una herramienta de python y permiten reducir las líneas de código duplicadas, hacer el código más legible y fácil de testear y de mantener. Los decoradores envuelven una función en otra función que devuelve una función, se implementan como `@Nombre_Funcion_decorador` antes de una función a decorar, en general la sintaxis es,\n",
    "```python\n",
    "@decorar\n",
    "def foo(a):\n",
    "    print(a)\n",
    "```    \n",
    "esto es equivalente a hacer el código sin decorador,\n",
    "```python    \n",
    "def bar(a):\n",
    "    print(a)\n",
    "\n",
    "foo = decorar(bar)\n",
    "```\n",
    "donde `decorar(func)` es una función definida previamente que resive como argumento a la función a decorar, es decir, `decorar(func)` toma una función `func()`y le agrega alguna funcionalidad y la devuelve. Note también que a una variable se le puede asignar una función y esta variable será por tanto otra función (es decir las funciones son objetos en python). \n",
    "Los decoradores a veces toman parámetros que se pasan a las funciones generadas dinámicamente para alterar su salida. \n",
    "  Ver más en:\n",
    "[link 1](https://codigofacilito.com/articulos/decoradores-python)\n",
    "[link 2](https://www.geeksforgeeks.org/decorators-in-python/), \n",
    "[link 3](https://www.programiz.com/python-programming/decorator),\n",
    "[link 4](https://stackoverflow.com/questions/12046883/python-decorator-can-someone-please-explain-this).   \n",
    "Así por ejemplo si se define un decorador por la función, \n",
    "```python\n",
    "def decorador(f):\n",
    "    f()\n",
    "    print('Función decorada')\n",
    "```\n",
    "entonces se puede hacer:"
   ]
  },
  {
   "cell_type": "code",
   "execution_count": 93,
   "metadata": {},
   "outputs": [
    {
     "name": "stdout",
     "output_type": "stream",
     "text": [
      "Hola\n",
      "Función decorada\n"
     ]
    }
   ],
   "source": [
    "# Sin decorador\n",
    "def decorador(f):\n",
    "    f()\n",
    "    print('Función decorada') # funcionalidad agregada por decorador\n",
    "    \n",
    "def MiFuncion(): \n",
    "    print(\"Hola\")\n",
    "    \n",
    "decorador(MiFuncion)  # función sin decoración  "
   ]
  },
  {
   "cell_type": "code",
   "execution_count": 94,
   "metadata": {},
   "outputs": [
    {
     "name": "stdout",
     "output_type": "stream",
     "text": [
      "Hola\n",
      "Función decorada\n"
     ]
    }
   ],
   "source": [
    "# Con decorador\n",
    "@decorador\n",
    "def MiFuncion():      # función con decoración (puede ser qualquier función) \n",
    "    print(\"Hola\") "
   ]
  },
  {
   "cell_type": "markdown",
   "metadata": {},
   "source": [
    "En el siguiente ejemplo se crea un decorador que calcula el tiempo que tarda una función en ser ejecutada: "
   ]
  },
  {
   "cell_type": "code",
   "execution_count": 95,
   "metadata": {},
   "outputs": [
    {
     "name": "stdout",
     "output_type": "stream",
     "text": [
      "3628800\n",
      "Tiempo total función factorial 2.000929117202759\n"
     ]
    }
   ],
   "source": [
    "import numpy as np\n",
    "import time\n",
    "    \n",
    "# ----- Crear función decorador\n",
    "def calcular_tiempo(func):  \n",
    "    '''Calcular tiempo de ejecución de una función'''\n",
    "    def tiempos(*args, **kwargs):  \n",
    "    \n",
    "        begin = time.time() \n",
    "        func(*args, **kwargs) # Usar función genérica (ver explicación prevía de args, kwargs).  \n",
    "        end = time.time()  \n",
    "        print(\"Tiempo total función\", func.__name__, end - begin)  \n",
    "\n",
    "    return tiempos  \n",
    "\n",
    "\n",
    "#---- Usar decorador --------\n",
    "@calcular_tiempo \n",
    "def factorial(num):  \n",
    "    time.sleep(2)  \n",
    "    print(np.math.factorial(num))  \n",
    "\n",
    "    \n",
    "# Llamar función decorada:  \n",
    "factorial(10)               "
   ]
  },
  {
   "cell_type": "markdown",
   "metadata": {},
   "source": [
    "## Diferencia entre los operadores de python \"==\" y \"is\"\n",
    "El operador \"==\" compara los valores de los operandos y verifica su igualdad mientras el operador \"is\" verifica si ambos operandos se refieren al mismo objeto o no (recordar que en programación un solo \"=\" es asignación, que en matemáticas se expresa como \":=\"). Para más ver este [link](https://www.geeksforgeeks.org/difference-operator-python/).\n",
    "<!---\n",
    "#### Difference between \"==\" and \"is\" operator in Python\n",
    "The == operator compares the values of both the operands and checks for value equality. Whereas \"is\" operator checks whether both the operands refer to the same object or not.\n",
    "[see](https://www.geeksforgeeks.org/difference-operator-python/)\n",
    "--->"
   ]
  },
  {
   "cell_type": "code",
   "execution_count": 96,
   "metadata": {},
   "outputs": [
    {
     "name": "stdout",
     "output_type": "stream",
     "text": [
      "Verdadero 1\n",
      "Falso 2\n",
      "Verdadero 3\n",
      "Falso 4\n"
     ]
    }
   ],
   "source": [
    "# Comparar diferencia entre \"==\" y \"is\"\n",
    "l1 = [] \n",
    "l2 = [] \n",
    "l3 = l1 \n",
    "  \n",
    "if (l1 == l2): print(\"Verdadero 1\") \n",
    "else:          print(\"Falso 1\") \n",
    "\n",
    "if (l1 is l2): print(\"Verdadero 2\")  \n",
    "else:          print(\"Falso 2\") \n",
    "\n",
    "if (l1 is l3): print(\"Verdadero 3\") \n",
    "else:          print(\"False 3\") \n",
    "\n",
    "l3 = l3 + l2 \n",
    "  \n",
    "if (l1 is l3): print(\"Verdadero 4\") \n",
    "else:          print(\"Falso 4\") "
   ]
  },
  {
   "cell_type": "markdown",
   "metadata": {},
   "source": [
    "## Operador Walrus\n",
    "Desde la versión de `python 3.8` se introduce otra forma de asignar variables dentro de una expresión, `:=`, este operador se conoce como [operador Walrus](https://docs.python.org/3/whatsnew/3.8.html#assignment-expressions) (Morsa), se puede usar dentro de `if`, `elif`, `while`, `listas`, `arrays`, etc, veamos como se usa:"
   ]
  },
  {
   "cell_type": "code",
   "execution_count": 97,
   "metadata": {},
   "outputs": [
    {
     "name": "stdout",
     "output_type": "stream",
     "text": [
      "Ejem 1, hola\n",
      "Ejem 1, hola otra vez\n",
      "Ejem 2, 7\n",
      "Ejem 2, True\n",
      "Ejem 3, walrus con while:\n",
      "Ejem 4\n",
      " [array([0, 2, 4, 6, 8]), array([ 0,  4, 16, 36, 64]), array([  0,   8,  64, 216, 512])]\n",
      "Ejem 5\n",
      " [0, 0, 2, 2]\n"
     ]
    }
   ],
   "source": [
    "import sys\n",
    "# Verificar primero que la version de python es 3.8 o superior\n",
    "if sys.version_info.major == 3 and sys.version_info.minor >= 8:\n",
    "\n",
    "    # Ejem 1, Permite definir n dentro del condicional\n",
    "    if (n:=2>1):print(\"Ejem 1, hola\")\n",
    "        \n",
    "    x=[1,2,3,4,5]\n",
    "    if (n:=len(x)>1):print(\"Ejem 1, hola otra vez\")\n",
    "    \n",
    "    # Ejem 2, Los parentesis son importantes, comparemos:\n",
    "    if (suma := 2 + 5)>1: print(\"Ejem 2,\", suma) # da 7, \n",
    "    if  suma := 2 + 5 >1: print(\"Ejem 2,\", suma) # da True, porque \">1\" es incluido y vuelve a sum lógica.\n",
    "            \n",
    "    # Ejem 3, Ejecutar bucle mientras un número aleatorio n generado en [0,10] es menor que 8:\n",
    "    print (\"Ejem 3, walrus con while:\")\n",
    "    while (n:=np.random.randint(0,10))<8: print(n)\n",
    "        \n",
    "    # Ejem 4, Reusar un valor costoso de calcular \"y\" con la función \"f(x)\"\n",
    "    x = np.arange(5)\n",
    "    f = lambda x: 2*x\n",
    "    print(\"Ejem 4\\n\", [y := f(x), y**2, y**3]) # crea matriz de 3 filas: y, y^2, y^3    \n",
    "\n",
    "    # Ejem 5, Compartir una subexpresión con una cláusula de filtro de comprensión y su salida\n",
    "    data = [False, False, True,1]\n",
    "    D = [y for x in data if (y := f(x)) is not None]\n",
    "    print(\"Ejem 5\\n\",D) # da [0, 0, 2, 2]\n",
    "    \n",
    "else:\n",
    "    \"No puede usar Walrus, instale python 3.8 o superior.\""
   ]
  },
  {
   "cell_type": "markdown",
   "metadata": {},
   "source": [
    "## Manipulación de strings\n",
    "Hay varias formas de entrar datos numéricos (o strings) a un string:\n",
    "```python\n",
    "string%(valor1,valor2)            # Formato 1\n",
    "f'string {valor1} {valor2}... '   # Formato 2\n",
    "string.format(valor1, valor2...)  # Formato 3\n",
    "```\n",
    "los valores (`valor1`,`valor2`, etc), se pueden definir con formato. Para *formato 1*, hay varias maneras de definir el formato: `%g` es el formato por defecto, que es útil en caso que no conoscamos el tipo de variable (logica, strig, entero o flotante), `%d` para valores tipo enteros, `%f` para flotantes y `%s` para strings, por ejemplo\n",
    "```python\n",
    "\"valor entero %4d\"%(n)      # Formato tipo entero con 4 espacios.\n",
    "\"valor flotante %10.3f\"%(x) # Formato tipo  float con 10 espacios y 3 numeros despues del punto.\n",
    "\"nombre %d\"%(s)             # Formato tipo strings.\n",
    "\"valor desconocido  %g\"%(x) # Formato general (x puede ser: logica, strig, entero o flotante).\n",
    "```\n",
    "Para el *formato 2* se debe poner \"f\" antes del string y el formato del valor es por defecto, para el *formato 3* se usa por defecto `{}` o también `{val}`, \n",
    "[hay muchas formas](https://www.w3schools.com/python/ref_string_format.asp) para definir `val`, algunas comunes son, \n",
    "```python\n",
    ":c   # Convierte el valor en el carácter Unicode correspondiente.\n",
    ":d   # Formato decimal.\n",
    ":e   # Formato científico, con e minúscula.\n",
    ":E   # Formato científico, con mayúscula E.\n",
    ":f   # Formato de número de punto fijo.\n",
    ":F   # Formato de número de punto fijo, en mayúsculas (muestre inf y nan como INF y NAN).\n",
    ":g   # Formato general.\n",
    ":G   # Formato general (usando una E mayúscula para notaciones científicas).\n",
    ":o   # Formato octal.\n",
    ":x   # Formato hexadecimal, minúsculas.\n",
    ":X   # Formato hexadecimal, mayúsculas.\n",
    ":n   # Formato numérico.\n",
    ":%   # Formato de porcentaje.\n",
    ":<   # Alinear a la izquierda.\n",
    ":>   # Alinear a la derecha.\n",
    ":^   # Alinear al centro.\n",
    ":=   # Coloca el letrero en la posición más a la izquierda.\n",
    ":+   # Usar un signo más para indicar si el resultado es positivo o negativo.\n",
    ":-   # Utilice un signo menos solo para valores negativos.\n",
    ":    # Usar espacio para insertar un espacio adicional antes de los números positivos (y un signo menos antes de los números negativos).\n",
    ":,   # Usar una coma como separador de miles.\n",
    ":_   # Utilizar un guión bajo como separador de miles.\n",
    ":b   # Formato binario.\n",
    "```\n",
    "Veamos algunos ejemplos:"
   ]
  },
  {
   "cell_type": "code",
   "execution_count": 98,
   "metadata": {},
   "outputs": [
    {
     "name": "stdout",
     "output_type": "stream",
     "text": [
      "valor pi=3.14159\n",
      "valor pi=3.142\n",
      "valor pi=3.141592653589793\n",
      "valor pi=3.141592653589793\n",
      "valor pi=3.14\n"
     ]
    }
   ],
   "source": [
    "x=np.pi # Valor a ingresar dentro del string\n",
    "print( 'valor pi=%g'%(x))    # Forma 1, formato libre. \n",
    "print( 'valor pi=%5.3f'%(x)) # Forma 2, formato tipo flotante.\n",
    "print(f'valor pi={x}')       # Forma 3, formato actual de x.  \n",
    "print( 'valor pi={}'.format(x)) \n",
    "print( 'valor pi={:.2f}'.format(x)) # solo imprime 2 sifras despues del punto."
   ]
  },
  {
   "cell_type": "code",
   "execution_count": 99,
   "metadata": {},
   "outputs": [
    {
     "data": {
      "text/plain": [
       "('Nombre: John, edad 20', 'Nombre: María, edad 21', 'Nombre: Jorge, edad 22')"
      ]
     },
     "execution_count": 99,
     "metadata": {},
     "output_type": "execute_result"
    }
   ],
   "source": [
    "# Tres formas equivalentes de usar format:\n",
    "s1 = \"Nombre: {fname}, edad {age}\".format(fname = \"John\", age = 20)\n",
    "s2 = \"Nombre: {0}, edad {1}\".format(\"María\",21)\n",
    "s3 = \"Nombre: {}, edad {}\".format(\"Jorge\",22) \n",
    "\n",
    "s1,s2,s3"
   ]
  },
  {
   "cell_type": "markdown",
   "metadata": {},
   "source": [
    "### Formato para strings con ecuaciones en matplotlib\n",
    "Algunas veces queremos que el string tenga ecuaciones, por ejemplo para definir los ejes de los gráficos en `matplotlib` entonces se pone una `r` antes del string, osea,\n",
    "```python\n",
    "r'string'\n",
    "```\n",
    "veamos:"
   ]
  },
  {
   "cell_type": "code",
   "execution_count": 100,
   "metadata": {
    "scrolled": true
   },
   "outputs": [
    {
     "data": {
      "text/plain": [
       "Text(0.5, 1.0, '$A\\\\exp(-r/\\\\rho) - 1/r^6$')"
      ]
     },
     "execution_count": 100,
     "metadata": {},
     "output_type": "execute_result"
    },
    {
     "data": {
      "image/png": "[encoded data removed]",
      "text/plain": [
       "<Figure size 432x288 with 1 Axes>"
      ]
     },
     "metadata": {
      "needs_background": "light"
     },
     "output_type": "display_data"
    }
   ],
   "source": [
    "figure()\n",
    "title(r'$A\\exp(-r/\\rho) - 1/r^6$')"
   ]
  },
  {
   "cell_type": "markdown",
   "metadata": {},
   "source": [
    "## Métodos subplots,  subplot y axes\n",
    "Estos métodos nos permiten hacer en una misma figura diferentes plots, cada uno con sus respectivos gráficos, a continuación su explicación y respectivo ejemplo.\n",
    "\n",
    "El método `matplotlib.pyplot.subplots()` es útil para crear una figura con un conjunto de plots, la sintaxis es,\n",
    "```python\n",
    "fig, ax = subplots(nrows=1, ncols=1, sharex=False, sharey=False, squeeze=True,\n",
    "             subplot_kw=None, gridspec_kw=None, **fig_kw)\n",
    "```\n",
    "donde `fig` se refiere a la figura y es útil para por ejemplo salvar la figura,\n",
    "```python\n",
    " fig.savefig('Figura.png')\n",
    "```\n",
    "y `ax` se refiere a los subplots dentro de la figura, es un array de dimensión dos `(nrows, ncols)` y cada elemento se refiere a un plot (hay `nrows*ncols` plots), así este se puede usar por ejemplo como,\n",
    "```python\n",
    "f, ax = plt.subplots(1, 2)         # Método 1\n",
    "ax[0].plot(x, y1)\n",
    "ax[0].set_title('Mi figura 1')\n",
    "ax[1].plot(x, y2)\n",
    "```\n",
    "Si son varios plots puestos en forma matricial se debe usar `ax[nrows, ncols]`. También se puede hacer:\n",
    "```python\n",
    "f, (ax1, ax2) = plt.subplots(1, 2) # Método 2\n",
    "ax1.plot(x, y1)\n",
    "ax1.set_title('Mi figura 1')\n",
    "ax2.plot(x, y2)\n",
    "```\n",
    "que crea dos plots, uno junto al otro. Para más ver este [link](https://stackoverflow.com/questions/34162443/why-do-many-examples-use-fig-ax-plt-subplots-in-matplotlib-pyplot-python), o también ver el manual (en ipython Jupyter escribir `plt.subplots??`).\n",
    "\n",
    "Con subplots se debe poner `set_metodo` en vez de `metodo`, por ejemplo `set_title()`, `set_xlim()`, `set_xlabel()`, `set_xticks()` etc.\n",
    "\n",
    "Ejemplo: "
   ]
  },
  {
   "cell_type": "code",
   "execution_count": 101,
   "metadata": {},
   "outputs": [
    {
     "data": {
      "text/plain": [
       "[<matplotlib.lines.Line2D at 0x7fd0be48b550>]"
      ]
     },
     "execution_count": 101,
     "metadata": {},
     "output_type": "execute_result"
    },
    {
     "data": {
      "image/png": "[encoded data removed]",
      "text/plain": [
       "<Figure size 700x240 with 2 Axes>"
      ]
     },
     "metadata": {
      "needs_background": "light"
     },
     "output_type": "display_data"
    }
   ],
   "source": [
    "import matplotlib.pyplot as plt\n",
    "import numpy as np\n",
    "\n",
    "# 1) hacer dos plots \n",
    "x=y=np.arange(10)\n",
    "# figsize cambia tamaño de la figura, mientras dpi cambia todo (incluidas letras).\n",
    "f, ax = plt.subplots(1, 2, figsize=(14, 4.8),dpi=50)    # 1 filas 2 colunnas (2 plots)\n",
    "#plt.rcParams.update({'font.size': 14}) # cambiar tamaño de fuentes de letras.\n",
    "ax[0].plot(x,y)\n",
    "ax[1].plot(x,-y)"
   ]
  },
  {
   "cell_type": "code",
   "execution_count": 102,
   "metadata": {},
   "outputs": [
    {
     "data": {
      "text/plain": [
       "[<matplotlib.lines.Line2D at 0x7fd0c0d5b550>]"
      ]
     },
     "execution_count": 102,
     "metadata": {},
     "output_type": "execute_result"
    },
    {
     "data": {
      "image/png": "[encoded data removed]",
      "text/plain": [
       "<Figure size 700x720 with 6 Axes>"
      ]
     },
     "metadata": {
      "needs_background": "light"
     },
     "output_type": "display_data"
    }
   ],
   "source": [
    "# 2) hacer seis plots\n",
    "f, ax = plt.subplots(3, 2, figsize=(14, 4.8*3),dpi=50) # 3 filas 2 colunnas (6 plots)\n",
    "ax[0,0].plot(x,y)\n",
    "ax[0,1].plot(x,-y)\n",
    "ax[1,0].plot(x,y)\n",
    "ax[1,1].plot(x,-y)\n",
    "ax[2,0].plot(x,y)\n",
    "ax[2,1].plot(x,-y)"
   ]
  },
  {
   "cell_type": "markdown",
   "metadata": {},
   "source": [
    "El método `matplotlib.pyplot.subplot()` es similar a `subplots`, su sintaxis es, \n",
    "```python\n",
    "subplot(fila,columna,posición)\n",
    "```\n",
    "por ejemplo,\n",
    "```python\n",
    "plt.subplot(234)\n",
    "ax1 = plt.subplot(2, 3, 4) # equivalente pero más general.\n",
    "```\n",
    "donde `subplot(234)`  es una rejilla de 2$\\times$3, y el 4 se refiere al cuarto subplot, es decir hay que hacer un subplot por cada figura.\n",
    "Ejemplo:"
   ]
  },
  {
   "cell_type": "code",
   "execution_count": 103,
   "metadata": {},
   "outputs": [
    {
     "data": {
      "text/plain": [
       "Text(0.5, 0, 'x')"
      ]
     },
     "execution_count": 103,
     "metadata": {},
     "output_type": "execute_result"
    },
    {
     "data": {
      "image/png": "[encoded data removed]",
      "text/plain": [
       "<Figure size 432x288 with 2 Axes>"
      ]
     },
     "metadata": {
      "needs_background": "light"
     },
     "output_type": "display_data"
    }
   ],
   "source": [
    "plt.subplot(121) #(211)\n",
    "plt.title(\"plot 1\")\n",
    "plt.plot(x, y)\n",
    "\n",
    "plt.subplot(122) #(211)\n",
    "plt.title(\"plot 2\")\n",
    "plt.plot(x, -y)\n",
    "plt.xlabel(\"x\")"
   ]
  },
  {
   "cell_type": "markdown",
   "metadata": {},
   "source": [
    "El método `plt.axes()` añade un conjunto de ejes en la figura actual y fija el nuevo conjunto de ejes como actual (es decir, lo marca como \"activo\"). Si no existe una figura, la crea y la marca como actual, formato es,\n",
    "```python\n",
    "plt.axes([x,y,ancho,altura])\n",
    "```\n",
    "donde `x,y`, son al posición. Esto se puede usar para agregar un plot embebido dentro de otro, ejemplo:"
   ]
  },
  {
   "cell_type": "code",
   "execution_count": 104,
   "metadata": {},
   "outputs": [
    {
     "data": {
      "text/plain": [
       "([], [])"
      ]
     },
     "execution_count": 104,
     "metadata": {},
     "output_type": "execute_result"
    },
    {
     "data": {
      "image/png": "[encoded data removed]",
      "text/plain": [
       "<Figure size 432x288 with 2 Axes>"
      ]
     },
     "metadata": {
      "needs_background": "light"
     },
     "output_type": "display_data"
    }
   ],
   "source": [
    "import matplotlib.pyplot as plt\n",
    "import numpy as np\n",
    "\n",
    "# Datos\n",
    "x = np.linspace(0, 2*np.pi, 1000)\n",
    "y = np.sin(x)\n",
    "\n",
    "#---------- Figura principal -----------\n",
    "plt.plot(x, y)\n",
    "plt.xlabel('t (s)')\n",
    "plt.ylabel('f (nA)')\n",
    "\n",
    "# -------- subplot embebido ------------\n",
    "a = plt.axes([0.55, 0.5, .3, .3],)# facecolor='y') # Construir rectangulo [x, y, ancho, alto]\n",
    "plt.plot(x, y)\n",
    "#plt.xlim(0, 0.2)\n",
    "plt.xticks([])\n",
    "plt.yticks([])"
   ]
  },
  {
   "cell_type": "markdown",
   "metadata": {},
   "source": [
    "Ejemplo: Hacer zoom de una porción del plot (ver [link](https://scipython.com/blog/inset-plots-in-matplotlib/)):"
   ]
  },
  {
   "cell_type": "code",
   "execution_count": 105,
   "metadata": {},
   "outputs": [
    {
     "data": {
      "image/png": "[encoded data removed]",
      "text/plain": [
       "<Figure size 432x288 with 2 Axes>"
      ]
     },
     "metadata": {
      "needs_background": "light"
     },
     "output_type": "display_data"
    }
   ],
   "source": [
    "import numpy as np\n",
    "import matplotlib.pyplot as plt\n",
    "from mpl_toolkits.axes_grid1.inset_locator import (inset_axes, InsetPosition,\n",
    "                                                  mark_inset)\n",
    "# datos\n",
    "# np.loadtxt('datos.txt', unpack=True)\n",
    "x = np.linspace(0, 2*np.pi, 1000)\n",
    "y = np.sin(x)\n",
    "\n",
    "# ---- *** Figura principal *** ---------\n",
    "fig, ax1 = plt.subplots()\n",
    "\n",
    "ax1.plot(x, y, label='sen(x)')\n",
    "ax1.set_xlabel('x') \n",
    "ax1.set_ylabel('y')\n",
    "ax1.legend(loc=2)\n",
    "\n",
    "# Definir rangos en ejes x y y para ax1 de figura principal:\n",
    "#ax1.set_xlim(0,2*pi)                          # (min,max), step calculado por defecto.\n",
    "ax1.set_ylim(-1,2)                             # (min,max), step calculado por defecto.\n",
    "#ax1.set_yticks(np.arange(-1,2,0.2))           # (min,max,step) o para eliminar eje y poner []\n",
    "\n",
    "\n",
    "# ---- *** Figura embebida *** ---------\n",
    "ax2 = plt.axes([0,0,.1,1])                     # Construir rectangulo [izquierda, abajo, ancho, alto]\n",
    "\n",
    "# Establecer la posición y el tamaño relativo de los ejes insertados dentro de ax1.\n",
    "ip  = InsetPosition(ax1, [0.5,0.47,0.45,0.45]) # Posiciones esquina inferior isquierda x, y,  \n",
    "ax2.set_axes_locator(ip)                       # ancho y alto de los ejes insertados, \n",
    "                                               # en unidades de la coordenada normalizada \n",
    "                                               # de los ejes principales.\n",
    "\n",
    "mark_inset(ax1, ax2, loc1=2, loc2=4, fc=\"none\", ec='0.5') # Bincular ejes ax1 y ax2:\n",
    "\n",
    "# Aquí hacemos el plot embebido, solo considerar datos tales que x < 0.4:\n",
    "ax2.plot(x[x<.4],y[x<.4],label=r'sen(x)$\\approx$x') # zoom de porción de figura.\n",
    "ax2.legend(loc=0)\n",
    "\n",
    "# Definir rangos en ejes x y y para ax2 figura embebida:\n",
    "ax2.set_yticks(np.arange(0,0.5,0.2))           # [min,max,step] o para eliminar eje y poner []\n",
    "ax2.set_xticks([])#(np.arange(0,.12,.02))      # [min,max,step] o para eliminar eje x poner []\n",
    "ax2.set_xticklabels(ax2.get_xticks(), backgroundcolor='w')\n",
    "ax2.tick_params(axis='x', which='major', pad=8)"
   ]
  },
  {
   "cell_type": "markdown",
   "metadata": {},
   "source": [
    "## Optimización de programas\n",
    "\n",
    "Para mostrar explicación detallada de cual parte del programa consume más tiempo, en la terminal bash ejecutar: \n",
    "```bash\n",
    "$] python -m cProfile -s time programa.py\n",
    "```\n",
    "\n",
    "[ver link](https://www.kdnuggets.com/2020/09/making-python-programs-blazingly-fast.html)"
   ]
  },
  {
   "cell_type": "markdown",
   "metadata": {
    "collapsed": true
   },
   "source": [
    "## Bibliografía\n",
    "Python Data Science Handbook: https://jakevdp.github.io/PythonDataScienceHandbook/index.html\n",
    "https://www.programiz.com/\n",
    "https://docs.python.org/3/tutorial/\n",
    "\n",
    "https://blog.teamtreehouse.com/operator-overloading-python\n",
    "\n",
    "https://thepythonguru.com/python-operator-overloading/\n",
    "\n",
    "https://realpython.com/operator-function-overloading/\n",
    "\n",
    "https://docs.python.org/2.0/ref/numeric-types.html\n",
    "\n",
    "https://medium.com/practo-engineering/function-overloading-in-python-94a8b10d\n",
    "\n",
    "https://www.w3schools.com/python/default.asp\n",
    "\n"
   ]
  },
  {
   "cell_type": "code",
   "execution_count": null,
   "metadata": {},
   "outputs": [],
   "source": []
  }
 ],
 "metadata": {
  "kernelspec": {
   "display_name": "Python 3",
   "language": "python",
   "name": "python3"
  },
  "language_info": {
   "codemirror_mode": {
    "name": "ipython",
    "version": 3
   },
   "file_extension": ".py",
   "mimetype": "text/x-python",
   "name": "python",
   "nbconvert_exporter": "python",
   "pygments_lexer": "ipython3",
   "version": "3.7.3"
  }
 },
 "nbformat": 4,
 "nbformat_minor": 2
}
