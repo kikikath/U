{
 "cells": [
  {
   "cell_type": "markdown",
   "id": "forward-syndicate",
   "metadata": {},
   "source": [
    "## Writing to csv using Pandas"
   ]
  },
  {
   "cell_type": "code",
   "execution_count": 1,
   "id": "hawaiian-paint",
   "metadata": {},
   "outputs": [],
   "source": [
    "import pandas as pd\n",
    "import numpy as np"
   ]
  },
  {
   "cell_type": "code",
   "execution_count": 2,
   "id": "irish-class",
   "metadata": {},
   "outputs": [],
   "source": [
    "# create arrays\n",
    "x = np.linspace(0,2*np.pi, 100)\n",
    "y = np.sin(x)**2\n",
    "yprime = 2* np.sin(x) * np.cos(x)\n",
    "\n",
    "# create dictionary of arrays \n",
    "dict = {'xvals': x, 'yvals': y, 'yprime': yprime} \n",
    "\n",
    "# convert to pandas dataframe\n",
    "df = pd.DataFrame(dict)\n",
    "  \n",
    "# saving the dataframe using \"to_csv\"\n",
    "df.to_csv('data.csv',index=False)"
   ]
  },
  {
   "cell_type": "markdown",
   "id": "retained-paintball",
   "metadata": {},
   "source": [
    "## Reading csv using Pandas"
   ]
  },
  {
   "cell_type": "code",
   "execution_count": 3,
   "id": "equal-reception",
   "metadata": {},
   "outputs": [
    {
     "data": {
      "text/html": [
       "<div>\n",
       "<style scoped>\n",
       "    .dataframe tbody tr th:only-of-type {\n",
       "        vertical-align: middle;\n",
       "    }\n",
       "\n",
       "    .dataframe tbody tr th {\n",
       "        vertical-align: top;\n",
       "    }\n",
       "\n",
       "    .dataframe thead th {\n",
       "        text-align: right;\n",
       "    }\n",
       "</style>\n",
       "<table border=\"1\" class=\"dataframe\">\n",
       "  <thead>\n",
       "    <tr style=\"text-align: right;\">\n",
       "      <th></th>\n",
       "      <th>xvals</th>\n",
       "      <th>yvals</th>\n",
       "      <th>yprime</th>\n",
       "    </tr>\n",
       "  </thead>\n",
       "  <tbody>\n",
       "    <tr>\n",
       "      <th>0</th>\n",
       "      <td>0.000000</td>\n",
       "      <td>0.000000</td>\n",
       "      <td>0.000000</td>\n",
       "    </tr>\n",
       "    <tr>\n",
       "      <th>1</th>\n",
       "      <td>0.063467</td>\n",
       "      <td>0.004023</td>\n",
       "      <td>0.126592</td>\n",
       "    </tr>\n",
       "    <tr>\n",
       "      <th>2</th>\n",
       "      <td>0.126933</td>\n",
       "      <td>0.016026</td>\n",
       "      <td>0.251148</td>\n",
       "    </tr>\n",
       "    <tr>\n",
       "      <th>3</th>\n",
       "      <td>0.190400</td>\n",
       "      <td>0.035816</td>\n",
       "      <td>0.371662</td>\n",
       "    </tr>\n",
       "    <tr>\n",
       "      <th>4</th>\n",
       "      <td>0.253866</td>\n",
       "      <td>0.063075</td>\n",
       "      <td>0.486197</td>\n",
       "    </tr>\n",
       "  </tbody>\n",
       "</table>\n",
       "</div>"
      ],
      "text/plain": [
       "      xvals     yvals    yprime\n",
       "0  0.000000  0.000000  0.000000\n",
       "1  0.063467  0.004023  0.126592\n",
       "2  0.126933  0.016026  0.251148\n",
       "3  0.190400  0.035816  0.371662\n",
       "4  0.253866  0.063075  0.486197"
      ]
     },
     "execution_count": 3,
     "metadata": {},
     "output_type": "execute_result"
    }
   ],
   "source": [
    "# reading data using \"read_csv\"\n",
    "df =pd.read_csv('data.csv',delimiter=',')\n",
    "df.head()"
   ]
  },
  {
   "cell_type": "code",
   "execution_count": 4,
   "id": "parallel-bracket",
   "metadata": {},
   "outputs": [],
   "source": [
    "# retrieving the arrays \n",
    "x=df['xvals']\n",
    "y=df['yvals']\n",
    "yprime=df['yprime']"
   ]
  },
  {
   "cell_type": "code",
   "execution_count": 5,
   "id": "cooked-surge",
   "metadata": {},
   "outputs": [
    {
     "data": {
      "text/plain": [
       "<matplotlib.legend.Legend at 0x7f4226474208>"
      ]
     },
     "execution_count": 5,
     "metadata": {},
     "output_type": "execute_result"
    },
    {
     "data": {
      "image/png": "[encoded data removed]",
      "text/plain": [
       "<Figure size 432x288 with 1 Axes>"
      ]
     },
     "metadata": {
      "needs_background": "light"
     },
     "output_type": "display_data"
    }
   ],
   "source": [
    "# plotting\n",
    "import matplotlib.pyplot as plt\n",
    "fig,ax=plt.subplots(1,1)\n",
    "ax.plot(x,y,label='y vs x', c='black')\n",
    "ax.scatter(x,yprime,label='yprime vs x',c='red')\n",
    "ax.set_xlabel('x')\n",
    "ax.set_ylabel('y')\n",
    "ax.legend()"
   ]
  },
  {
   "cell_type": "code",
   "execution_count": null,
   "id": "opened-fusion",
   "metadata": {},
   "outputs": [],
   "source": []
  }
 ],
 "metadata": {
  "kernelspec": {
   "display_name": "Python 3",
   "language": "python",
   "name": "python3"
  },
  "language_info": {
   "codemirror_mode": {
    "name": "ipython",
    "version": 3
   },
   "file_extension": ".py",
   "mimetype": "text/x-python",
   "name": "python",
   "nbconvert_exporter": "python",
   "pygments_lexer": "ipython3",
   "version": "3.8.8"
  }
 },
 "nbformat": 4,
 "nbformat_minor": 5
}
