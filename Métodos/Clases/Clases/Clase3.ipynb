{
 "cells": [
  {
   "cell_type": "markdown",
   "metadata": {
    "id": "l-Albz2IT3Ld"
   },
   "source": [
    "# Métodos Computacionales"
   ]
  },
  {
   "cell_type": "code",
   "execution_count": null,
   "metadata": {
    "id": "2hcTmq38T8Bf"
   },
   "outputs": [],
   "source": [
    ""
   ]
  },
  {
   "cell_type": "markdown",
   "metadata": {
    "id": "01Ef4fKvT3Ln"
   },
   "source": [
    "## Unidad 2: \n",
    "\n",
    "### Raíces de ecuaciones de una variable\n",
    "\n",
    "- Ecuaciones lineales y no lineales.\n",
    "- Método de bisección.\n",
    "- Método de punto fijo.\n",
    "- Método de Newton.\n",
    "- Método de la secante.\n",
    "\n"
   ]
  },
  {
   "cell_type": "markdown",
   "metadata": {
    "id": "2c1VY5VeT3Lo"
   },
   "source": [
    "## Introducción.\n",
    "\n",
    "Muchos problemas diferentes en física y astronomía requieren el uso de expresiones complejas, incluso con una dependencia implícita de las variables. Cuando es necesario resolver una de esas variables, un enfoque analítico no suele ser la mejor solución, debido a su complejidad o incluso porque no existe en absoluto. Diferentes enfoques para lidiar con esto comprenden expansiones de series y soluciones numéricas. Entre los enfoques numéricos más utilizados se encuentran el método de bisección o búsqueda binaria, la iteración de punto fijo, los métodos de Newton.\n"
   ]
  },
  {
   "cell_type": "markdown",
   "metadata": {
    "id": "LQ53qxWpT3Lp"
   },
   "source": [
    "Así el problema de hallar las raíces de una función consiste en:\n",
    "\n",
    "- Dada una función continua $f(x) \\in C[a,b]$ hallar los valores de x=r para los cuales se cumple:\n",
    "\n",
    "$$f(r)=0$$\n",
    "\n",
    "- El número x=r tal que se cumpla la f(r)=0 se conoce como la raíz de la ecuación f(x) o cero de la función f(x).\n",
    "\n",
    "- El problema de hallar las raíces de una ecuación es uno de los problemas más importantes computacionales."
   ]
  },
  {
   "cell_type": "markdown",
   "metadata": {
    "id": "EJDkKphVT3Lq"
   },
   "source": [
    "## Linealidad "
   ]
  },
  {
   "cell_type": "markdown",
   "metadata": {
    "id": "uxIzzLstT3Lq"
   },
   "source": [
    "Recordemos que un sistema o ecuación es lineal si satisface a las propiedades de aditividad:\n",
    "\n",
    "$$f(x+y)=f(x)+f(y)$$\n",
    "\n",
    "y homogeneidad \n",
    "\n",
    "$$f(ax)=af(x)$$\n",
    "\n",
    "y en caso contrario el sistema es **no lineal.**"
   ]
  },
  {
   "cell_type": "markdown",
   "metadata": {
    "id": "OvKbZSZgT3Lq"
   },
   "source": [
    "Dicho de otra forma, una ecuacion lineal es aquella que tiene la forma de un polinomio de primer grado, es decir las incognitas no estan elevadas a potencias ni multiplicadas entre sı. Ejemplo: $2x+3y=4$, $3x-5y+2z=1$\n",
    "\n",
    "Ejemplo de sistemas no lineales: $x^2+x-1=0$ o $x-sinx=0$\n",
    "\n",
    "En general si una función no es lineal es bastante complejo encontrar sus raices, de hecho Si f(x) es un polinomio de grado mayor que 4 o bien no es polinomica, no hay ninguna formula conocida de solucion. Además salvo pocas excepciones, no es posible hallar expresiones analíticas para hallar las raíces como el caso de la ecuación cuadrática.\n",
    "$$x=\\frac{-b±\\sqrt{b^2-4ac}}{2a}$$\n",
    "\n",
    "Por eso en muchos de los casos es necesario usar metodos numericos, los cuales siempre permiten dar soluciones, aunque con cierta aproximacion."
   ]
  },
  {
   "cell_type": "markdown",
   "metadata": {
    "id": "dBSXkWwrT3Lr"
   },
   "source": [
    "## Método  de bisección\n",
    "\n",
    "Es el metodo mas elemental y antiguo para determinar las raıces de una ecuacion, este se basa en el **Teorema de Bolzano o valor intermedio** https://es.wikipedia.org/wiki/Teorema_del_valor_intermedio cuyo algoritmo esta dado por:"
   ]
  },
  {
   "cell_type": "markdown",
   "metadata": {
    "id": "OiLifjSOT3Lr"
   },
   "source": [
    "<img align=\"center\" src=\"https://sites.google.com/site/ittgmetodosnumericos/_/rsrc/1334897944964/home/unidad-2-raices-de-ecuaciones/Imagen2.png?height=320&width=286\"  width=45% />\n"
   ]
  },
  {
   "cell_type": "markdown",
   "metadata": {
    "id": "1p7WnvdaT3Ls"
   },
   "source": [
    "**Algoritmo** \n",
    "\n",
    "1. Definir la función y el intervalo.\n",
    "2. A continuación se verifica que ${\\displaystyle f(a)\\cdot f(b)<0}$.\n",
    "3. Se calcula el punto medio ${\\displaystyle m}$ del intervalo ${\\displaystyle [a,b]}$ y se evalúa ${\\displaystyle f(m)}$ si ese valor es igual a cero, ya hemos encontrado la raíz buscada.\n",
    "4. En caso de que no lo sea, verificamos si ${\\displaystyle f(m)}$ tiene signo opuesto con ${\\displaystyle f(a)}$ o con ${\\displaystyle f(b)}$.\n",
    "5. Se redefine el intervalo ${\\displaystyle [a,b]}$ como ${\\displaystyle [a,m]}$ o ${\\displaystyle [m,b]}$ según se haya determinado en cuál de estos intervalos ocurre un cambio de signo\n",
    "6. Con este nuevo intervalo se continúa sucesivamente encerrando la solución en un intervalo cada vez más pequeño, hasta alcanzar la precisión deseada"
   ]
  },
  {
   "cell_type": "code",
   "execution_count": null,
   "metadata": {
    "id": "rBPRv9LkT3Ls"
   },
   "outputs": [],
   "source": [
    "import numpy as np\n",
    " \n",
    "\n",
    "def biseccion(f, a, b, tol):\n",
    "    \n",
    "    if a > b:\n",
    "        raise ValueError(\"Intervalo mal definido.\")\n",
    "    if tol <= 0:\n",
    "        raise ValueError(\"La cota de error debe ser un número positivo.\")\n",
    "        \n",
    "    x = (a + b) / 2.0\n",
    "    i=1\n",
    "    while True:\n",
    "        if b - a < tol:\n",
    "            i+=1\n",
    "            return(x,i)\n",
    "        # Utilizamos la función signo para evitar errores de precisión\n",
    "        elif np.sign(f(a)) * np.sign(f(x)) > 0: #+*- o -*+\n",
    "            i+=1 #para el contador\n",
    "            a = x\n",
    "        else:\n",
    "            i+=1\n",
    "            b = x\n",
    "        x = (a + b) / 2.0\n",
    "    return(x,i)"
   ]
  },
  {
   "cell_type": "code",
   "execution_count": null,
   "metadata": {
    "id": "g5rdbzkUT3Lt",
    "outputId": "b06a60c1-fd2b-4d56-8d47-953dcada7987"
   },
   "outputs": [
    {
     "data": {
      "text/plain": [
       "(-9.424777960870415, 34)"
      ]
     },
     "execution_count": 20,
     "metadata": {
      "tags": []
     },
     "output_type": "execute_result"
    }
   ],
   "source": [
    "tol=1.0e-9\n",
    "biseccion(np.sin, -10,-6,tol)"
   ]
  },
  {
   "cell_type": "markdown",
   "metadata": {
    "id": "DGYnnOm2T3Lu"
   },
   "source": [
    "Ejemplo\n",
    "\n",
    "Obtener la raíz de la siguiente función:\n",
    "$$f(x) = 2x^3 -8x-2$$\n"
   ]
  },
  {
   "cell_type": "code",
   "execution_count": null,
   "metadata": {
    "id": "4HGSR8ihT3Lu"
   },
   "outputs": [],
   "source": [
    "def pol_3(x):\n",
    "    return(2*x**3-8*x-2)"
   ]
  },
  {
   "cell_type": "code",
   "execution_count": null,
   "metadata": {
    "id": "dU2KPxWOT3Lv",
    "outputId": "a303dc13-3a0b-4291-b39b-aa30b86524fd"
   },
   "outputs": [
    {
     "data": {
      "text/plain": [
       "(-0.25410168850794435, 33)"
      ]
     },
     "execution_count": 22,
     "metadata": {
      "tags": []
     },
     "output_type": "execute_result"
    }
   ],
   "source": [
    "biseccion(pol_3,-1,1,tol)"
   ]
  },
  {
   "cell_type": "code",
   "execution_count": null,
   "metadata": {
    "id": "pQlNQt4tT3Lv",
    "outputId": "6b64923e-23d6-4671-8689-8257fd2a99a1"
   },
   "outputs": [
    {
     "data": {
      "text/plain": [
       "1.0877783118701245e-09"
      ]
     },
     "execution_count": 21,
     "metadata": {
      "tags": []
     },
     "output_type": "execute_result"
    }
   ],
   "source": [
    "pol_3(biseccion(pol_3,-1,1,tol)[0])  # Evaluamos el polinomio en la raiz"
   ]
  },
  {
   "cell_type": "markdown",
   "metadata": {
    "id": "Wl0EZjW1T3Lv"
   },
   "source": [
    "La bisección converge linealmente, por lo cual es un poco lento. Sin embargo, se garantiza la convergencia si ${\\displaystyle f(a)}$ y ${\\displaystyle f(b)}$ tienen distinto signo."
   ]
  },
  {
   "cell_type": "code",
   "execution_count": null,
   "metadata": {
    "id": "D_h-QqNqT3Lw",
    "outputId": "ac14cfdf-1d08-47ed-c1d1-2c1f62442eaf"
   },
   "outputs": [
    {
     "data": {
      "image/png": "[encoded data removed]",
      "text/plain": [
       "<Figure size 432x288 with 1 Axes>"
      ]
     },
     "metadata": {
      "needs_background": "light",
      "tags": []
     },
     "output_type": "display_data"
    }
   ],
   "source": [
    "import matplotlib.pylab as plt\n",
    "\n",
    "x1=np.linspace(-5,5,10)\n",
    "y1=pol_3(x1)\n",
    "plt.title('Método de bisección')\n",
    "plt.plot(x1,y1)\n",
    "plt.scatter(0,-0.2541016899049282, c='r')\n",
    "plt.hlines(0,-5,5,'g')  # liena horizontal\n",
    "plt.vlines(0,-200,200,'m') # linea vertical\n",
    "\n",
    "plt.show()"
   ]
  },
  {
   "cell_type": "markdown",
   "metadata": {
    "id": "wbg6Sn5fT3Lw"
   },
   "source": [
    "## Método de punto fijo\n",
    "\n",
    "Consiste en\n",
    "\n",
    "-Dada la función $f(x)$, se reordena para obtener expresión de $x$\n",
    "\n",
    "$$f(x)\\Leftrightarrow g(x)=x$$\n",
    "\n",
    "-Si se resuelve $g(x)$ se resuelve f(x)=0\n",
    "-Solución de $g(x)$ mediante\n",
    "\n",
    "$$x_{i+1}=g(x_{i})$$\n",
    "\n",
    "hasta que $x_{i+1}$ converge a $x_{i}$\n",
    "\n",
    "\n",
    "Ejemplo: Raíz de la función  $e^{-x}-x=0$\n",
    "\n",
    "\n",
    "\n",
    "\n",
    "$f(x)=x-\\exp(-x)$ \n",
    "\n",
    "$x=\\exp(-x)$\n",
    "\n",
    "$x_0=1$\n",
    "\n",
    "$x_1=g(x_0)$\n",
    "\n",
    "$x_2=g(x_1)$\n",
    "\n",
    "$x_{20}\\ldots (x_{20}) \\approx 0.5$\n",
    "\n",
    "**buscar g(x)** de la\n",
    "Función $f(x)=x^{2}-2x-3=0$\n",
    "Las raíces son $(x_{1}=3,x_{2}=-1)$\n",
    "\n",
    "Se puede reescribir de 3 formas\n",
    "\n",
    "1) $x^{2}=2x+3 \\Rightarrow , g(x)=\\sqrt{2x+3}$\n",
    "\n",
    "2)$x(x-2)-3=0, \\Rightarrow g(x)=\\frac{3}{x-2}$\n",
    "\n",
    "3) $ 2x=x^{2}-3, \\Rightarrow g(x)=\\frac{x^{2}-3}{2} $\n",
    "\n",
    "¿Cual de los esquemas es mejor?"
   ]
  },
  {
   "cell_type": "code",
   "execution_count": null,
   "metadata": {
    "id": "rEe3fyt2T3Lx"
   },
   "outputs": [],
   "source": [
    "def puntofijo(gx,a,tol):\n",
    "    i = 1 # iteración\n",
    "    b = gx(a)\n",
    "    tramo = abs(b-a)\n",
    "    while(tramo>=tol):\n",
    "        a = b\n",
    "        b = gx(a)\n",
    "        tramo = abs(b-a)\n",
    "        i = i + 1\n",
    "    respuesta = b\n",
    "    \n",
    "    return(respuesta,i)"
   ]
  },
  {
   "cell_type": "code",
   "execution_count": null,
   "metadata": {
    "id": "4cWykEOmT3Ly",
    "outputId": "7b943ef3-c80f-4aef-b71c-c9e4da2e4c37"
   },
   "outputs": [
    {
     "data": {
      "text/plain": [
       "(0.5671407814582979, 22)"
      ]
     },
     "execution_count": 58,
     "metadata": {
      "tags": []
     },
     "output_type": "execute_result"
    }
   ],
   "source": [
    "def f_x(x):\n",
    "    return(np.e**(-x)-x)\n",
    "def g_x(x):\n",
    "    return(np.e**(-x))\n",
    "\n",
    "a = 0       # intervalo\n",
    "tolera = 1e-5\n",
    "\n",
    "# PROCEDIMIENTO\n",
    "respuesta = puntofijo(g_x,a,tolera)\n",
    "respuesta"
   ]
  },
  {
   "cell_type": "code",
   "execution_count": null,
   "metadata": {
    "id": "oAyjpaVlT3Lz",
    "outputId": "2aec155b-e09b-4cd2-9239-a9c8f2859ff6"
   },
   "outputs": [
    {
     "name": "stdout",
     "output_type": "stream",
     "text": [
      "(2.999995383462856, 12) (-0.9999991636995423, 14) (-1.0, 2)\n"
     ]
    }
   ],
   "source": [
    "def g_x1(x):\n",
    "    return(np.sqrt(2*x+3))\n",
    "def g_x2(x):\n",
    "    return(3/(x-2))\n",
    "def g_x3(x):\n",
    "    return((x**2-3)/2)\n",
    "\n",
    "a = 1       # intervalo\n",
    "tolera = 1e-5\n",
    "r1 = puntofijo(g_x1,a,tolera)\n",
    "r2 = puntofijo(g_x2,a,tolera)\n",
    "r3 = puntofijo(g_x3,a,tolera)\n",
    "print(r1,r2,r3)"
   ]
  },
  {
   "cell_type": "markdown",
   "metadata": {
    "id": "kC-iil_uT3Lz"
   },
   "source": [
    "## Método de Newton\n",
    "\n",
    "El método de Newton o método de Newton-Raphson linealiza la función a cada paso utilizando su derivada, que se debe proporcionar como argumento, para hallar la raíz de la ecuación en las proximidades de un punto inicial $x_{0}$. Este método puede no converger, pero si el punto inicial está lo suficientemente próximo a la raíz, la convergencia será muy rápida.\n",
    "\n",
    "- El método de recursión de Newton es muy efectivo y simple de\n",
    "implementar.\n",
    "-Pertenece a los métodos abiertos.\n",
    "-Conocido también como Newton-Rapson.\n",
    "-La función debe ser derivable en el intervalo que interesa-\n",
    "-Partiendo de un valor tentativo de la raíz, se va mejorando\n",
    "recursivamente aproximando el siguiente valor de la raíz como la\n",
    "intersección con el eje de $x$ la linea tangente en el punto anterior de $x$.\n",
    "-Consiste en elegir adecuadamente un valor de prueba $x_{0}$ de tal manera que $f(x_{0})$ sea no muy grande.\n",
    "-La tangente en el punto $x=x_{0}$ es $f^{'}(x_{0})$, y dela ecuación de la linea tangete que pasa por los puntos $(x_{0},f(x_{0}))$ y $(x_{1},f(x_{1})=0)$ se obtiene la siguiente aproximación\n",
    "\n",
    "\n",
    "$$x_{1}=x_{0}- \\frac{f(x_{0})}{f^{'}(x_{0})}$$\n",
    "\n",
    "-Este procedimiento se repite recursivamente hasta lograr la tolerancia especificada.\n",
    "\n",
    "$$x_{n+1}=x_{n}-\\frac{f(x_{n})}{f^{'}(x_{n})}$$\n",
    "\n",
    "Cuando la primera prueba $x_{0}$ es bastante cercana al valor verdadero, los valores sucesivos $x_{n}$ son cada vez más cercanos y tienden a un valor fijo.\n",
    "\n",
    "\n",
    "\n",
    "<img align=\"center\" src=\"https://qph.fs.quoracdn.net/main-qimg-b3ff8a5f14c4a4e7525533518dbcd7f0.webp\"  width=60% />"
   ]
  },
  {
   "cell_type": "code",
   "execution_count": null,
   "metadata": {
    "id": "WbJjWXnrT3L0"
   },
   "outputs": [],
   "source": [
    "def newton(f, df, x_0, maxiter=50, xtol=1.0e-6, ftol=1.0e-6):\n",
    "    \n",
    "    x = float(x_0)\n",
    "    for i in range(maxiter):\n",
    "        dx = -f(x) / df(x) # ¡Aquí se puede producir una división por cero!\n",
    "        # También x puede haber quedado fuera del dominio\n",
    "        x = x + dx\n",
    "        if abs(dx / x) < xtol and abs(f(x)) < ftol:   #x=x1+dx ->1=x1/x+dx/x\n",
    "            return x"
   ]
  },
  {
   "cell_type": "markdown",
   "metadata": {
    "id": "bT03NYoxT3L0"
   },
   "source": [
    "- El método garantiza como mínimo convergencia cuadrática.\n",
    "- Necesidad de calcular la derivada, complicaciones.\n",
    "- El punto de partida tiene que ser muy cercano a la raíz buscada.\n",
    "- Caso contrario puede no se podría la raíz.\n",
    "\n",
    "Encuentre la raiz de la función usada en punto fijo"
   ]
  },
  {
   "cell_type": "markdown",
   "metadata": {
    "id": "lmeqlMaBT3L1"
   },
   "source": [
    "## Método de la Secante\n",
    "\n",
    "El método de Newton-Raphson es altamente eficiente ya que la convergencia se acelera, sin embargo, existe una debilidad: es necesario conocer de antemano la derivada de la función. Este aspecto puede ser complicado cuando se trata de funciones numéricas o incluso funciones analíticas muy complicadas. Se pueden aplicar métodos numéricos para derivar la función de entrada, pero este procedimiento adicional puede implicar un tiempo de computación adicional que compensa el tiempo empleado mediante el uso de otros métodos como la bisección.\n",
    "\n",
    "Retomando la expresión iterativa obtenida del método Newton-Raphson:\n",
    "\n",
    "$$p_{n+1} = p_n - \\frac{f(p_n)}{f'(p_{n+1})}$$\n",
    "\n",
    "La derivada puede ser aproximada como\n",
    "\n",
    "$$f'(p_n) = \\lim_{x\\rightarrow p_n} \\frac{f(x)-f(p_n)}{x-p_n} $$\n",
    "\n",
    "Como sabemos, la convergencia del método NR es cuadrática, por lo que $ p_ {n-1} $ debe estar lo suficientemente cerca de $ p_n $ para que se pueda suponer $ p_ {n-1} \\rightarrow p_n $ y el término anterior es:\n",
    "\n",
    "$$f'(p_n) \\approx \\frac{f(p_{n})-f(p_{n-1})}{p_{n}-p_{n-1}} $$\n",
    "\n",
    "La expresión final para la iteración $ n $ -th de la raíz es entonces:\n",
    "\n",
    "$$x_{n+1}=x_{n}-\\frac{x_{n}-x_{n+1}}{f(x_{n})-f(x_{n-1})}f(x_{n}) $$\n",
    "\n",
    "En esto consiste el método Secante, que es solo una aproximación al método Newton-Raphson, pero sin el término derivado. Además como se puede ver, este método necesitará dos aproximaciones iniciales de la raíz para poder inducir una pendiente inicial."
   ]
  },
  {
   "cell_type": "code",
   "execution_count": null,
   "metadata": {
    "id": "fA0sLZnrT3L1"
   },
   "outputs": [],
   "source": [
    "def secant(f, x0, x1, eps):\n",
    "    import sys\n",
    "    global x\n",
    "    f_x0 = f(x0)\n",
    "    f_x1 = f(x1)\n",
    "    iteration_counter = 0\n",
    "    while abs(f_x1) > eps and iteration_counter < 50:\n",
    "        try:\n",
    "            denominator = float(f_x1 - f_x0)/(x1 - x0)\n",
    "            x = x1 - float(f_x1)/denominator\n",
    "        except ZeroDivisionError:\n",
    "            print(\"Error! - 0 en el denominador para x = \", x)\n",
    "            sys.exit(1)     # Abort with error\n",
    "        x0 = x1\n",
    "        x1 = x\n",
    "        f_x0 = f_x1\n",
    "        f_x1 = f(x1)\n",
    "        iteration_counter += 1\n",
    "    # Here, either a solution is found, or too many iterations\n",
    "    if abs(f_x1) > eps:\n",
    "        iteration_counter = -1\n",
    "    return x, iteration_counter"
   ]
  },
  {
   "cell_type": "code",
   "execution_count": null,
   "metadata": {
    "id": "tCemSAchT3L2"
   },
   "outputs": [],
   "source": [
    "def f(x):\n",
    "    return np.sin(x**2) - x**3 - 1"
   ]
  },
  {
   "cell_type": "code",
   "execution_count": null,
   "metadata": {
    "id": "7pHZybn6T3L3",
    "outputId": "7efb5151-e7da-425e-cf22-8284be3236ad"
   },
   "outputs": [
    {
     "data": {
      "text/plain": [
       "(-0.7649722604105283, 12)"
      ]
     },
     "execution_count": 82,
     "metadata": {
      "tags": []
     },
     "output_type": "execute_result"
    }
   ],
   "source": [
    "secant(f,-1,0.5,1e-8)"
   ]
  },
  {
   "cell_type": "markdown",
   "metadata": {
    "id": "NFr5kjOET3L3"
   },
   "source": [
    "## REFERENCIAS.\n",
    "[1] [\"Método de Bisección\"](https://es.wikipedia.org/wiki/Método_de_bisección)\n",
    "\n",
    "[2] [\"Punto fijo\"](http://blog.espol.edu.ec/analisisnumerico/2-4-1-punto-fijo-ejemplo01/)\n",
    "\n",
    "[3] [\"Método de Newton\"](https://en.wikipedia.org/wiki/Newton%27s_method)"
   ]
  },
  {
   "cell_type": "code",
   "execution_count": null,
   "metadata": {
    "id": "J4AqJ0f5T3L3",
    "outputId": "4a78cfd1-c7fe-4d08-b4cf-bb2e949b0050"
   },
   "outputs": [
    {
     "name": "stdout",
     "output_type": "stream",
     "text": [
      "Variable x is not defined\n"
     ]
    }
   ],
   "source": [
    "try:\n",
    "    print(y)\n",
    "except NameError:\n",
    "    print(\"Variable x is not defined\")"
   ]
  },
  {
   "cell_type": "code",
   "execution_count": null,
   "metadata": {
    "id": "-S9BUDDyT3L3"
   },
   "outputs": [],
   "source": [
    ""
   ]
  }
 ],
 "metadata": {
  "colab": {
   "name": "Clase3.ipynb",
   "provenance": []
  },
  "kernelspec": {
   "display_name": "Python 3",
   "language": "python",
   "name": "python3"
  },
  "language_info": {
   "codemirror_mode": {
    "name": "ipython",
    "version": 3
   },
   "file_extension": ".py",
   "mimetype": "text/x-python",
   "name": "python",
   "nbconvert_exporter": "python",
   "pygments_lexer": "ipython3",
   "version": "3.7.3"
  }
 },
 "nbformat": 4,
 "nbformat_minor": 0
}
