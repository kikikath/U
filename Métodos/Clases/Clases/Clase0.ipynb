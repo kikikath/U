{
 "cells": [
  {
   "cell_type": "markdown",
   "metadata": {},
   "source": [
    "# Métodos Computacionales"
   ]
  },
  {
   "cell_type": "markdown",
   "metadata": {},
   "source": [
    "## Unidad 1: \n",
    "\n",
    "- Repaso breve del Python\n",
    "- Estructura básica de un programa en Python.\n",
    "- Operaciones aritméticas con reales y complejos."
   ]
  },
  {
   "cell_type": "markdown",
   "metadata": {},
   "source": [
    "##  Tipos de variables en python: \n",
    "\n",
    "Lenguaje Interpretado \n"
   ]
  },
  {
   "cell_type": "code",
   "execution_count": 1,
   "metadata": {},
   "outputs": [],
   "source": [
    "#Asignación de variables. \n",
    "x =  20  #Entero \n",
    "y =  3.0   #punto flotante\n",
    "v = 3    #Entero \n",
    "z0 = 300000000000000000000000 #Entero \n",
    "z1 = 3e10   #Flotante\n",
    "f = \"Hello World \" #String\n",
    "h = \"Python\"        #String\n",
    "z = 1+9j  \n"
   ]
  },
  {
   "cell_type": "code",
   "execution_count": 2,
   "metadata": {},
   "outputs": [
    {
     "data": {
      "text/plain": [
       "0.6666666666666666"
      ]
     },
     "execution_count": 2,
     "metadata": {},
     "output_type": "execute_result"
    }
   ],
   "source": [
    "x=2\n",
    "y=3\n",
    "v=x/y\n",
    "v"
   ]
  },
  {
   "cell_type": "code",
   "execution_count": 3,
   "metadata": {},
   "outputs": [
    {
     "name": "stdout",
     "output_type": "stream",
     "text": [
      "Hello World Python\n"
     ]
    }
   ],
   "source": [
    "a = f + h  \n",
    "print (a)"
   ]
  },
  {
   "cell_type": "code",
   "execution_count": 4,
   "metadata": {
    "scrolled": true
   },
   "outputs": [
    {
     "name": "stdout",
     "output_type": "stream",
     "text": [
      "x es de tipo <class 'int'> x = 2\n",
      "y es de tipo <class 'int'> y = 3\n",
      "v es de tipo <class 'int'> v = 0.6666666666666666\n",
      "z0 es de tipo <class 'int'> z0 = 300000000000000000000000\n",
      "z1 es de tipo <class 'float'> z1 = 30000000000.0\n",
      "f es de tipo <class 'str'> f = Hello World \n",
      "h es de tipo <class 'str'> h = Python\n"
     ]
    }
   ],
   "source": [
    "#mostrando las variables y el tipo de variable\n",
    "print(\"x es de tipo\", type(x),  \"x =\", x)\n",
    "print(\"y es de tipo\", type(y),  \"y =\", y)\n",
    "print(\"v es de tipo\", type(z0), \"v =\", v)\n",
    "print(\"z0 es de tipo\", type(z0), \"z0 =\", z0)\n",
    "print(\"z1 es de tipo\", type(z1), \"z1 =\", z1)\n",
    "print(\"f es de tipo\", type(f),  \"f =\", f)\n",
    "print(\"h es de tipo\", type(h),  \"h =\", h)\n"
   ]
  },
  {
   "cell_type": "markdown",
   "metadata": {},
   "source": [
    "## Tipos de operaciones\n",
    "- ### Operadores aritméticos\n",
    "\n",
    "Operadores  | Descripcion | Ejemplo\n",
    "-- | -- | --\n",
    "+ | Suma | R = 4 + 4 = 8\n",
    "- | Resta | R = 7-4  = 3\n",
    "- | Negacion| R = - 4  = -4\n",
    "* | Multiplicacion |  R =  4*4=16\n",
    "** | Exponente | R = 2**3 = 8  \n",
    "/ | Division | R = 4/2 = 2\n",
    "% | Modulo | R = 10 % 4 = 2 \n",
    "// | Division entera | 10.5/2 = 5\n",
    "\n",
    "\n"
   ]
  },
  {
   "cell_type": "code",
   "execution_count": 4,
   "metadata": {},
   "outputs": [
    {
     "name": "stdout",
     "output_type": "stream",
     "text": [
      "x/y =  0.6666666666666666\n",
      "x/v =  3.0\n"
     ]
    }
   ],
   "source": [
    "#Division entre tipos de variables\n",
    "#En la version de python3.0, se puede realizar la división.\n",
    "print(\"x/y = \", x / y ) , #En python 3 no hay problema con la división, en otro lenguaje puede generar problemas. \n",
    "print(\"x/v = \", x // v ) "
   ]
  },
  {
   "cell_type": "code",
   "execution_count": 5,
   "metadata": {},
   "outputs": [
    {
     "name": "stdout",
     "output_type": "stream",
     "text": [
      "Z es un número complejo <class 'complex'>\n",
      "(1-9j)\n",
      "1.0\n",
      "9.0\n"
     ]
    }
   ],
   "source": [
    "# Numeros complejos \n",
    "print(\"Z es un número complejo\", type(z))\n",
    "print(z.conjugate())\n",
    "print(z.real)\n",
    "print(z.imag)"
   ]
  },
  {
   "cell_type": "code",
   "execution_count": 5,
   "metadata": {},
   "outputs": [
    {
     "name": "stdout",
     "output_type": "stream",
     "text": [
      "División entera 5.0\n",
      "División usual  5.25\n",
      "Modulo 0.0\n"
     ]
    }
   ],
   "source": [
    "#Division entera\n",
    "r1 = 10.8 // 2\n",
    "r2 = 10.5 / 2\n",
    "r3 = 10.% 2\n",
    "print(\"División entera\", r1)\n",
    "print(\"División usual \", r2)\n",
    "print(\"Modulo\",   r3)"
   ]
  },
  {
   "cell_type": "markdown",
   "metadata": {},
   "source": [
    "- Operadores a nivel de bit\n",
    "\n",
    "\n",
    "Operadores  | Descripcion              | Ejemplo\n",
    "----------- | -----------              | -------\n",
    "&           | and                      | R = 3 & 2 , R= 2\n",
    "\\|           | or                       | R = 3 \\| 2 , R = 3\n",
    "^           | xor                      | R = 3^2  , R=1\n",
    "~           | not                      |  R =  ~3, R=-4\n",
    "<<          | desplazamiento izquierda | R = 3<<1, R  = 6  \n",
    ">>          | desplazamiento derecha   | R = 3>>1 , R = 1\n",
    "\n",
    "\n"
   ]
  },
  {
   "cell_type": "markdown",
   "metadata": {},
   "source": [
    "- Operadores Boolenanos\n",
    "\n",
    "Operadores  | Descripcion | Ejemplo\n",
    "----------- | ----------- | --------\n",
    "and | ¿Se cumple a y b?   | R = True and False # R = False\n",
    "or  | ¿Se cumple a o b?   | R = True and False # R = True\n",
    "not | No a                | R = Not  True      # R = False\n",
    "\n",
    "\n",
    "\n"
   ]
  },
  {
   "cell_type": "markdown",
   "metadata": {},
   "source": [
    "- Valores booleanos\n",
    "\n",
    "Operadores  | Descripcion               | Ejemplo\n",
    "----------- | -----------               | -------\n",
    "==          | ¿a es igual a b?          | R = 7 == 3 , R = False\n",
    "!=          | ¿a es diferente de b?     | R = 5 != 3 , R = True\n",
    "<           | ¿a es menor que b?        | R = 3 < 2  , R = False\n",
    ">           | ¿a es mayor o igual que b? |  R = 3 > 2  , R = True\n",
    "<=          | ¿a es menor o igual que b ? | R = 3 <= 2  , R = False\n",
    ">=          | ¿a es mayor o igual que b ?| R = 3 >= 3  , R = True\n",
    "\n",
    "\n",
    "\n"
   ]
  },
  {
   "cell_type": "code",
   "execution_count": 5,
   "metadata": {},
   "outputs": [
    {
     "name": "stdout",
     "output_type": "stream",
     "text": [
      "True False False\n"
     ]
    }
   ],
   "source": [
    "a = True\n",
    "b = False\n",
    "print(a or b, a & b, not a)"
   ]
  },
  {
   "cell_type": "code",
   "execution_count": 6,
   "metadata": {},
   "outputs": [
    {
     "name": "stdout",
     "output_type": "stream",
     "text": [
      "1 2 4 0 -5 3 3 0\n"
     ]
    }
   ],
   "source": [
    "a = 1\n",
    "b = 2\n",
    "r1 = (a << b) \n",
    "r2 = (a >> b) \n",
    "r3 = ~r1\n",
    "r4 = (a ^ b)\n",
    "r5 = (a | b)\n",
    "r6 = (a & b)\n",
    "print(a,b,r1, r2, r3, r4, r5, r6)\n",
    "\n",
    "## ¿Porqué estos valores?. \n"
   ]
  },
  {
   "cell_type": "markdown",
   "metadata": {},
   "source": [
    "a = 0011 1100\n",
    "\n",
    "b = 0000 1101\n",
    "\n",
    "-----------------\n",
    "\n",
    "a & b = 0000 1100\n",
    "\n",
    "a | b = 0011 1101\n",
    "\n",
    "a ^ b = 0011 0001\n",
    "\n",
    "~ a = 1100 0011"
   ]
  },
  {
   "cell_type": "markdown",
   "metadata": {},
   "source": [
    "# Listas"
   ]
  },
  {
   "cell_type": "code",
   "execution_count": 8,
   "metadata": {},
   "outputs": [
    {
     "name": "stdout",
     "output_type": "stream",
     "text": [
      "<class 'list'>\n"
     ]
    },
    {
     "data": {
      "text/plain": [
       "[5]"
      ]
     },
     "execution_count": 8,
     "metadata": {},
     "output_type": "execute_result"
    }
   ],
   "source": [
    "#Definir una lista entre []\n",
    "a = [3, 4, 4, 5, 6, 9, 10, \"hello\", \"world\", [2, 34, 5], 20 ]\n",
    "print(type(a)) #Tipo de variable\n",
    "n = len(a)  #Elementos de a\n",
    "\n",
    "#Crear una lista vacia \n",
    "b = []\n",
    "b.append(5)\n",
    "b"
   ]
  },
  {
   "cell_type": "code",
   "execution_count": 10,
   "metadata": {},
   "outputs": [
    {
     "name": "stdout",
     "output_type": "stream",
     "text": [
      "Indice:  0 ---------> Elemento 3\n",
      "Indice:  1 ---------> Elemento 4\n",
      "Indice:  2 ---------> Elemento 4\n",
      "Indice:  3 ---------> Elemento 5\n",
      "Indice:  4 ---------> Elemento 6\n",
      "Indice:  5 ---------> Elemento 9\n",
      "Indice:  6 ---------> Elemento 10\n",
      "Indice:  7 ---------> Elemento hello\n",
      "Indice:  8 ---------> Elemento world\n",
      "Indice:  9 ---------> Elemento [2, 34, 5]\n",
      "Indice:  10 ---------> Elemento 20\n"
     ]
    }
   ],
   "source": [
    "for i in range(0, len(a)):\n",
    "    print(\"Indice: \", i,\"---------> Elemento\", a[i])"
   ]
  },
  {
   "cell_type": "markdown",
   "metadata": {},
   "source": [
    "## Recorrido de listas"
   ]
  },
  {
   "cell_type": "code",
   "execution_count": 11,
   "metadata": {},
   "outputs": [
    {
     "name": "stdout",
     "output_type": "stream",
     "text": [
      "3\n",
      "20\n",
      "[2, 34, 5]\n"
     ]
    }
   ],
   "source": [
    "print(a[0]) #Primer elementos de la lista\n",
    "print(a[-1]) #ultimo elementos de la lista\n",
    "print(a[-2]) #penultimo elemtnos de la lista"
   ]
  },
  {
   "cell_type": "code",
   "execution_count": 12,
   "metadata": {},
   "outputs": [
    {
     "data": {
      "text/plain": [
       "[3, 4, 4, 5, 6, 9, 10, 'hello', 'world', [2, 34, 5], 20]"
      ]
     },
     "execution_count": 12,
     "metadata": {},
     "output_type": "execute_result"
    }
   ],
   "source": [
    "a[0:] #Mostrar elementos del 0 en adelante"
   ]
  },
  {
   "cell_type": "code",
   "execution_count": 13,
   "metadata": {},
   "outputs": [
    {
     "data": {
      "text/plain": [
       "[4, 5, 6]"
      ]
     },
     "execution_count": 13,
     "metadata": {},
     "output_type": "execute_result"
    }
   ],
   "source": [
    "a[2:5] #Mostrar los elementos en el intervalo de 2 al 4"
   ]
  },
  {
   "cell_type": "code",
   "execution_count": 58,
   "metadata": {},
   "outputs": [
    {
     "data": {
      "text/plain": [
       "[3, 4, 4, 5, 6, 9, 10, 'hola', 'world', [2, 34, 5], 20]"
      ]
     },
     "execution_count": 58,
     "metadata": {},
     "output_type": "execute_result"
    }
   ],
   "source": [
    "a[7]=\"hola\"\n",
    "a"
   ]
  },
  {
   "cell_type": "code",
   "execution_count": 10,
   "metadata": {},
   "outputs": [
    {
     "data": {
      "text/plain": [
       "[3, 4, 4, 10, 6, 9, 10, 'hello', 'world', [2, 34, 5], 20, 'holi', 'holi']"
      ]
     },
     "execution_count": 10,
     "metadata": {},
     "output_type": "execute_result"
    }
   ],
   "source": [
    "a.append('holi')\n",
    "a[3]=10\n",
    "a"
   ]
  },
  {
   "cell_type": "markdown",
   "metadata": {},
   "source": [
    "## Tuplas\n",
    "las tuplas son más “ligeras” que las listas, por lo que si el uso que le vamos a dar a una colección es muy básico, puedes utilizar tuplas en lugar de listas y ahorrar memoria"
   ]
  },
  {
   "cell_type": "code",
   "execution_count": 12,
   "metadata": {},
   "outputs": [],
   "source": [
    "tupla = 1, 2, False, \"hello\"  \n",
    "lista = [1, 2, False, \"hello\"]  "
   ]
  },
  {
   "cell_type": "code",
   "execution_count": 16,
   "metadata": {},
   "outputs": [
    {
     "name": "stdout",
     "output_type": "stream",
     "text": [
      "False\n",
      "False\n"
     ]
    }
   ],
   "source": [
    "print(tupla[2])\n",
    "print(lista[2])"
   ]
  },
  {
   "cell_type": "code",
   "execution_count": 17,
   "metadata": {},
   "outputs": [
    {
     "name": "stdout",
     "output_type": "stream",
     "text": [
      "[True, 2, False, 'hello']\n"
     ]
    }
   ],
   "source": [
    "lista[0] = True\n",
    "print(lista)"
   ]
  },
  {
   "cell_type": "markdown",
   "metadata": {},
   "source": [
    "¿Qué sucede si se intenta lo mismo de la linea anterior,  pero con una  tupla?"
   ]
  },
  {
   "cell_type": "code",
   "execution_count": 15,
   "metadata": {},
   "outputs": [
    {
     "ename": "TypeError",
     "evalue": "'bool' object does not support item assignment",
     "output_type": "error",
     "traceback": [
      "\u001b[0;31m---------------------------------------------------------------------------\u001b[0m",
      "\u001b[0;31mTypeError\u001b[0m                                 Traceback (most recent call last)",
      "\u001b[0;32m<ipython-input-15-380902c287ca>\u001b[0m in \u001b[0;36m<module>\u001b[0;34m()\u001b[0m\n\u001b[0;32m----> 1\u001b[0;31m \u001b[0mtupla\u001b[0m\u001b[0;34m[\u001b[0m\u001b[0;36m0\u001b[0m\u001b[0;34m]\u001b[0m \u001b[0;34m=\u001b[0m \u001b[0;32mTrue\u001b[0m\u001b[0;34m\u001b[0m\u001b[0;34m\u001b[0m\u001b[0m\n\u001b[0m\u001b[1;32m      2\u001b[0m \u001b[0mprint\u001b[0m\u001b[0;34m(\u001b[0m\u001b[0mtupla\u001b[0m\u001b[0;34m)\u001b[0m\u001b[0;34m\u001b[0m\u001b[0;34m\u001b[0m\u001b[0m\n",
      "\u001b[0;31mTypeError\u001b[0m: 'bool' object does not support item assignment"
     ]
    }
   ],
   "source": [
    "tupla[0] = True\n",
    "print(tupla)"
   ]
  },
  {
   "cell_type": "markdown",
   "metadata": {},
   "source": [
    "## Operaciones hexagesimal "
   ]
  },
  {
   "attachments": {
    "image.png": {
     "image/png": "[encoded data removed]"
    }
   },
   "cell_type": "markdown",
   "metadata": {},
   "source": [
    "![image.png](attachment:image.png)"
   ]
  },
  {
   "cell_type": "code",
   "execution_count": 11,
   "metadata": {},
   "outputs": [
    {
     "data": {
      "text/plain": [
       "'0x4'"
      ]
     },
     "execution_count": 11,
     "metadata": {},
     "output_type": "execute_result"
    }
   ],
   "source": [
    "r = hex(4) #Hexagesimal \n",
    "r"
   ]
  },
  {
   "cell_type": "code",
   "execution_count": 49,
   "metadata": {},
   "outputs": [
    {
     "data": {
      "text/plain": [
       "15"
      ]
     },
     "execution_count": 49,
     "metadata": {},
     "output_type": "execute_result"
    }
   ],
   "source": [
    "0xF"
   ]
  },
  {
   "cell_type": "code",
   "execution_count": 33,
   "metadata": {},
   "outputs": [
    {
     "data": {
      "text/plain": [
       "'0b100'"
      ]
     },
     "execution_count": 33,
     "metadata": {},
     "output_type": "execute_result"
    }
   ],
   "source": [
    "0x24*0x34"
   ]
  },
  {
   "cell_type": "code",
   "execution_count": 12,
   "metadata": {},
   "outputs": [
    {
     "data": {
      "text/plain": [
       "'0b11'"
      ]
     },
     "execution_count": 12,
     "metadata": {},
     "output_type": "execute_result"
    }
   ],
   "source": [
    "p=0b100111\n",
    "p\n",
    "bin(3)"
   ]
  },
  {
   "cell_type": "markdown",
   "metadata": {},
   "source": [
    "## Diccionarios "
   ]
  },
  {
   "cell_type": "code",
   "execution_count": 20,
   "metadata": {
    "collapsed": true
   },
   "outputs": [],
   "source": [
    "d = { \"Memento\": \"Cristopher Nolan\", \"0\" : 2, 2:234, \"Fight Club\": \"David Fincher\"} "
   ]
  },
  {
   "cell_type": "code",
   "execution_count": 21,
   "metadata": {},
   "outputs": [
    {
     "data": {
      "text/plain": [
       "dict_keys(['Memento', '0', 2, 'Fight Club'])"
      ]
     },
     "execution_count": 21,
     "metadata": {},
     "output_type": "execute_result"
    }
   ],
   "source": [
    "d.keys()"
   ]
  },
  {
   "cell_type": "code",
   "execution_count": 22,
   "metadata": {},
   "outputs": [
    {
     "name": "stdout",
     "output_type": "stream",
     "text": [
      "La clave  Memento Tiene el valor de  Cristopher Nolan\n",
      "La clave  0 Tiene el valor de  2\n",
      "La clave  2 Tiene el valor de  234\n",
      "La clave  Fight Club Tiene el valor de  David Fincher\n"
     ]
    }
   ],
   "source": [
    "for i in d.keys():\n",
    "    print(\"La clave \", i,\"Tiene el valor de \" , d[i]) "
   ]
  },
  {
   "cell_type": "code",
   "execution_count": 51,
   "metadata": {},
   "outputs": [],
   "source": [
    "k={0:[2,4,5]}"
   ]
  },
  {
   "cell_type": "code",
   "execution_count": 53,
   "metadata": {},
   "outputs": [
    {
     "data": {
      "text/plain": [
       "5"
      ]
     },
     "execution_count": 53,
     "metadata": {},
     "output_type": "execute_result"
    }
   ],
   "source": [
    "k[0][2]"
   ]
  },
  {
   "cell_type": "code",
   "execution_count": 55,
   "metadata": {},
   "outputs": [
    {
     "data": {
      "text/plain": [
       "{0: [2, 4, 5], 3: [20, 10, 15]}"
      ]
     },
     "execution_count": 55,
     "metadata": {},
     "output_type": "execute_result"
    }
   ],
   "source": [
    "k[3]=[20,10,15]\n",
    "k"
   ]
  },
  {
   "cell_type": "code",
   "execution_count": 65,
   "metadata": {},
   "outputs": [
    {
     "data": {
      "text/plain": [
       "{0: [2, 4, 5], 3: [20, 10, 15, 3, 3, 'otro']}"
      ]
     },
     "execution_count": 65,
     "metadata": {},
     "output_type": "execute_result"
    }
   ],
   "source": [
    "k[3].append('otro')\n",
    "k"
   ]
  },
  {
   "cell_type": "markdown",
   "metadata": {},
   "source": [
    "## Expresiones compactas"
   ]
  },
  {
   "cell_type": "code",
   "execution_count": 74,
   "metadata": {},
   "outputs": [],
   "source": [
    "a = \n",
    "s = (\"mayor que 10 \") if a > 10 else \"menor que 10\" "
   ]
  },
  {
   "cell_type": "code",
   "execution_count": 75,
   "metadata": {},
   "outputs": [
    {
     "name": "stdout",
     "output_type": "stream",
     "text": [
      "menor que 10\n"
     ]
    }
   ],
   "source": [
    "print(s)"
   ]
  },
  {
   "cell_type": "code",
   "execution_count": 71,
   "metadata": {},
   "outputs": [
    {
     "name": "stdout",
     "output_type": "stream",
     "text": [
      "1\n"
     ]
    }
   ],
   "source": [
    "s = 1 if a > 10 else 20  \n",
    "print(s)"
   ]
  },
  {
   "cell_type": "markdown",
   "metadata": {},
   "source": [
    "### La anterior expresión, de la forma larga es: "
   ]
  },
  {
   "cell_type": "code",
   "execution_count": 17,
   "metadata": {},
   "outputs": [
    {
     "ename": "NameError",
     "evalue": "name 'w' is not defined",
     "output_type": "error",
     "traceback": [
      "\u001b[0;31m---------------------------------------------------------------------------\u001b[0m",
      "\u001b[0;31mNameError\u001b[0m                                 Traceback (most recent call last)",
      "\u001b[0;32m<ipython-input-17-b66209a38655>\u001b[0m in \u001b[0;36m<module>\u001b[0;34m()\u001b[0m\n\u001b[1;32m      1\u001b[0m \u001b[0;31m#aca estoy sumando a\u001b[0m\u001b[0;34m\u001b[0m\u001b[0;34m\u001b[0m\u001b[0;34m\u001b[0m\u001b[0m\n\u001b[1;32m      2\u001b[0m \u001b[0;34m\u001b[0m\u001b[0m\n\u001b[0;32m----> 3\u001b[0;31m \u001b[0;32mif\u001b[0m \u001b[0;34m(\u001b[0m\u001b[0mw\u001b[0m \u001b[0;34m>\u001b[0m \u001b[0;36m10\u001b[0m\u001b[0;34m)\u001b[0m\u001b[0;34m:\u001b[0m\u001b[0;34m\u001b[0m\u001b[0;34m\u001b[0m\u001b[0m\n\u001b[0m\u001b[1;32m      4\u001b[0m     \u001b[0ms\u001b[0m \u001b[0;34m=\u001b[0m \u001b[0;34m\"mayor que 10\"\u001b[0m\u001b[0;34m\u001b[0m\u001b[0;34m\u001b[0m\u001b[0m\n\u001b[1;32m      5\u001b[0m \u001b[0;32melse\u001b[0m\u001b[0;34m:\u001b[0m\u001b[0;34m\u001b[0m\u001b[0;34m\u001b[0m\u001b[0m\n",
      "\u001b[0;31mNameError\u001b[0m: name 'w' is not defined"
     ]
    }
   ],
   "source": [
    "#aca estoy sumando a\n",
    "\n",
    "w=10\n",
    "\n",
    "if (w > 10):\n",
    "    s = \"mayor que 10\"\n",
    "else: \n",
    "    s = \"menor que 10\"\n",
    "print (s)\n",
    "\n",
    "\n"
   ]
  },
  {
   "cell_type": "markdown",
   "metadata": {},
   "source": [
    "### Ejemplo\n",
    "\n",
    "Realice una función que calcule el factorial de un número que se indique por teclado."
   ]
  },
  {
   "cell_type": "code",
   "execution_count": 23,
   "metadata": {},
   "outputs": [],
   "source": [
    "def factorial(x):\n",
    "    if x==1:\n",
    "        f=1\n",
    "    else:\n",
    "        f=1\n",
    "        for i in range(x,1,-1):\n",
    "            f=f*i\n",
    "    return(f)"
   ]
  },
  {
   "cell_type": "code",
   "execution_count": 1,
   "metadata": {},
   "outputs": [],
   "source": [
    "'''\n",
    "Malo,estaba poniendo f donde era n \n",
    "\n",
    "def fac(n):\n",
    "    f=1\n",
    "    if n==1:\n",
    "        f=1\n",
    "    else:\n",
    "        f=f*fac(n-1)\n",
    "    return (f)\n",
    "'''\n",
    "def fac(n):\n",
    "    f=1\n",
    "    if n==1:\n",
    "        f=1\n",
    "    else:\n",
    "        f=n*fac(n-1)\n",
    "    return (f)\n"
   ]
  },
  {
   "cell_type": "code",
   "execution_count": 39,
   "metadata": {},
   "outputs": [],
   "source": [
    "def f(n):\n",
    "    f=1\n",
    "    while n>1:\n",
    "        f*=n\n",
    "        n=n-1\n",
    "    return(f)"
   ]
  },
  {
   "cell_type": "code",
   "execution_count": 2,
   "metadata": {},
   "outputs": [
    {
     "data": {
      "text/plain": [
       "24"
      ]
     },
     "execution_count": 2,
     "metadata": {},
     "output_type": "execute_result"
    }
   ],
   "source": [
    "fac(4)"
   ]
  },
  {
   "cell_type": "markdown",
   "metadata": {},
   "source": [
    "## REFERENCIAS.\n",
    "[1] Scripts de un curso de python. [Raul Pollan](https://github.com/rramosp/20182.pcomp)  \n",
    "\n",
    "[2] [Fundamenteos de programación](https://sites.google.com/site/funpropoli/ejercicios-practicos)\n",
    "\n",
    "[3] Scripts de un curso de python. [Fernando Perez](https://github.com/fperez)\n",
    "\n"
   ]
  }
 ],
 "metadata": {
  "kernelspec": {
   "display_name": "Python 3",
   "language": "python",
   "name": "python3"
  },
  "language_info": {
   "codemirror_mode": {
    "name": "ipython",
    "version": 3
   },
   "file_extension": ".py",
   "mimetype": "text/x-python",
   "name": "python",
   "nbconvert_exporter": "python",
   "pygments_lexer": "ipython3",
   "version": "3.7.3"
  }
 },
 "nbformat": 4,
 "nbformat_minor": 2
}
