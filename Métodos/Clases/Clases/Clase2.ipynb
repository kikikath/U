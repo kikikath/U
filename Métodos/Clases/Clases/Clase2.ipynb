{
 "cells": [
  {
   "cell_type": "markdown",
   "metadata": {
    "id": "LzftBS3z_UHx"
   },
   "source": [
    "# Métodos Computacionales"
   ]
  },
  {
   "cell_type": "markdown",
   "metadata": {
    "id": "h0ts-gVn_UIU"
   },
   "source": [
    "## Unidad 1: \n",
    "\n",
    "### Teoría de errores\n",
    "\n",
    "- Errores inherentes.\n",
    "- Errores de método.\n",
    "- Errores computacionales."
   ]
  },
  {
   "cell_type": "markdown",
   "metadata": {
    "id": "oFPYhWEm_UIZ"
   },
   "source": [
    "##  Teoría de errores en computación\n",
    "\n",
    "Al aplicar algún método numérico se realizan muchas operaciones aritméticas elementales lo cual\n",
    "al hacerlas se producen errores, errores que pueden influir en la solución de algún problema, podemos\n",
    "clasificar a los errores básicamente en tres tipos, donde el principal almenos en este curso serán los errores correspondientes a la computación\n",
    "\n"
   ]
  },
  {
   "cell_type": "markdown",
   "metadata": {
    "id": "1xps1CQb_UIb"
   },
   "source": [
    "### Errores inherentes\n",
    " \n",
    "El error inherente se produce por criterio de incertidumbre, esto es intrínseco a cualquier\n",
    "sistema (natural o artificial) dado que es imposible considerar todas las variables que definen un\n",
    "sistema. Especialmente en física o astronomía estamos acostumbrados a tratar con este tipo de errores, un ejemplo de esto es cuando despreciamos la fricción en un movimiento de caida libre o un péndulo. \n",
    "\n",
    "![image.png](attachment:image.png)\n",
    " \n"
   ]
  },
  {
   "cell_type": "markdown",
   "metadata": {
    "id": "tGMx_UiW_UId"
   },
   "source": [
    "### Errores de método.\n",
    "\n",
    "Si un sistema esta representado por un modelo matemático, el método que se utilice para encontrar\n",
    "la solución nos dará como resultado una solución sin error o con error. Esto dependerá de varios factores, por ejemplo: \n",
    "\n",
    "- Si la solución es analítica se podrá llegar a una solución sin error de método.\n",
    "- Si la solución es numérica su puede tener errores de truncamiento.\n",
    "\n",
    "     Se recurre a la solución numérica cuando: \n",
    "     - El método analítico es muy difícil.\n",
    "     - No hay solución analítica. \n"
   ]
  },
  {
   "cell_type": "markdown",
   "metadata": {
    "id": "hl1AH7pO_UIf"
   },
   "source": [
    "Sea $S_m$ la solución de método y sea $E_m$ el error de método,\n",
    "Donde:\n",
    "\n",
    "![image.png](attachment:image.png)\n",
    "\n",
    "donde numéricamente debemos limitar la serie infinita truncando los términos $S_m=\\sum_{i=1}^n{S_i}$  y  $S_n=\\sum_{k=n+1}^\\infty{S_k}$ , a dicho truncamiento se le conoce como Error de Método ($E_m$)."
   ]
  },
  {
   "cell_type": "markdown",
   "metadata": {
    "id": "V4oCvO-j_UIg"
   },
   "source": [
    "Podemos conocer la forma de la solución de $S_h$, si proponemos una función $f(x)$ como solución del\n",
    "método matemático, si además proponemos a $f(x)$ como una función elemental (polinomio, es decir, \n",
    "$$f(x)=\\sum_{i=0}^\\infty{a_ix^i}$$\n",
    "\n",
    "donde decimos que la solución es valida para un valor cercano alrededor de una constante **c**\n",
    "$$f(x)=\\sum_{i=0}^\\infty{a_i{(x-c)}^i}$$\n",
    "\n",
    "Expandiendo la serie y derivando para encontrar el valor de $a_i$ tenemos la serie de Taylor \n",
    "\n",
    "$$f(x_{i+1})=f(x_i)+\\frac{f'(x_i)h}{1!}+\\frac{f''(x_i)h^2}{2!}+\\frac{f'''(x_i)h^3}{3!}+...+\\frac{f^n(x_i)h^n}{n!}+...+R_n$$ \n",
    "\n",
    "donde $R_n$ es el error residual o error de metodo y es:\n",
    "$$R_n=\\frac{f^{n+1}(x_i)h^{n+1}}{(n+1)!}$$\n",
    "\n",
    "Note que si el   $\\lim_{n\\to\\infty}R_n(x)=0$ la solución es exacta."
   ]
  },
  {
   "cell_type": "markdown",
   "metadata": {
    "id": "Da3KCf0M_UIi"
   },
   "source": [
    "### <span style=\"color:red\">Ejercicio ejemplo</span>\n",
    "\n",
    "Haga un análisis del error de truncamiento mediante la función seno, expandiendo en series de taylor. "
   ]
  },
  {
   "cell_type": "markdown",
   "metadata": {
    "id": "fyFMTgYU_UIj"
   },
   "source": [
    "$$sen(x)= x- \\frac{x^3}{3!}+\\frac{x^5}{5!}-\\frac{x^7}{7!}+\\frac{x^9}{9!}+\\frac{x^{11}}{11!}+\\frac{x^{13}}{13!}+\\frac{x^{15}}{15!}+ O(9)$$"
   ]
  },
  {
   "cell_type": "markdown",
   "metadata": {
    "id": "JS0R9sIh_UIl"
   },
   "source": [
    "$$\\sin x = \\sum_{n=0}^{\\infty} \\frac{(-1)^n x^{2n+1}}{(2n+1)!} $$"
   ]
  },
  {
   "cell_type": "code",
   "execution_count": 1,
   "metadata": {
    "id": "EJHkfVef_UIm"
   },
   "outputs": [],
   "source": [
    "import numpy as np\n",
    "\n",
    "def mysin(x,orden):\n",
    "    ordn=[]\n",
    "    mysn=[]\n",
    "    y=0\n",
    "    \n",
    "    for i in range(0,orden,1):\n",
    "        y+=((-1)**i)*(x**(2*i+1))/np.math.factorial(1+2*i)\n",
    "        ordn.append(i)\n",
    "        mysn.append(y)\n",
    "    return(y)\n",
    "    "
   ]
  },
  {
   "cell_type": "code",
   "execution_count": 2,
   "metadata": {
    "id": "CIeVqaG3_UIp",
    "outputId": "68dd419e-47eb-4498-a6b0-907b9f4b408d"
   },
   "outputs": [
    {
     "data": {
      "text/plain": [
       "0.49999999999999994"
      ]
     },
     "execution_count": 2,
     "metadata": {},
     "output_type": "execute_result"
    }
   ],
   "source": [
    "mysin(np.pi/6,50)"
   ]
  },
  {
   "cell_type": "code",
   "execution_count": 3,
   "metadata": {
    "id": "SZHSkFlG_UIv",
    "outputId": "ea018e42-d2e7-4d1f-f12e-5352a912e22d"
   },
   "outputs": [
    {
     "data": {
      "text/plain": [
       "0.49999999999999994"
      ]
     },
     "execution_count": 3,
     "metadata": {},
     "output_type": "execute_result"
    }
   ],
   "source": [
    "mysin(np.pi/6,10)"
   ]
  },
  {
   "cell_type": "code",
   "execution_count": 4,
   "metadata": {
    "id": "ZuKc-zWR_UIx",
    "outputId": "7f932285-1329-47a4-c9b4-b4b3bd4551bf"
   },
   "outputs": [
    {
     "data": {
      "text/plain": [
       "0.5000000000202799"
      ]
     },
     "execution_count": 4,
     "metadata": {},
     "output_type": "execute_result"
    }
   ],
   "source": [
    "mysin(np.pi/6,5)"
   ]
  },
  {
   "cell_type": "code",
   "execution_count": 5,
   "metadata": {
    "id": "CnP3w9lk_UIy",
    "outputId": "61c3870c-cc1f-4695-824c-03defa5619d0"
   },
   "outputs": [
    {
     "data": {
      "text/plain": [
       "0.5235987755982988"
      ]
     },
     "execution_count": 5,
     "metadata": {},
     "output_type": "execute_result"
    }
   ],
   "source": [
    "mysin(np.pi/6,1)"
   ]
  },
  {
   "cell_type": "code",
   "execution_count": 6,
   "metadata": {
    "id": "858tbh_N_UI0"
   },
   "outputs": [],
   "source": [
    "vmysin=np.vectorize(mysin,excluded=['orden'])"
   ]
  },
  {
   "cell_type": "code",
   "execution_count": 7,
   "metadata": {
    "id": "7JDFPhRe_UI1",
    "outputId": "23d0cf48-3998-4a9a-9f98-616fe5584c3f"
   },
   "outputs": [
    {
     "data": {
      "text/plain": [
       "array([0.00000000e+00, 8.41470985e-01, 2.11425676e-05, 5.00000000e-01])"
      ]
     },
     "execution_count": 7,
     "metadata": {},
     "output_type": "execute_result"
    }
   ],
   "source": [
    "vmysin([0,1,np.pi,np.pi/6],7)"
   ]
  },
  {
   "cell_type": "code",
   "execution_count": 8,
   "metadata": {
    "id": "lNoIBLGI_UI3"
   },
   "outputs": [],
   "source": [
    "x=np.linspace(-4*np.pi,4*np.pi,500)"
   ]
  },
  {
   "cell_type": "code",
   "execution_count": 9,
   "metadata": {
    "id": "sYzQVKPl_UI4"
   },
   "outputs": [],
   "source": [
    "y2=vmysin(x,2)\n",
    "y3=vmysin(x,3)\n",
    "y4=vmysin(x,4)\n",
    "y5=vmysin(x,5)\n",
    "y6=vmysin(x,6)\n",
    "y7=vmysin(x,7)\n",
    "y8=vmysin(x,8)\n",
    "\n",
    "y=np.sin(x) # orden 50"
   ]
  },
  {
   "cell_type": "code",
   "execution_count": 10,
   "metadata": {
    "id": "9qrUUquY_UI6",
    "outputId": "a0089c8b-9daf-4cfc-cfa7-6c90d0c66af6"
   },
   "outputs": [
    {
     "data": {
      "text/plain": [
       "<Figure size 1200x800 with 1 Axes>"
      ]
     },
     "metadata": {},
     "output_type": "display_data"
    }
   ],
   "source": [
    "import matplotlib.pyplot as plt\n",
    "\n",
    "plt.figure(figsize=(12,8))\n",
    "\n",
    "plt.plot(x,y, label='sin(x)')\n",
    "plt.plot(x,y2, label='orden 2')\n",
    "plt.plot(x,y3, label='orden 3')\n",
    "plt.plot(x,y4, label='orden 4')\n",
    "plt.plot(x,y5, label='orden 5')\n",
    "plt.plot(x,y6, label='orden 6')\n",
    "plt.plot(x,y7, label='orden 7')\n",
    "plt.plot(x,y8, label='orden 8')\n",
    "\n",
    "plt.xlabel('x:ángulo radianes')\n",
    "plt.ylabel('sin(x)')\n",
    "\n",
    "plt.ylim([-5,5])\n",
    "plt.legend()\n",
    "plt.savefig('plot_sin.png')\n",
    "\n",
    "plt.show()"
   ]
  },
  {
   "cell_type": "code",
   "execution_count": 11,
   "metadata": {
    "id": "6Y_kBQSq_UI8",
    "outputId": "f09c05b3-2f51-41f7-fdf5-3febfe6032bc"
   },
   "outputs": [
    {
     "data": {
      "image/png": "[encoded data removed]",
      "text/plain": [
       "<Figure size 864x576 with 1 Axes>"
      ]
     },
     "metadata": {
      "needs_background": "light"
     },
     "output_type": "display_data"
    }
   ],
   "source": [
    "plt.figure(figsize=(12,8))\n",
    "\n",
    "plt.plot(x,y-y2, label='error ord 2')\n",
    "plt.plot(x,y-y3, label='error ord 3')\n",
    "plt.plot(x,y-y4, label='error ord 4')\n",
    "plt.plot(x,y-y5, label='error ord 5')\n",
    "plt.plot(x,y-y6, label='error ord 6')\n",
    "plt.plot(x,y-y7, label='error ord 7')\n",
    "plt.plot(x,y-y8, label='error ord 8')\n",
    "\n",
    "plt.xlim([0,5])\n",
    "plt.ylim([-5,5])\n",
    "\n",
    "plt.legend()\n",
    "plt.show()"
   ]
  },
  {
   "cell_type": "markdown",
   "metadata": {
    "id": "hds6DJh9_UI-"
   },
   "source": [
    "### Errores computacionales\n",
    "\n",
    "Si se implementa el método de solución en computadora, se sujetara a las características físicas de\n",
    "ella, por lo cual podemos tener:\n",
    "\n",
    "- Errores de desborde\n",
    "- Errores de redondeo\n",
    "- Errores acumulables\n",
    "\n",
    "Además considerando todos los errores trabajados la solución final será:  \n",
    "\n",
    "![image.png](attachment:image.png)\n"
   ]
  },
  {
   "cell_type": "markdown",
   "metadata": {
    "id": "hGctP1hi_UJB"
   },
   "source": [
    "### Estructura de datos"
   ]
  },
  {
   "cell_type": "markdown",
   "metadata": {
    "id": "XJWSpp-z_UJC"
   },
   "source": [
    "La unidad básica de información en una computadora digital es llamada bit (por binary digit) , la cuál consiste en un sólo carácter 0 ó 1. En 1964, desarrolladores trabajando para IBM establecieron la convención de llamar byte a grupos de 8 bits.\n",
    "\n",
    "Las computadoras personales modernas (ej. x86, x86-64, etc) usan palabras de tamaño 32 y 64 bits (4 y 8 bytes respectivamente). Le representación de un número en memoria **int(n)** en memoria es de la siguiente forma:\n",
    "\n"
   ]
  },
  {
   "cell_type": "markdown",
   "metadata": {
    "id": "gCsUbwLC_UJD"
   },
   "source": [
    "- Si **n** es un entero positivo, entonces su representación es el número en notación binaria con los ceros a la izquierda que sean necesarios para completar los 32 (ó 64) bits.\n",
    "\n",
    "- Si n es un entero negativo, entonces su representación es su complemento a dos.\n",
    "    - El complemento a dos se define como el número $\\alpha$ tal que  $2^{32}=n+\\alpha$\n",
    "    - Si n es negativo, el complemento a dos es:\n",
    "        $$\\alpha=2^{32}-|n|$$\n",
    "        ej: n=2 en binario n=010 su complemento a dos es invertir los bits y sumar uno, así n=110=-2\n",
    "        \n",
    "        101+1=110"
   ]
  },
  {
   "cell_type": "markdown",
   "metadata": {
    "id": "txS5efsE_UJF"
   },
   "source": [
    "- La notación científica (base 10) de un numero real define como $m×10^c$, donde: $m$ es la mantiza y $c$ la magnitud. El estándar IEEE-754 (IEEE Standard for Floating-Point Arithmetic) se estableció en 1985 y e índica un formato ampliamente usado para representar números de punto flotante en memoria.\n",
    "\n",
    "    - En particular, para binary32:\n",
    "![image.png](attachment:image.png)\n"
   ]
  },
  {
   "cell_type": "markdown",
   "metadata": {
    "id": "ZV1WSaXJ_UJG"
   },
   "source": [
    "### Error de desborde\n",
    "\n",
    "Estos errores se dan si cualquier número manejado teóricamente cae fuera de los rangos definidos\n",
    "en la computadora.Es decir:\n",
    "\n",
    "- Si se manejan numeros mayores a los que se puede representar. \n",
    "- Si se manejan numeros menores a los que se puede representar.\n",
    "\n",
    "Ejemplo:\n",
    "\n",
    "    -  Enteros signados = [$-2^{31} , 2^{31}-1$] Para 32 bits\n",
    "    -  Enteros sin signo = [$ 0 , 2^{32}-1 $]\n",
    "    \n",
    "    Ejemplo: https://ai.googleblog.com/2006/06/extra-extra-read-all-about-it-nearly.html"
   ]
  },
  {
   "cell_type": "markdown",
   "metadata": {
    "id": "y3G2BIcG_UJH"
   },
   "source": [
    "### Errores de redondeo \n",
    "\n",
    "Sea el criterio que en los reales matemáticos existe un numero infinito de intervalos entre un\n",
    "intervalo definido.\n",
    "\n",
    "![image.png](attachment:image.png)\n",
    "\n"
   ]
  },
  {
   "cell_type": "markdown",
   "metadata": {
    "id": "zJ5wEzAI_UJI"
   },
   "source": [
    "En computación siempre va a haber un intervalo finito posible por las características físicas de\n",
    "la computadora.\n",
    "\n",
    "![image.png](attachment:image.png)\n"
   ]
  },
  {
   "cell_type": "markdown",
   "metadata": {
    "id": "E58QqPp6_UJK"
   },
   "source": [
    "Al intervalo más pequeño $\\epsilon_m$ manejado por la computadora se le llama épsilon de la maquina, esto es el número mínimo distinguible. Así todo numero que este en el intervalo ( 0 ,$\\epsilon_m$) no se puede manejar en la computadora.\n",
    "\n",
    "Por lo tanto cuando ka computadora tiene que manejar un número perteneciente a este intervalo,realiza un criterio de redondeo hacia abajo o hacia arriba del número mas distinguible cercano."
   ]
  },
  {
   "cell_type": "markdown",
   "metadata": {
    "id": "qQl0uVyQ_UJL"
   },
   "source": [
    "### Errores acomulables\n",
    "\n",
    "En las operaciones básicas se tiene un error de redondeo, en operaciones iterativas el error de\n",
    "redondeo se acumula en la proporción de la operación.\n",
    "\n",
    "$S_{c_1}=S_1+E_1$\n",
    "\n",
    "$S_{c_2}=S_{c_1}+E_2$\n",
    "\n",
    "$S_{c_3}=S_3+E_3$\n",
    "\n",
    "Así al final $\\sum_{i=1}^n{S_{c=1}}=\\sum_{i=1}^n{S_{i}}+ \\sum_{i=1}^n{E_{i}}$\n"
   ]
  },
  {
   "cell_type": "markdown",
   "metadata": {
    "id": "I5_2o61w_UJM"
   },
   "source": [
    "### <span style=\"color:red\">Ejercicio ejemplo</span>\n",
    "\n",
    "Realice un problema donde evidencie cada uno de los errores computacionales:\n",
    "\n",
    "A.Realice un ejemplo de desbordamiento. \n",
    "\n",
    "B.Encuentre el eps de la maquina y sume y reste numeros alrededor de este valor.\n",
    "\n",
    "C. Realice las siguientes operaciones en python:\n",
    "a=4/3\n",
    "b=a-1\n",
    "c=b+b+b\n",
    "e=1-c"
   ]
  },
  {
   "cell_type": "code",
   "execution_count": 12,
   "metadata": {
    "id": "kwPZL-Un_UJO",
    "outputId": "6209a860-90e4-4fb8-a2f0-9fa750b26d12"
   },
   "outputs": [
    {
     "data": {
      "text/plain": [
       "finfo(resolution=1e-15, min=-1.7976931348623157e+308, max=1.7976931348623157e+308, dtype=float64)"
      ]
     },
     "execution_count": 12,
     "metadata": {},
     "output_type": "execute_result"
    }
   ],
   "source": [
    "import numpy as np\n",
    "np.finfo(float)"
   ]
  },
  {
   "cell_type": "code",
   "execution_count": 13,
   "metadata": {
    "id": "19jGmRLg_UJP",
    "outputId": "2b09d879-2fdc-4d50-d124-d969250d5fd1"
   },
   "outputs": [
    {
     "name": "stdout",
     "output_type": "stream",
     "text": [
      "2.220446049250313e-16\n"
     ]
    }
   ],
   "source": [
    "print(np.finfo(0.0).eps)"
   ]
  },
  {
   "cell_type": "code",
   "execution_count": 14,
   "metadata": {
    "id": "xyHN_d1C_UJQ",
    "outputId": "699f7627-2491-41dc-b5e5-af6e2461822b"
   },
   "outputs": [
    {
     "data": {
      "text/plain": [
       "1.0000000000000002"
      ]
     },
     "execution_count": 14,
     "metadata": {},
     "output_type": "execute_result"
    }
   ],
   "source": [
    "(2.220446049250313e-16)+1"
   ]
  },
  {
   "cell_type": "code",
   "execution_count": 15,
   "metadata": {
    "id": "PcYmJyDu_UJS",
    "outputId": "b3e3d78b-f71b-43fd-f65b-40e8d8fd57c7"
   },
   "outputs": [
    {
     "data": {
      "text/plain": [
       "-inf"
      ]
     },
     "execution_count": 15,
     "metadata": {},
     "output_type": "execute_result"
    }
   ],
   "source": [
    "-1.7976931348623157e+309"
   ]
  },
  {
   "cell_type": "code",
   "execution_count": 16,
   "metadata": {
    "id": "9cjJ62EZ_UJT"
   },
   "outputs": [],
   "source": [
    "a=4/3"
   ]
  },
  {
   "cell_type": "code",
   "execution_count": 22,
   "metadata": {
    "id": "0yBOKDSP_UJU"
   },
   "outputs": [
    {
     "data": {
      "text/plain": [
       "0.33333333333333326"
      ]
     },
     "execution_count": 22,
     "metadata": {},
     "output_type": "execute_result"
    }
   ],
   "source": [
    "b=a-1 # b=1/3\n",
    "b"
   ]
  },
  {
   "cell_type": "code",
   "execution_count": 23,
   "metadata": {
    "id": "e--lxdHT_UJV"
   },
   "outputs": [
    {
     "data": {
      "text/plain": [
       "0.9999999999999998"
      ]
     },
     "execution_count": 23,
     "metadata": {},
     "output_type": "execute_result"
    }
   ],
   "source": [
    "c=b+b+b # b=1\n",
    "c"
   ]
  },
  {
   "cell_type": "code",
   "execution_count": 24,
   "metadata": {
    "id": "1Ir8N-Fj_UJW"
   },
   "outputs": [
    {
     "data": {
      "text/plain": [
       "2.220446049250313e-16"
      ]
     },
     "execution_count": 24,
     "metadata": {},
     "output_type": "execute_result"
    }
   ],
   "source": [
    "e=1-c # e=0\n",
    "e"
   ]
  },
  {
   "cell_type": "code",
   "execution_count": 25,
   "metadata": {
    "id": "_7KBnYSW_UJW",
    "outputId": "c87fa177-503e-45e5-d225-0628f2947eb2"
   },
   "outputs": [
    {
     "data": {
      "text/plain": [
       "0.02220446049250313"
      ]
     },
     "execution_count": 25,
     "metadata": {},
     "output_type": "execute_result"
    }
   ],
   "source": [
    "e*1e14\n"
   ]
  },
  {
   "cell_type": "markdown",
   "metadata": {
    "id": "bPCNwuDP_UJY"
   },
   "source": [
    "## REFERENCIAS.\n",
    "[1] http://www.robcas64.com/Numerico/Errores/SepErr.pdf\n",
    "\n",
    "[2] https://es.wikipedia.org/wiki/Coma_flotante#:~:text=Sistema%20binario,-Art%C3%ADculo%20principal%3A%20Sistema&text=En%20la%20representaci%C3%B3n%20binaria%20de,bits%20son%20la%20parte%20significativa.\n",
    "\n",
    "[3] https://ai.googleblog.com/2006/06/extra-extra-read-all-about-it-nearly.html\n",
    " "
   ]
  },
  {
   "cell_type": "code",
   "execution_count": null,
   "metadata": {},
   "outputs": [],
   "source": []
  }
 ],
 "metadata": {
  "colab": {
   "name": "Clase2.ipynb",
   "provenance": []
  },
  "kernelspec": {
   "display_name": "Python 3",
   "language": "python",
   "name": "python3"
  },
  "language_info": {
   "codemirror_mode": {
    "name": "ipython",
    "version": 3
   },
   "file_extension": ".py",
   "mimetype": "text/x-python",
   "name": "python",
   "nbconvert_exporter": "python",
   "pygments_lexer": "ipython3",
   "version": "3.7.3"
  }
 },
 "nbformat": 4,
 "nbformat_minor": 1
}
