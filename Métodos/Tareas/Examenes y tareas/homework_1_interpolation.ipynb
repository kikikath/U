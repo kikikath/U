{
 "cells": [
  {
   "cell_type": "markdown",
   "id": "bibliographic-twenty",
   "metadata": {},
   "source": [
    "# Homework 1:\n",
    "\n",
    "Generate a set of 𝑁 points of the function $sin^2(𝑥)$ between $0$ and $2 \\pi$, including an array of 𝑥 positions, 𝑦=𝑓(𝑥) and first derivative 𝑦′=𝑓′(𝑥)\n",
    "\n",
    "Show which polynomial gives the best approximation to the real function, Hermite or Lagrange polynomial."
   ]
  },
  {
   "cell_type": "code",
   "execution_count": null,
   "id": "185abc7a",
   "metadata": {},
   "outputs": [],
   "source": []
  },
  {
   "cell_type": "markdown",
   "id": "single-rabbit",
   "metadata": {},
   "source": [
    "## Instructions:\n",
    "Below you will find some examples but try not to use the infamous copy and paste method.\n",
    "Use those as a reference. (Except the hermite polynomial routine (hdiff, hermite) which you can copy and paste)"
   ]
  },
  {
   "cell_type": "markdown",
   "id": "asian-archive",
   "metadata": {},
   "source": [
    "### Useful examples:\n",
    "use as a reference, $\\color{red}{\\text{DO NOT COPY & PASTE}}$ (except a Hermite function - below)"
   ]
  },
  {
   "cell_type": "markdown",
   "id": "given-sterling",
   "metadata": {},
   "source": [
    "#### Interpolation using interp1d"
   ]
  },
  {
   "cell_type": "code",
   "execution_count": 60,
   "id": "changing-mathematics",
   "metadata": {},
   "outputs": [
    {
     "data": {
      "text/plain": [
       "<matplotlib.legend.Legend at 0x7f1af0e90b38>"
      ]
     },
     "execution_count": 60,
     "metadata": {},
     "output_type": "execute_result"
    },
    {
     "data": {
      "image/png": "[encoded data removed]",
      "text/plain": [
       "<Figure size 432x288 with 1 Axes>"
      ]
     },
     "metadata": {
      "needs_background": "light"
     },
     "output_type": "display_data"
    }
   ],
   "source": [
    "import numpy as np\n",
    "from scipy.interpolate import interp1d\n",
    "import matplotlib.pyplot as plt\n",
    "\n",
    "x = np.array([-1.5, 1.6, 4.7])\n",
    "y = np.array([0.071,-0.029,-0.012])\n",
    "yprime=np.array([1,-1,1])\n",
    "\n",
    "# Linear polynomial n=1\n",
    "poly1=interp1d(x,y,kind='linear') # kind='quadratic'\n",
    "\n",
    "#xdata=np.linspace(-1.5,4.7,101)\n",
    "xdata = np.linspace(-np.pi/2.0, 3*np.pi/2.0, 101, endpoint=False)[2:]\n",
    "fig,ax=plt.subplots(1,1)\n",
    "ax.scatter(x,y,c='blue',s=50,label='data')\n",
    "ax.plot(xdata,np.cos(xdata),label='cos(x)')\n",
    "ax.plot(xdata,poly1(xdata),label='Polynomial n=1')\n",
    "ax.set_xlabel('x'), ax.set_ylabel('y')\n",
    "ax.legend()"
   ]
  },
  {
   "cell_type": "markdown",
   "id": "earned-forest",
   "metadata": {},
   "source": [
    "#### Interpolation using Lagrange Polynomial"
   ]
  },
  {
   "cell_type": "code",
   "execution_count": 24,
   "id": "occasional-scott",
   "metadata": {},
   "outputs": [],
   "source": [
    "from scipy.interpolate import lagrange\n",
    "L=lagrange(x,y)"
   ]
  },
  {
   "cell_type": "markdown",
   "id": "retired-baghdad",
   "metadata": {},
   "source": [
    "#### Interpolation using Hermite Polynomial"
   ]
  },
  {
   "cell_type": "code",
   "execution_count": 25,
   "id": "suspected-paper",
   "metadata": {},
   "outputs": [
    {
     "ename": "NameError",
     "evalue": "name 'yprime' is not defined",
     "output_type": "error",
     "traceback": [
      "\u001b[0;31m---------------------------------------------------------------------------\u001b[0m",
      "\u001b[0;31mNameError\u001b[0m                                 Traceback (most recent call last)",
      "\u001b[0;32m<ipython-input-25-ca254c422c6b>\u001b[0m in \u001b[0;36m<module>\u001b[0;34m\u001b[0m\n\u001b[1;32m     36\u001b[0m     \u001b[0;32mreturn\u001b[0m \u001b[0msum\u001b[0m\u001b[0;34m\u001b[0m\u001b[0;34m\u001b[0m\u001b[0m\n\u001b[1;32m     37\u001b[0m \u001b[0;34m\u001b[0m\u001b[0m\n\u001b[0;32m---> 38\u001b[0;31m \u001b[0mHinterp\u001b[0m \u001b[0;34m=\u001b[0m \u001b[0mhermite\u001b[0m\u001b[0;34m(\u001b[0m\u001b[0mx\u001b[0m\u001b[0;34m,\u001b[0m \u001b[0my\u001b[0m\u001b[0;34m,\u001b[0m \u001b[0myprime\u001b[0m\u001b[0;34m,\u001b[0m \u001b[0mxdata\u001b[0m\u001b[0;34m)\u001b[0m\u001b[0;34m\u001b[0m\u001b[0;34m\u001b[0m\u001b[0m\n\u001b[0m",
      "\u001b[0;31mNameError\u001b[0m: name 'yprime' is not defined"
     ]
    }
   ],
   "source": [
    "def hdiff(x, y, yprime):\n",
    "    m = x.size # here m is the number of data points. Note n=m-1\n",
    "# and 2n+1=2m-1\n",
    "    l = 2*m\n",
    "    z = np.zeros(l)\n",
    "    a = np.zeros(l)\n",
    "    for i in range(m):\n",
    "        z[2*i] = x[i]\n",
    "        z[2*i+1] = x[i]\n",
    "    for i in range(m):\n",
    "        a[2*i] = y[i]\n",
    "        a[2*i+1] = y[i]\n",
    "    for i in np.flip(np.arange(1, m)): # computes the first divided\n",
    "# differences using derivatives\n",
    "       a[2*i+1] = yprime[i]\n",
    "       a[2*i] = (a[2*i]-a[2*i-1]) / (z[2*i]-z[2*i-1])\n",
    "    a[1] = yprime[0]\n",
    "    for j in range(2, l): # computes the rest of the divided differences\n",
    "        for i in np.flip(np.arange(j, l)):\n",
    "            a[i]=(a[i]-a[i-1]) / (z[i]-z[i-j])\n",
    "    return a\n",
    "    \n",
    "def hermite(x, y, yprime, w):\n",
    "    m = x.size # here m is the number of data points. not the\n",
    "    # degree of the polynomial\n",
    "    a = hdiff(x, y, yprime)\n",
    "    z = np.zeros(2*m)\n",
    "    for i in range(m):\n",
    "        z[2*i] = x[i]\n",
    "        z[2*i+1] = x[i]\n",
    "    sum = a[0]\n",
    "    pr = 1.0\n",
    "    for j in range(2*m-1):\n",
    "        pr *= w-z[j]\n",
    "        sum += a[j+1]*pr\n",
    "    return sum    \n",
    "\n",
    "Hinterp = hermite(x, y, yprime, xdata)"
   ]
  }
 ],
 "metadata": {
  "kernelspec": {
   "display_name": "Python 3",
   "language": "python",
   "name": "python3"
  },
  "language_info": {
   "codemirror_mode": {
    "name": "ipython",
    "version": 3
   },
   "file_extension": ".py",
   "mimetype": "text/x-python",
   "name": "python",
   "nbconvert_exporter": "python",
   "pygments_lexer": "ipython3",
   "version": "3.8.8"
  }
 },
 "nbformat": 4,
 "nbformat_minor": 5
}
