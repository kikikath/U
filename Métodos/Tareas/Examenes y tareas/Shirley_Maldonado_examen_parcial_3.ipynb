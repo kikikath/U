{
 "cells": [
  {
   "cell_type": "markdown",
   "id": "impossible-command",
   "metadata": {},
   "source": [
    "# Examen parcial 3 (Algebra linear y equaciones diferenciales)\n",
    "* Antes de enviar el archivo, $\\textbf{reiniciar y ejecutar el kernel}$ para ver que el archivo se compila sin errores\n",
    "* enviar el archivo jupyter sin anexos antes de las 11 am del 22.10.2021 a mi dirección de correo electrónico: michal.hemmerling@udea.edu.co \n",
    "* comentar sobre github..\n",
    "* pistas generales"
   ]
  },
  {
   "cell_type": "code",
   "execution_count": 7,
   "id": "5dff4c02",
   "metadata": {},
   "outputs": [],
   "source": [
    "from scipy.integrate import solve_bvp\n",
    "from scipy.integrate import solve_ivp\n",
    "import scipy\n",
    "import matplotlib.pyplot as plt\n",
    "import numpy as np"
   ]
  },
  {
   "cell_type": "markdown",
   "id": "conceptual-swedish",
   "metadata": {},
   "source": [
    "## Ejercicio 1. Algebra linear.\n",
    "#### Introducion:\n",
    "\n",
    "En varios casos, sistema de equaciones diferentiales lineares\n",
    "tipo \n",
    "$$\\frac{d\\textbf{x}}{dt}=\\textbf{A}\\textbf{x}$$\n",
    "con solucion:\n",
    "$$ \\textbf{x}(t) = e^{t\\textbf{A}} \\textbf{C}$$\n",
    "\n",
    "(donde $\\textbf{x}$ es un vector, $\\textbf{A}$ es matrix y $\\textbf{C}$ es vector de condiciones iniciales)\n",
    "\n",
    "se simplifica a calcular exponente de matriz: $e^{\\textbf{A}t}$!!!!\n",
    "\n",
    "$\\textbf{Ejercicio:}$ calcular $e^{A}$ definido como:\n",
    "\n",
    "$$e^A=Pe^DP^{-1}$$\n",
    "\n",
    "donde $e^D$ es\n",
    "\n",
    "$$e^D=\n",
    "\\begin{bmatrix}\n",
    "e^{\\lambda_1} & 0 & \\cdots & 0 \\\\\n",
    "0 & e^{\\lambda_2} & \\cdots & 0 \\\\\n",
    "\\vdots & \\vdots & \\ddots & \\vdots\\\\\n",
    "0 & 0 & \\cdots & e^{\\lambda_n} \\\\\n",
    "\\end{bmatrix}\n",
    "$$\n",
    "\n",
    "$P$ son eigenvectors y $P^{-1}$ es inversion de $P$\n",
    "\n",
    "* a) Construye una function $\\textbf{matrix_exp(A)}$ que acepta una matrix A como un argumento\n",
    "* b) si matrix no es cuadrada: imprime \"Matrix must be square\" y sale la funcion usando: $\\textbf{return}$\n",
    "* c) si matrix es cuadrada ($\\textbf{else:}$): calcule y imprime valor de $e^A$\n",
    "* pista 1: D=np.diag(eigenvalues) (asi es mas facil que construir D in loop)\n",
    "* para verificar su resultado uno puede usar scipy.linalg.expm(A)"
   ]
  },
  {
   "cell_type": "code",
   "execution_count": 8,
   "id": "b928426c",
   "metadata": {},
   "outputs": [],
   "source": [
    "A=np.array([[5,1],\n",
    "           [-2,2]])\n",
    "def matrix_exp(A):\n",
    "    s=A.shape\n",
    "    if s[0]==s[1]:\n",
    "        d, P = np.linalg.eig(A) #Se halla la diagonal d\n",
    "        D=np.zeros(s)\n",
    "        for i in range(s[0]):\n",
    "            D[i,i] = np.exp(d[i])  #la diagonal se hace e^d[i,i]\n",
    "        P_1=np.linalg.inv(P)\n",
    "        eDa=np.matmul(P, D) \n",
    "        eD=np.matmul(eDa, P_1)\n",
    "        print('e^A:\\n',eD)\n",
    "    else:\n",
    "        print('Matrix must be square')\n",
    "        return"
   ]
  },
  {
   "cell_type": "code",
   "execution_count": 14,
   "id": "7beb4d64",
   "metadata": {},
   "outputs": [
    {
     "name": "stdout",
     "output_type": "stream",
     "text": [
      "e^A con scipy: \n",
      " [[ 89.11076314  34.51261311]\n",
      " [-69.02522622 -14.42707619]]\n",
      "e^A:\n",
      " [[ 89.11076314  34.51261311]\n",
      " [-69.02522622 -14.42707619]]\n"
     ]
    }
   ],
   "source": [
    "print('e^A con scipy: \\n',scipy.linalg.expm(A))\n",
    "matrix_exp(A)"
   ]
  },
  {
   "cell_type": "markdown",
   "id": "focused-michigan",
   "metadata": {},
   "source": [
    "## Ejercicio 2. Equaciones diferenciales - Boundary value problem.\n",
    "\n",
    "Transporte de calor en un objeto puede ser escrito usando segunda orden equacion diferencial (scipy.integrate.solve_bvp):\n",
    "$$\\frac{d^2T}{dx^2}=0.01T-0.2$$\n",
    "donde T es temperatura y x es largura de objeto\n",
    "\n",
    "a) Resolver este equacion diferencial cumpliendo siguientes condiciones de limite:\n",
    "\n",
    "T(x=0)=40 & T(x=10)=200\n",
    "\n",
    "b) Hace grafico de T(x) vs x (con legend) "
   ]
  },
  {
   "cell_type": "code",
   "execution_count": 16,
   "id": "60290ec9",
   "metadata": {},
   "outputs": [
    {
     "data": {
      "image/png": "[encoded data removed]",
      "text/plain": [
       "<Figure size 432x288 with 1 Axes>"
      ]
     },
     "metadata": {
      "needs_background": "light"
     },
     "output_type": "display_data"
    }
   ],
   "source": [
    "def derivs(x,t):       #Funciones derivadas\n",
    "    dtdx=np.zeros((t.shape))\n",
    "    dtdx[0]=t[1]\n",
    "    dtdx[1]=0.001*t[0] - 0.2\n",
    "    return dtdx\n",
    " \n",
    "def bc(ta,tb):              #Boundary conditions\n",
    "    residuals=np.array([0.0,0.0])\n",
    "    residuals[0]=ta[0] - 40\n",
    "    residuals[1]=tb[0] - 200\n",
    "    return residuals\n",
    "\n",
    "x_steps = 100\n",
    "x = np.linspace(0, 10, x_steps)\n",
    "\n",
    "y0 = np.ones((2,x_steps))\n",
    "\n",
    "sol = solve_bvp(derivs, bc, x, y0)\n",
    "\n",
    "#Gráfica\n",
    "fig, ax = plt.subplots(1,1)\n",
    "ax.plot(sol.x, sol.y[0],'-m', label='T(x) vs x')\n",
    "ax.plot(10, 200,'*r')\n",
    "ax.set_title('Gráfica T(x) vs. x')\n",
    "ax.set_xlabel('x')\n",
    "ax.set_ylabel('T(x)')\n",
    "ax.legend()\n",
    "ax.grid()"
   ]
  },
  {
   "cell_type": "markdown",
   "id": "communist-accused",
   "metadata": {},
   "source": [
    "## Ejercicio 3. Equaciones diferenciales - Initial value problem.\n",
    "\n",
    "a) resolver equacion diferencial (scipy.integrate.solve_ivp):\n",
    "\n",
    "$$\\dot{y}=-2*t*y$$\n",
    "y(0)=1\\\n",
    "t=[0:5] con 100 puntos\n",
    "\n",
    "b) Hace grafico de y(t) vs t (con legend) \n",
    "\n",
    "c) crear una funcion $\\textbf{sol_ode_params(y0,t0,tf,npoints)}$ que acepta cuatro parametros ($y_{initial}, t_{initial}, t_{final},n_{points}$) en este orden, resuelve mismo equacion y automaticamente hace grafico de y(t) vs t para estos parametros."
   ]
  },
  {
   "cell_type": "code",
   "execution_count": 17,
   "id": "5cadc2a9",
   "metadata": {},
   "outputs": [
    {
     "data": {
      "image/png": "[encoded data removed]",
      "text/plain": [
       "<Figure size 648x432 with 1 Axes>"
      ]
     },
     "metadata": {
      "needs_background": "light"
     },
     "output_type": "display_data"
    }
   ],
   "source": [
    "tini=0.0\n",
    "tfin=5.0\n",
    "y0=1.0\n",
    "N=100\n",
    "\n",
    "t_span=[tini, tfin]\n",
    "p=np.linspace(tini, tfin, N)\n",
    "\n",
    "def fun(t, y):\n",
    "    return -2*t*y\n",
    "    \n",
    "sol_ivp = solve_ivp(fun, t_span, [y0], t_eval=p)\n",
    "\n",
    "fig, a = plt.subplots(1,1, figsize=(9,6))\n",
    "a.plot(p, sol_ivp.y[0],'m')\n",
    "a.set_xlabel('t')\n",
    "a.set_ylabel('y(t)')\n",
    "a.set_title('Gráfica y(t) vs t')\n",
    "a.grid()\n",
    "\n",
    "\n",
    "#Función con los parametros\n",
    "def sol_ode_params(y0, t0, tf, npoints):\n",
    "    t_span=[t0, tf]\n",
    "    points = np.linspace(t0, tf, npoints)\n",
    "    def f(t,y):\n",
    "        return -2*t*y\n",
    "    sol_ivp = solve_ivp(f, t_span, [y0], t_eval=points)\n",
    "    plt.plot(points, sol_ivp.y[0], 'gold')\n",
    "    plt.xlabel('t')\n",
    "    plt.ylabel('y(t)')\n",
    "    plt.title('y(t) vs t')\n",
    "    plt.grid()\n",
    "    "
   ]
  },
  {
   "cell_type": "code",
   "execution_count": 12,
   "id": "51708adc",
   "metadata": {},
   "outputs": [
    {
     "data": {
      "image/png": "[encoded data removed]",
      "text/plain": [
       "<Figure size 432x288 with 1 Axes>"
      ]
     },
     "metadata": {
      "needs_background": "light"
     },
     "output_type": "display_data"
    }
   ],
   "source": [
    "sol_ode_params(y0,tini, tfin, N) "
   ]
  },
  {
   "cell_type": "code",
   "execution_count": null,
   "id": "078b94f5",
   "metadata": {},
   "outputs": [],
   "source": []
  },
  {
   "cell_type": "code",
   "execution_count": null,
   "id": "5a81a912",
   "metadata": {},
   "outputs": [],
   "source": []
  }
 ],
 "metadata": {
  "kernelspec": {
   "display_name": "Python 3",
   "language": "python",
   "name": "python3"
  },
  "language_info": {
   "codemirror_mode": {
    "name": "ipython",
    "version": 3
   },
   "file_extension": ".py",
   "mimetype": "text/x-python",
   "name": "python",
   "nbconvert_exporter": "python",
   "pygments_lexer": "ipython3",
   "version": "3.8.8"
  }
 },
 "nbformat": 4,
 "nbformat_minor": 5
}
