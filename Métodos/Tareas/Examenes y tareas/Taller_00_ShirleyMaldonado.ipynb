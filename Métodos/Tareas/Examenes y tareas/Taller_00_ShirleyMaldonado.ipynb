{
 "cells": [
  {
   "cell_type": "code",
   "execution_count": 110,
   "metadata": {
    "id": "eHzE_t_JO9E0"
   },
   "outputs": [],
   "source": [
    "#Punto 1: Doble factorial\r\n",
    "\r\n",
    "def Doble_factorial(N):\r\n",
    "  def Fac(K): #Función para hallar el factorial.\r\n",
    "    F=1\r\n",
    "    for n in range (1,K+1,1):\r\n",
    "      F=F*n\r\n",
    "    return(F)\r\n",
    "\r\n",
    "  if N%2==0: #tiene en cuenta si N es par o impar y se usan las formulas.\r\n",
    "    m=N/2\r\n",
    "    df=(2**m)*(Fac(K=int(m)))\r\n",
    "    print(df)\r\n",
    "\r\n",
    "  else:\r\n",
    "    m=(N+1)/2\r\n",
    "    df=Fac(K=2*int(m))/((2**m)*Fac(K=int(m)))\r\n",
    "    print(df)\r\n"
   ]
  },
  {
   "cell_type": "code",
   "execution_count": 111,
   "metadata": {
    "colab": {
     "base_uri": "https://localhost:8080/"
    },
    "id": "ukNFKZT1MP_5",
    "outputId": "6d33efc8-4894-41b5-9db2-33cd56fc1e92"
   },
   "outputs": [
    {
     "name": "stdout",
     "output_type": "stream",
     "text": [
      "384.0\n"
     ]
    }
   ],
   "source": [
    "Doble_factorial(8)"
   ]
  },
  {
   "cell_type": "code",
   "execution_count": 107,
   "metadata": {
    "id": "3zrsmxEhaRzM"
   },
   "outputs": [],
   "source": [
    "#PUNTO 2: Clase de número\r\n",
    "\r\n",
    "#Pareja de números ingresados a y b\r\n",
    "def Clase_número(a,b):\r\n",
    "\r\n",
    "#Se determinó si un número es abundante con la suma de sus divisores (sin incluir al número) mayor al número\r\n",
    "\r\n",
    "#Número defectivos y abundantes\r\n",
    "\r\n",
    "  def Sd(N):       #Función para hallar la suma de los divisores (excepto el propio número)\r\n",
    "    Suma = 1       #El 1 es divisor de todo entero\r\n",
    "    for i in range (2,N,1):\r\n",
    "      if N%i==0: \r\n",
    "        Suma = Suma+i\r\n",
    "      else:\r\n",
    "        Suma==Suma\r\n",
    "    return(Suma)\r\n",
    "\r\n",
    "  if Sd (N=a) <a:\r\n",
    "    print(a, \"es un número defectivo\")\r\n",
    "  else:\r\n",
    "    if a>1:       #El 1 no es ni abundante ni defectivo\r\n",
    "      print(a, \"es un número abundante\")\r\n",
    "\r\n",
    "  if Sd (N=b) <b:\r\n",
    "    print(b, \"es un número defectivo\")\r\n",
    "  else:\r\n",
    "    if b>1:\r\n",
    "      print(b, \"es un número abundante\")\r\n",
    "\r\n",
    "#Números amigos\r\n",
    "  if Sd (N=a) ==b:\r\n",
    "    if Sd (N=b) ==a:\r\n",
    "      print(a,\"y\",b, \"son números amigos\")\r\n",
    "\r\n",
    "#Números perfectos\r\n",
    "  if Sd (N=a) == a:\r\n",
    "    print(a, \"es un número perfecto\")\r\n",
    "  if Sd (N=b) == b :\r\n",
    "    print(b, \"es un número perfecto\")\r\n",
    "\r\n",
    "#Números primos\r\n",
    "  def Prim(N) :\r\n",
    "    if N>2 :\r\n",
    "      for n in range (2,N,1):\r\n",
    "        k = N%n\r\n",
    "        if k==0:\r\n",
    "          Primo = False\r\n",
    "          break\r\n",
    "        else:\r\n",
    "          Primo = True\r\n",
    "      if Primo:\r\n",
    "         print(N, \"es primo\")\r\n",
    "    elif N==2:\r\n",
    "       print(N, \"es primo\")\r\n",
    "\r\n",
    "  Prim(N=a)\r\n",
    "  Prim(N=b)"
   ]
  },
  {
   "cell_type": "code",
   "execution_count": 109,
   "metadata": {
    "colab": {
     "base_uri": "https://localhost:8080/"
    },
    "id": "zdRaTcMXLOU4",
    "outputId": "9a43f36b-5d74-4b26-f958-c08b97cb760f"
   },
   "outputs": [
    {
     "name": "stdout",
     "output_type": "stream",
     "text": [
      "220 es un número abundante\n",
      "284 es un número defectivo\n",
      "220 y 284 son números amigos\n"
     ]
    }
   ],
   "source": [
    "Clase_número(220,284)"
   ]
  },
  {
   "cell_type": "code",
   "execution_count": 104,
   "metadata": {
    "id": "uiu7B-1M08xG"
   },
   "outputs": [],
   "source": [
    "#PUNTO 3\r\n",
    "import numpy as np\r\n",
    "def f(x): #crea una lista con los digitos del número\r\n",
    "  return list(map(int, str(x)))\r\n",
    "\r\n",
    "def Palindromo(x):\r\n",
    "  l=f(x)                       #Se nombra la lista\r\n",
    "  Invertir = lambda l: l[::-1] #Función para invertir los elementos de la lista\r\n",
    "  m=Invertir(l)\r\n",
    "  j=int(len(l))\r\n",
    "\r\n",
    "  for i in range(0,j,1):\r\n",
    "    a=l[i]\r\n",
    "    b=m[i]\r\n",
    "    if a!=b:  #comparar elemento por elemento.\r\n",
    "      return(False)\r\n",
    "  return(True)"
   ]
  },
  {
   "cell_type": "code",
   "execution_count": 106,
   "metadata": {
    "colab": {
     "base_uri": "https://localhost:8080/"
    },
    "id": "KDrq4_UxANho",
    "outputId": "779c2d4c-433f-4c5d-f08d-1d902d9dce5f"
   },
   "outputs": [
    {
     "data": {
      "text/plain": [
       "True"
      ]
     },
     "execution_count": 106,
     "metadata": {
      "tags": []
     },
     "output_type": "execute_result"
    }
   ],
   "source": [
    "Palindromo(2226222)"
   ]
  },
  {
   "cell_type": "code",
   "execution_count": 102,
   "metadata": {
    "id": "_YzJ5Wzal6TI"
   },
   "outputs": [],
   "source": [
    "#PUNTO 4\r\n",
    "def Cadena(Palabra=\"\"): #Ingresar palabra o frase sin mayúsculas ni tildes\r\n",
    "\r\n",
    "  Vocales = \"a\"\"e\"\"i\"\"o\"\"u\"\r\n",
    "  Conso = \"b\"\"c\"\"d\"\"f\"\"g\"\"h\"\"j\"\"k\"\"l\"\"m\"\"n\"\"ñ\"\"p\"\"q\"\"r\"\"s\"\"t\"\"v\"\"w\"\"x\"\"y\"\"z\"\r\n",
    "  Pain = \"\"\r\n",
    "  Voc = []\r\n",
    "  Con = []\r\n",
    "\r\n",
    "  Result=[]\r\n",
    "\r\n",
    "  for letra in Palabra:\r\n",
    "    Pain += letra\r\n",
    "\r\n",
    "    if letra in Vocales: #Si es una vocal, añadirla en una lista.\r\n",
    "      Voc.append(letra)\r\n",
    "    elif letra in Conso: #Si es consonante, añadirla en otro lista.\r\n",
    "      Con.append(letra)\r\n",
    "\r\n",
    "  x=len(Pain)\r\n",
    "\r\n",
    "  if x%2==0:     #Ver si hay una cantidad par o impar de letras\r\n",
    "    if Pain [ int((x)/2 -1) ] in Vocales:\r\n",
    "      if Pain[ int(x/2)] in Vocales:     #Si es un número par de letras, debe cumplir que las 2 letras del medio sean vocales.\r\n",
    "        Result.append(True)\r\n",
    "      else:\r\n",
    "        Result.append(False)\r\n",
    "\r\n",
    "  else:\r\n",
    "    if Pain [ int(x//2) ] in Vocales:  #Como es número impar de letras, se comprueba si la letra de la mitad es una vocal.\r\n",
    "      Result.append(True)\r\n",
    "    else:\r\n",
    "      Result.append(False)\r\n",
    "\r\n",
    "  Invertir = lambda Pain: Pain[::-1] #Función para invertir la palabra o frase.\r\n",
    "\r\n",
    "  Result.append(len(Voc))\r\n",
    "  Result.append(len(Con))\r\n",
    "  Result.append(Invertir(Pain))\r\n",
    "  print(Result)"
   ]
  },
  {
   "cell_type": "code",
   "execution_count": 103,
   "metadata": {
    "colab": {
     "base_uri": "https://localhost:8080/"
    },
    "id": "SyXb8ai5Nduh",
    "outputId": "ea39bdea-0120-4dec-d77d-3d0dfbe12208"
   },
   "outputs": [
    {
     "name": "stdout",
     "output_type": "stream",
     "text": [
      "[True, 5, 5, 'ogaleicrum']\n"
     ]
    }
   ],
   "source": [
    "Cadena(\"murcielago\")"
   ]
  },
  {
   "cell_type": "code",
   "execution_count": 141,
   "metadata": {
    "id": "_mD0DzB_UDaJ"
   },
   "outputs": [],
   "source": [
    "#PUNTO 5\r\n",
    "def Prim(N) :\r\n",
    "    if N>2 :\r\n",
    "      for n in range (2,N,1):\r\n",
    "        k = N%n\r\n",
    "        if k==0:\r\n",
    "          Primo = False\r\n",
    "          break\r\n",
    "        else:\r\n",
    "          Primo = True\r\n",
    "      if Primo:\r\n",
    "         print(N)\r\n",
    "    elif N==2:\r\n",
    "       print(N)\r\n",
    "       \r\n",
    "def Primos(i,f):\r\n",
    "   for n in range (i,f+1,1): #Comprobar si los números dentro del intervalos son primos usando la función Prim\r\n",
    "     Prim(n)"
   ]
  },
  {
   "cell_type": "code",
   "execution_count": 142,
   "metadata": {
    "colab": {
     "base_uri": "https://localhost:8080/"
    },
    "id": "73oTQ03RFI43",
    "outputId": "92142c96-e357-4f70-c3b8-09bab21e0479"
   },
   "outputs": [
    {
     "name": "stdout",
     "output_type": "stream",
     "text": [
      "2\n",
      "3\n",
      "5\n",
      "7\n",
      "11\n",
      "13\n",
      "17\n",
      "19\n"
     ]
    }
   ],
   "source": [
    "Primos(2,21)"
   ]
  },
  {
   "cell_type": "code",
   "execution_count": null,
   "metadata": {
    "id": "Mgzmgh7yXPh8"
   },
   "outputs": [],
   "source": [
    ""
   ]
  }
 ],
 "metadata": {
  "colab": {
   "name": "Taller_00_ShirleyMaldonado.ipynb",
   "provenance": []
  },
  "kernelspec": {
   "display_name": "Python 3",
   "name": "python3"
  }
 },
 "nbformat": 4,
 "nbformat_minor": 0
}
