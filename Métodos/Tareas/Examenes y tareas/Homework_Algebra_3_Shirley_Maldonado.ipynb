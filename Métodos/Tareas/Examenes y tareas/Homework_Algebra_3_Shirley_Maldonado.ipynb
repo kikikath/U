{
 "cells": [
  {
   "cell_type": "markdown",
   "id": "a13274c4",
   "metadata": {},
   "source": [
    "##### HOMEWORK LINEAR ALGEBRA 3\n",
    "\n",
    "Name: Shirley Maldonado.\n",
    "\n",
    "Cc: 1004807437\n",
    "\n",
    "\n",
    "\n",
    "Calculate  S5  using two methods. in a \"for\" loop and using diagonalization. Compare the results.\n",
    "\n",
    "\n",
    "$$S=\n",
    "\\begin{bmatrix}\n",
    "1 &  -1 & -1 & -1\\\\\n",
    "-1 &  2 & 0 & 0\\\\\n",
    "-1 &  3 & 3 & 0 \\\\\n",
    "-1 &  0 & 1 & 4 \\\\\n",
    "\\end{bmatrix}$$\n"
   ]
  },
  {
   "cell_type": "markdown",
   "id": "ed0c03f2",
   "metadata": {},
   "source": [
    "Usando un for"
   ]
  },
  {
   "cell_type": "code",
   "execution_count": 10,
   "id": "057f56fe",
   "metadata": {},
   "outputs": [],
   "source": [
    "import numpy as np\n"
   ]
  },
  {
   "cell_type": "code",
   "execution_count": 30,
   "id": "c2f2520f",
   "metadata": {},
   "outputs": [
    {
     "name": "stdout",
     "output_type": "stream",
     "text": [
      "S^5 usando for: \n",
      " [[  485.  -755.  -563.  -563.]\n",
      " [ -179.   280.   192.   192.]\n",
      " [ -675.  1201.   707.   464.]\n",
      " [-1027.  1448.  1275.  1518.]]\n"
     ]
    }
   ],
   "source": [
    "S = np.array([[1,-1,-1,-1],\n",
    "              [-1,2,0,0],\n",
    "              [-1,3,3,0],\n",
    "              [-1,0,1,4]])\n",
    "k=S.shape\n",
    "S5for=np.identity(k[0])\n",
    "\n",
    "for i in range(5):\n",
    "    S5for = np.matmul(S,S5for)\n",
    "    \n",
    "print(\"S^5 usando for: \\n\",S5for)"
   ]
  },
  {
   "cell_type": "markdown",
   "id": "6fcf6920",
   "metadata": {},
   "source": [
    "Usando la diagonalización"
   ]
  },
  {
   "cell_type": "code",
   "execution_count": 9,
   "id": "d34a37f3",
   "metadata": {},
   "outputs": [
    {
     "name": "stdout",
     "output_type": "stream",
     "text": [
      "S^5=\n",
      " [[  485.  -755.  -563.  -563.]\n",
      " [ -179.   280.   192.   192.]\n",
      " [ -675.  1201.   707.   464.]\n",
      " [-1027.  1448.  1275.  1518.]]\n"
     ]
    }
   ],
   "source": [
    "d, P = np.linalg.eig(S)\n",
    "\n",
    "D = np.zeros(k)\n",
    "for i in range(k[0]):\n",
    "    D[i,i] = d[i]**5\n",
    "\n",
    "P_1=np.linalg.inv(P)\n",
    "sa=np.matmul(P, D) \n",
    "S5=np.matmul(sa, P_1)\n",
    "    \n",
    "print('S^5 usando diagonalización=\\n',S5)"
   ]
  },
  {
   "cell_type": "markdown",
   "id": "6608ab6f",
   "metadata": {},
   "source": [
    "##### Se puede ver que S^5 es igual usando un for o haciendolo usando la diagonal pues la diferencia entre las dos es casi 0."
   ]
  },
  {
   "cell_type": "code",
   "execution_count": 32,
   "id": "90c30df3",
   "metadata": {},
   "outputs": [
    {
     "name": "stdout",
     "output_type": "stream",
     "text": [
      "[[-6.25277607e-13  7.95807864e-13  4.54747351e-13  3.41060513e-13]\n",
      " [-7.38964445e-13  1.19371180e-12  9.37916411e-13  9.37916411e-13]\n",
      " [-4.54747351e-13  6.82121026e-13  6.82121026e-13  1.13686838e-12]\n",
      " [ 1.13686838e-12 -1.13686838e-12 -6.82121026e-13 -6.82121026e-13]]\n"
     ]
    }
   ],
   "source": [
    "print(S5for-S5)"
   ]
  },
  {
   "cell_type": "code",
   "execution_count": null,
   "id": "6993abe8",
   "metadata": {},
   "outputs": [],
   "source": []
  }
 ],
 "metadata": {
  "kernelspec": {
   "display_name": "Python 3",
   "language": "python",
   "name": "python3"
  },
  "language_info": {
   "codemirror_mode": {
    "name": "ipython",
    "version": 3
   },
   "file_extension": ".py",
   "mimetype": "text/x-python",
   "name": "python",
   "nbconvert_exporter": "python",
   "pygments_lexer": "ipython3",
   "version": "3.8.8"
  }
 },
 "nbformat": 4,
 "nbformat_minor": 5
}
