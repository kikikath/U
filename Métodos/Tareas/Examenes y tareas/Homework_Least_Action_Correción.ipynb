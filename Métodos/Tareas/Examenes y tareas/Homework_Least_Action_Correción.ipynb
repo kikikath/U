{
 "cells": [
  {
   "cell_type": "markdown",
   "id": "productive-sailing",
   "metadata": {},
   "source": [
    "### Homework: Least Action using Minimization\n",
    "\n",
    "Use function \"minimize from scipy.optimize\" and the method called ‘SLSQP’ to minimize:  the action S.\n",
    "\n",
    "This task is basically identical to the example from the class. Use the same parameters (t=3.0,m=0.2 n=21) and both functions: xfit() and S().\n",
    "\n",
    "For more details on the scipy.optimize.minimize read the documentation:\n",
    "\n",
    "https://docs.scipy.org/doc/scipy/reference/generated/scipy.optimize.minimize.html\n",
    "\n",
    "Please note that the output of this function is different that from the \"optimize.fmin_powell\" that we did in the class\n",
    "\n",
    "* here: obj = scipy.optimize.minimize(...)\n",
    "\n",
    "the output of the process is an object (obj) so to access the information of the minimization you can type:\n",
    "\n",
    "* print(obj), or print(dir(obj))\n",
    "* look at the attributes (x, success, status, message, fun)\n",
    "* then choose the attribute you are interested in, example: \n",
    "\n",
    "print(obj.message)\n",
    "\n",
    "* details on the attributes are here: https://docs.scipy.org/doc/scipy/reference/generated/scipy.optimize.OptimizeResult.html#scipy.optimize.OptimizeResult)\n",
    "\n",
    "* compare by plotting the two minimization routines, the one from the class \"optimize.fmin_powell\" with \"scipy.optimize.minimize\""
   ]
  },
  {
   "cell_type": "code",
   "execution_count": 1,
   "id": "velvet-celebration",
   "metadata": {},
   "outputs": [],
   "source": [
    "import numpy as np\n",
    "import pandas as pd\n",
    "import matplotlib.pyplot as plt\n",
    "import scipy.optimize as optimize\n",
    "from scipy.optimize import minimize\n",
    "global g\n",
    "g=9.8\n",
    "\n",
    "def S(x,tend=3.,m=0.2,xini=0.,xend=0.):\n",
    "    x=np.asarray(x)\n",
    "    Dt=tend/x[:-1].size\n",
    "    #Fix initial and final point\n",
    "    x[0]=xini\n",
    "    x[-1]=xend\n",
    "    return ( (0.5*m*(x[1:]-x[:-1])**2/Dt**2-0.5*m*g*(x[1:]+x[:-1]) )*Dt).sum()\n",
    "\n",
    "def xfit(n,t=3.,m=0.2,xini=0.,xend=0.,ftol=1E-8):    #Usando optimize.fmin_powell\n",
    "    t=float(t)\n",
    "    if n%2==0:\n",
    "        print ( 'x array must be odd')\n",
    "        sys.exit()\n",
    "    x0=np.zeros(n)\n",
    "    a = optimize.fmin_powell(S,x0,args=(t,m,xini,xend),ftol=ftol,full_output=1) #Minimiza la función de la acción\n",
    "    x=a[0]\n",
    "    x[0]=xini;x[-1]=xend\n",
    "    xmax=np.sort(x)[-1]   #Sort ordena de menor a mayor\n",
    "    Smin=a[1]\n",
    "    Dt=t/x[:-1].size #  t/(n-1)\n",
    "    return x,xmax,Smin,Dt\n",
    "\n",
    "def xfitSLSQP(n,t=3.,m=0.2,xini=0.,xend=0.,ftol=1E-8): #Usando SLSQP\n",
    "    t=float(t)\n",
    "    if n%2==0:\n",
    "        print ( 'x array must be odd')\n",
    "        sys.exit()\n",
    "    x0=np.zeros(n)\n",
    "    a = optimize.minimize(S,x0,args=(t,m,xini,xend),method='SLSQP') #Minimiza la función de la acción con SLSQP\n",
    "    xs=a['x']                                                     #El SLSQP entrega un diccionario, la lista la entrega con el nombre 'x'\n",
    "    xs[0]=xini;xs[-1]=xend\n",
    "    xmaxs=np.sort(x)[-1]   #Sort ordena de menor a mayor\n",
    "    Smins=a['fun']                                                #El valor minimo de la función con SLSQP la entrega con el nombre 'fun'\n",
    "    Dts=t/x[:-1].size #  t/(n-1)\n",
    "    return xs,xmaxs,Smins,Dts"
   ]
  },
  {
   "cell_type": "code",
   "execution_count": 2,
   "id": "274dd436",
   "metadata": {},
   "outputs": [
    {
     "name": "stdout",
     "output_type": "stream",
     "text": [
      "Optimization terminated successfully.\n",
      "         Current function value: -21.554977\n",
      "         Iterations: 28\n",
      "         Function evaluations: 5837\n"
     ]
    },
    {
     "data": {
      "image/png": "[encoded data removed]",
      "text/plain": [
       "<Figure size 432x288 with 1 Axes>"
      ]
     },
     "metadata": {
      "needs_background": "light"
     },
     "output_type": "display_data"
    }
   ],
   "source": [
    "t=3.0\n",
    "n=21\n",
    "m=0.2\n",
    "y=xfit(21, 3.0, 0.2)\n",
    "x=y[0]\n",
    "xmax=y[1]\n",
    "Smin=y[2]\n",
    "Dt=y[-1]\n",
    "tx=np.arange(0,t+Dt,Dt)\n",
    "\n",
    "ys=xfitSLSQP(21, 3.0, 0.2)\n",
    "xs=ys[0]\n",
    "xmaxs=ys[1]\n",
    "Smins=ys[2]\n",
    "Dts=ys[-1]\n",
    "txs=np.arange(0,t+Dts,Dts)\n",
    "\n",
    "plt.plot(tx,x,'-c',label='$S_{\\mathrm{min}}=$%.2f J.s' %Smin)   #Gráfica de la función usando fmin_powell\n",
    "plt.plot(txs,xs,'--m',label='$S_{\\mathrm{min}}=$%.2f J.s' %Smins)  #Gráfica de la función usando SLSQP\n",
    "#plt.plot(tx,x,'ro')\n",
    "plt.ylabel('HEIGHT meters')\n",
    "plt.xlabel('TIME seconds')\n",
    "plt.title('Worldline of least action')\n",
    "plt.legend(loc='best')\n",
    "plt.grid()"
   ]
  },
  {
   "cell_type": "code",
   "execution_count": 3,
   "id": "e74e4ba0",
   "metadata": {},
   "outputs": [],
   "source": [
    "#Finalmente, los dos métodos encuentran el mismo valor para el least action y trazan la misma trayectoria para los puntos dados."
   ]
  },
  {
   "cell_type": "code",
   "execution_count": null,
   "id": "e7000f47",
   "metadata": {},
   "outputs": [],
   "source": []
  },
  {
   "cell_type": "code",
   "execution_count": null,
   "id": "4446a500",
   "metadata": {},
   "outputs": [],
   "source": []
  },
  {
   "cell_type": "code",
   "execution_count": null,
   "id": "af0ed019",
   "metadata": {},
   "outputs": [],
   "source": []
  },
  {
   "cell_type": "code",
   "execution_count": null,
   "id": "aff6cf70",
   "metadata": {},
   "outputs": [],
   "source": []
  },
  {
   "cell_type": "code",
   "execution_count": null,
   "id": "f2551070",
   "metadata": {},
   "outputs": [],
   "source": []
  },
  {
   "cell_type": "code",
   "execution_count": 4,
   "id": "e00fbe41",
   "metadata": {},
   "outputs": [],
   "source": [
    "t=3.0\n",
    "xini=0\n",
    "xend=0\n",
    "n=21\n",
    "if n%2==0:\n",
    "    print ('x array must be odd')\n",
    "x0=np.zeros(n)\n",
    "a = optimize.minimize(S,x0,args=(t,m,xini,xend),method='SLSQP') \n"
   ]
  },
  {
   "cell_type": "code",
   "execution_count": 5,
   "id": "72200572",
   "metadata": {},
   "outputs": [
    {
     "data": {
      "text/plain": [
       "     fun: -21.554977470134183\n",
       "     jac: array([ 0.00000000e+00,  1.25169754e-04, -1.52587891e-05, -7.62939453e-06,\n",
       "       -8.15391541e-05,  1.61170959e-04, -8.41617584e-05,  4.38690186e-05,\n",
       "       -1.12056732e-05, -6.79492950e-05, -4.76837158e-07, -6.84261322e-05,\n",
       "       -9.77516174e-06,  4.22000885e-05, -8.32080841e-05,  1.58071518e-04,\n",
       "       -7.43865967e-05, -1.64508820e-05, -8.10623169e-06,  1.20639801e-04,\n",
       "        0.00000000e+00])\n",
       " message: 'Optimization terminated successfully'\n",
       "    nfev: 326\n",
       "     nit: 14\n",
       "    njev: 14\n",
       "  status: 0\n",
       " success: True\n",
       "       x: array([1.01451261e-15, 2.09479625e+00, 3.96899864e+00, 5.62271249e+00,\n",
       "       7.05593218e+00, 8.26871297e+00, 9.26087282e+00, 1.00325958e+01,\n",
       "       1.05837860e+01, 1.09144847e+01, 1.10247345e+01, 1.09144847e+01,\n",
       "       1.05837862e+01, 1.00325952e+01, 9.26087246e+00, 8.26871223e+00,\n",
       "       7.05593341e+00, 5.62271053e+00, 3.96899997e+00, 2.09479527e+00,\n",
       "       0.00000000e+00])"
      ]
     },
     "execution_count": 5,
     "metadata": {},
     "output_type": "execute_result"
    }
   ],
   "source": [
    "a      "
   ]
  },
  {
   "cell_type": "code",
   "execution_count": 6,
   "id": "5d3ecd3b",
   "metadata": {},
   "outputs": [
    {
     "data": {
      "text/plain": [
       "-21.554977470134183"
      ]
     },
     "execution_count": 6,
     "metadata": {},
     "output_type": "execute_result"
    }
   ],
   "source": [
    "a['fun']"
   ]
  },
  {
   "cell_type": "code",
   "execution_count": null,
   "id": "5da3c89d",
   "metadata": {},
   "outputs": [],
   "source": []
  }
 ],
 "metadata": {
  "kernelspec": {
   "display_name": "Python 3",
   "language": "python",
   "name": "python3"
  },
  "language_info": {
   "codemirror_mode": {
    "name": "ipython",
    "version": 3
   },
   "file_extension": ".py",
   "mimetype": "text/x-python",
   "name": "python",
   "nbconvert_exporter": "python",
   "pygments_lexer": "ipython3",
   "version": "3.8.8"
  }
 },
 "nbformat": 4,
 "nbformat_minor": 5
}
