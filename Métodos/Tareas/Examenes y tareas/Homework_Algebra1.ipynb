{
 "cells": [
  {
   "cell_type": "code",
   "execution_count": 12,
   "id": "af84ca9f",
   "metadata": {
    "scrolled": true
   },
   "outputs": [],
   "source": [
    "import numpy  as np\n",
    "\n",
    "def row_lamb( i, λ, A ):\n",
    "    B = A.copy()\n",
    "    if isinstance(B[0,0],np.int64):\n",
    "        B=B.astype(float)\n",
    "    B[i] = λ*B[i]\n",
    "    return B\n",
    "## why we check only first element...\n",
    "\n",
    "def row_comb( i, j, λ, A ):\n",
    "    B = A.copy()\n",
    "    if isinstance(B[0,0],np.int64):\n",
    "        B=B.astype(float)\n",
    "    B[i] = λ*B[j] + B[i]\n",
    "    return B\n",
    "# simple\n",
    "\n",
    "def row_swap( i, j, A ):\n",
    "    B = A.copy()\n",
    "    B[[i,j]] = B[[j,i]]\n",
    "    return B\n",
    "\n",
    "def Gaussian_Elimination(A0):\n",
    "    #Making local copy of matrix\n",
    "    A=A0\n",
    "    A = np.copy(A0)\n",
    "    #Detecting size of matrix\n",
    "    n = len(A)\n",
    "    \n",
    "    #Sweeping all the columns in order to eliminate coefficients of the i-th variable\n",
    "    for i in range( 0, n ):\n",
    "        \n",
    "        #Sweeping all the rows for the i-th column in order to find the first non-zero coefficient\n",
    "        for j in range( i, n ):\n",
    "            if A[i,j] != 0:\n",
    "                #Normalization coefficient\n",
    "                Norm = 1.0*A[i,j]\n",
    "                break\n",
    "                \n",
    "        #Applying swap operation to put the non-zero coefficient in the i-th row\n",
    "        A = row_swap( i, j, A )\n",
    "        \n",
    "        #Eliminating the coefficient associated to the i-th variable\n",
    "        for j in range( i+1, n ):\n",
    "            A = row_comb( j, i, -A[j,i]/Norm, A )\n",
    "            \n",
    "    #Normalizing n-th variable\n",
    "    A = row_lamb( n-1, 1.0/A[n-1,n-1], A )\n",
    "        \n",
    "    #Finding solution\n",
    "    x = np.zeros( n )\n",
    "    x[n-1] = A[n-1,n]\n",
    "    for i in range( n-1, -1, -1 ):\n",
    "        x[i] = ( A[i,n] - sum(A[i,i+1:n]*x[i+1:n]) )/A[i,i]\n",
    "    \n",
    "    #Upper diagonal matrix and solutions x\n",
    "    return A, x\n"
   ]
  },
  {
   "cell_type": "code",
   "execution_count": 17,
   "id": "849b8bd1",
   "metadata": {},
   "outputs": [],
   "source": [
    "M=[[-1.0,-2,-3, 0, 0, 0, -10], [0, 2, 0, -4, 0, 0, -40],[0, 0, 3, 0, -5, 0, 40],[1, 0, -1, 0, -1, 0, 0], [-1, 1, 0, 1, 0, 0, 0], [0, 0, 0, -1, 1, 1, 0]]"
   ]
  },
  {
   "cell_type": "code",
   "execution_count": 19,
   "id": "360b9d5d",
   "metadata": {},
   "outputs": [
    {
     "data": {
      "text/plain": [
       "list"
      ]
     },
     "execution_count": 19,
     "metadata": {},
     "output_type": "execute_result"
    }
   ],
   "source": [
    "type(M)"
   ]
  },
  {
   "cell_type": "code",
   "execution_count": 20,
   "id": "0ac87c07",
   "metadata": {},
   "outputs": [
    {
     "data": {
      "text/plain": [
       "(array([[ -1.        ,  -2.        ,  -3.        ,   0.        ,\n",
       "           0.        ,   0.        , -10.        ],\n",
       "        [  0.        ,   2.        ,   0.        ,  -4.        ,\n",
       "           0.        ,   0.        , -40.        ],\n",
       "        [  0.        ,   0.        ,   3.        ,   0.        ,\n",
       "          -5.        ,   0.        ,  40.        ],\n",
       "        [  0.        ,   0.        ,   0.        ,  -4.        ,\n",
       "          -7.66666667,   0.        ,   3.33333333],\n",
       "        [  0.        ,   0.        ,   0.        ,   0.        ,\n",
       "          -8.41666667,   0.        ,  35.83333333],\n",
       "        [  0.        ,   0.        ,   0.        ,   0.        ,\n",
       "           0.        ,   1.        ,  11.58415842]]),\n",
       " array([ 1.98019802, -5.34653465,  6.23762376,  7.32673267, -4.25742574,\n",
       "        11.58415842]))"
      ]
     },
     "execution_count": 20,
     "metadata": {},
     "output_type": "execute_result"
    }
   ],
   "source": [
    "Gaussian_Elimination(M)"
   ]
  },
  {
   "cell_type": "code",
   "execution_count": null,
   "id": "c5a9698f",
   "metadata": {},
   "outputs": [],
   "source": []
  }
 ],
 "metadata": {
  "kernelspec": {
   "display_name": "Python 3",
   "language": "python",
   "name": "python3"
  },
  "language_info": {
   "codemirror_mode": {
    "name": "ipython",
    "version": 3
   },
   "file_extension": ".py",
   "mimetype": "text/x-python",
   "name": "python",
   "nbconvert_exporter": "python",
   "pygments_lexer": "ipython3",
   "version": "3.8.8"
  }
 },
 "nbformat": 4,
 "nbformat_minor": 5
}
