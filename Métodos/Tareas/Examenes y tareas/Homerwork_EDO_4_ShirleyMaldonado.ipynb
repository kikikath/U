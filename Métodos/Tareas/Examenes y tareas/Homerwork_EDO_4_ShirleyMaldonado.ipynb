{
 "cells": [
  {
   "cell_type": "markdown",
   "id": "c4933238",
   "metadata": {},
   "source": [
    "##### HOMEWORK EDO 4\n",
    "\n",
    "Name: Shirley Maldonado.\n",
    "\n",
    "Cc: 1004807437\n",
    "\n",
    "\n",
    "Using scipy.integrate.solve_bvp solve the problem presented in the shooting method section:"
   ]
  },
  {
   "cell_type": "markdown",
   "id": "39ca20ed",
   "metadata": {},
   "source": [
    "$$ \\frac{d^2T}{dx^2}= 0.001T - 0.2$$\n",
    "Boundary conditions:\n",
    "\n",
    "$T(0) = 40$\n",
    "$T(10) = 200$\n",
    "Siendo ta[1]=T'[0] y tb[1]=T'[10]\n",
    "\n",
    "$$\n",
    "\\begin{align*} \n",
    "\\frac{dT}{dx}=z \\\\\n",
    "\\frac{dz}{dx}= 0.001T - 0.2\\\\\n",
    "\\end{align*} \n",
    "$$"
   ]
  },
  {
   "cell_type": "code",
   "execution_count": 4,
   "id": "499fd187",
   "metadata": {},
   "outputs": [
    {
     "data": {
      "image/png": "[encoded data removed]",
      "text/plain": [
       "<Figure size 432x288 with 1 Axes>"
      ]
     },
     "metadata": {
      "needs_background": "light"
     },
     "output_type": "display_data"
    }
   ],
   "source": [
    "from scipy.integrate import solve_bvp\n",
    "import matplotlib.pyplot as plt\n",
    "import numpy as np\n",
    "\n",
    "def derivs(x,t):\n",
    "    dtdx=np.zeros((t.shape))\n",
    "    dtdx[0]=t[1]\n",
    "    dtdx[1]=0.001*t[0] - 0.2\n",
    "    return dtdx\n",
    "\n",
    "def bc(ta,tb):\n",
    "    residuals=np.array([0.0,0.0])\n",
    "    residuals[0]=ta[0] - 40\n",
    "    residuals[1]=tb[0] - 200\n",
    "    return residuals\n",
    "\n",
    "x_steps = 100\n",
    "x = np.linspace(0, 10, x_steps)\n",
    "\n",
    "y0 = np.ones((2,x_steps))\n",
    "\n",
    "sol = solve_bvp(derivs, bc, x, y0)\n",
    "\n",
    "#Gráfica\n",
    "fig, ax = plt.subplots(1,1)\n",
    "ax.plot(sol.x, sol.y[0],'-m')\n",
    "ax.plot(10, 200,'*b')\n",
    "ax.set_xlabel('x')\n",
    "ax.set_ylabel('T(x)')\n",
    "ax.grid()\n",
    "\n",
    "#Resultado encontrado: se puede ver que en la gráfica, en el x=10, da lo que se suponia que era T(x)=200."
   ]
  },
  {
   "cell_type": "code",
   "execution_count": null,
   "id": "d8e4e6fa",
   "metadata": {},
   "outputs": [],
   "source": []
  }
 ],
 "metadata": {
  "kernelspec": {
   "display_name": "Python 3",
   "language": "python",
   "name": "python3"
  },
  "language_info": {
   "codemirror_mode": {
    "name": "ipython",
    "version": 3
   },
   "file_extension": ".py",
   "mimetype": "text/x-python",
   "name": "python",
   "nbconvert_exporter": "python",
   "pygments_lexer": "ipython3",
   "version": "3.8.8"
  }
 },
 "nbformat": 4,
 "nbformat_minor": 5
}
