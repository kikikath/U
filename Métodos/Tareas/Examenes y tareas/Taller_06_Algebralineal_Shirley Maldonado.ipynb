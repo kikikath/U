{
 "cells": [
  {
   "cell_type": "markdown",
   "metadata": {},
   "source": [
    "# Métodos Computacionales\n"
   ]
  },
  {
   "cell_type": "markdown",
   "metadata": {},
   "source": [
    "## Unidad 3: \n",
    "\n",
    "### Álgebra Lineal\n",
    "- Diagonalización de una matriz\n",
    "- Determinante matrical\n",
    "- Inversion matricial\n",
    "- Factorización LU\n",
    "\n"
   ]
  },
  {
   "cell_type": "markdown",
   "metadata": {},
   "source": [
    "### Taller"
   ]
  },
  {
   "cell_type": "markdown",
   "metadata": {},
   "source": [
    "**Matrices de prueba**\n",
    "\n",
    "$$M_1= \\left[ \\matrix{\n",
    "2 & 1 & 3 &|+ 3 \\\\\n",
    "4 & -1 & 3 &|-4 \\\\ \n",
    "-1 & 5 & 5 &|+ 9\n",
    "}\\right]  \\\\ $$ \n",
    "\n",
    "$$ M_2=\\left[ \\matrix{\n",
    "3 & 1 & 3 & -4 &|1 \\\\\n",
    "6 & 4 & 8 & -10 &|5 \\\\ \n",
    "3 & 2 & 5 & -1 &|6 \\\\\n",
    "-9 & 5 & -2 & -4& |2 \n",
    "}\\right] $$"
   ]
  },
  {
   "cell_type": "markdown",
   "metadata": {},
   "source": [
    "**1**. **A**Escriba tres rutinas que realicen, dada una matriz $ A $, las operaciones anteriores sobre matrices:\n",
    "\n",
    "**row_lamb($i$, $ \\lambda $, $ A $)**: $ i $ es la fila que se va a cambiar, $ \\lambda $ el factor multiplicativo y A la matriz. Esta función debería devolver la nueva matriz con la operación realizada $ (\\lambda E_i) \\rightarrow (E_i) $.\n",
    "\n",
    "**row_comb ($ i $, $ j $ $ \\lambda $, $ A $)**: $ i $ es la fila que se cambiará, $ j $ la fila que se agregará, $ \\lambda $ el factor multiplicativo y A la matriz. Esta función debería devolver la nueva matriz con la operación realizada $ (E_i + \\lambda E_j) \\rightarrow (E_i) $.\n",
    "\n",
    "**row_swap ($ i $, $ j $, $ A $)**: $ i $ y $ j $ son las filas que se intercambian. Esta función debería devolver la nueva matriz con la operación realizada $ (E_i) \\leftrightarrow (E_j) $.\n",
    "\n",
    "**B** Luego use las rutinas definidas anteriormente en el literal anterior y la funcion `Gaussian_Elimination` para resolver las matrices $M_1$ y $M_2$"
   ]
  },
  {
   "cell_type": "code",
   "execution_count": 79,
   "metadata": {},
   "outputs": [
    {
     "name": "stdout",
     "output_type": "stream",
     "text": [
      "Matriz escalonada:\n",
      " [[  2.           1.           3.           3.        ]\n",
      " [  0.          -3.          -3.         -10.        ]\n",
      " [  0.           0.           1.          -7.83333333]] \n",
      " Solución del sistema:\n",
      "[ 7.66666667 11.16666667 -7.83333333] \n",
      "Matriz escalonada:\n",
      " [[ 3.     1.     3.    -4.     1.   ]\n",
      " [ 0.     2.     2.    -2.     3.   ]\n",
      " [ 0.     0.     1.     4.     3.5  ]\n",
      " [-0.    -0.    -0.     1.     0.875]] \n",
      " Solución del sistema:\n",
      " [0.70833333 2.375      0.         0.875     ]\n"
     ]
    }
   ],
   "source": [
    "import numpy as np\n",
    "import sympy as sp\n",
    "\n",
    "def row_lamb( i, λ, A ):\n",
    "    B = A.copy()\n",
    "    if isinstance(B[0,0],np.int64):\n",
    "        B=B.astype(float)\n",
    "    B[i] = λ*B[i]\n",
    "    return B\n",
    "\n",
    "def row_comb( i, j, λ, A ):\n",
    "    B = A.copy()\n",
    "    if isinstance(B[0,0],np.int64):\n",
    "        B=B.astype(float)\n",
    "    B[i] = λ*B[j] + B[i]\n",
    "    return B\n",
    "\n",
    "def row_swap( i, j, A ):\n",
    "    B = A.copy()\n",
    "    B[[i,j]] = B[[j,i]]\n",
    "    return B\n",
    "\n",
    "############################################################################################3\n",
    "\n",
    "def Gaussian_Elimination(A0):         #Función de eliminación gaussiana\n",
    "    A = 1.0*np.copy(A0)\n",
    "    n=len(A)\n",
    "    for i in range(n):\n",
    "        for j in range(i+1):\n",
    "                if i==j:\n",
    "                    if A[i,j]==0:                #Si hay algún cero en la diagonal, se cambia la fila por la última\n",
    "                        A = row_swap(i, -1, A)\n",
    "                    break\n",
    "                A = row_comb(i, j, -A[i,j]/A[j,j], A)    #Aquí se hallan lo ceros debajo de la diagonal\n",
    "                 \n",
    "    for i in range(n):                  #Este ciclo es para volver a hallar los ceros debajo de la diagonal si se cambió \n",
    "        for j in range(i+1):            #una fila\n",
    "            if i==j:\n",
    "                if A[i,j]==0:\n",
    "                    A = row_swap(i, -1, A)\n",
    "                break\n",
    "            A = row_comb(i, j, -A[i,j]/A[j,j], A)\n",
    "    return A\n",
    "\n",
    "################################################\n",
    "\n",
    "def Sol(A0):\n",
    "    A = 1.0*np.copy(A0)\n",
    "    n = len(A)\n",
    "    for i in range(n):\n",
    "        for j in range(i+1):\n",
    "                if i==j:\n",
    "                    if A[i,j]==0:\n",
    "                        A = row_swap(i, -1, A)\n",
    "                    break\n",
    "                A = row_comb(i, j, -A[i,j]/A[j,j], A)\n",
    "    for i in range(n):\n",
    "        for j in range(i+1):\n",
    "                if i==j:\n",
    "                    if A[i,j]==0:\n",
    "                        A = row_swap(i, -1, A)\n",
    "                    break\n",
    "                A = row_comb(i, j, -A[i,j]/A[j,j], A)  #Gaussian_Elimination\n",
    "    x = np.zeros(n)                                    #se hace un vector para las soluciones\n",
    "    if A[n-1, n]==1:                                   #Se normaliza el ultimo elemento de la diagonal si es diferente de 1\n",
    "        x[n-1] = A[n-1,n]\n",
    "    else:\n",
    "        A = row_lamb(i, 1/A[n-1,n-1], A)\n",
    "        x[n-1] = A[n-1,n]\n",
    "        \n",
    "    for i in range( n-1, -1, -1 ):\n",
    "        x[i] = ( A[i,n] - sum(A[i,i+1:n]*x[i+1:n]) )/A[i,i]\n",
    "    \n",
    "    return A, x\n",
    "\n",
    "############################################################################################\n",
    "\n",
    "M1 = np.array([[2, 1, 3, 3],\n",
    "              [4, -1, 3, -4],\n",
    "              [-1, 5, 5, 9]])\n",
    "\n",
    "M2 = np.array([[3, 1, 3, -4, 1],\n",
    "              [6, 4, 8, -10, 5],\n",
    "              [3, 2, 5, -1, 6],\n",
    "              [-9, 5, -2, -4, 2]])\n",
    "\n",
    "A1, x1 = Sol(M1)\n",
    "A2, x2 = Sol(M2)\n",
    "print('Matriz escalonada:\\n {} \\n Solución del sistema:\\n{} '.format(A1, x1))\n",
    "print('Matriz escalonada:\\n {} \\n Solución del sistema:\\n {}'.format(A2, x2))"
   ]
  },
  {
   "cell_type": "markdown",
   "metadata": {},
   "source": [
    "**2** Usando la rutina  `Gaussian_Elimination`, para crear una nueva rutina` Inverse` que calcule el inverso de cualquier matriz cuadrada dada. Luego use la rutina para enconcontrar la solucion de las matrices $M_1$ y $M_2$"
   ]
  },
  {
   "cell_type": "code",
   "execution_count": 46,
   "metadata": {},
   "outputs": [
    {
     "name": "stdout",
     "output_type": "stream",
     "text": [
      "La inversa de M1 es: \n",
      " [[ 3.33333333 -1.66666667 -1.        ]\n",
      " [ 3.83333333 -2.16666667 -1.        ]\n",
      " [-3.16666667  1.83333333  1.        ]] \n",
      " Solución del sistema:\n",
      " [ 7.66666667 11.16666667 -7.83333333]\n",
      "La inversa de M2 es: \n",
      " [[ -9.41666667   4.29166667  -1.58333333  -0.91666667]\n",
      " [-14.75         6.625       -2.25        -1.25      ]\n",
      " [ 11.          -5.           2.           1.        ]\n",
      " [ -2.75         1.125       -0.25        -0.25      ]] \n",
      " Solución del sistema:\n",
      " [0.70833333 2.375      0.         0.875     ]\n"
     ]
    }
   ],
   "source": [
    "def Esca_red(A0):           #Esta es una función para hallar la escalonada reducida aplicando Gauss-Jorda\n",
    "    A = 1.0*np.copy(A0)     #Pues con solo la función escalonada no se puede hallar la inversa\n",
    "    n = len(A)\n",
    "                            #La mitad de la función es Gaussian_Elimination y la otra parte es para hallar los\n",
    "                            #ceros sobre la diagonal                    \n",
    "    for i in range(n):\n",
    "        for j in range(i+1):\n",
    "                if i==j:\n",
    "                    if A[i,j]==0:               \n",
    "                        A = row_swap(i, -1, A)\n",
    "                    break\n",
    "                A = row_comb(i, j, -A[i,j]/A[j,j], A)   \n",
    "                 \n",
    "    for i in range(n):                  \n",
    "        for j in range(i+1):            \n",
    "                if i==j:\n",
    "                    if A[i,j]==0:\n",
    "                        A = row_swap(i, -1, A)\n",
    "                    break\n",
    "                A = row_comb(i, j, -A[i,j]/A[j,j], A)  #Hasta aquí es la misma función que Gaussian_Elimination\n",
    "\n",
    "    for i in range(0,n):      #con este for convierto toda la diagonal en 1\n",
    "        for j in range(0,n):\n",
    "            if i==j:\n",
    "                A=row_lamb( i, 1.0/A[i,j], A )\n",
    "        \n",
    "    for k in range(n-1, 1, -1):   #Aquí vuelvo 0 todos los números arriba de la diagonal\n",
    "        for i in range(n-1,-1,-1):\n",
    "            for j in range(1, n-i):\n",
    "                A = row_comb(i, i+j, -A[i, i+j], A)   \n",
    "        A = row_lamb( i, 1.0/A[i,i], A )\n",
    "    \n",
    "    return A\n",
    "\n",
    "###################################################################################################\n",
    "\n",
    "def Inverse(A0):       #Función para hallar inversa\n",
    "    A = 1.0*np.copy(A0)\n",
    "    n = len(A)\n",
    "    #Se debe revisar si la matriz es cuadrada\n",
    "    if A.shape[0] == A.shape[1]:\n",
    "        I = np.identity(n)\n",
    "        #Aumento la matriz con la matriz identidad\n",
    "        A = np.append(A, I, axis=1)\n",
    "        #a la matriz aumentada le hago Gauss-Jordan \n",
    "        K = Esca_red(A)\n",
    "        #Finalmente, de la matriz aumentada escalonada reducida, saco la matriz inversa \n",
    "        #que sería la segunda parte de la matriz\n",
    "        j=int(K.shape[1]/2)\n",
    "        Inv = K[:, j:]\n",
    "    else:\n",
    "        print('¡¡¡La matriz debe ser cuadrada!!!')\n",
    "    return Inv\n",
    "\n",
    "####################################################################################################\n",
    "\n",
    "M1_ = np.delete(M1, -1, axis=1)         #Se sabe que x = A^-1 * b entonces se multiplica la inversa por b que es la parte\n",
    "b1 = np.array([3, -4, 9])               #derecha de la igualdad\n",
    "\n",
    "M2_ = np.delete(M2, -1, axis=1)\n",
    "b2 = np.array( [1, 5, 6, 2])\n",
    "\n",
    "Solu_M1 = np.dot(Inverse(M1_), b1)\n",
    "Solu_M2 = np.dot(Inverse(M2_), b2)\n",
    "\n",
    "print(\"La inversa de M1 es: \\n {} \\n Solución del sistema:\\n {}\".format( Inverse(M1_), Solu_M1 ))\n",
    "print(\"La inversa de M2 es: \\n {} \\n Solución del sistema:\\n {}\".format( Inverse(M2_), Solu_M2 ))"
   ]
  },
  {
   "cell_type": "code",
   "execution_count": null,
   "metadata": {},
   "outputs": [],
   "source": []
  },
  {
   "cell_type": "markdown",
   "metadata": {},
   "source": [
    "**3** Usando la rutina `Gaussian_Elimination` y rastreando las operaciones realizadas, construya una nueva rutina llamada` Gaussian_Determinant`. Calculo el determinante de las matrices $M_1$ y $M_2$ "
   ]
  },
  {
   "cell_type": "code",
   "execution_count": 59,
   "metadata": {
    "scrolled": true
   },
   "outputs": [
    {
     "name": "stdout",
     "output_type": "stream",
     "text": [
      "Determinate de la matriz:\n",
      " -6.0\n",
      "Determinate de la matriz:\n",
      " -24.0\n"
     ]
    }
   ],
   "source": [
    "def Gauss_det(A0):      #Esta función hace eliminación gaussiana, pero le añadí que si se realiza un cambio de filas, \n",
    "                        #se multiplica la fila que se quiere cambiar por -1.\n",
    "    A = 1.0*np.copy(A0)\n",
    "    n=len(A)\n",
    "    for i in range(n):\n",
    "        for j in range(i+1):\n",
    "                if i==j:\n",
    "                    if A[i,j]==0:\n",
    "                        A = row_swap(i, -1, A)\n",
    "                        A = row_lamb(i+1, -1, A)   #En este punto me aseguro que al intercambiar filas, la fila cambiada \n",
    "                    break                          #se multiplique por -1, pues es una condición para hallar el determinante \n",
    "                                                   #usando la matriz escalonada.\n",
    "                A = row_comb(i, j, -A[i,j]/A[j,j], A)\n",
    "    for i in range(n):\n",
    "        for j in range(i+1):\n",
    "                if i==j:\n",
    "                    if A[i,j]==0:\n",
    "                        A = row_swap(i, -1, A)\n",
    "                        A = row_lamb(i+1, -1, A)\n",
    "                    break\n",
    "                A = row_comb(i, j, -A[i,j]/A[j,j], A)\n",
    "    return A\n",
    "\n",
    "#######################################################################################################\n",
    "\n",
    "def Gaussian_Determinant(A0):   #El determinante de una matriz (debe ser cuadrada) es el productor de los coeficientes de\n",
    "    A=1.0*np.copy(A0)           #de la diagonal de la matriz triangular superior\n",
    "    T=Gauss_det(A)\n",
    "    if A.shape[0] == A.shape[1]:   \n",
    "        n=len(A)\n",
    "        D=1\n",
    "        for i in range(n):\n",
    "            for j in range(n):\n",
    "                if i==j:\n",
    "                    D=D*T[i,j]\n",
    "    return D\n",
    "\n",
    "print('Determinate de la matriz:\\n', Gaussian_Determinant(M1_))\n",
    "print('Determinate de la matriz:\\n', Gaussian_Determinant(M2_))"
   ]
  },
  {
   "cell_type": "code",
   "execution_count": null,
   "metadata": {},
   "outputs": [],
   "source": []
  },
  {
   "cell_type": "markdown",
   "metadata": {},
   "source": [
    "## **4** Usando la funcion ` Gaussian_Determinant` encuentre la inversa de una matriz y luego encuentre la solucion de las matrices $M_1$ y $M_2$. \n",
    "\n",
    "**Nota** recuerde que la solucion de un sistema con el determinante se puede escribir como:\n",
    "$$A^{-1}=\\frac{1}{|A|} {\\bf{Adj}}(A^T) $$\n",
    "Por lo que debera creear una funcion que encuentre la ${Adj(A)}^T$"
   ]
  },
  {
   "cell_type": "code",
   "execution_count": 61,
   "metadata": {},
   "outputs": [
    {
     "name": "stdout",
     "output_type": "stream",
     "text": [
      "Matriz Adjunta:\n",
      "[[-20.  10.   6.]\n",
      " [-23.  13.   6.]\n",
      " [ 19. -11.  -6.]] \n",
      " Matriz inversa de M1: \n",
      " [[ 3.33333333 -1.66666667 -1.        ]\n",
      " [ 3.83333333 -2.16666667 -1.        ]\n",
      " [-3.16666667  1.83333333  1.        ]] \n",
      " Solución del sistema: \n",
      " [ 7.66666667 11.16666667 -7.83333333]\n",
      "\n",
      "Matriz Adjunta:\n",
      "[[ 226. -103.   38.   22.]\n",
      " [ 354. -159.   54.   30.]\n",
      " [-264.  120.  -48.  -24.]\n",
      " [  66.  -27.    6.    6.]] \n",
      " Matriz inversa de M1: \n",
      " [[ -9.41666667   4.29166667  -1.58333333  -0.91666667]\n",
      " [-14.75         6.625       -2.25        -1.25      ]\n",
      " [ 11.          -5.           2.           1.        ]\n",
      " [ -2.75         1.125       -0.25        -0.25      ]] \n",
      " Solución del sistema: \n",
      " [0.70833333 2.375      0.         0.875     ]\n",
      "\n"
     ]
    }
   ],
   "source": [
    "def Adjunta(A0):    #La adjunta de una matriz es una matriz de cofactores de la traspuesta de la matriz, por lo que \n",
    "    A=np.copy(A0)   #la entrada de la función es la matriz normal y dentro de la función Adjunta se convierte a traspuesta.\n",
    "    AT=A.T\n",
    "    if A.shape[0] == A.shape[1]:   #Asegurar que la matriz sea cuadrada\n",
    "        n=len(A)\n",
    "        Adj=np.zeros((n,n))        #Hacer matriz de ceros con la misma dimensión\n",
    "        for i in range(n):\n",
    "            for j in range(n):\n",
    "                Ai=np.delete(AT, i, axis=0)    #Eliminar la fila i y la columna j de cada elemento de la matriz traspuesta\n",
    "                Aj=np.delete(Ai, j, axis=1)\n",
    "                k=Gaussian_Determinant(Aj)     #Hallar el determinante de la matriz n-1 x n-1\n",
    "                if i%2 != 0:                   #Reemplazar cada determinante por el elemento i,j de la matriz de ceros.\n",
    "                    if j%2==0:           \n",
    "                        Adj[i,j]=-k            #Con estos ciclos se asegura que los signos sean correctos\n",
    "                    else:\n",
    "                        Adj[i,j]=k\n",
    "                else:\n",
    "                    if j%2!=0:\n",
    "                        Adj[i,j]=-k\n",
    "                    else:\n",
    "                        Adj[i,j]=k\n",
    "    else:\n",
    "        print(\"¡La matriz debe ser cuadrada\")\n",
    "    return Adj\n",
    "\n",
    "#########################################################################\n",
    "\n",
    "def Inver(A0):\n",
    "    A=1.0*np.copy(A0)\n",
    "    Adjun = Adjunta(A)\n",
    "    DetA = Gaussian_Determinant(A)\n",
    "    Invers = Adjun/DetA\n",
    "    return Invers\n",
    "    \n",
    "Sol_M1 = np.dot(Inver(M1_), b1)\n",
    "Sol_M2 = np.dot(Inver(M2_), b2)\n",
    "\n",
    "\n",
    "print(\"Matriz Adjunta:\\n{} \\n Matriz inversa de M1: \\n {} \\n Solución del sistema: \\n {}\\n\".format(Adjunta(M1_), Inver(M1_), Sol_M1) )\n",
    "print(\"Matriz Adjunta:\\n{} \\n Matriz inversa de M1: \\n {} \\n Solución del sistema: \\n {}\\n\".format(Adjunta(M2_), Inver(M2_), Sol_M2) )"
   ]
  },
  {
   "cell_type": "markdown",
   "metadata": {},
   "source": [
    "**5** Cree una rutina llamada `LU_Factorization` que, dada una matriz $ \\mathbf {A} $ y el algoritmo anterior, calcule la factorización LU de la matriz. Pruebe su rutina con las matrices cuadrada $M_1$ y $M_2$, verifique que $ \\mathbf {A} = \\mathbf {L} \\mathbf {U} $ sean las ya dadas y encuentre la solucion a estas matices $M_1$ y $M_2$."
   ]
  },
  {
   "cell_type": "code",
   "execution_count": 86,
   "metadata": {},
   "outputs": [],
   "source": [
    "def LU(A0):\n",
    "    A=np.copy(A0)\n",
    "    n=len(A)\n",
    "    U=Gaussian_Elimination(A)\n",
    "    \n",
    "    \n",
    "    \n",
    "    \n",
    "    \n",
    "    \n",
    "    \n",
    "    return U"
   ]
  },
  {
   "cell_type": "code",
   "execution_count": 87,
   "metadata": {},
   "outputs": [
    {
     "data": {
      "text/plain": [
       "array([[ 2.,  1.,  3.],\n",
       "       [ 0., -3., -3.],\n",
       "       [ 0.,  0.,  1.]])"
      ]
     },
     "execution_count": 87,
     "metadata": {},
     "output_type": "execute_result"
    }
   ],
   "source": [
    "LU(M1_)"
   ]
  },
  {
   "cell_type": "code",
   "execution_count": null,
   "metadata": {},
   "outputs": [],
   "source": []
  }
 ],
 "metadata": {
  "kernelspec": {
   "display_name": "Python 3",
   "language": "python",
   "name": "python3"
  },
  "language_info": {
   "codemirror_mode": {
    "name": "ipython",
    "version": 3
   },
   "file_extension": ".py",
   "mimetype": "text/x-python",
   "name": "python",
   "nbconvert_exporter": "python",
   "pygments_lexer": "ipython3",
   "version": "3.8.8"
  }
 },
 "nbformat": 4,
 "nbformat_minor": 2
}
