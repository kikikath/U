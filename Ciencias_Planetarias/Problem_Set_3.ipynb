{
  "nbformat": 4,
  "nbformat_minor": 0,
  "metadata": {
    "colab": {
      "provenance": []
    },
    "kernelspec": {
      "name": "python3",
      "display_name": "Python 3"
    },
    "language_info": {
      "name": "python"
    }
  },
  "cells": [
    {
      "cell_type": "code",
      "execution_count": 1,
      "metadata": {
        "id": "cR6vmdsa-VMw"
      },
      "outputs": [],
      "source": [
        "import numpy as np\n",
        "import matplotlib.pyplot as plt\n",
        "import pandas as pd"
      ]
    },
    {
      "cell_type": "code",
      "source": [
        "1.989e30/1e24"
      ],
      "metadata": {
        "colab": {
          "base_uri": "https://localhost:8080/"
        },
        "id": "Mod0mDkeEyHX",
        "outputId": "b8dd6c25-0a56-4acb-aec2-53461a132cea"
      },
      "execution_count": 2,
      "outputs": [
        {
          "output_type": "execute_result",
          "data": {
            "text/plain": [
              "1989000.0"
            ]
          },
          "metadata": {},
          "execution_count": 2
        }
      ]
    },
    {
      "cell_type": "code",
      "source": [
        "df = pd.DataFrame()\n",
        "\n",
        "nss =  ['SOL', 'MERCURY', 'VENUS', \t 'EARTH', \t 'MARS', \t 'JUPITER',\n",
        "        'SATURN', \t 'URANUS', \t 'NEPTUNE']\n",
        "mss = [1.989e6, 0.330,\t4.87,\t5.97,\t0.642,\t1898,\t568,\t86.8,\t102]\n",
        "ss = (sum(mss)-mss[0])*1e24\n",
        "print(ss)\n",
        "\n",
        "print(ss/(mss[0]*1e24))"
      ],
      "metadata": {
        "colab": {
          "base_uri": "https://localhost:8080/"
        },
        "id": "zQk7Glbh-elU",
        "outputId": "be648a41-ecc6-4ab4-c5ff-ba2d307ed852"
      },
      "execution_count": 3,
      "outputs": [
        {
          "output_type": "stream",
          "name": "stdout",
          "text": [
            "2.666612000000197e+27\n",
            "0.0013406797385621906\n"
          ]
        }
      ]
    },
    {
      "cell_type": "code",
      "source": [
        "df['Nombre'] = nss\n",
        "df['Masa [10^24 kg]'] = mss\n",
        "df"
      ],
      "metadata": {
        "colab": {
          "base_uri": "https://localhost:8080/",
          "height": 331
        },
        "id": "0M_nZRr3AF3M",
        "outputId": "47e98f5c-9011-4177-9788-2b373b365b13"
      },
      "execution_count": 4,
      "outputs": [
        {
          "output_type": "execute_result",
          "data": {
            "text/plain": [
              "    Nombre  Masa [10^24 kg]\n",
              "0      SOL      1989000.000\n",
              "1  MERCURY            0.330\n",
              "2    VENUS            4.870\n",
              "3    EARTH            5.970\n",
              "4     MARS            0.642\n",
              "5  JUPITER         1898.000\n",
              "6   SATURN          568.000\n",
              "7   URANUS           86.800\n",
              "8  NEPTUNE          102.000"
            ],
            "text/html": [
              "\n",
              "  <div id=\"df-69c726ee-aba6-42df-b012-5afb2ea57c65\">\n",
              "    <div class=\"colab-df-container\">\n",
              "      <div>\n",
              "<style scoped>\n",
              "    .dataframe tbody tr th:only-of-type {\n",
              "        vertical-align: middle;\n",
              "    }\n",
              "\n",
              "    .dataframe tbody tr th {\n",
              "        vertical-align: top;\n",
              "    }\n",
              "\n",
              "    .dataframe thead th {\n",
              "        text-align: right;\n",
              "    }\n",
              "</style>\n",
              "<table border=\"1\" class=\"dataframe\">\n",
              "  <thead>\n",
              "    <tr style=\"text-align: right;\">\n",
              "      <th></th>\n",
              "      <th>Nombre</th>\n",
              "      <th>Masa [10^24 kg]</th>\n",
              "    </tr>\n",
              "  </thead>\n",
              "  <tbody>\n",
              "    <tr>\n",
              "      <th>0</th>\n",
              "      <td>SOL</td>\n",
              "      <td>1989000.000</td>\n",
              "    </tr>\n",
              "    <tr>\n",
              "      <th>1</th>\n",
              "      <td>MERCURY</td>\n",
              "      <td>0.330</td>\n",
              "    </tr>\n",
              "    <tr>\n",
              "      <th>2</th>\n",
              "      <td>VENUS</td>\n",
              "      <td>4.870</td>\n",
              "    </tr>\n",
              "    <tr>\n",
              "      <th>3</th>\n",
              "      <td>EARTH</td>\n",
              "      <td>5.970</td>\n",
              "    </tr>\n",
              "    <tr>\n",
              "      <th>4</th>\n",
              "      <td>MARS</td>\n",
              "      <td>0.642</td>\n",
              "    </tr>\n",
              "    <tr>\n",
              "      <th>5</th>\n",
              "      <td>JUPITER</td>\n",
              "      <td>1898.000</td>\n",
              "    </tr>\n",
              "    <tr>\n",
              "      <th>6</th>\n",
              "      <td>SATURN</td>\n",
              "      <td>568.000</td>\n",
              "    </tr>\n",
              "    <tr>\n",
              "      <th>7</th>\n",
              "      <td>URANUS</td>\n",
              "      <td>86.800</td>\n",
              "    </tr>\n",
              "    <tr>\n",
              "      <th>8</th>\n",
              "      <td>NEPTUNE</td>\n",
              "      <td>102.000</td>\n",
              "    </tr>\n",
              "  </tbody>\n",
              "</table>\n",
              "</div>\n",
              "      <button class=\"colab-df-convert\" onclick=\"convertToInteractive('df-69c726ee-aba6-42df-b012-5afb2ea57c65')\"\n",
              "              title=\"Convert this dataframe to an interactive table.\"\n",
              "              style=\"display:none;\">\n",
              "        \n",
              "  <svg xmlns=\"http://www.w3.org/2000/svg\" height=\"24px\"viewBox=\"0 0 24 24\"\n",
              "       width=\"24px\">\n",
              "    <path d=\"M0 0h24v24H0V0z\" fill=\"none\"/>\n",
              "    <path d=\"M18.56 5.44l.94 2.06.94-2.06 2.06-.94-2.06-.94-.94-2.06-.94 2.06-2.06.94zm-11 1L8.5 8.5l.94-2.06 2.06-.94-2.06-.94L8.5 2.5l-.94 2.06-2.06.94zm10 10l.94 2.06.94-2.06 2.06-.94-2.06-.94-.94-2.06-.94 2.06-2.06.94z\"/><path d=\"M17.41 7.96l-1.37-1.37c-.4-.4-.92-.59-1.43-.59-.52 0-1.04.2-1.43.59L10.3 9.45l-7.72 7.72c-.78.78-.78 2.05 0 2.83L4 21.41c.39.39.9.59 1.41.59.51 0 1.02-.2 1.41-.59l7.78-7.78 2.81-2.81c.8-.78.8-2.07 0-2.86zM5.41 20L4 18.59l7.72-7.72 1.47 1.35L5.41 20z\"/>\n",
              "  </svg>\n",
              "      </button>\n",
              "      \n",
              "  <style>\n",
              "    .colab-df-container {\n",
              "      display:flex;\n",
              "      flex-wrap:wrap;\n",
              "      gap: 12px;\n",
              "    }\n",
              "\n",
              "    .colab-df-convert {\n",
              "      background-color: #E8F0FE;\n",
              "      border: none;\n",
              "      border-radius: 50%;\n",
              "      cursor: pointer;\n",
              "      display: none;\n",
              "      fill: #1967D2;\n",
              "      height: 32px;\n",
              "      padding: 0 0 0 0;\n",
              "      width: 32px;\n",
              "    }\n",
              "\n",
              "    .colab-df-convert:hover {\n",
              "      background-color: #E2EBFA;\n",
              "      box-shadow: 0px 1px 2px rgba(60, 64, 67, 0.3), 0px 1px 3px 1px rgba(60, 64, 67, 0.15);\n",
              "      fill: #174EA6;\n",
              "    }\n",
              "\n",
              "    [theme=dark] .colab-df-convert {\n",
              "      background-color: #3B4455;\n",
              "      fill: #D2E3FC;\n",
              "    }\n",
              "\n",
              "    [theme=dark] .colab-df-convert:hover {\n",
              "      background-color: #434B5C;\n",
              "      box-shadow: 0px 1px 3px 1px rgba(0, 0, 0, 0.15);\n",
              "      filter: drop-shadow(0px 1px 2px rgba(0, 0, 0, 0.3));\n",
              "      fill: #FFFFFF;\n",
              "    }\n",
              "  </style>\n",
              "\n",
              "      <script>\n",
              "        const buttonEl =\n",
              "          document.querySelector('#df-69c726ee-aba6-42df-b012-5afb2ea57c65 button.colab-df-convert');\n",
              "        buttonEl.style.display =\n",
              "          google.colab.kernel.accessAllowed ? 'block' : 'none';\n",
              "\n",
              "        async function convertToInteractive(key) {\n",
              "          const element = document.querySelector('#df-69c726ee-aba6-42df-b012-5afb2ea57c65');\n",
              "          const dataTable =\n",
              "            await google.colab.kernel.invokeFunction('convertToInteractive',\n",
              "                                                     [key], {});\n",
              "          if (!dataTable) return;\n",
              "\n",
              "          const docLinkHtml = 'Like what you see? Visit the ' +\n",
              "            '<a target=\"_blank\" href=https://colab.research.google.com/notebooks/data_table.ipynb>data table notebook</a>'\n",
              "            + ' to learn more about interactive tables.';\n",
              "          element.innerHTML = '';\n",
              "          dataTable['output_type'] = 'display_data';\n",
              "          await google.colab.output.renderOutput(dataTable, element);\n",
              "          const docLink = document.createElement('div');\n",
              "          docLink.innerHTML = docLinkHtml;\n",
              "          element.appendChild(docLink);\n",
              "        }\n",
              "      </script>\n",
              "    </div>\n",
              "  </div>\n",
              "  "
            ]
          },
          "metadata": {},
          "execution_count": 4
        }
      ]
    },
    {
      "cell_type": "code",
      "source": [
        "nsj = ['Jupiter','Ganymede', 'Callisto','Io', 'Europa','Himalia', 'Amalthea']\n",
        "msj = [1.898e11, 14819000, 8931900, 4799800, 10759000, 420, 208]\n",
        "\n",
        "dfj = pd.DataFrame()\n",
        "\n",
        "dfj['Nombre'] = nsj\n",
        "dfj['Masa [10^16 kg]'] = np.round(msj, 1)\n",
        "\n",
        "ssj = (sum(msj)-msj[0])*1e16\n",
        "print(ssj, ssj/(msj[0]*1e16))\n",
        "dfj"
      ],
      "metadata": {
        "colab": {
          "base_uri": "https://localhost:8080/",
          "height": 286
        },
        "id": "736rossuBY0Z",
        "outputId": "6a48b2b1-62f2-4584-86b1-532f80c4ec5c"
      },
      "execution_count": 5,
      "outputs": [
        {
          "output_type": "stream",
          "name": "stdout",
          "text": [
            "3.9310328e+23 0.00020711447839831401\n"
          ]
        },
        {
          "output_type": "execute_result",
          "data": {
            "text/plain": [
              "     Nombre  Masa [10^16 kg]\n",
              "0   Jupiter     1.898000e+11\n",
              "1  Ganymede     1.481900e+07\n",
              "2  Callisto     8.931900e+06\n",
              "3        Io     4.799800e+06\n",
              "4    Europa     1.075900e+07\n",
              "5   Himalia     4.200000e+02\n",
              "6  Amalthea     2.080000e+02"
            ],
            "text/html": [
              "\n",
              "  <div id=\"df-3e557145-3973-4ea7-9fc2-de7fdaf5d12b\">\n",
              "    <div class=\"colab-df-container\">\n",
              "      <div>\n",
              "<style scoped>\n",
              "    .dataframe tbody tr th:only-of-type {\n",
              "        vertical-align: middle;\n",
              "    }\n",
              "\n",
              "    .dataframe tbody tr th {\n",
              "        vertical-align: top;\n",
              "    }\n",
              "\n",
              "    .dataframe thead th {\n",
              "        text-align: right;\n",
              "    }\n",
              "</style>\n",
              "<table border=\"1\" class=\"dataframe\">\n",
              "  <thead>\n",
              "    <tr style=\"text-align: right;\">\n",
              "      <th></th>\n",
              "      <th>Nombre</th>\n",
              "      <th>Masa [10^16 kg]</th>\n",
              "    </tr>\n",
              "  </thead>\n",
              "  <tbody>\n",
              "    <tr>\n",
              "      <th>0</th>\n",
              "      <td>Jupiter</td>\n",
              "      <td>1.898000e+11</td>\n",
              "    </tr>\n",
              "    <tr>\n",
              "      <th>1</th>\n",
              "      <td>Ganymede</td>\n",
              "      <td>1.481900e+07</td>\n",
              "    </tr>\n",
              "    <tr>\n",
              "      <th>2</th>\n",
              "      <td>Callisto</td>\n",
              "      <td>8.931900e+06</td>\n",
              "    </tr>\n",
              "    <tr>\n",
              "      <th>3</th>\n",
              "      <td>Io</td>\n",
              "      <td>4.799800e+06</td>\n",
              "    </tr>\n",
              "    <tr>\n",
              "      <th>4</th>\n",
              "      <td>Europa</td>\n",
              "      <td>1.075900e+07</td>\n",
              "    </tr>\n",
              "    <tr>\n",
              "      <th>5</th>\n",
              "      <td>Himalia</td>\n",
              "      <td>4.200000e+02</td>\n",
              "    </tr>\n",
              "    <tr>\n",
              "      <th>6</th>\n",
              "      <td>Amalthea</td>\n",
              "      <td>2.080000e+02</td>\n",
              "    </tr>\n",
              "  </tbody>\n",
              "</table>\n",
              "</div>\n",
              "      <button class=\"colab-df-convert\" onclick=\"convertToInteractive('df-3e557145-3973-4ea7-9fc2-de7fdaf5d12b')\"\n",
              "              title=\"Convert this dataframe to an interactive table.\"\n",
              "              style=\"display:none;\">\n",
              "        \n",
              "  <svg xmlns=\"http://www.w3.org/2000/svg\" height=\"24px\"viewBox=\"0 0 24 24\"\n",
              "       width=\"24px\">\n",
              "    <path d=\"M0 0h24v24H0V0z\" fill=\"none\"/>\n",
              "    <path d=\"M18.56 5.44l.94 2.06.94-2.06 2.06-.94-2.06-.94-.94-2.06-.94 2.06-2.06.94zm-11 1L8.5 8.5l.94-2.06 2.06-.94-2.06-.94L8.5 2.5l-.94 2.06-2.06.94zm10 10l.94 2.06.94-2.06 2.06-.94-2.06-.94-.94-2.06-.94 2.06-2.06.94z\"/><path d=\"M17.41 7.96l-1.37-1.37c-.4-.4-.92-.59-1.43-.59-.52 0-1.04.2-1.43.59L10.3 9.45l-7.72 7.72c-.78.78-.78 2.05 0 2.83L4 21.41c.39.39.9.59 1.41.59.51 0 1.02-.2 1.41-.59l7.78-7.78 2.81-2.81c.8-.78.8-2.07 0-2.86zM5.41 20L4 18.59l7.72-7.72 1.47 1.35L5.41 20z\"/>\n",
              "  </svg>\n",
              "      </button>\n",
              "      \n",
              "  <style>\n",
              "    .colab-df-container {\n",
              "      display:flex;\n",
              "      flex-wrap:wrap;\n",
              "      gap: 12px;\n",
              "    }\n",
              "\n",
              "    .colab-df-convert {\n",
              "      background-color: #E8F0FE;\n",
              "      border: none;\n",
              "      border-radius: 50%;\n",
              "      cursor: pointer;\n",
              "      display: none;\n",
              "      fill: #1967D2;\n",
              "      height: 32px;\n",
              "      padding: 0 0 0 0;\n",
              "      width: 32px;\n",
              "    }\n",
              "\n",
              "    .colab-df-convert:hover {\n",
              "      background-color: #E2EBFA;\n",
              "      box-shadow: 0px 1px 2px rgba(60, 64, 67, 0.3), 0px 1px 3px 1px rgba(60, 64, 67, 0.15);\n",
              "      fill: #174EA6;\n",
              "    }\n",
              "\n",
              "    [theme=dark] .colab-df-convert {\n",
              "      background-color: #3B4455;\n",
              "      fill: #D2E3FC;\n",
              "    }\n",
              "\n",
              "    [theme=dark] .colab-df-convert:hover {\n",
              "      background-color: #434B5C;\n",
              "      box-shadow: 0px 1px 3px 1px rgba(0, 0, 0, 0.15);\n",
              "      filter: drop-shadow(0px 1px 2px rgba(0, 0, 0, 0.3));\n",
              "      fill: #FFFFFF;\n",
              "    }\n",
              "  </style>\n",
              "\n",
              "      <script>\n",
              "        const buttonEl =\n",
              "          document.querySelector('#df-3e557145-3973-4ea7-9fc2-de7fdaf5d12b button.colab-df-convert');\n",
              "        buttonEl.style.display =\n",
              "          google.colab.kernel.accessAllowed ? 'block' : 'none';\n",
              "\n",
              "        async function convertToInteractive(key) {\n",
              "          const element = document.querySelector('#df-3e557145-3973-4ea7-9fc2-de7fdaf5d12b');\n",
              "          const dataTable =\n",
              "            await google.colab.kernel.invokeFunction('convertToInteractive',\n",
              "                                                     [key], {});\n",
              "          if (!dataTable) return;\n",
              "\n",
              "          const docLinkHtml = 'Like what you see? Visit the ' +\n",
              "            '<a target=\"_blank\" href=https://colab.research.google.com/notebooks/data_table.ipynb>data table notebook</a>'\n",
              "            + ' to learn more about interactive tables.';\n",
              "          element.innerHTML = '';\n",
              "          dataTable['output_type'] = 'display_data';\n",
              "          await google.colab.output.renderOutput(dataTable, element);\n",
              "          const docLink = document.createElement('div');\n",
              "          docLink.innerHTML = docLinkHtml;\n",
              "          element.appendChild(docLink);\n",
              "        }\n",
              "      </script>\n",
              "    </div>\n",
              "  </div>\n",
              "  "
            ]
          },
          "metadata": {},
          "execution_count": 5
        }
      ]
    },
    {
      "cell_type": "code",
      "source": [
        "nssat = ['Saturno','Titán','Rea','Íapetus','Dione','Tetis','Encélado']\n",
        "\n",
        "msat = [5.6834e26, 1.3452e23, 2.306e21, 1.805e21, 1.095452e21, 6.176e20, \n",
        "        1.08022e20]\n",
        "ssat = sum(msat)-msat[0]\n",
        "print(ssat, ssat/msat[0])\n",
        "\n",
        "dfsat = pd.DataFrame()\n",
        "\n",
        "dfsat['Nombre'] = nssat\n",
        "dfsat['Masa [10^20 kg]'] = np.round(np.array(msat)/1e20, 3)\n",
        "dfsat"
      ],
      "metadata": {
        "colab": {
          "base_uri": "https://localhost:8080/",
          "height": 286
        },
        "id": "MNx6Q15KWkYM",
        "outputId": "b82c1f8d-d6c5-4497-c97c-de5b0ffc9a6b"
      },
      "execution_count": 6,
      "outputs": [
        {
          "output_type": "stream",
          "name": "stdout",
          "text": [
            "1.4045207400004756e+23 0.0002471268501250089\n"
          ]
        },
        {
          "output_type": "execute_result",
          "data": {
            "text/plain": [
              "     Nombre  Masa [10^20 kg]\n",
              "0   Saturno      5683400.000\n",
              "1     Titán         1345.200\n",
              "2       Rea           23.060\n",
              "3   Íapetus           18.050\n",
              "4     Dione           10.955\n",
              "5     Tetis            6.176\n",
              "6  Encélado            1.080"
            ],
            "text/html": [
              "\n",
              "  <div id=\"df-b03b402b-3e96-4fb7-bd5f-2c3a3f1657c3\">\n",
              "    <div class=\"colab-df-container\">\n",
              "      <div>\n",
              "<style scoped>\n",
              "    .dataframe tbody tr th:only-of-type {\n",
              "        vertical-align: middle;\n",
              "    }\n",
              "\n",
              "    .dataframe tbody tr th {\n",
              "        vertical-align: top;\n",
              "    }\n",
              "\n",
              "    .dataframe thead th {\n",
              "        text-align: right;\n",
              "    }\n",
              "</style>\n",
              "<table border=\"1\" class=\"dataframe\">\n",
              "  <thead>\n",
              "    <tr style=\"text-align: right;\">\n",
              "      <th></th>\n",
              "      <th>Nombre</th>\n",
              "      <th>Masa [10^20 kg]</th>\n",
              "    </tr>\n",
              "  </thead>\n",
              "  <tbody>\n",
              "    <tr>\n",
              "      <th>0</th>\n",
              "      <td>Saturno</td>\n",
              "      <td>5683400.000</td>\n",
              "    </tr>\n",
              "    <tr>\n",
              "      <th>1</th>\n",
              "      <td>Titán</td>\n",
              "      <td>1345.200</td>\n",
              "    </tr>\n",
              "    <tr>\n",
              "      <th>2</th>\n",
              "      <td>Rea</td>\n",
              "      <td>23.060</td>\n",
              "    </tr>\n",
              "    <tr>\n",
              "      <th>3</th>\n",
              "      <td>Íapetus</td>\n",
              "      <td>18.050</td>\n",
              "    </tr>\n",
              "    <tr>\n",
              "      <th>4</th>\n",
              "      <td>Dione</td>\n",
              "      <td>10.955</td>\n",
              "    </tr>\n",
              "    <tr>\n",
              "      <th>5</th>\n",
              "      <td>Tetis</td>\n",
              "      <td>6.176</td>\n",
              "    </tr>\n",
              "    <tr>\n",
              "      <th>6</th>\n",
              "      <td>Encélado</td>\n",
              "      <td>1.080</td>\n",
              "    </tr>\n",
              "  </tbody>\n",
              "</table>\n",
              "</div>\n",
              "      <button class=\"colab-df-convert\" onclick=\"convertToInteractive('df-b03b402b-3e96-4fb7-bd5f-2c3a3f1657c3')\"\n",
              "              title=\"Convert this dataframe to an interactive table.\"\n",
              "              style=\"display:none;\">\n",
              "        \n",
              "  <svg xmlns=\"http://www.w3.org/2000/svg\" height=\"24px\"viewBox=\"0 0 24 24\"\n",
              "       width=\"24px\">\n",
              "    <path d=\"M0 0h24v24H0V0z\" fill=\"none\"/>\n",
              "    <path d=\"M18.56 5.44l.94 2.06.94-2.06 2.06-.94-2.06-.94-.94-2.06-.94 2.06-2.06.94zm-11 1L8.5 8.5l.94-2.06 2.06-.94-2.06-.94L8.5 2.5l-.94 2.06-2.06.94zm10 10l.94 2.06.94-2.06 2.06-.94-2.06-.94-.94-2.06-.94 2.06-2.06.94z\"/><path d=\"M17.41 7.96l-1.37-1.37c-.4-.4-.92-.59-1.43-.59-.52 0-1.04.2-1.43.59L10.3 9.45l-7.72 7.72c-.78.78-.78 2.05 0 2.83L4 21.41c.39.39.9.59 1.41.59.51 0 1.02-.2 1.41-.59l7.78-7.78 2.81-2.81c.8-.78.8-2.07 0-2.86zM5.41 20L4 18.59l7.72-7.72 1.47 1.35L5.41 20z\"/>\n",
              "  </svg>\n",
              "      </button>\n",
              "      \n",
              "  <style>\n",
              "    .colab-df-container {\n",
              "      display:flex;\n",
              "      flex-wrap:wrap;\n",
              "      gap: 12px;\n",
              "    }\n",
              "\n",
              "    .colab-df-convert {\n",
              "      background-color: #E8F0FE;\n",
              "      border: none;\n",
              "      border-radius: 50%;\n",
              "      cursor: pointer;\n",
              "      display: none;\n",
              "      fill: #1967D2;\n",
              "      height: 32px;\n",
              "      padding: 0 0 0 0;\n",
              "      width: 32px;\n",
              "    }\n",
              "\n",
              "    .colab-df-convert:hover {\n",
              "      background-color: #E2EBFA;\n",
              "      box-shadow: 0px 1px 2px rgba(60, 64, 67, 0.3), 0px 1px 3px 1px rgba(60, 64, 67, 0.15);\n",
              "      fill: #174EA6;\n",
              "    }\n",
              "\n",
              "    [theme=dark] .colab-df-convert {\n",
              "      background-color: #3B4455;\n",
              "      fill: #D2E3FC;\n",
              "    }\n",
              "\n",
              "    [theme=dark] .colab-df-convert:hover {\n",
              "      background-color: #434B5C;\n",
              "      box-shadow: 0px 1px 3px 1px rgba(0, 0, 0, 0.15);\n",
              "      filter: drop-shadow(0px 1px 2px rgba(0, 0, 0, 0.3));\n",
              "      fill: #FFFFFF;\n",
              "    }\n",
              "  </style>\n",
              "\n",
              "      <script>\n",
              "        const buttonEl =\n",
              "          document.querySelector('#df-b03b402b-3e96-4fb7-bd5f-2c3a3f1657c3 button.colab-df-convert');\n",
              "        buttonEl.style.display =\n",
              "          google.colab.kernel.accessAllowed ? 'block' : 'none';\n",
              "\n",
              "        async function convertToInteractive(key) {\n",
              "          const element = document.querySelector('#df-b03b402b-3e96-4fb7-bd5f-2c3a3f1657c3');\n",
              "          const dataTable =\n",
              "            await google.colab.kernel.invokeFunction('convertToInteractive',\n",
              "                                                     [key], {});\n",
              "          if (!dataTable) return;\n",
              "\n",
              "          const docLinkHtml = 'Like what you see? Visit the ' +\n",
              "            '<a target=\"_blank\" href=https://colab.research.google.com/notebooks/data_table.ipynb>data table notebook</a>'\n",
              "            + ' to learn more about interactive tables.';\n",
              "          element.innerHTML = '';\n",
              "          dataTable['output_type'] = 'display_data';\n",
              "          await google.colab.output.renderOutput(dataTable, element);\n",
              "          const docLink = document.createElement('div');\n",
              "          docLink.innerHTML = docLinkHtml;\n",
              "          element.appendChild(docLink);\n",
              "        }\n",
              "      </script>\n",
              "    </div>\n",
              "  </div>\n",
              "  "
            ]
          },
          "metadata": {},
          "execution_count": 6
        }
      ]
    },
    {
      "cell_type": "code",
      "source": [
        "nsu = ['Urano','Titania','Oberon','Ariel', 'Umbriel','Miranda',\n",
        "       'Sycorax','Puck','Portia']\n",
        "msu = [8.681e25,3.527e21,3.014e21,1.353e21,1.17e21, 6.59e19,5.3e18,\n",
        "       2.9e18, 1.7e18]\n",
        "ssu = sum(msu)-msu[0]\n",
        "print(ssu, ssu/msu[0])\n",
        "\n",
        "dfu = pd.DataFrame()\n",
        "dfu['Nombre'] = nsu\n",
        "dfu['Masa [10^20 kg]'] = np.array(msu)/1e20\n",
        "dfu"
      ],
      "metadata": {
        "colab": {
          "base_uri": "https://localhost:8080/",
          "height": 349
        },
        "id": "8Is7137PiIR1",
        "outputId": "c6b6cc92-9d7a-4b7a-bee0-cae9bf0567cf"
      },
      "execution_count": 7,
      "outputs": [
        {
          "output_type": "stream",
          "name": "stdout",
          "text": [
            "9.139800000018736e+21 0.00010528510540281921\n"
          ]
        },
        {
          "output_type": "execute_result",
          "data": {
            "text/plain": [
              "    Nombre  Masa [10^20 kg]\n",
              "0    Urano       868100.000\n",
              "1  Titania           35.270\n",
              "2   Oberon           30.140\n",
              "3    Ariel           13.530\n",
              "4  Umbriel           11.700\n",
              "5  Miranda            0.659\n",
              "6  Sycorax            0.053\n",
              "7     Puck            0.029\n",
              "8   Portia            0.017"
            ],
            "text/html": [
              "\n",
              "  <div id=\"df-7c8f0f98-5c98-460d-8c97-6a9e932114e3\">\n",
              "    <div class=\"colab-df-container\">\n",
              "      <div>\n",
              "<style scoped>\n",
              "    .dataframe tbody tr th:only-of-type {\n",
              "        vertical-align: middle;\n",
              "    }\n",
              "\n",
              "    .dataframe tbody tr th {\n",
              "        vertical-align: top;\n",
              "    }\n",
              "\n",
              "    .dataframe thead th {\n",
              "        text-align: right;\n",
              "    }\n",
              "</style>\n",
              "<table border=\"1\" class=\"dataframe\">\n",
              "  <thead>\n",
              "    <tr style=\"text-align: right;\">\n",
              "      <th></th>\n",
              "      <th>Nombre</th>\n",
              "      <th>Masa [10^20 kg]</th>\n",
              "    </tr>\n",
              "  </thead>\n",
              "  <tbody>\n",
              "    <tr>\n",
              "      <th>0</th>\n",
              "      <td>Urano</td>\n",
              "      <td>868100.000</td>\n",
              "    </tr>\n",
              "    <tr>\n",
              "      <th>1</th>\n",
              "      <td>Titania</td>\n",
              "      <td>35.270</td>\n",
              "    </tr>\n",
              "    <tr>\n",
              "      <th>2</th>\n",
              "      <td>Oberon</td>\n",
              "      <td>30.140</td>\n",
              "    </tr>\n",
              "    <tr>\n",
              "      <th>3</th>\n",
              "      <td>Ariel</td>\n",
              "      <td>13.530</td>\n",
              "    </tr>\n",
              "    <tr>\n",
              "      <th>4</th>\n",
              "      <td>Umbriel</td>\n",
              "      <td>11.700</td>\n",
              "    </tr>\n",
              "    <tr>\n",
              "      <th>5</th>\n",
              "      <td>Miranda</td>\n",
              "      <td>0.659</td>\n",
              "    </tr>\n",
              "    <tr>\n",
              "      <th>6</th>\n",
              "      <td>Sycorax</td>\n",
              "      <td>0.053</td>\n",
              "    </tr>\n",
              "    <tr>\n",
              "      <th>7</th>\n",
              "      <td>Puck</td>\n",
              "      <td>0.029</td>\n",
              "    </tr>\n",
              "    <tr>\n",
              "      <th>8</th>\n",
              "      <td>Portia</td>\n",
              "      <td>0.017</td>\n",
              "    </tr>\n",
              "  </tbody>\n",
              "</table>\n",
              "</div>\n",
              "      <button class=\"colab-df-convert\" onclick=\"convertToInteractive('df-7c8f0f98-5c98-460d-8c97-6a9e932114e3')\"\n",
              "              title=\"Convert this dataframe to an interactive table.\"\n",
              "              style=\"display:none;\">\n",
              "        \n",
              "  <svg xmlns=\"http://www.w3.org/2000/svg\" height=\"24px\"viewBox=\"0 0 24 24\"\n",
              "       width=\"24px\">\n",
              "    <path d=\"M0 0h24v24H0V0z\" fill=\"none\"/>\n",
              "    <path d=\"M18.56 5.44l.94 2.06.94-2.06 2.06-.94-2.06-.94-.94-2.06-.94 2.06-2.06.94zm-11 1L8.5 8.5l.94-2.06 2.06-.94-2.06-.94L8.5 2.5l-.94 2.06-2.06.94zm10 10l.94 2.06.94-2.06 2.06-.94-2.06-.94-.94-2.06-.94 2.06-2.06.94z\"/><path d=\"M17.41 7.96l-1.37-1.37c-.4-.4-.92-.59-1.43-.59-.52 0-1.04.2-1.43.59L10.3 9.45l-7.72 7.72c-.78.78-.78 2.05 0 2.83L4 21.41c.39.39.9.59 1.41.59.51 0 1.02-.2 1.41-.59l7.78-7.78 2.81-2.81c.8-.78.8-2.07 0-2.86zM5.41 20L4 18.59l7.72-7.72 1.47 1.35L5.41 20z\"/>\n",
              "  </svg>\n",
              "      </button>\n",
              "      \n",
              "  <style>\n",
              "    .colab-df-container {\n",
              "      display:flex;\n",
              "      flex-wrap:wrap;\n",
              "      gap: 12px;\n",
              "    }\n",
              "\n",
              "    .colab-df-convert {\n",
              "      background-color: #E8F0FE;\n",
              "      border: none;\n",
              "      border-radius: 50%;\n",
              "      cursor: pointer;\n",
              "      display: none;\n",
              "      fill: #1967D2;\n",
              "      height: 32px;\n",
              "      padding: 0 0 0 0;\n",
              "      width: 32px;\n",
              "    }\n",
              "\n",
              "    .colab-df-convert:hover {\n",
              "      background-color: #E2EBFA;\n",
              "      box-shadow: 0px 1px 2px rgba(60, 64, 67, 0.3), 0px 1px 3px 1px rgba(60, 64, 67, 0.15);\n",
              "      fill: #174EA6;\n",
              "    }\n",
              "\n",
              "    [theme=dark] .colab-df-convert {\n",
              "      background-color: #3B4455;\n",
              "      fill: #D2E3FC;\n",
              "    }\n",
              "\n",
              "    [theme=dark] .colab-df-convert:hover {\n",
              "      background-color: #434B5C;\n",
              "      box-shadow: 0px 1px 3px 1px rgba(0, 0, 0, 0.15);\n",
              "      filter: drop-shadow(0px 1px 2px rgba(0, 0, 0, 0.3));\n",
              "      fill: #FFFFFF;\n",
              "    }\n",
              "  </style>\n",
              "\n",
              "      <script>\n",
              "        const buttonEl =\n",
              "          document.querySelector('#df-7c8f0f98-5c98-460d-8c97-6a9e932114e3 button.colab-df-convert');\n",
              "        buttonEl.style.display =\n",
              "          google.colab.kernel.accessAllowed ? 'block' : 'none';\n",
              "\n",
              "        async function convertToInteractive(key) {\n",
              "          const element = document.querySelector('#df-7c8f0f98-5c98-460d-8c97-6a9e932114e3');\n",
              "          const dataTable =\n",
              "            await google.colab.kernel.invokeFunction('convertToInteractive',\n",
              "                                                     [key], {});\n",
              "          if (!dataTable) return;\n",
              "\n",
              "          const docLinkHtml = 'Like what you see? Visit the ' +\n",
              "            '<a target=\"_blank\" href=https://colab.research.google.com/notebooks/data_table.ipynb>data table notebook</a>'\n",
              "            + ' to learn more about interactive tables.';\n",
              "          element.innerHTML = '';\n",
              "          dataTable['output_type'] = 'display_data';\n",
              "          await google.colab.output.renderOutput(dataTable, element);\n",
              "          const docLink = document.createElement('div');\n",
              "          docLink.innerHTML = docLinkHtml;\n",
              "          element.appendChild(docLink);\n",
              "        }\n",
              "      </script>\n",
              "    </div>\n",
              "  </div>\n",
              "  "
            ]
          },
          "metadata": {},
          "execution_count": 7
        }
      ]
    },
    {
      "cell_type": "markdown",
      "source": [
        "####Punto 1.2\n"
      ],
      "metadata": {
        "id": "nSJiZYERiJC9"
      }
    },
    {
      "cell_type": "code",
      "source": [
        "# FUNCIÓN MOMENTO ROTACIONAL DE UNA ESFERA\n",
        "def m_rot(M, R, T):\n",
        "  return (4*np.pi*M*R**2)/(5*T)\n",
        "\n",
        "# MOMENTO ORBITAL CON e=0\n",
        "def m_orb(M, R, T): #R semieje mayor\n",
        "  return (2*np.pi*M*R**2 )/ T"
      ],
      "metadata": {
        "id": "-xRnSt9GhcfB"
      },
      "execution_count": 8,
      "outputs": []
    },
    {
      "cell_type": "code",
      "source": [],
      "metadata": {
        "id": "P50DSiFs_yR9"
      },
      "execution_count": 8,
      "outputs": []
    },
    {
      "cell_type": "code",
      "source": [
        "# PUNTO 7D \n",
        "\n",
        "G = 6.667e-11\n",
        "m_luna = 7.349e22 #kg\n",
        "a_luna = 384403*1000 #m\n",
        "Torb_luna = 27.3*24*60*60 #segundos"
      ],
      "metadata": {
        "id": "RomTr0Ug5YNW"
      },
      "execution_count": 9,
      "outputs": []
    },
    {
      "cell_type": "code",
      "source": [
        "r_2 = ((a_luna)**4*4*(np.pi)**2) / (G*((5.970*1e24)+m_luna)*(0.82*Torb_luna)**2)\n",
        "print(\"Radio orbital de la luna en el futuro:\", r_2/1000)\n",
        "print(\"Es un {} del radio de Hill\".format((r_2/2.158e9)*100))"
      ],
      "metadata": {
        "colab": {
          "base_uri": "https://localhost:8080/"
        },
        "id": "n39dIKYALCnK",
        "outputId": "2ba87ba9-7f0d-4658-9079-ad2138d625ae"
      },
      "execution_count": 10,
      "outputs": [
        {
          "output_type": "stream",
          "name": "stdout",
          "text": [
            "Radio orbital de la luna en el futuro: 571884.1544787615\n",
            "Es un 26.500655907264196 del radio de Hill\n"
          ]
        }
      ]
    },
    {
      "cell_type": "code",
      "source": [
        "Msol = 1.989e30 #kg\n",
        "Rsol = 6.9634e8 #m\n",
        "Trotsol =  25*60*60*24 #segundo\n",
        "\n",
        "Lrot_sol = m_rot(Msol, Rsol, Trotsol)\n",
        "\n",
        "print('Momento rotacional del sol:', Lrot_sol)\n",
        "Lrot_sol*100**2*1000"
      ],
      "metadata": {
        "colab": {
          "base_uri": "https://localhost:8080/"
        },
        "id": "5mkfCdl5hXpA",
        "outputId": "0e4e06aa-895c-4393-89e5-91c2ff6d5261"
      },
      "execution_count": 11,
      "outputs": [
        {
          "output_type": "stream",
          "name": "stdout",
          "text": [
            "Momento rotacional del sol: 1.1221827227584755e+42\n"
          ]
        },
        {
          "output_type": "execute_result",
          "data": {
            "text/plain": [
              "1.1221827227584754e+49"
            ]
          },
          "metadata": {},
          "execution_count": 11
        }
      ]
    },
    {
      "cell_type": "code",
      "source": [
        "T_orbplan = [ 88.0,\t224.7,\t365.2,\t687.0,\t4331,\t10747,\t30589,\n",
        "         59800]  #En días\n",
        "D_plan = [4879,\t12104,\t12756,\t6792, 142984,\t120536,\t51118,\n",
        "          49528] #En km\n",
        "r_plan = np.array(D_plan)/2\n",
        "\n",
        "mssplan = mss.copy()\n",
        "mssplan.remove(1.989e6)\n",
        "nssplan = nss.copy()\n",
        "nssplan.remove('SOL')\n",
        "\n",
        "R_orbplan = [0.3871, 0.7233, 1.000, 1.524, 5.203, 9.537, 19.19, 30.07]\n",
        "M_orbplan = m_orb(np.array(mssplan)*1e24, np.array(R_orbplan)*1.496e11, np.array(T_orbplan)*60*60*24)\n",
        "\n",
        "morb_plan = pd.DataFrame()\n",
        "morb_plan['Nombre'] = nssplan\n",
        "morb_plan['Masa [10^24 kg]'] = mssplan\n",
        "morb_plan['Semieje mayor[AU]'] = R_orbplan\n",
        "morb_plan['T orbital [días]'] = T_orbplan\n",
        "morb_plan['M orbital[kgm^2s^-1]'] = M_orbplan\n",
        "\n",
        "morb_plan"
      ],
      "metadata": {
        "colab": {
          "base_uri": "https://localhost:8080/",
          "height": 300
        },
        "id": "_dk_JH0ousxH",
        "outputId": "dc355fd1-d965-4b44-c77f-afb3169e4e3f"
      },
      "execution_count": 12,
      "outputs": [
        {
          "output_type": "execute_result",
          "data": {
            "text/plain": [
              "    Nombre  Masa [10^24 kg]  Semieje mayor[AU]  T orbital [días]  \\\n",
              "0  MERCURY            0.330             0.3871              88.0   \n",
              "1    VENUS            4.870             0.7233             224.7   \n",
              "2    EARTH            5.970             1.0000             365.2   \n",
              "3     MARS            0.642             1.5240             687.0   \n",
              "4  JUPITER         1898.000             5.2030            4331.0   \n",
              "5   SATURN          568.000             9.5370           10747.0   \n",
              "6   URANUS           86.800            19.1900           30589.0   \n",
              "7  NEPTUNE          102.000            30.0700           59800.0   \n",
              "\n",
              "   M orbital[kgm^2s^-1]  \n",
              "0          9.145489e+38  \n",
              "1          1.845407e+40  \n",
              "2          2.660559e+40  \n",
              "3          3.532462e+39  \n",
              "4          1.930834e+43  \n",
              "5          7.823732e+42  \n",
              "6          1.700723e+42  \n",
              "7          2.510124e+42  "
            ],
            "text/html": [
              "\n",
              "  <div id=\"df-2891c722-a44c-4dd4-ad21-ad389efcf754\">\n",
              "    <div class=\"colab-df-container\">\n",
              "      <div>\n",
              "<style scoped>\n",
              "    .dataframe tbody tr th:only-of-type {\n",
              "        vertical-align: middle;\n",
              "    }\n",
              "\n",
              "    .dataframe tbody tr th {\n",
              "        vertical-align: top;\n",
              "    }\n",
              "\n",
              "    .dataframe thead th {\n",
              "        text-align: right;\n",
              "    }\n",
              "</style>\n",
              "<table border=\"1\" class=\"dataframe\">\n",
              "  <thead>\n",
              "    <tr style=\"text-align: right;\">\n",
              "      <th></th>\n",
              "      <th>Nombre</th>\n",
              "      <th>Masa [10^24 kg]</th>\n",
              "      <th>Semieje mayor[AU]</th>\n",
              "      <th>T orbital [días]</th>\n",
              "      <th>M orbital[kgm^2s^-1]</th>\n",
              "    </tr>\n",
              "  </thead>\n",
              "  <tbody>\n",
              "    <tr>\n",
              "      <th>0</th>\n",
              "      <td>MERCURY</td>\n",
              "      <td>0.330</td>\n",
              "      <td>0.3871</td>\n",
              "      <td>88.0</td>\n",
              "      <td>9.145489e+38</td>\n",
              "    </tr>\n",
              "    <tr>\n",
              "      <th>1</th>\n",
              "      <td>VENUS</td>\n",
              "      <td>4.870</td>\n",
              "      <td>0.7233</td>\n",
              "      <td>224.7</td>\n",
              "      <td>1.845407e+40</td>\n",
              "    </tr>\n",
              "    <tr>\n",
              "      <th>2</th>\n",
              "      <td>EARTH</td>\n",
              "      <td>5.970</td>\n",
              "      <td>1.0000</td>\n",
              "      <td>365.2</td>\n",
              "      <td>2.660559e+40</td>\n",
              "    </tr>\n",
              "    <tr>\n",
              "      <th>3</th>\n",
              "      <td>MARS</td>\n",
              "      <td>0.642</td>\n",
              "      <td>1.5240</td>\n",
              "      <td>687.0</td>\n",
              "      <td>3.532462e+39</td>\n",
              "    </tr>\n",
              "    <tr>\n",
              "      <th>4</th>\n",
              "      <td>JUPITER</td>\n",
              "      <td>1898.000</td>\n",
              "      <td>5.2030</td>\n",
              "      <td>4331.0</td>\n",
              "      <td>1.930834e+43</td>\n",
              "    </tr>\n",
              "    <tr>\n",
              "      <th>5</th>\n",
              "      <td>SATURN</td>\n",
              "      <td>568.000</td>\n",
              "      <td>9.5370</td>\n",
              "      <td>10747.0</td>\n",
              "      <td>7.823732e+42</td>\n",
              "    </tr>\n",
              "    <tr>\n",
              "      <th>6</th>\n",
              "      <td>URANUS</td>\n",
              "      <td>86.800</td>\n",
              "      <td>19.1900</td>\n",
              "      <td>30589.0</td>\n",
              "      <td>1.700723e+42</td>\n",
              "    </tr>\n",
              "    <tr>\n",
              "      <th>7</th>\n",
              "      <td>NEPTUNE</td>\n",
              "      <td>102.000</td>\n",
              "      <td>30.0700</td>\n",
              "      <td>59800.0</td>\n",
              "      <td>2.510124e+42</td>\n",
              "    </tr>\n",
              "  </tbody>\n",
              "</table>\n",
              "</div>\n",
              "      <button class=\"colab-df-convert\" onclick=\"convertToInteractive('df-2891c722-a44c-4dd4-ad21-ad389efcf754')\"\n",
              "              title=\"Convert this dataframe to an interactive table.\"\n",
              "              style=\"display:none;\">\n",
              "        \n",
              "  <svg xmlns=\"http://www.w3.org/2000/svg\" height=\"24px\"viewBox=\"0 0 24 24\"\n",
              "       width=\"24px\">\n",
              "    <path d=\"M0 0h24v24H0V0z\" fill=\"none\"/>\n",
              "    <path d=\"M18.56 5.44l.94 2.06.94-2.06 2.06-.94-2.06-.94-.94-2.06-.94 2.06-2.06.94zm-11 1L8.5 8.5l.94-2.06 2.06-.94-2.06-.94L8.5 2.5l-.94 2.06-2.06.94zm10 10l.94 2.06.94-2.06 2.06-.94-2.06-.94-.94-2.06-.94 2.06-2.06.94z\"/><path d=\"M17.41 7.96l-1.37-1.37c-.4-.4-.92-.59-1.43-.59-.52 0-1.04.2-1.43.59L10.3 9.45l-7.72 7.72c-.78.78-.78 2.05 0 2.83L4 21.41c.39.39.9.59 1.41.59.51 0 1.02-.2 1.41-.59l7.78-7.78 2.81-2.81c.8-.78.8-2.07 0-2.86zM5.41 20L4 18.59l7.72-7.72 1.47 1.35L5.41 20z\"/>\n",
              "  </svg>\n",
              "      </button>\n",
              "      \n",
              "  <style>\n",
              "    .colab-df-container {\n",
              "      display:flex;\n",
              "      flex-wrap:wrap;\n",
              "      gap: 12px;\n",
              "    }\n",
              "\n",
              "    .colab-df-convert {\n",
              "      background-color: #E8F0FE;\n",
              "      border: none;\n",
              "      border-radius: 50%;\n",
              "      cursor: pointer;\n",
              "      display: none;\n",
              "      fill: #1967D2;\n",
              "      height: 32px;\n",
              "      padding: 0 0 0 0;\n",
              "      width: 32px;\n",
              "    }\n",
              "\n",
              "    .colab-df-convert:hover {\n",
              "      background-color: #E2EBFA;\n",
              "      box-shadow: 0px 1px 2px rgba(60, 64, 67, 0.3), 0px 1px 3px 1px rgba(60, 64, 67, 0.15);\n",
              "      fill: #174EA6;\n",
              "    }\n",
              "\n",
              "    [theme=dark] .colab-df-convert {\n",
              "      background-color: #3B4455;\n",
              "      fill: #D2E3FC;\n",
              "    }\n",
              "\n",
              "    [theme=dark] .colab-df-convert:hover {\n",
              "      background-color: #434B5C;\n",
              "      box-shadow: 0px 1px 3px 1px rgba(0, 0, 0, 0.15);\n",
              "      filter: drop-shadow(0px 1px 2px rgba(0, 0, 0, 0.3));\n",
              "      fill: #FFFFFF;\n",
              "    }\n",
              "  </style>\n",
              "\n",
              "      <script>\n",
              "        const buttonEl =\n",
              "          document.querySelector('#df-2891c722-a44c-4dd4-ad21-ad389efcf754 button.colab-df-convert');\n",
              "        buttonEl.style.display =\n",
              "          google.colab.kernel.accessAllowed ? 'block' : 'none';\n",
              "\n",
              "        async function convertToInteractive(key) {\n",
              "          const element = document.querySelector('#df-2891c722-a44c-4dd4-ad21-ad389efcf754');\n",
              "          const dataTable =\n",
              "            await google.colab.kernel.invokeFunction('convertToInteractive',\n",
              "                                                     [key], {});\n",
              "          if (!dataTable) return;\n",
              "\n",
              "          const docLinkHtml = 'Like what you see? Visit the ' +\n",
              "            '<a target=\"_blank\" href=https://colab.research.google.com/notebooks/data_table.ipynb>data table notebook</a>'\n",
              "            + ' to learn more about interactive tables.';\n",
              "          element.innerHTML = '';\n",
              "          dataTable['output_type'] = 'display_data';\n",
              "          await google.colab.output.renderOutput(dataTable, element);\n",
              "          const docLink = document.createElement('div');\n",
              "          docLink.innerHTML = docLinkHtml;\n",
              "          element.appendChild(docLink);\n",
              "        }\n",
              "      </script>\n",
              "    </div>\n",
              "  </div>\n",
              "  "
            ]
          },
          "metadata": {},
          "execution_count": 12
        }
      ]
    },
    {
      "cell_type": "code",
      "source": [
        "print(\"Suma de los momentos orbitales:\", sum(M_orbplan))"
      ],
      "metadata": {
        "colab": {
          "base_uri": "https://localhost:8080/"
        },
        "id": "tG0Kug29HjRz",
        "outputId": "a4c07195-6646-4e91-ba6b-70e699880595"
      },
      "execution_count": 13,
      "outputs": [
        {
          "output_type": "stream",
          "name": "stdout",
          "text": [
            "Suma de los momentos orbitales: 3.1392428318457907e+43\n"
          ]
        }
      ]
    },
    {
      "cell_type": "code",
      "source": [
        "print(\"Razón entre la suma de los m orbitales y el m rotacional del Sol\", sum(M_orbplan)/Lrot_sol)"
      ],
      "metadata": {
        "colab": {
          "base_uri": "https://localhost:8080/"
        },
        "id": "VmYyX-JlHWXp",
        "outputId": "782a3532-faa1-4e91-a8d3-caa510b429cd"
      },
      "execution_count": 14,
      "outputs": [
        {
          "output_type": "stream",
          "name": "stdout",
          "text": [
            "Razón entre la suma de los m orbitales y el m rotacional del Sol 27.974435608214595\n"
          ]
        }
      ]
    },
    {
      "cell_type": "code",
      "source": [
        "r_p = r_plan[4:7]\n",
        "msp = mssplan[4:7]\n",
        "nsp = nssplan[4:7]\n",
        "T_rotp = np.array([9.9, 10.7, 17.2])*60*60\n",
        "mrotsist = m_rot(np.array(msp)*1e24, np.array(r_p)*1000, T_rotp)\n",
        "\n",
        "mrot_plan = pd.DataFrame()\n",
        "mrot_plan['Nombre'] = nsp\n",
        "#mrot_plan['Masa [10^24 kg]'] = msp\n",
        "#mrot_plan['Radio [km]'] = r_p\n",
        "mrot_plan['T rot [s]'] = T_rotp\n",
        "mrot_plan['M rotacional[kgm^2s^-1]'] = mrotsist\n",
        "\n",
        "mrot_plan"
      ],
      "metadata": {
        "colab": {
          "base_uri": "https://localhost:8080/",
          "height": 143
        },
        "id": "diJbngSTEu6s",
        "outputId": "878d4225-e8ba-4f93-8fa6-6fe474505c25"
      },
      "execution_count": 15,
      "outputs": [
        {
          "output_type": "execute_result",
          "data": {
            "text/plain": [
              "    Nombre  T rot [s]  M rotacional[kgm^2s^-1]\n",
              "0  JUPITER    35640.0             6.840900e+38\n",
              "1   SATURN    38520.0             1.346094e+38\n",
              "2   URANUS    61920.0             2.301528e+36"
            ],
            "text/html": [
              "\n",
              "  <div id=\"df-b39ad28b-4999-4f6c-9d52-57acf2c9dd29\">\n",
              "    <div class=\"colab-df-container\">\n",
              "      <div>\n",
              "<style scoped>\n",
              "    .dataframe tbody tr th:only-of-type {\n",
              "        vertical-align: middle;\n",
              "    }\n",
              "\n",
              "    .dataframe tbody tr th {\n",
              "        vertical-align: top;\n",
              "    }\n",
              "\n",
              "    .dataframe thead th {\n",
              "        text-align: right;\n",
              "    }\n",
              "</style>\n",
              "<table border=\"1\" class=\"dataframe\">\n",
              "  <thead>\n",
              "    <tr style=\"text-align: right;\">\n",
              "      <th></th>\n",
              "      <th>Nombre</th>\n",
              "      <th>T rot [s]</th>\n",
              "      <th>M rotacional[kgm^2s^-1]</th>\n",
              "    </tr>\n",
              "  </thead>\n",
              "  <tbody>\n",
              "    <tr>\n",
              "      <th>0</th>\n",
              "      <td>JUPITER</td>\n",
              "      <td>35640.0</td>\n",
              "      <td>6.840900e+38</td>\n",
              "    </tr>\n",
              "    <tr>\n",
              "      <th>1</th>\n",
              "      <td>SATURN</td>\n",
              "      <td>38520.0</td>\n",
              "      <td>1.346094e+38</td>\n",
              "    </tr>\n",
              "    <tr>\n",
              "      <th>2</th>\n",
              "      <td>URANUS</td>\n",
              "      <td>61920.0</td>\n",
              "      <td>2.301528e+36</td>\n",
              "    </tr>\n",
              "  </tbody>\n",
              "</table>\n",
              "</div>\n",
              "      <button class=\"colab-df-convert\" onclick=\"convertToInteractive('df-b39ad28b-4999-4f6c-9d52-57acf2c9dd29')\"\n",
              "              title=\"Convert this dataframe to an interactive table.\"\n",
              "              style=\"display:none;\">\n",
              "        \n",
              "  <svg xmlns=\"http://www.w3.org/2000/svg\" height=\"24px\"viewBox=\"0 0 24 24\"\n",
              "       width=\"24px\">\n",
              "    <path d=\"M0 0h24v24H0V0z\" fill=\"none\"/>\n",
              "    <path d=\"M18.56 5.44l.94 2.06.94-2.06 2.06-.94-2.06-.94-.94-2.06-.94 2.06-2.06.94zm-11 1L8.5 8.5l.94-2.06 2.06-.94-2.06-.94L8.5 2.5l-.94 2.06-2.06.94zm10 10l.94 2.06.94-2.06 2.06-.94-2.06-.94-.94-2.06-.94 2.06-2.06.94z\"/><path d=\"M17.41 7.96l-1.37-1.37c-.4-.4-.92-.59-1.43-.59-.52 0-1.04.2-1.43.59L10.3 9.45l-7.72 7.72c-.78.78-.78 2.05 0 2.83L4 21.41c.39.39.9.59 1.41.59.51 0 1.02-.2 1.41-.59l7.78-7.78 2.81-2.81c.8-.78.8-2.07 0-2.86zM5.41 20L4 18.59l7.72-7.72 1.47 1.35L5.41 20z\"/>\n",
              "  </svg>\n",
              "      </button>\n",
              "      \n",
              "  <style>\n",
              "    .colab-df-container {\n",
              "      display:flex;\n",
              "      flex-wrap:wrap;\n",
              "      gap: 12px;\n",
              "    }\n",
              "\n",
              "    .colab-df-convert {\n",
              "      background-color: #E8F0FE;\n",
              "      border: none;\n",
              "      border-radius: 50%;\n",
              "      cursor: pointer;\n",
              "      display: none;\n",
              "      fill: #1967D2;\n",
              "      height: 32px;\n",
              "      padding: 0 0 0 0;\n",
              "      width: 32px;\n",
              "    }\n",
              "\n",
              "    .colab-df-convert:hover {\n",
              "      background-color: #E2EBFA;\n",
              "      box-shadow: 0px 1px 2px rgba(60, 64, 67, 0.3), 0px 1px 3px 1px rgba(60, 64, 67, 0.15);\n",
              "      fill: #174EA6;\n",
              "    }\n",
              "\n",
              "    [theme=dark] .colab-df-convert {\n",
              "      background-color: #3B4455;\n",
              "      fill: #D2E3FC;\n",
              "    }\n",
              "\n",
              "    [theme=dark] .colab-df-convert:hover {\n",
              "      background-color: #434B5C;\n",
              "      box-shadow: 0px 1px 3px 1px rgba(0, 0, 0, 0.15);\n",
              "      filter: drop-shadow(0px 1px 2px rgba(0, 0, 0, 0.3));\n",
              "      fill: #FFFFFF;\n",
              "    }\n",
              "  </style>\n",
              "\n",
              "      <script>\n",
              "        const buttonEl =\n",
              "          document.querySelector('#df-b39ad28b-4999-4f6c-9d52-57acf2c9dd29 button.colab-df-convert');\n",
              "        buttonEl.style.display =\n",
              "          google.colab.kernel.accessAllowed ? 'block' : 'none';\n",
              "\n",
              "        async function convertToInteractive(key) {\n",
              "          const element = document.querySelector('#df-b39ad28b-4999-4f6c-9d52-57acf2c9dd29');\n",
              "          const dataTable =\n",
              "            await google.colab.kernel.invokeFunction('convertToInteractive',\n",
              "                                                     [key], {});\n",
              "          if (!dataTable) return;\n",
              "\n",
              "          const docLinkHtml = 'Like what you see? Visit the ' +\n",
              "            '<a target=\"_blank\" href=https://colab.research.google.com/notebooks/data_table.ipynb>data table notebook</a>'\n",
              "            + ' to learn more about interactive tables.';\n",
              "          element.innerHTML = '';\n",
              "          dataTable['output_type'] = 'display_data';\n",
              "          await google.colab.output.renderOutput(dataTable, element);\n",
              "          const docLink = document.createElement('div');\n",
              "          docLink.innerHTML = docLinkHtml;\n",
              "          element.appendChild(docLink);\n",
              "        }\n",
              "      </script>\n",
              "    </div>\n",
              "  </div>\n",
              "  "
            ]
          },
          "metadata": {},
          "execution_count": 15
        }
      ]
    },
    {
      "cell_type": "code",
      "source": [
        "nljup = ['Io', 'Europa', 'Ganymede', 'Callisto', 'Amalthea', 'Himalia']\t\n",
        "mljup = [8931900, 4799800, 14819000, 10759000, 208, 420]\n",
        "\n",
        "aljup = [421800, 671100, 1070400,\t1882700, 181400, 11440600, ] # En km\n",
        "Tljup = [1.762732, 3.525463, 7.155588, 16.690440, 0.499918, 250.562210] # En días\n",
        "\n",
        "L_orb_lj = m_orb(np.array(mljup)*1e16, np.array(aljup)*1000, np.array(Tljup)*60*60*24)\n",
        "#L_orb_s = m_orb(msat[1:-1], )\n",
        "#L_orb_u = m_orb(msu[1:-1], )\n",
        "\n",
        "L_jup = pd.DataFrame()\n",
        "L_jup['Nombre'] = nljup\n",
        "L_jup['a [km]'] = aljup\n",
        "L_jup['T orbital [días]'] = Tljup\n",
        "L_jup['L orbital [kg.m^2s^-1]'] = L_orb_lj\n",
        "L_jup"
      ],
      "metadata": {
        "colab": {
          "base_uri": "https://localhost:8080/",
          "height": 237
        },
        "id": "GZqdY2qTQoKH",
        "outputId": "72d9ca36-cc89-41d5-d463-0fa5f9e19742"
      },
      "execution_count": 16,
      "outputs": [
        {
          "output_type": "execute_result",
          "data": {
            "text/plain": [
              "     Nombre    a [km]  T orbital [días]  L orbital [kg.m^2s^-1]\n",
              "0        Io    421800          1.762732            6.555968e+35\n",
              "1    Europa    671100          3.525463            4.459104e+35\n",
              "2  Ganymede   1070400          7.155588            1.725567e+36\n",
              "3  Callisto   1882700         16.690440            1.661623e+36\n",
              "4  Amalthea    181400          0.499918            9.956467e+30\n",
              "5   Himalia  11440600        250.562210            2.145567e+30"
            ],
            "text/html": [
              "\n",
              "  <div id=\"df-2dff303e-66a8-4711-b127-31a34d691cf5\">\n",
              "    <div class=\"colab-df-container\">\n",
              "      <div>\n",
              "<style scoped>\n",
              "    .dataframe tbody tr th:only-of-type {\n",
              "        vertical-align: middle;\n",
              "    }\n",
              "\n",
              "    .dataframe tbody tr th {\n",
              "        vertical-align: top;\n",
              "    }\n",
              "\n",
              "    .dataframe thead th {\n",
              "        text-align: right;\n",
              "    }\n",
              "</style>\n",
              "<table border=\"1\" class=\"dataframe\">\n",
              "  <thead>\n",
              "    <tr style=\"text-align: right;\">\n",
              "      <th></th>\n",
              "      <th>Nombre</th>\n",
              "      <th>a [km]</th>\n",
              "      <th>T orbital [días]</th>\n",
              "      <th>L orbital [kg.m^2s^-1]</th>\n",
              "    </tr>\n",
              "  </thead>\n",
              "  <tbody>\n",
              "    <tr>\n",
              "      <th>0</th>\n",
              "      <td>Io</td>\n",
              "      <td>421800</td>\n",
              "      <td>1.762732</td>\n",
              "      <td>6.555968e+35</td>\n",
              "    </tr>\n",
              "    <tr>\n",
              "      <th>1</th>\n",
              "      <td>Europa</td>\n",
              "      <td>671100</td>\n",
              "      <td>3.525463</td>\n",
              "      <td>4.459104e+35</td>\n",
              "    </tr>\n",
              "    <tr>\n",
              "      <th>2</th>\n",
              "      <td>Ganymede</td>\n",
              "      <td>1070400</td>\n",
              "      <td>7.155588</td>\n",
              "      <td>1.725567e+36</td>\n",
              "    </tr>\n",
              "    <tr>\n",
              "      <th>3</th>\n",
              "      <td>Callisto</td>\n",
              "      <td>1882700</td>\n",
              "      <td>16.690440</td>\n",
              "      <td>1.661623e+36</td>\n",
              "    </tr>\n",
              "    <tr>\n",
              "      <th>4</th>\n",
              "      <td>Amalthea</td>\n",
              "      <td>181400</td>\n",
              "      <td>0.499918</td>\n",
              "      <td>9.956467e+30</td>\n",
              "    </tr>\n",
              "    <tr>\n",
              "      <th>5</th>\n",
              "      <td>Himalia</td>\n",
              "      <td>11440600</td>\n",
              "      <td>250.562210</td>\n",
              "      <td>2.145567e+30</td>\n",
              "    </tr>\n",
              "  </tbody>\n",
              "</table>\n",
              "</div>\n",
              "      <button class=\"colab-df-convert\" onclick=\"convertToInteractive('df-2dff303e-66a8-4711-b127-31a34d691cf5')\"\n",
              "              title=\"Convert this dataframe to an interactive table.\"\n",
              "              style=\"display:none;\">\n",
              "        \n",
              "  <svg xmlns=\"http://www.w3.org/2000/svg\" height=\"24px\"viewBox=\"0 0 24 24\"\n",
              "       width=\"24px\">\n",
              "    <path d=\"M0 0h24v24H0V0z\" fill=\"none\"/>\n",
              "    <path d=\"M18.56 5.44l.94 2.06.94-2.06 2.06-.94-2.06-.94-.94-2.06-.94 2.06-2.06.94zm-11 1L8.5 8.5l.94-2.06 2.06-.94-2.06-.94L8.5 2.5l-.94 2.06-2.06.94zm10 10l.94 2.06.94-2.06 2.06-.94-2.06-.94-.94-2.06-.94 2.06-2.06.94z\"/><path d=\"M17.41 7.96l-1.37-1.37c-.4-.4-.92-.59-1.43-.59-.52 0-1.04.2-1.43.59L10.3 9.45l-7.72 7.72c-.78.78-.78 2.05 0 2.83L4 21.41c.39.39.9.59 1.41.59.51 0 1.02-.2 1.41-.59l7.78-7.78 2.81-2.81c.8-.78.8-2.07 0-2.86zM5.41 20L4 18.59l7.72-7.72 1.47 1.35L5.41 20z\"/>\n",
              "  </svg>\n",
              "      </button>\n",
              "      \n",
              "  <style>\n",
              "    .colab-df-container {\n",
              "      display:flex;\n",
              "      flex-wrap:wrap;\n",
              "      gap: 12px;\n",
              "    }\n",
              "\n",
              "    .colab-df-convert {\n",
              "      background-color: #E8F0FE;\n",
              "      border: none;\n",
              "      border-radius: 50%;\n",
              "      cursor: pointer;\n",
              "      display: none;\n",
              "      fill: #1967D2;\n",
              "      height: 32px;\n",
              "      padding: 0 0 0 0;\n",
              "      width: 32px;\n",
              "    }\n",
              "\n",
              "    .colab-df-convert:hover {\n",
              "      background-color: #E2EBFA;\n",
              "      box-shadow: 0px 1px 2px rgba(60, 64, 67, 0.3), 0px 1px 3px 1px rgba(60, 64, 67, 0.15);\n",
              "      fill: #174EA6;\n",
              "    }\n",
              "\n",
              "    [theme=dark] .colab-df-convert {\n",
              "      background-color: #3B4455;\n",
              "      fill: #D2E3FC;\n",
              "    }\n",
              "\n",
              "    [theme=dark] .colab-df-convert:hover {\n",
              "      background-color: #434B5C;\n",
              "      box-shadow: 0px 1px 3px 1px rgba(0, 0, 0, 0.15);\n",
              "      filter: drop-shadow(0px 1px 2px rgba(0, 0, 0, 0.3));\n",
              "      fill: #FFFFFF;\n",
              "    }\n",
              "  </style>\n",
              "\n",
              "      <script>\n",
              "        const buttonEl =\n",
              "          document.querySelector('#df-2dff303e-66a8-4711-b127-31a34d691cf5 button.colab-df-convert');\n",
              "        buttonEl.style.display =\n",
              "          google.colab.kernel.accessAllowed ? 'block' : 'none';\n",
              "\n",
              "        async function convertToInteractive(key) {\n",
              "          const element = document.querySelector('#df-2dff303e-66a8-4711-b127-31a34d691cf5');\n",
              "          const dataTable =\n",
              "            await google.colab.kernel.invokeFunction('convertToInteractive',\n",
              "                                                     [key], {});\n",
              "          if (!dataTable) return;\n",
              "\n",
              "          const docLinkHtml = 'Like what you see? Visit the ' +\n",
              "            '<a target=\"_blank\" href=https://colab.research.google.com/notebooks/data_table.ipynb>data table notebook</a>'\n",
              "            + ' to learn more about interactive tables.';\n",
              "          element.innerHTML = '';\n",
              "          dataTable['output_type'] = 'display_data';\n",
              "          await google.colab.output.renderOutput(dataTable, element);\n",
              "          const docLink = document.createElement('div');\n",
              "          docLink.innerHTML = docLinkHtml;\n",
              "          element.appendChild(docLink);\n",
              "        }\n",
              "      </script>\n",
              "    </div>\n",
              "  </div>\n",
              "  "
            ]
          },
          "metadata": {},
          "execution_count": 16
        }
      ]
    },
    {
      "cell_type": "code",
      "source": [
        "print(\"Suma:\", sum(L_orb_lj))\n",
        "print(\"Razón del sistema joviano:\", sum(L_orb_lj)/mrotsist[0])"
      ],
      "metadata": {
        "colab": {
          "base_uri": "https://localhost:8080/"
        },
        "id": "qu6q6SB2xhqo",
        "outputId": "7c97879a-6096-4026-d584-a4a59ca5c50a"
      },
      "execution_count": 17,
      "outputs": [
        {
          "output_type": "stream",
          "name": "stdout",
          "text": [
            "Suma: 4.488709580086149e+36\n",
            "Razón del sistema joviano: 0.006561577181108792\n"
          ]
        }
      ]
    },
    {
      "cell_type": "code",
      "source": [
        "al_sat = [1221900, 527200,3561700, 377700, 295000, 238400] #km\n",
        "T_lsat = [15.945448, 4.517503,79.331002, 2.736916, 1.887802, 1.370218]\n",
        "\n",
        "L_orb_s = m_orb(np.array(msat[1:]), np.array(al_sat)*1000, np.array(T_lsat)*60*60*24)\n",
        "L_orb_s[2] = m_orb(msat[3], np.array(al_sat[2]), np.array(T_lsat[2])*60*60*24)*1000**2\n",
        "L_sat = pd.DataFrame()\n",
        "L_sat['Nombre'] = nssat[1:]\n",
        "L_sat['a [km]'] = al_sat\n",
        "L_sat['T orbital [días]'] = T_lsat\n",
        "L_sat['L orbital [kg.m^2s^-1]'] = L_orb_s\n",
        "\n",
        "L_sat"
      ],
      "metadata": {
        "colab": {
          "base_uri": "https://localhost:8080/",
          "height": 237
        },
        "id": "WVYyMvhgKMil",
        "outputId": "b195d08f-6dac-40e9-e163-f2d260237a11"
      },
      "execution_count": 18,
      "outputs": [
        {
          "output_type": "execute_result",
          "data": {
            "text/plain": [
              "     Nombre   a [km]  T orbital [días]  L orbital [kg.m^2s^-1]\n",
              "0     Titán  1221900         15.945448            9.159834e+35\n",
              "1       Rea   527200          4.517503            1.031758e+34\n",
              "2   Íapetus  3561700         79.331002            2.099013e+34\n",
              "3     Dione   377700          2.736916            4.152331e+33\n",
              "4     Tetis   295000          1.887802            2.070432e+33\n",
              "5  Encélado   238400          1.370218            3.258376e+32"
            ],
            "text/html": [
              "\n",
              "  <div id=\"df-95046f09-366d-43a6-9c28-9b4cd8929069\">\n",
              "    <div class=\"colab-df-container\">\n",
              "      <div>\n",
              "<style scoped>\n",
              "    .dataframe tbody tr th:only-of-type {\n",
              "        vertical-align: middle;\n",
              "    }\n",
              "\n",
              "    .dataframe tbody tr th {\n",
              "        vertical-align: top;\n",
              "    }\n",
              "\n",
              "    .dataframe thead th {\n",
              "        text-align: right;\n",
              "    }\n",
              "</style>\n",
              "<table border=\"1\" class=\"dataframe\">\n",
              "  <thead>\n",
              "    <tr style=\"text-align: right;\">\n",
              "      <th></th>\n",
              "      <th>Nombre</th>\n",
              "      <th>a [km]</th>\n",
              "      <th>T orbital [días]</th>\n",
              "      <th>L orbital [kg.m^2s^-1]</th>\n",
              "    </tr>\n",
              "  </thead>\n",
              "  <tbody>\n",
              "    <tr>\n",
              "      <th>0</th>\n",
              "      <td>Titán</td>\n",
              "      <td>1221900</td>\n",
              "      <td>15.945448</td>\n",
              "      <td>9.159834e+35</td>\n",
              "    </tr>\n",
              "    <tr>\n",
              "      <th>1</th>\n",
              "      <td>Rea</td>\n",
              "      <td>527200</td>\n",
              "      <td>4.517503</td>\n",
              "      <td>1.031758e+34</td>\n",
              "    </tr>\n",
              "    <tr>\n",
              "      <th>2</th>\n",
              "      <td>Íapetus</td>\n",
              "      <td>3561700</td>\n",
              "      <td>79.331002</td>\n",
              "      <td>2.099013e+34</td>\n",
              "    </tr>\n",
              "    <tr>\n",
              "      <th>3</th>\n",
              "      <td>Dione</td>\n",
              "      <td>377700</td>\n",
              "      <td>2.736916</td>\n",
              "      <td>4.152331e+33</td>\n",
              "    </tr>\n",
              "    <tr>\n",
              "      <th>4</th>\n",
              "      <td>Tetis</td>\n",
              "      <td>295000</td>\n",
              "      <td>1.887802</td>\n",
              "      <td>2.070432e+33</td>\n",
              "    </tr>\n",
              "    <tr>\n",
              "      <th>5</th>\n",
              "      <td>Encélado</td>\n",
              "      <td>238400</td>\n",
              "      <td>1.370218</td>\n",
              "      <td>3.258376e+32</td>\n",
              "    </tr>\n",
              "  </tbody>\n",
              "</table>\n",
              "</div>\n",
              "      <button class=\"colab-df-convert\" onclick=\"convertToInteractive('df-95046f09-366d-43a6-9c28-9b4cd8929069')\"\n",
              "              title=\"Convert this dataframe to an interactive table.\"\n",
              "              style=\"display:none;\">\n",
              "        \n",
              "  <svg xmlns=\"http://www.w3.org/2000/svg\" height=\"24px\"viewBox=\"0 0 24 24\"\n",
              "       width=\"24px\">\n",
              "    <path d=\"M0 0h24v24H0V0z\" fill=\"none\"/>\n",
              "    <path d=\"M18.56 5.44l.94 2.06.94-2.06 2.06-.94-2.06-.94-.94-2.06-.94 2.06-2.06.94zm-11 1L8.5 8.5l.94-2.06 2.06-.94-2.06-.94L8.5 2.5l-.94 2.06-2.06.94zm10 10l.94 2.06.94-2.06 2.06-.94-2.06-.94-.94-2.06-.94 2.06-2.06.94z\"/><path d=\"M17.41 7.96l-1.37-1.37c-.4-.4-.92-.59-1.43-.59-.52 0-1.04.2-1.43.59L10.3 9.45l-7.72 7.72c-.78.78-.78 2.05 0 2.83L4 21.41c.39.39.9.59 1.41.59.51 0 1.02-.2 1.41-.59l7.78-7.78 2.81-2.81c.8-.78.8-2.07 0-2.86zM5.41 20L4 18.59l7.72-7.72 1.47 1.35L5.41 20z\"/>\n",
              "  </svg>\n",
              "      </button>\n",
              "      \n",
              "  <style>\n",
              "    .colab-df-container {\n",
              "      display:flex;\n",
              "      flex-wrap:wrap;\n",
              "      gap: 12px;\n",
              "    }\n",
              "\n",
              "    .colab-df-convert {\n",
              "      background-color: #E8F0FE;\n",
              "      border: none;\n",
              "      border-radius: 50%;\n",
              "      cursor: pointer;\n",
              "      display: none;\n",
              "      fill: #1967D2;\n",
              "      height: 32px;\n",
              "      padding: 0 0 0 0;\n",
              "      width: 32px;\n",
              "    }\n",
              "\n",
              "    .colab-df-convert:hover {\n",
              "      background-color: #E2EBFA;\n",
              "      box-shadow: 0px 1px 2px rgba(60, 64, 67, 0.3), 0px 1px 3px 1px rgba(60, 64, 67, 0.15);\n",
              "      fill: #174EA6;\n",
              "    }\n",
              "\n",
              "    [theme=dark] .colab-df-convert {\n",
              "      background-color: #3B4455;\n",
              "      fill: #D2E3FC;\n",
              "    }\n",
              "\n",
              "    [theme=dark] .colab-df-convert:hover {\n",
              "      background-color: #434B5C;\n",
              "      box-shadow: 0px 1px 3px 1px rgba(0, 0, 0, 0.15);\n",
              "      filter: drop-shadow(0px 1px 2px rgba(0, 0, 0, 0.3));\n",
              "      fill: #FFFFFF;\n",
              "    }\n",
              "  </style>\n",
              "\n",
              "      <script>\n",
              "        const buttonEl =\n",
              "          document.querySelector('#df-95046f09-366d-43a6-9c28-9b4cd8929069 button.colab-df-convert');\n",
              "        buttonEl.style.display =\n",
              "          google.colab.kernel.accessAllowed ? 'block' : 'none';\n",
              "\n",
              "        async function convertToInteractive(key) {\n",
              "          const element = document.querySelector('#df-95046f09-366d-43a6-9c28-9b4cd8929069');\n",
              "          const dataTable =\n",
              "            await google.colab.kernel.invokeFunction('convertToInteractive',\n",
              "                                                     [key], {});\n",
              "          if (!dataTable) return;\n",
              "\n",
              "          const docLinkHtml = 'Like what you see? Visit the ' +\n",
              "            '<a target=\"_blank\" href=https://colab.research.google.com/notebooks/data_table.ipynb>data table notebook</a>'\n",
              "            + ' to learn more about interactive tables.';\n",
              "          element.innerHTML = '';\n",
              "          dataTable['output_type'] = 'display_data';\n",
              "          await google.colab.output.renderOutput(dataTable, element);\n",
              "          const docLink = document.createElement('div');\n",
              "          docLink.innerHTML = docLinkHtml;\n",
              "          element.appendChild(docLink);\n",
              "        }\n",
              "      </script>\n",
              "    </div>\n",
              "  </div>\n",
              "  "
            ]
          },
          "metadata": {},
          "execution_count": 18
        }
      ]
    },
    {
      "cell_type": "code",
      "source": [
        "print(\"suma de L orbitales del s sat:\", sum(L_orb_s))\n",
        "print(\"Razón:\", sum(L_orb_s)/mrotsist[1])"
      ],
      "metadata": {
        "colab": {
          "base_uri": "https://localhost:8080/"
        },
        "id": "CwZDVWLX1Ehp",
        "outputId": "09a74af1-9e6a-4fe1-c318-387f3bca6408"
      },
      "execution_count": 19,
      "outputs": [
        {
          "output_type": "stream",
          "name": "stdout",
          "text": [
            "suma de L orbitales del s sat: 9.538396753982596e+35\n",
            "Razón: 0.007085979751937714\n"
          ]
        }
      ]
    },
    {
      "cell_type": "markdown",
      "source": [
        "### Punto 2"
      ],
      "metadata": {
        "id": "rZ7zfu2WC8Q2"
      }
    },
    {
      "cell_type": "code",
      "source": [
        "al_u = [436300, 583400, 190900, 266000, 129900, 12180000, 86000, 66100]\n",
        "T_lu = [8.706444, 13.463606, 2.520680, 4.144548, 1.413784, 1289.230640, 0.761476, 0.513196]\n",
        "\n",
        "L_orb_u = m_orb(np.array(msu[1:]), np.array(al_u)*1000, np.array(T_lu)*60*60*24)\n",
        "L_u = pd.DataFrame()\n",
        "L_u['Nombre'] = nsu[1:]\n",
        "L_u['a [km]'] = al_u\n",
        "L_u['T orbital [días]'] = T_lu\n",
        "L_u['L orbital [kg.m^2s^-1]'] = L_orb_u\n",
        "\n",
        "print(\"suma de L orbitales del s urano:\", sum(L_orb_u))\n",
        "print(\"Razón:\", sum(L_orb_u)/mrotsist[2])\n",
        "\n",
        "L_u"
      ],
      "metadata": {
        "colab": {
          "base_uri": "https://localhost:8080/",
          "height": 335
        },
        "id": "lyCy4-FX7z8K",
        "outputId": "3e25e26a-bb34-4328-eaf9-73f3bf316575"
      },
      "execution_count": 20,
      "outputs": [
        {
          "output_type": "stream",
          "name": "stdout",
          "text": [
            "suma de L orbitales del s urano: 1.4084443485398605e+34\n",
            "Razón: 0.006119604261191223\n"
          ]
        },
        {
          "output_type": "execute_result",
          "data": {
            "text/plain": [
              "    Nombre    a [km]  T orbital [días]  L orbital [kg.m^2s^-1]\n",
              "0  Titania    436300          8.706444            5.607912e+33\n",
              "1   Oberon    583400         13.463606            5.540907e+33\n",
              "2    Ariel    190900          2.520680            1.422519e+33\n",
              "3  Umbriel    266000          4.144548            1.452573e+33\n",
              "4  Miranda    129900          1.413784            5.719878e+31\n",
              "5  Sycorax  12180000       1289.230640            2.327237e+29\n",
              "6     Puck     86000          0.761476            2.048353e+30\n",
              "7   Portia     66100          0.513196            1.052531e+30"
            ],
            "text/html": [
              "\n",
              "  <div id=\"df-84d4aea7-6e7f-40d7-9521-c06e5a205363\">\n",
              "    <div class=\"colab-df-container\">\n",
              "      <div>\n",
              "<style scoped>\n",
              "    .dataframe tbody tr th:only-of-type {\n",
              "        vertical-align: middle;\n",
              "    }\n",
              "\n",
              "    .dataframe tbody tr th {\n",
              "        vertical-align: top;\n",
              "    }\n",
              "\n",
              "    .dataframe thead th {\n",
              "        text-align: right;\n",
              "    }\n",
              "</style>\n",
              "<table border=\"1\" class=\"dataframe\">\n",
              "  <thead>\n",
              "    <tr style=\"text-align: right;\">\n",
              "      <th></th>\n",
              "      <th>Nombre</th>\n",
              "      <th>a [km]</th>\n",
              "      <th>T orbital [días]</th>\n",
              "      <th>L orbital [kg.m^2s^-1]</th>\n",
              "    </tr>\n",
              "  </thead>\n",
              "  <tbody>\n",
              "    <tr>\n",
              "      <th>0</th>\n",
              "      <td>Titania</td>\n",
              "      <td>436300</td>\n",
              "      <td>8.706444</td>\n",
              "      <td>5.607912e+33</td>\n",
              "    </tr>\n",
              "    <tr>\n",
              "      <th>1</th>\n",
              "      <td>Oberon</td>\n",
              "      <td>583400</td>\n",
              "      <td>13.463606</td>\n",
              "      <td>5.540907e+33</td>\n",
              "    </tr>\n",
              "    <tr>\n",
              "      <th>2</th>\n",
              "      <td>Ariel</td>\n",
              "      <td>190900</td>\n",
              "      <td>2.520680</td>\n",
              "      <td>1.422519e+33</td>\n",
              "    </tr>\n",
              "    <tr>\n",
              "      <th>3</th>\n",
              "      <td>Umbriel</td>\n",
              "      <td>266000</td>\n",
              "      <td>4.144548</td>\n",
              "      <td>1.452573e+33</td>\n",
              "    </tr>\n",
              "    <tr>\n",
              "      <th>4</th>\n",
              "      <td>Miranda</td>\n",
              "      <td>129900</td>\n",
              "      <td>1.413784</td>\n",
              "      <td>5.719878e+31</td>\n",
              "    </tr>\n",
              "    <tr>\n",
              "      <th>5</th>\n",
              "      <td>Sycorax</td>\n",
              "      <td>12180000</td>\n",
              "      <td>1289.230640</td>\n",
              "      <td>2.327237e+29</td>\n",
              "    </tr>\n",
              "    <tr>\n",
              "      <th>6</th>\n",
              "      <td>Puck</td>\n",
              "      <td>86000</td>\n",
              "      <td>0.761476</td>\n",
              "      <td>2.048353e+30</td>\n",
              "    </tr>\n",
              "    <tr>\n",
              "      <th>7</th>\n",
              "      <td>Portia</td>\n",
              "      <td>66100</td>\n",
              "      <td>0.513196</td>\n",
              "      <td>1.052531e+30</td>\n",
              "    </tr>\n",
              "  </tbody>\n",
              "</table>\n",
              "</div>\n",
              "      <button class=\"colab-df-convert\" onclick=\"convertToInteractive('df-84d4aea7-6e7f-40d7-9521-c06e5a205363')\"\n",
              "              title=\"Convert this dataframe to an interactive table.\"\n",
              "              style=\"display:none;\">\n",
              "        \n",
              "  <svg xmlns=\"http://www.w3.org/2000/svg\" height=\"24px\"viewBox=\"0 0 24 24\"\n",
              "       width=\"24px\">\n",
              "    <path d=\"M0 0h24v24H0V0z\" fill=\"none\"/>\n",
              "    <path d=\"M18.56 5.44l.94 2.06.94-2.06 2.06-.94-2.06-.94-.94-2.06-.94 2.06-2.06.94zm-11 1L8.5 8.5l.94-2.06 2.06-.94-2.06-.94L8.5 2.5l-.94 2.06-2.06.94zm10 10l.94 2.06.94-2.06 2.06-.94-2.06-.94-.94-2.06-.94 2.06-2.06.94z\"/><path d=\"M17.41 7.96l-1.37-1.37c-.4-.4-.92-.59-1.43-.59-.52 0-1.04.2-1.43.59L10.3 9.45l-7.72 7.72c-.78.78-.78 2.05 0 2.83L4 21.41c.39.39.9.59 1.41.59.51 0 1.02-.2 1.41-.59l7.78-7.78 2.81-2.81c.8-.78.8-2.07 0-2.86zM5.41 20L4 18.59l7.72-7.72 1.47 1.35L5.41 20z\"/>\n",
              "  </svg>\n",
              "      </button>\n",
              "      \n",
              "  <style>\n",
              "    .colab-df-container {\n",
              "      display:flex;\n",
              "      flex-wrap:wrap;\n",
              "      gap: 12px;\n",
              "    }\n",
              "\n",
              "    .colab-df-convert {\n",
              "      background-color: #E8F0FE;\n",
              "      border: none;\n",
              "      border-radius: 50%;\n",
              "      cursor: pointer;\n",
              "      display: none;\n",
              "      fill: #1967D2;\n",
              "      height: 32px;\n",
              "      padding: 0 0 0 0;\n",
              "      width: 32px;\n",
              "    }\n",
              "\n",
              "    .colab-df-convert:hover {\n",
              "      background-color: #E2EBFA;\n",
              "      box-shadow: 0px 1px 2px rgba(60, 64, 67, 0.3), 0px 1px 3px 1px rgba(60, 64, 67, 0.15);\n",
              "      fill: #174EA6;\n",
              "    }\n",
              "\n",
              "    [theme=dark] .colab-df-convert {\n",
              "      background-color: #3B4455;\n",
              "      fill: #D2E3FC;\n",
              "    }\n",
              "\n",
              "    [theme=dark] .colab-df-convert:hover {\n",
              "      background-color: #434B5C;\n",
              "      box-shadow: 0px 1px 3px 1px rgba(0, 0, 0, 0.15);\n",
              "      filter: drop-shadow(0px 1px 2px rgba(0, 0, 0, 0.3));\n",
              "      fill: #FFFFFF;\n",
              "    }\n",
              "  </style>\n",
              "\n",
              "      <script>\n",
              "        const buttonEl =\n",
              "          document.querySelector('#df-84d4aea7-6e7f-40d7-9521-c06e5a205363 button.colab-df-convert');\n",
              "        buttonEl.style.display =\n",
              "          google.colab.kernel.accessAllowed ? 'block' : 'none';\n",
              "\n",
              "        async function convertToInteractive(key) {\n",
              "          const element = document.querySelector('#df-84d4aea7-6e7f-40d7-9521-c06e5a205363');\n",
              "          const dataTable =\n",
              "            await google.colab.kernel.invokeFunction('convertToInteractive',\n",
              "                                                     [key], {});\n",
              "          if (!dataTable) return;\n",
              "\n",
              "          const docLinkHtml = 'Like what you see? Visit the ' +\n",
              "            '<a target=\"_blank\" href=https://colab.research.google.com/notebooks/data_table.ipynb>data table notebook</a>'\n",
              "            + ' to learn more about interactive tables.';\n",
              "          element.innerHTML = '';\n",
              "          dataTable['output_type'] = 'display_data';\n",
              "          await google.colab.output.renderOutput(dataTable, element);\n",
              "          const docLink = document.createElement('div');\n",
              "          docLink.innerHTML = docLinkHtml;\n",
              "          element.appendChild(docLink);\n",
              "        }\n",
              "      </script>\n",
              "    </div>\n",
              "  </div>\n",
              "  "
            ]
          },
          "metadata": {},
          "execution_count": 20
        }
      ]
    },
    {
      "cell_type": "code",
      "source": [
        "# TIEMPO ENTRE CADA CONJUNCIÓN\n",
        "\n",
        "def t_conjuncion(T1, T2):\n",
        "  return T1*T2/(T2-T1)\n",
        "\n",
        "t_con_plan = []\n",
        "n_pares = []\n",
        "for i in range(len(T_orbplan)-1):\n",
        "  t_con_plan.append(t_conjuncion(T_orbplan[i], T_orbplan[i+1]))  \n",
        "  n_pares.append(nss[i+1] +'-' +nss[i+2])\n",
        "\n",
        "np.array(t_con_plan)/365\n",
        "\n",
        "conj_plan = pd.DataFrame()\n",
        "conj_plan['Pareja'] = n_pares\n",
        "conj_plan['t [años]'] = np.array(t_con_plan)/365\n",
        "\n",
        "conj_plan"
      ],
      "metadata": {
        "colab": {
          "base_uri": "https://localhost:8080/",
          "height": 269
        },
        "id": "0X5xShIX9QZy",
        "outputId": "43b963d5-be88-4717-9895-00fdf981c961"
      },
      "execution_count": 21,
      "outputs": [
        {
          "output_type": "execute_result",
          "data": {
            "text/plain": [
              "           Pareja    t [años]\n",
              "0   MERCURY-VENUS    0.396300\n",
              "1     VENUS-EARTH    1.600165\n",
              "2      EARTH-MARS    2.136036\n",
              "3    MARS-JUPITER    2.237040\n",
              "4  JUPITER-SATURN   19.875507\n",
              "5   SATURN-URANUS   45.391467\n",
              "6  URANUS-NEPTUNE  171.564399"
            ],
            "text/html": [
              "\n",
              "  <div id=\"df-604531ba-04f9-4b4c-985c-cc08f86ff101\">\n",
              "    <div class=\"colab-df-container\">\n",
              "      <div>\n",
              "<style scoped>\n",
              "    .dataframe tbody tr th:only-of-type {\n",
              "        vertical-align: middle;\n",
              "    }\n",
              "\n",
              "    .dataframe tbody tr th {\n",
              "        vertical-align: top;\n",
              "    }\n",
              "\n",
              "    .dataframe thead th {\n",
              "        text-align: right;\n",
              "    }\n",
              "</style>\n",
              "<table border=\"1\" class=\"dataframe\">\n",
              "  <thead>\n",
              "    <tr style=\"text-align: right;\">\n",
              "      <th></th>\n",
              "      <th>Pareja</th>\n",
              "      <th>t [años]</th>\n",
              "    </tr>\n",
              "  </thead>\n",
              "  <tbody>\n",
              "    <tr>\n",
              "      <th>0</th>\n",
              "      <td>MERCURY-VENUS</td>\n",
              "      <td>0.396300</td>\n",
              "    </tr>\n",
              "    <tr>\n",
              "      <th>1</th>\n",
              "      <td>VENUS-EARTH</td>\n",
              "      <td>1.600165</td>\n",
              "    </tr>\n",
              "    <tr>\n",
              "      <th>2</th>\n",
              "      <td>EARTH-MARS</td>\n",
              "      <td>2.136036</td>\n",
              "    </tr>\n",
              "    <tr>\n",
              "      <th>3</th>\n",
              "      <td>MARS-JUPITER</td>\n",
              "      <td>2.237040</td>\n",
              "    </tr>\n",
              "    <tr>\n",
              "      <th>4</th>\n",
              "      <td>JUPITER-SATURN</td>\n",
              "      <td>19.875507</td>\n",
              "    </tr>\n",
              "    <tr>\n",
              "      <th>5</th>\n",
              "      <td>SATURN-URANUS</td>\n",
              "      <td>45.391467</td>\n",
              "    </tr>\n",
              "    <tr>\n",
              "      <th>6</th>\n",
              "      <td>URANUS-NEPTUNE</td>\n",
              "      <td>171.564399</td>\n",
              "    </tr>\n",
              "  </tbody>\n",
              "</table>\n",
              "</div>\n",
              "      <button class=\"colab-df-convert\" onclick=\"convertToInteractive('df-604531ba-04f9-4b4c-985c-cc08f86ff101')\"\n",
              "              title=\"Convert this dataframe to an interactive table.\"\n",
              "              style=\"display:none;\">\n",
              "        \n",
              "  <svg xmlns=\"http://www.w3.org/2000/svg\" height=\"24px\"viewBox=\"0 0 24 24\"\n",
              "       width=\"24px\">\n",
              "    <path d=\"M0 0h24v24H0V0z\" fill=\"none\"/>\n",
              "    <path d=\"M18.56 5.44l.94 2.06.94-2.06 2.06-.94-2.06-.94-.94-2.06-.94 2.06-2.06.94zm-11 1L8.5 8.5l.94-2.06 2.06-.94-2.06-.94L8.5 2.5l-.94 2.06-2.06.94zm10 10l.94 2.06.94-2.06 2.06-.94-2.06-.94-.94-2.06-.94 2.06-2.06.94z\"/><path d=\"M17.41 7.96l-1.37-1.37c-.4-.4-.92-.59-1.43-.59-.52 0-1.04.2-1.43.59L10.3 9.45l-7.72 7.72c-.78.78-.78 2.05 0 2.83L4 21.41c.39.39.9.59 1.41.59.51 0 1.02-.2 1.41-.59l7.78-7.78 2.81-2.81c.8-.78.8-2.07 0-2.86zM5.41 20L4 18.59l7.72-7.72 1.47 1.35L5.41 20z\"/>\n",
              "  </svg>\n",
              "      </button>\n",
              "      \n",
              "  <style>\n",
              "    .colab-df-container {\n",
              "      display:flex;\n",
              "      flex-wrap:wrap;\n",
              "      gap: 12px;\n",
              "    }\n",
              "\n",
              "    .colab-df-convert {\n",
              "      background-color: #E8F0FE;\n",
              "      border: none;\n",
              "      border-radius: 50%;\n",
              "      cursor: pointer;\n",
              "      display: none;\n",
              "      fill: #1967D2;\n",
              "      height: 32px;\n",
              "      padding: 0 0 0 0;\n",
              "      width: 32px;\n",
              "    }\n",
              "\n",
              "    .colab-df-convert:hover {\n",
              "      background-color: #E2EBFA;\n",
              "      box-shadow: 0px 1px 2px rgba(60, 64, 67, 0.3), 0px 1px 3px 1px rgba(60, 64, 67, 0.15);\n",
              "      fill: #174EA6;\n",
              "    }\n",
              "\n",
              "    [theme=dark] .colab-df-convert {\n",
              "      background-color: #3B4455;\n",
              "      fill: #D2E3FC;\n",
              "    }\n",
              "\n",
              "    [theme=dark] .colab-df-convert:hover {\n",
              "      background-color: #434B5C;\n",
              "      box-shadow: 0px 1px 3px 1px rgba(0, 0, 0, 0.15);\n",
              "      filter: drop-shadow(0px 1px 2px rgba(0, 0, 0, 0.3));\n",
              "      fill: #FFFFFF;\n",
              "    }\n",
              "  </style>\n",
              "\n",
              "      <script>\n",
              "        const buttonEl =\n",
              "          document.querySelector('#df-604531ba-04f9-4b4c-985c-cc08f86ff101 button.colab-df-convert');\n",
              "        buttonEl.style.display =\n",
              "          google.colab.kernel.accessAllowed ? 'block' : 'none';\n",
              "\n",
              "        async function convertToInteractive(key) {\n",
              "          const element = document.querySelector('#df-604531ba-04f9-4b4c-985c-cc08f86ff101');\n",
              "          const dataTable =\n",
              "            await google.colab.kernel.invokeFunction('convertToInteractive',\n",
              "                                                     [key], {});\n",
              "          if (!dataTable) return;\n",
              "\n",
              "          const docLinkHtml = 'Like what you see? Visit the ' +\n",
              "            '<a target=\"_blank\" href=https://colab.research.google.com/notebooks/data_table.ipynb>data table notebook</a>'\n",
              "            + ' to learn more about interactive tables.';\n",
              "          element.innerHTML = '';\n",
              "          dataTable['output_type'] = 'display_data';\n",
              "          await google.colab.output.renderOutput(dataTable, element);\n",
              "          const docLink = document.createElement('div');\n",
              "          docLink.innerHTML = docLinkHtml;\n",
              "          element.appendChild(docLink);\n",
              "        }\n",
              "      </script>\n",
              "    </div>\n",
              "  </div>\n",
              "  "
            ]
          },
          "metadata": {},
          "execution_count": 21
        }
      ]
    },
    {
      "cell_type": "markdown",
      "source": [
        "### Punto 3"
      ],
      "metadata": {
        "id": "EqBve958Qps9"
      }
    },
    {
      "cell_type": "code",
      "source": [
        "G = 6.667e-11\n",
        "Msat = mss[6]*1e24 #kg\n",
        "Rsat = 5.8e7 #m\n",
        "deltaP = -1.11e17+1.98e17\n",
        "\n",
        "dR = 5*(Rsat**2)*deltaP /(3*G*Msat**2)\n",
        "print('Cambio del radio de Júpiter', dR)"
      ],
      "metadata": {
        "colab": {
          "base_uri": "https://localhost:8080/"
        },
        "id": "ma1X7XSmjzkq",
        "outputId": "4a2adb8d-daa2-47fc-e6fa-01bdeb4c7814"
      },
      "execution_count": 22,
      "outputs": [
        {
          "output_type": "stream",
          "name": "stdout",
          "text": [
            "Cambio del radio de Júpiter 2.26775881003609e-11\n"
          ]
        }
      ]
    },
    {
      "cell_type": "code",
      "source": [
        "tiempo = 1e9*60*60*24*365\n",
        "\n",
        "cambio_r = tiempo*dR\n",
        "cambio_r/Rsat * 100"
      ],
      "metadata": {
        "colab": {
          "base_uri": "https://localhost:8080/"
        },
        "id": "n_964V83OsLo",
        "outputId": "0a2cf1f5-fd2e-4174-b8fc-938a4fcb8248"
      },
      "execution_count": 23,
      "outputs": [
        {
          "output_type": "execute_result",
          "data": {
            "text/plain": [
              "1.2330352040223815"
            ]
          },
          "metadata": {},
          "execution_count": 23
        }
      ]
    },
    {
      "cell_type": "markdown",
      "source": [
        "### Punto 4.4\n"
      ],
      "metadata": {
        "id": "TFi0hryfjmpU"
      }
    },
    {
      "cell_type": "code",
      "source": [
        "def dsolar(T, d):\n",
        "  return (T*d)/(T-d)\n",
        "\n",
        "T = np.array([T_orbplan[0], T_orbplan[1], T_orbplan[3], T_orbplan[4]])*24 #horas\n",
        "d = np.array([1407.6, -5832.5,\t24.6,\t9.9])\n",
        "diasolar = dsolar(T,d)\n",
        "\n",
        "ds = pd.DataFrame()\n",
        "ds['Nombre'] = [nss[1],nss[2], nss[4], nss[5]]\n",
        "ds['T orbital [h]'] = T\n",
        "ds['Día sideral [h]'] = d\n",
        "ds['Día solar [h]'] = diasolar\n",
        "print(24 + 39/60)\n",
        "ds"
      ],
      "metadata": {
        "colab": {
          "base_uri": "https://localhost:8080/",
          "height": 192
        },
        "id": "yoAJdaO0jmHN",
        "outputId": "4fd63fa7-059a-490e-e6e1-fc8026e7ece5"
      },
      "execution_count": 55,
      "outputs": [
        {
          "output_type": "stream",
          "name": "stdout",
          "text": [
            "24.65\n"
          ]
        },
        {
          "output_type": "execute_result",
          "data": {
            "text/plain": [
              "    Nombre  T orbital [h]  Día sideral [h]  Día solar [h]\n",
              "0  MERCURY         2112.0           1407.6    4220.402044\n",
              "1    VENUS         5392.8          -5832.5   -2802.019189\n",
              "2     MARS        16488.0             24.6      24.636758\n",
              "3  JUPITER       103944.0              9.9       9.900943"
            ],
            "text/html": [
              "\n",
              "  <div id=\"df-75340708-c40c-404c-88d9-f0fc9da56ed6\">\n",
              "    <div class=\"colab-df-container\">\n",
              "      <div>\n",
              "<style scoped>\n",
              "    .dataframe tbody tr th:only-of-type {\n",
              "        vertical-align: middle;\n",
              "    }\n",
              "\n",
              "    .dataframe tbody tr th {\n",
              "        vertical-align: top;\n",
              "    }\n",
              "\n",
              "    .dataframe thead th {\n",
              "        text-align: right;\n",
              "    }\n",
              "</style>\n",
              "<table border=\"1\" class=\"dataframe\">\n",
              "  <thead>\n",
              "    <tr style=\"text-align: right;\">\n",
              "      <th></th>\n",
              "      <th>Nombre</th>\n",
              "      <th>T orbital [h]</th>\n",
              "      <th>Día sideral [h]</th>\n",
              "      <th>Día solar [h]</th>\n",
              "    </tr>\n",
              "  </thead>\n",
              "  <tbody>\n",
              "    <tr>\n",
              "      <th>0</th>\n",
              "      <td>MERCURY</td>\n",
              "      <td>2112.0</td>\n",
              "      <td>1407.6</td>\n",
              "      <td>4220.402044</td>\n",
              "    </tr>\n",
              "    <tr>\n",
              "      <th>1</th>\n",
              "      <td>VENUS</td>\n",
              "      <td>5392.8</td>\n",
              "      <td>-5832.5</td>\n",
              "      <td>-2802.019189</td>\n",
              "    </tr>\n",
              "    <tr>\n",
              "      <th>2</th>\n",
              "      <td>MARS</td>\n",
              "      <td>16488.0</td>\n",
              "      <td>24.6</td>\n",
              "      <td>24.636758</td>\n",
              "    </tr>\n",
              "    <tr>\n",
              "      <th>3</th>\n",
              "      <td>JUPITER</td>\n",
              "      <td>103944.0</td>\n",
              "      <td>9.9</td>\n",
              "      <td>9.900943</td>\n",
              "    </tr>\n",
              "  </tbody>\n",
              "</table>\n",
              "</div>\n",
              "      <button class=\"colab-df-convert\" onclick=\"convertToInteractive('df-75340708-c40c-404c-88d9-f0fc9da56ed6')\"\n",
              "              title=\"Convert this dataframe to an interactive table.\"\n",
              "              style=\"display:none;\">\n",
              "        \n",
              "  <svg xmlns=\"http://www.w3.org/2000/svg\" height=\"24px\"viewBox=\"0 0 24 24\"\n",
              "       width=\"24px\">\n",
              "    <path d=\"M0 0h24v24H0V0z\" fill=\"none\"/>\n",
              "    <path d=\"M18.56 5.44l.94 2.06.94-2.06 2.06-.94-2.06-.94-.94-2.06-.94 2.06-2.06.94zm-11 1L8.5 8.5l.94-2.06 2.06-.94-2.06-.94L8.5 2.5l-.94 2.06-2.06.94zm10 10l.94 2.06.94-2.06 2.06-.94-2.06-.94-.94-2.06-.94 2.06-2.06.94z\"/><path d=\"M17.41 7.96l-1.37-1.37c-.4-.4-.92-.59-1.43-.59-.52 0-1.04.2-1.43.59L10.3 9.45l-7.72 7.72c-.78.78-.78 2.05 0 2.83L4 21.41c.39.39.9.59 1.41.59.51 0 1.02-.2 1.41-.59l7.78-7.78 2.81-2.81c.8-.78.8-2.07 0-2.86zM5.41 20L4 18.59l7.72-7.72 1.47 1.35L5.41 20z\"/>\n",
              "  </svg>\n",
              "      </button>\n",
              "      \n",
              "  <style>\n",
              "    .colab-df-container {\n",
              "      display:flex;\n",
              "      flex-wrap:wrap;\n",
              "      gap: 12px;\n",
              "    }\n",
              "\n",
              "    .colab-df-convert {\n",
              "      background-color: #E8F0FE;\n",
              "      border: none;\n",
              "      border-radius: 50%;\n",
              "      cursor: pointer;\n",
              "      display: none;\n",
              "      fill: #1967D2;\n",
              "      height: 32px;\n",
              "      padding: 0 0 0 0;\n",
              "      width: 32px;\n",
              "    }\n",
              "\n",
              "    .colab-df-convert:hover {\n",
              "      background-color: #E2EBFA;\n",
              "      box-shadow: 0px 1px 2px rgba(60, 64, 67, 0.3), 0px 1px 3px 1px rgba(60, 64, 67, 0.15);\n",
              "      fill: #174EA6;\n",
              "    }\n",
              "\n",
              "    [theme=dark] .colab-df-convert {\n",
              "      background-color: #3B4455;\n",
              "      fill: #D2E3FC;\n",
              "    }\n",
              "\n",
              "    [theme=dark] .colab-df-convert:hover {\n",
              "      background-color: #434B5C;\n",
              "      box-shadow: 0px 1px 3px 1px rgba(0, 0, 0, 0.15);\n",
              "      filter: drop-shadow(0px 1px 2px rgba(0, 0, 0, 0.3));\n",
              "      fill: #FFFFFF;\n",
              "    }\n",
              "  </style>\n",
              "\n",
              "      <script>\n",
              "        const buttonEl =\n",
              "          document.querySelector('#df-75340708-c40c-404c-88d9-f0fc9da56ed6 button.colab-df-convert');\n",
              "        buttonEl.style.display =\n",
              "          google.colab.kernel.accessAllowed ? 'block' : 'none';\n",
              "\n",
              "        async function convertToInteractive(key) {\n",
              "          const element = document.querySelector('#df-75340708-c40c-404c-88d9-f0fc9da56ed6');\n",
              "          const dataTable =\n",
              "            await google.colab.kernel.invokeFunction('convertToInteractive',\n",
              "                                                     [key], {});\n",
              "          if (!dataTable) return;\n",
              "\n",
              "          const docLinkHtml = 'Like what you see? Visit the ' +\n",
              "            '<a target=\"_blank\" href=https://colab.research.google.com/notebooks/data_table.ipynb>data table notebook</a>'\n",
              "            + ' to learn more about interactive tables.';\n",
              "          element.innerHTML = '';\n",
              "          dataTable['output_type'] = 'display_data';\n",
              "          await google.colab.output.renderOutput(dataTable, element);\n",
              "          const docLink = document.createElement('div');\n",
              "          docLink.innerHTML = docLinkHtml;\n",
              "          element.appendChild(docLink);\n",
              "        }\n",
              "      </script>\n",
              "    </div>\n",
              "  </div>\n",
              "  "
            ]
          },
          "metadata": {},
          "execution_count": 55
        }
      ]
    },
    {
      "cell_type": "markdown",
      "source": [
        "### Punto 6a"
      ],
      "metadata": {
        "id": "jECuJjMEwGtU"
      }
    },
    {
      "cell_type": "code",
      "source": [
        "print(\"El radio de Hill de la Tierra es:\", 3.00273e-6**(1/3))\n",
        "print(\"{}km\".format((3.00273e-6**(1/3) * 1.496e8)/405500))"
      ],
      "metadata": {
        "colab": {
          "base_uri": "https://localhost:8080/"
        },
        "id": "fJV7AA7XPzgZ",
        "outputId": "b76134ae-2ddd-497c-e912-7380464846cb"
      },
      "execution_count": 24,
      "outputs": [
        {
          "output_type": "stream",
          "name": "stdout",
          "text": [
            "El radio de Hill de la Tierra es: 0.014426869200411313\n",
            "5.322465184664692km\n"
          ]
        }
      ]
    },
    {
      "cell_type": "code",
      "source": [
        "5*405500"
      ],
      "metadata": {
        "colab": {
          "base_uri": "https://localhost:8080/"
        },
        "id": "qieclhHAwScd",
        "outputId": "d62e9fe7-c1f3-4323-b431-c66cd3da622c"
      },
      "execution_count": 25,
      "outputs": [
        {
          "output_type": "execute_result",
          "data": {
            "text/plain": [
              "2027500"
            ]
          },
          "metadata": {},
          "execution_count": 25
        }
      ]
    },
    {
      "cell_type": "markdown",
      "source": [
        "### Punto 8b\n"
      ],
      "metadata": {
        "id": "3WmsDhE0EOFi"
      }
    },
    {
      "cell_type": "code",
      "source": [
        "Moc = 6e26 #kg\n",
        "N = 1e13\n",
        "rho = 1000 #kg m^-3\n",
        "\n",
        "mob = Moc/N\n",
        "print(\"Masa promedio de cada objeto:\", mob/1e13)\n",
        "\n",
        "R = (3*mob/(4*np.pi*rho))**(1/3)/1000 #km\n",
        "print(\"Radio promedio de cada objeto km:\", R)\n",
        "R_c = 1e4*1.496e8 #Radio del volumen en km\n",
        "l = R_c**3/(3*np.sqrt(2)*N*R**2) #En km\n",
        "\n",
        "print(\"El camino libre medio en es:\", l/(1.496e8*1e13))\n",
        "\n",
        "wel = 10*60*60*24*365 #km/año\n",
        "t = l/(wel)\n",
        "print(\"Tiempo para recorrer en 1e13 años es:\", t/1e13)\n",
        "print(\"Edad del universo: \",13000000000000/1e13)"
      ],
      "metadata": {
        "id": "mByYOJgYyZHE",
        "colab": {
          "base_uri": "https://localhost:8080/"
        },
        "outputId": "08b17bc6-6e8c-4333-fdbf-bfa54592cd08"
      },
      "execution_count": 26,
      "outputs": [
        {
          "output_type": "stream",
          "name": "stdout",
          "text": [
            "Masa promedio de cada objeto: 6.0\n",
            "Radio promedio de cada objeto km: 2.42859006300528\n",
            "El camino libre medio en es: 8.94372644107267\n",
            "Tiempo para recorrer en 1e13 años es: 4.242711426891399\n",
            "Edad del universo:  1.3\n"
          ]
        }
      ]
    },
    {
      "cell_type": "code",
      "source": [
        "M = 1.989e30 #kg\n",
        "a_obj = 1e4*1.496e11 #En metros\n",
        "Periodo = np.sqrt(4*np.pi**2*a_obj**3/(G*M)) #en segundos\n",
        "\n",
        "print(\"Período de un objeto en la nube de Oort: \", Periodo/(60*60*24*365))  #En años\n",
        "\n",
        "print(\"El objeto daría {} vueltas en ese tiempo:\".format(4.5e9/(Periodo/(60*60*24*365))))"
      ],
      "metadata": {
        "colab": {
          "base_uri": "https://localhost:8080/"
        },
        "id": "dqZS0uNzEkxI",
        "outputId": "e6f7fcc0-bf4d-40b4-fb4e-6ad593f72004"
      },
      "execution_count": 27,
      "outputs": [
        {
          "output_type": "stream",
          "name": "stdout",
          "text": [
            "Período de un objeto en la nube de Oort:  1001124.3681960852\n",
            "El objeto daría 4494.946025645644 vueltas en ese tiempo:\n"
          ]
        }
      ]
    },
    {
      "cell_type": "code",
      "source": [
        "a_objj = 1e4 #AU\n",
        "dr = 4494.942*2*np.pi*a_objj\n",
        "print(\"Ha recorrido\", dr/1e8)"
      ],
      "metadata": {
        "colab": {
          "base_uri": "https://localhost:8080/"
        },
        "id": "2EhrpDavQP_Z",
        "outputId": "296209ac-09fc-44b6-c24c-ef7570715b55"
      },
      "execution_count": 77,
      "outputs": [
        {
          "output_type": "stream",
          "name": "stdout",
          "text": [
            "Ha recorrido 2.824255353102442\n"
          ]
        }
      ]
    },
    {
      "cell_type": "code",
      "source": [
        "Prob = dr/(l/(1.496e8))\n",
        "Prob"
      ],
      "metadata": {
        "colab": {
          "base_uri": "https://localhost:8080/"
        },
        "id": "fUPbpJjQRhPy",
        "outputId": "4f68cf89-eefe-4ca6-b936-0357a2febf0b"
      },
      "execution_count": 79,
      "outputs": [
        {
          "output_type": "execute_result",
          "data": {
            "text/plain": [
              "3.157806057363841e-06"
            ]
          },
          "metadata": {},
          "execution_count": 79
        }
      ]
    },
    {
      "cell_type": "markdown",
      "source": [
        "##Punto 9a\n"
      ],
      "metadata": {
        "id": "Sw57B4j8ybtT"
      }
    },
    {
      "cell_type": "code",
      "source": [
        "Mp = 1.3e22 #kg\n",
        "Mc = 1.52e21 #kg\n",
        "aa = 1.94e7\n",
        "Pplut = np.sqrt(4*np.pi**2*aa**3 / (G*(Mp+Mc)))/(60*60*24)"
      ],
      "metadata": {
        "id": "11xrrcsEykIh"
      },
      "execution_count": 57,
      "outputs": []
    },
    {
      "cell_type": "code",
      "source": [
        "velrel = 2*np.pi*aa/(Pplut*60*60*24)\n",
        "print(\"Velocidad relativa de Caronte:\", velrel)"
      ],
      "metadata": {
        "colab": {
          "base_uri": "https://localhost:8080/"
        },
        "id": "OUOwkWYYzL_O",
        "outputId": "bfa394a0-3293-452b-8a99-6b8ff0c71638"
      },
      "execution_count": 66,
      "outputs": [
        {
          "output_type": "stream",
          "name": "stdout",
          "text": [
            "Velocidad relativa de Caronte: 223.38174066350115\n"
          ]
        }
      ]
    },
    {
      "cell_type": "code",
      "source": [
        "R_P = 1188 #km\n",
        "R_C = 603.6 #km\n",
        "\n",
        "Ilu = (R_P**2)/(R_P**2+R_C**2)\n",
        "Ilu"
      ],
      "metadata": {
        "colab": {
          "base_uri": "https://localhost:8080/"
        },
        "id": "keErBtQIzY9p",
        "outputId": "426e0c72-ca8b-4189-8096-a2a2b856b080"
      },
      "execution_count": 67,
      "outputs": [
        {
          "output_type": "execute_result",
          "data": {
            "text/plain": [
              "0.7948202470341227"
            ]
          },
          "metadata": {},
          "execution_count": 67
        }
      ]
    },
    {
      "cell_type": "code",
      "source": [
        "print(\"Tiempo en ocultarse en segundos:\", 2*R_C*1000/velrel)\n",
        "\n",
        "print(\"Tiempo en ocultarse en minutos:\", (2*R_C*1000/velrel)/(60))\n",
        "\n",
        "print(\"Tiempo en atravesar Plutón en minutos:\", (2*(R_P-R_C)*1000/velrel)/(60))\n",
        "print(\"Duración total:\", 90.07002962837711+ 87.2049789841345)"
      ],
      "metadata": {
        "colab": {
          "base_uri": "https://localhost:8080/"
        },
        "id": "luYNKP7AHbVM",
        "outputId": "adca101b-bf8a-40fd-e9c6-cd34458b3c3b"
      },
      "execution_count": 73,
      "outputs": [
        {
          "output_type": "stream",
          "name": "stdout",
          "text": [
            "Tiempo en ocultarse en segundos: 5404.201777702627\n",
            "Tiempo en ocultarse en minutos: 90.07002962837711\n",
            "Tiempo en atravesar Plutón en minutos: 87.2049789841345\n",
            "Duración total: 177.2750086125116\n"
          ]
        }
      ]
    },
    {
      "cell_type": "code",
      "source": [],
      "metadata": {
        "id": "E4h2UyzJIrRm"
      },
      "execution_count": null,
      "outputs": []
    }
  ]
}