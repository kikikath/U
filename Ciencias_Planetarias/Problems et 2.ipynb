{
  "cells": [
    {
      "cell_type": "code",
      "execution_count": null,
      "metadata": {
        "id": "grN2Vt3ZAlbF",
        "outputId": "34570223-079d-4974-9c36-0d18cc9e4900"
      },
      "outputs": [
        {
          "name": "stdout",
          "output_type": "stream",
          "text": [
            "Populating the interactive namespace from numpy and matplotlib\n"
          ]
        }
      ],
      "source": [
        "import numpy as np\n",
        "import matplotlib.pyplot as plt\n",
        "%pylab inline"
      ]
    },
    {
      "cell_type": "markdown",
      "metadata": {
        "id": "XKEXHx0LAlbK"
      },
      "source": [
        "__Problema 1:__ \n",
        ">Calcule y grafique los perfiles de densidad, masa, aceleración gravitacional, presión y temperatura, en\n",
        "función del radio, para un planeta tipo terrestre, de tres capas: un núcleo líquido, un núcleo sólido, y\n",
        "un manto, con las mismas características que el planeta Tierra. Referencia: D. Valencia ,R. J.\n",
        "O’Connell D. Sasselov. Internal structure of massive terrestrial planets. Icarus 181, 545–554\n",
        "(2006)."
      ]
    },
    {
      "cell_type": "markdown",
      "metadata": {
        "id": "f89KMZZQAlbO"
      },
      "source": [
        "__Solución:__\n",
        "\n",
        "> Los perfiles que nos pide el problema pueden ser determinados al solucionar el sistema de EDOs acopladas que nos sugiere Valencia et al (2006):\n",
        "$$ \\frac{\\text{d}\\rho}{\\text{d}r} = -\\frac{\\rho(r) g(r)}{\\Phi(r)} $$\n",
        "$$ \\frac{\\text{d}g}{\\text{d}r} =4\\pi G\\rho(r) -\\frac{2 G m(r)}{r^3} $$\n",
        "$$ \\frac{\\text{d}m}{\\text{d}r} = 4\\pi r^2 \\rho(r)$$\n",
        "$$ \\frac{\\text{d}P}{\\text{d}r} = -\\rho(r) g(r) $$\n",
        "$$ \\frac{\\text{d}T}{\\text{d}r} = -\\frac{\\rho(r) g(r) T(r)}{K_S(r)} \\gamma (r) $$"
      ]
    },
    {
      "cell_type": "markdown",
      "metadata": {
        "id": "IP1zpmdhAlbS"
      },
      "source": [
        "> Donde \n",
        "- $\\gamma$ es el parámetro de Grüneisen dado por $\\gamma=\\gamma_0 \\big{(}\\frac{\\rho_0}{\\rho(r)}\\big{)}^q$.\n",
        "- $K_S$ es el módulo adiabático de volumen.\n",
        "- $\\Phi$ es el parámetro sísmico dado por: $\\Phi(r)=\\frac{K_S(r)}{\\rho(r)}$"
      ]
    },
    {
      "cell_type": "markdown",
      "metadata": {
        "id": "_PelU7koAlbV"
      },
      "source": [
        "> Valencia et al. obtienen $K_S$ de una ecuación de estado de Birch-Murnaghan de tercer órden, pero para simplificar los cálculos en este ejercicio usaremos una de segundo órden para la cual se tiene según Poirier (2000) que:\n",
        "$$ \\Phi=\\Phi_0(1+9f+14f^2) $$\n",
        "Donde $\\Phi_0=K_0/\\rho_0$, y $f=\\frac{1}{2} \\big{[} \\big{(} \\frac{\\rho}{\\rho_0} \\big{)}^{2/3} - 1\\big{]}$"
      ]
    },
    {
      "cell_type": "markdown",
      "metadata": {
        "id": "nOh23SkxAlbY"
      },
      "source": [
        "> Con esto el sistema de EDOs a solucionar queda: \n",
        "$$ \\frac{\\text{d}\\rho}{\\text{d}r} = -\\frac{\\rho_0 \\rho(r) g(r)}{K_0 (1+9f+14f^2)} $$\n",
        "$$ \\frac{\\text{d}g}{\\text{d}r} =4\\pi G\\rho(r) -\\frac{2 G m(r)}{r^3} $$\n",
        "$$ \\frac{\\text{d}m}{\\text{d}r} = 4\\pi r^2 \\rho(r)$$\n",
        "$$ \\frac{\\text{d}P}{\\text{d}r} = -\\rho(r) g(r) $$\n",
        "$$ \\frac{\\text{d}T}{\\text{d}r} = -\\frac{\\rho_0 \\gamma_0 g(r) T(r)}{K_0(1+9f+14f^2} \\big{(}\\frac{\\rho_0}{\\rho(r)}\\big{)}^q $$"
      ]
    },
    {
      "cell_type": "markdown",
      "metadata": {
        "id": "XnhZL7mSAlba"
      },
      "source": [
        "> Vamos a resolver el sistema en tres capas:\n",
        "- Manto: $3466 \\text{km}<r<6351 \\text{km}$, con las propiedades indicadas en Valencia et al.:  $\\gamma_0=2.9$, $q=1$, y las propiedades tomadas de Poirier (2003) para un manto compuesto mayoritariamente de perovskita: $\\rho_0=3560 \\text{kg/m}^3$, $K_0=184 \\text{GPa}$.\n",
        "- Núcleo Interior: $0 \\text{km}<r<1200 \\text{km}$, con las propiedades indicadas en Valencia et al.: $\\rho_0=8051 \\text{kg/m}^3$, $K_0=217\\text{GPa}$, $\\gamma_0=2.06$, $q=0.91$.\n",
        "- Núcleo exterior: $1200 \\text{km}<r<3466 \\text{km}$, con las propiedades indicadas en Valencia et al.: $\\rho_0=6800 \\text{kg/m}^3$, $K_0=136\\text{GPa}$, $\\gamma_0=2.5$, $q=1$."
      ]
    },
    {
      "cell_type": "markdown",
      "metadata": {
        "id": "fgCLJEEiAlbd"
      },
      "source": [
        "> Se hará la integración respecto al radio de afuera a hacia adentro partiendo de unas condiciones iniciales:\n",
        "- Densidad superficial: $\\rho_S=3000 \\text{kg/m}^3$\n",
        "- Presión superficial: $P_S=1 \\text{atm}$\n",
        "- Masa total: $M=M_{Tierra}=5.94 \\times 10^24 \\text{kg}$\n",
        "- Radio total: $R=R_{Tierra}=6351 \\text{kg}$\n",
        "- Aceleración gravitacional superficial: $g_S=\\frac{GM}{R^2}$\n",
        "- Temperatura superficial: $T_S=300 \\text{K}$"
      ]
    },
    {
      "cell_type": "code",
      "execution_count": null,
      "metadata": {
        "id": "_EUQUB9CAlbi"
      },
      "outputs": [],
      "source": [
        "G=6.67e-11 #N m^2 kg^-2\n",
        "UA=1.4959e11 #m\n",
        "MT=5.97e24 #kg\n",
        "RT=6351000 #m\n",
        "def f(rho,rho0):\n",
        "    f=0.5*((rho/rho0)**(2/3)-1)\n",
        "    return f"
      ]
    },
    {
      "cell_type": "code",
      "execution_count": null,
      "metadata": {
        "id": "22vRKXFBAlbo"
      },
      "outputs": [],
      "source": [
        "#Propiedades rho0, gamma0, K0, q del manto:\n",
        "rho0M=3560 #kg m^-3\n",
        "K0M=184e9 #Pa\n",
        "qM=1\n",
        "gamma0M=2.9\n",
        "#Función con las tazas de cambio:\n",
        "def perfilM(X,r):\n",
        "    rho=X[0]\n",
        "    g=X[1]\n",
        "    m=X[2]\n",
        "    P=X[3]\n",
        "    T=X[4]\n",
        "    drhodr = -(rho0M*rho*g)/(K0M*(1+9*f(rho,rho0M)+12*(f(rho,rho0M))**2))\n",
        "    dgdr = (4*np.pi*G*rho) - ((2*G*m)/(r**3))\n",
        "    dmdr = 4*np.pi*(r**2)*rho\n",
        "    dPdr = -rho*g\n",
        "    dTdr = -((rho0M*gamma0M*T*g)/(K0M*(1+9*f(rho,rho0M)+12*(f(rho,rho0M))**2))) * (rho0M/rho)**qM\n",
        "    return (drhodr,dgdr,dmdr,dPdr,dTdr)"
      ]
    },
    {
      "cell_type": "code",
      "execution_count": null,
      "metadata": {
        "id": "sa9OqlU3Albs"
      },
      "outputs": [],
      "source": [
        "#Cond Frontera:\n",
        "#Manto:\n",
        "rhoiM=3000. #kg m^-3\n",
        "giM=G*MT/RT**2\n",
        "MiM=MT\n",
        "PiM=1.013e5 #Pa\n",
        "TiM=300. #K\n",
        "\n",
        "X0M=[rhoiM,giM,MiM,PiM,TiM]"
      ]
    },
    {
      "cell_type": "code",
      "execution_count": null,
      "metadata": {
        "id": "z5cNQ-G2Albw"
      },
      "outputs": [],
      "source": [
        "rManto=np.linspace(6351000,3466000,3000)"
      ]
    },
    {
      "cell_type": "code",
      "execution_count": null,
      "metadata": {
        "id": "MvcC6qGgAlbz"
      },
      "outputs": [],
      "source": [
        "from scipy.integrate import odeint\n",
        "Manto = odeint(perfilM,X0M,rManto)"
      ]
    },
    {
      "cell_type": "code",
      "execution_count": null,
      "metadata": {
        "id": "EfpIGawAAlb3"
      },
      "outputs": [],
      "source": [
        "X0NE=[Manto[:,0][-1],Manto[:,1][-1],Manto[:,2][-1],Manto[:,3][-1],Manto[:,4][-1]]"
      ]
    },
    {
      "cell_type": "code",
      "execution_count": null,
      "metadata": {
        "id": "bCKCUNeqAlb5"
      },
      "outputs": [],
      "source": [
        "#Propiedades rho0, gamma0, K0, q del núcleo ext:\n",
        "rho0NE=6800 #kg m^-3\n",
        "K0NE=136e9 #Pa\n",
        "qNE=1\n",
        "gamma0NE=2.5\n",
        "#Función con las tazas de cambio:\n",
        "def perfilNE(X,r):\n",
        "    rho=X[0]\n",
        "    g=X[1]\n",
        "    m=X[2]\n",
        "    P=X[3]\n",
        "    T=X[4]\n",
        "    drhodr = -(rho0NE*rho*g)/(K0NE*(1+9*f(rho,rho0NE)+12*(f(rho,rho0NE))**2))\n",
        "    dgdr = (4*np.pi*G*rho) - ((2*G*m)/(r**3))\n",
        "    dmdr = 4*np.pi*(r**2)*rho\n",
        "    dPdr = -rho*g\n",
        "    dTdr = -((rho0NE*gamma0NE*T*g)/(K0NE*(1+9*f(rho,rho0NE)+12*(f(rho,rho0NE))**2))) * (rho0NE/rho)**qNE\n",
        "    return (drhodr,dgdr,dmdr,dPdr,dTdr)"
      ]
    },
    {
      "cell_type": "code",
      "execution_count": null,
      "metadata": {
        "id": "sIReGvGTAlb9"
      },
      "outputs": [],
      "source": [
        "rNucleoE=np.linspace(3466000,1200000,2500)"
      ]
    },
    {
      "cell_type": "code",
      "execution_count": null,
      "metadata": {
        "id": "xvUrm2yOAlcB"
      },
      "outputs": [],
      "source": [
        "NucleoE=odeint(perfilNE,X0NE,rNucleoE)"
      ]
    },
    {
      "cell_type": "code",
      "execution_count": null,
      "metadata": {
        "id": "Qz3v8EW7AlcC"
      },
      "outputs": [],
      "source": [
        "X0NI=[NucleoE[:,0][-1],NucleoE[:,1][-1],NucleoE[:,2][-1],NucleoE[:,3][-1],NucleoE[:,4][-1]]"
      ]
    },
    {
      "cell_type": "code",
      "execution_count": null,
      "metadata": {
        "id": "xDvXlJCoAlcE"
      },
      "outputs": [],
      "source": [
        "#Propiedades rho0, gamma0, K0, q del núcleo int:\n",
        "rho0NI=8051 #kg m^-3\n",
        "K0NI=217e9 #Pa\n",
        "qNI=0.91\n",
        "gamma0NI=2.06\n",
        "#Función con las tazas de cambio:\n",
        "def perfilNI(X,r):\n",
        "    rho=X[0]\n",
        "    g=X[1]\n",
        "    m=X[2]\n",
        "    P=X[3]\n",
        "    T=X[4]\n",
        "    drhodr = -(rho0NI*rho*g)/(K0NI*(1+9*f(rho,rho0NI)+12*(f(rho,rho0NI))**2))\n",
        "    dgdr = (4*np.pi*G*rho) - ((2*G*m)/(r**3))\n",
        "    dmdr = 4*np.pi*(r**2)*rho\n",
        "    dPdr = -rho*g\n",
        "    dTdr = -((rho0NI*gamma0NI*T*g)/(K0NI*(1+9*f(rho,rho0NI)+12*(f(rho,rho0NI))**2))) * (rho0NI/rho)**qNI\n",
        "    return (drhodr,dgdr,dmdr,dPdr,dTdr)"
      ]
    },
    {
      "cell_type": "code",
      "execution_count": null,
      "metadata": {
        "id": "OI10jGrOAlcG"
      },
      "outputs": [],
      "source": [
        "rNucleoI=np.linspace(1200000,10000,1200)"
      ]
    },
    {
      "cell_type": "code",
      "execution_count": null,
      "metadata": {
        "id": "NQq5MKYjAlcI"
      },
      "outputs": [],
      "source": [
        "NucleoI=odeint(perfilNI,X0NI,rNucleoI)"
      ]
    },
    {
      "cell_type": "code",
      "execution_count": null,
      "metadata": {
        "id": "r5RL0fZ-AlcK",
        "outputId": "2312822c-c03c-42f8-d615-4a9e78af2ddb"
      },
      "outputs": [
        {
          "data": {
            "image/png": "[encoded data removed]",
            "text/plain": [
              "<Figure size 1440x864 with 5 Axes>"
            ]
          },
          "metadata": {
            "needs_background": "light"
          },
          "output_type": "display_data"
        }
      ],
      "source": [
        "plt.figure(figsize=(20,12))\n",
        "\n",
        "plt.subplot(231) #rho\n",
        "plt.title(\"Perfil de densidad.\")\n",
        "plt.plot(Manto[:,0],rManto/1000,label='Manto')\n",
        "plt.plot(NucleoE[:,0],rNucleoE/1000,label='Núcleo Externo')\n",
        "plt.plot(NucleoI[:,0],rNucleoI/1000,label='Núcleo Interno')\n",
        "plt.xlim((-2500,50000))\n",
        "plt.xlabel(r'$\\rho(r)$ [kg/m$^3$]')\n",
        "plt.ylabel(r'$r$ [m]')\n",
        "plt.legend()\n",
        "plt.grid()\n",
        "\n",
        "plt.subplot(232) #g\n",
        "plt.title(\"Perfil de aceleración gravitacional.\")\n",
        "plt.plot(Manto[:,1],rManto/1000,label='Manto')\n",
        "plt.plot(NucleoE[:,1],rNucleoE/1000,label='Núcleo Externo')\n",
        "plt.plot(NucleoI[:,1],rNucleoI/1000,label='Núcleo Interno')\n",
        "plt.xlim((-50,1000))\n",
        "plt.xlabel(r'$g(r)$ [m/s$^2$]')\n",
        "plt.legend()\n",
        "plt.grid()\n",
        "\n",
        "plt.subplot(233) #m\n",
        "plt.title(\"Perfil de masa.\")\n",
        "plt.plot(Manto[:,2]/MT,rManto/1000,label='Manto')\n",
        "plt.plot(NucleoE[:,2]/MT,rNucleoE/1000,label='Núcleo Externo')\n",
        "plt.plot(NucleoI[:,2]/MT,rNucleoI/1000,label='Núcleo Interno')\n",
        "plt.xlabel(r'$m(r)$ [$M_{Tierra}$]')\n",
        "plt.legend()\n",
        "plt.grid()\n",
        "\n",
        "plt.subplot(234) #P\n",
        "plt.title(\"Perfil de presión.\")\n",
        "plt.plot(Manto[:,3]/1e9,rManto/1000,label='Manto')\n",
        "plt.plot(NucleoE[:,3]/1e9,rNucleoE/1000,label='Núcleo Externo')\n",
        "plt.plot(NucleoI[:,3]/1e9,rNucleoI/1000,label='Núcleo Interno')\n",
        "plt.xlim((-500,10000))\n",
        "plt.xlabel(r'$P(r)$ [GPa]')\n",
        "plt.ylabel(r'$r$ [m]')\n",
        "plt.legend()\n",
        "plt.grid()\n",
        "\n",
        "plt.subplot(235) #T\n",
        "plt.title(\"Perfil de temperatura.\")\n",
        "plt.plot(Manto[:,4],rManto/1000,label='Manto')\n",
        "plt.plot(NucleoE[:,4],rNucleoE/1000,label='Núcleo Externo')\n",
        "plt.plot(NucleoI[:,4],rNucleoI/1000,label='Núcleo Interno')\n",
        "plt.xlabel(r'$T(r)$ [K]')\n",
        "plt.legend()\n",
        "plt.grid()\n"
      ]
    },
    {
      "cell_type": "markdown",
      "metadata": {
        "id": "s5DAu-rRAlcO"
      },
      "source": [
        "> Vemos que se obtuvieron resultados razonables a excepción de la gráfica de $g(r)$, pues debería iniciar con el valor de $g_S$ para la superficie e ir disminuyendo hasta que $g(r=0)=0$ pues es sabido que la aceleración gravitacional es causada por la masa encerrada por $r$, ya que el efecto de la masa que está fuera de $r$ genera efectos que se contrarrestan entre sí. No queda claro que hizo que la gráfica de $g(r)$ no fuera la esperada pero las otras gráficas muestran un comportamiento normal: la densidad, presión y temperatura crecen mientras $r \\rightarrow 0 $ y mientras $r \\rightarrow R_{Tierra}$ la masa se aproxima a la masa total de la Tierra."
      ]
    },
    {
      "cell_type": "markdown",
      "metadata": {
        "id": "MlDfT0XsAlcQ"
      },
      "source": [
        "__Problema 2:__ \n",
        ">Calcule el tamaño de las magnetosferas de los planetas gigantes del Sistema Solar. Describa el\n",
        "modelo de viento solar que usará para los cálculos. Referencia: Grießmeier, J.-M., Stadelmann, A.,\n",
        "Grenfell, J.L., Lammer, H., Motschmann, U., 2009. On the protection of extrasolar Earth-like\n",
        "planets around K/M stars against galactic cosmic rays. Icarus 199, 526–535."
      ]
    },
    {
      "cell_type": "markdown",
      "metadata": {
        "id": "RJMUUIA_AlcS"
      },
      "source": [
        "__Solución:__\n",
        "\n",
        "> De acuerdo con Grießmeier et al. (2009) la distancia máxima a la que se extiende la magnetósfera de un planeta (_Standoff distance_) está dada por: $$ R_S = \\bigg{[} \\frac{ \\mu_0 f_0^2 M_d^2 }{ 8\\pi^2(m \\eta v_{eff}^2 + 2 \\eta k_BT) } \\bigg{]}^{1/6}$$\n",
        "Donde:\n",
        "- $\\mu_0=4\\pi \\times 10^{-7} \\text{N/A}$ es la permitividad magnética del vacío.\n",
        "- $f_0=1.16$ es el factor geométrico de la magnetósfera.\n",
        "- $M_d$ es el momento dipolar magnético del planeta.\n",
        "- $m=1.6726 \\times 10^{-27} \\text{kg}$ es la masa del protón.\n",
        "- $\\eta$ es la densidad volumétrica de partículas del viento solar.\n",
        "- $v_{eff}$ es la rapidez de las partículas del viento solar.\n",
        "- $k_B$ es la constante de Boltzmann.\n",
        "- $T$ es la temperatura del plasma interplanetario.\n",
        "\n",
        "> Generalmente el término $2\\eta k_B T$ es pequeño y al considerar grandes distancias del Sol se vuelve despreciable. Por lo que aquí se considera la ecuación: $$ R_S = \\bigg{[} \\frac{ \\mu_0 f_0^2 M_d^2 }{ 8\\pi^2m \\eta v_{eff}^2} \\bigg{]}^{1/6} $$\n",
        "Los valores a hallar son los de $\\eta (r)$ y $v_{eff}(r)$. En el mismo artículo se indica que $v_{eff}=(v^2+v_{orbit}^2)^{1/2}$, donde $v_{orbit}$ es la rapidez orbital del planeta y $v$ es la rapidez del viento solar."
      ]
    },
    {
      "cell_type": "markdown",
      "metadata": {
        "id": "PZ0hJh9NAlcT"
      },
      "source": [
        "> En Parker (1958b) se propone el siguiente modelo de $\\eta (r)$ y $v(r)$:\n",
        "$$ \\boxed{\\eta(r)=\\eta_0 \\bigg{(} \\frac{a}{r} \\bigg{)}^{\\lambda-1}} \\space{(\\text{Ec. 1})} $$\n",
        "$$ \\eta(r) v(r)= \\eta_0 v_0 \\bigg{(} \\frac{a}{r} \\bigg{)}^{2}$$\n",
        "Donde $\\lambda=\\frac{GM_{Sol}m}{2k_B T_0 a}$, $a=10^9 \\text{m}$, $\\eta_0=3\\times 10^{13} \\text{m}^{-3}$, $T_0=3\\times 10^6 \\text{K}$ y $v_0=160 \\text{km/s}$."
      ]
    },
    {
      "cell_type": "markdown",
      "metadata": {
        "id": "EzMeT8d-AlcU"
      },
      "source": [
        "> De modo que al combinar las ecuaciones anteriores y sabiendo que para órbitas circulares $v_{orbit}^2=GM_{Sol}/r$, tenemos entonces que: \n",
        "$$\\boxed{v_{eff}(r)=\\bigg{[} v_0^2 \\bigg{(}\\frac{a}{r}\\bigg{)}^{2(3-\\lambda)} + \\frac{GM_{Sol}}{r} \\bigg{]}^{1/2}} \\space{(\\text{Ec. 2})}$$\n",
        "\n",
        ">Ahora solo debemos calcular para los 4 planetas gigantes los valores de $v_{eff}$ y $\\eta$ y obtener así el valor de $R_S$:"
      ]
    },
    {
      "cell_type": "code",
      "execution_count": null,
      "metadata": {
        "id": "D5rH82P8AlcV"
      },
      "outputs": [],
      "source": [
        "#Definimos las constantes necesarias:\n",
        "\n",
        "MdT=7.94e22 #A m^2\n",
        "m=1.6726e-27 #kg\n",
        "G=6.67e-11 #N m^2 kg^-2\n",
        "UA=1.4959e11 #m\n",
        "MSol=1.98e30 #kg\n",
        "a=1e9 #m\n",
        "T0=3e6 #K\n",
        "n0=3e13 #m^-3\n",
        "v0=160000 #m/s\n",
        "kB=1.3806e-23 #kg m^2 s^-2 K^-1\n",
        "mu0=4*np.pi*1e-7 #N/A\n",
        "f0=1.16\n",
        "la=(G*MSol*m)/(2*kB*T0*a)"
      ]
    },
    {
      "cell_type": "code",
      "execution_count": null,
      "metadata": {
        "id": "zDaExZlCAlcX"
      },
      "outputs": [],
      "source": [
        "#Definimos la función para veff:\n",
        "def veff(r):\n",
        "    veff=( (v0**2)*((a/r)**(6-2*la)) + ((G*MSol)/r))**0.5\n",
        "    print(\"velocidad efectiva\",veff)\n",
        "    return veff\n",
        "#Definimos la función para eta:\n",
        "def n(r):\n",
        "    n=n0*((a/r)**(la-1))\n",
        "    print(\"eta\",n)\n",
        "    return n\n",
        "#Definimos la función para Rs:\n",
        "def Rs(r,Md):\n",
        "    Rs=((mu0*(f0**2)*(Md**2))/(8*(np.pi**2)*m*n(r)*((veff(r))**2)))**(1/6)\n",
        "    return Rs"
      ]
    },
    {
      "cell_type": "code",
      "execution_count": null,
      "metadata": {
        "id": "-aH0cg03AlcY"
      },
      "outputs": [],
      "source": [
        "#Creamos los arreglos con los momentos dipolares y los semiejes mayores para cada planeta en orden de Júpiter a Neptuno.\n",
        "Mds=np.array([20000,600,50,25])*MdT\n",
        "rs=np.array([5.2,9.6,19.2,30.1])*UA"
      ]
    },
    {
      "cell_type": "code",
      "execution_count": null,
      "metadata": {
        "id": "KflK1YxZAlca",
        "outputId": "bd4004fc-c8da-4e97-9a15-17c041f79185"
      },
      "outputs": [
        {
          "name": "stdout",
          "output_type": "stream",
          "text": [
            "eta [4.56067155e+08 1.64155985e+08 5.17069373e+07 2.44406291e+07]\n",
            "velocidad efectiva [21733.20744999 17117.23911686 13138.55312127 11098.16474858]\n"
          ]
        },
        {
          "data": {
            "text/plain": [
              "array([2.30477266e+09, 9.19448117e+08, 5.31757375e+08, 5.05873257e+08])"
            ]
          },
          "execution_count": 19,
          "metadata": {},
          "output_type": "execute_result"
        }
      ],
      "source": [
        "#Calculamos el Standoff Distance para cada planeta.\n",
        "Rs(rs,Mds)"
      ]
    },
    {
      "cell_type": "markdown",
      "metadata": {
        "id": "RqKKl5YZAlcc"
      },
      "source": [
        "> Entonces se obtuvo que para:\n",
        "- Júpiter: $R_S=2.3\\times 10^9\\text{m}\\approx 33 R_J$\n",
        "- Saturno: $R_S=9.2\\times 10^8\\text{m}\\approx 15.8 R_S$\n",
        "- Urano: $R_S=5.3\\times 10^8\\text{m}\\approx 20.9 R_U$\n",
        "- Neptuno: $R_S=5.1\\times 10^8\\text{m}\\approx 20.7 R_N$"
      ]
    },
    {
      "cell_type": "markdown",
      "metadata": {
        "id": "8U3JQTyuAlcc"
      },
      "source": [
        "__Problema 3:__ \n",
        ">Considere un impacto entre un meteorito rocoso (ρ = 3,0 g/cm3) de 325 m de diámetro contra la Tierra (El asteroide 99942-\n",
        "Apophis, tiene este tamaño y densidad, y cruzará a unos 30000 km de distancia de la Tierra en abril\n",
        "de 2029):\n",
        "- Calcule la energía cinética involucrada en el impacto si el meteorito golpea la Tierra a una velocidad\n",
        "de 12.6 km/s.\n",
        "- Exprese la energía del impacto en megatones (Mton) y en escala de Richter. (1 Mton = 4.18x1015 J).\n",
        "- La bomba “Castle-Bravo” probada por Estados Unidos en 1954 liberó 15 Mton, ¿cuantas bombas\n",
        "“Castle-Bravo” serían equivalentes a la energía de Apophis?\n",
        "- Estime el tamaño del cráter formado por una colisión directa (90o) y el tamaño si la colisión se da\n",
        "con un ángulo de 30o con el horizonte local.\n",
        "- Si las rocas excavadas del cráter tienen velocidades de eyección de unos 500 m/s, calcule que tan\n",
        "lejos del cráter pueden formarse cráteres secundarios, formados por estas rocas."
      ]
    },
    {
      "cell_type": "markdown",
      "metadata": {
        "id": "H93CGFIOAlce"
      },
      "source": [
        "__Solución:__\n",
        "- *Energía cinética:*\n",
        "\n",
        "> Tenemos que la energía cinética de un cuerpo de masa $m$ viajando con una rapidez $v$ es: $$K=\\frac{1}{2}mv^2$$\n",
        "La masa de Apophis está dada por $m=V\\rho$, considerando al asteroide esférico se tiene entonces que: $$m=\\frac{4}{3}\\pi R^3 \\rho$$\n",
        "Y sabiendo que para Apophis $R=162.5m$, tenemos que: $$ \\boxed{K=\\frac{2}{3} R^3 \\rho v^2=4.28 \\times 10^{18} \\text{J}}$$\n",
        "\n",
        "- *Energía del impacto:*\n",
        "\n",
        "> Sabiendo que: $1\\text{Mt}=4.18\\times 10^{15} \\text{J}$ tenemos que $$\\boxed{K \\approx 1024 \\text{Mt}=2^{10} \\text{Mt}}$$\n",
        "Ahora para calcular la magnitud de la colisión en escala de Richter se usa la ecuación: $$\\log{E}=12.24+1.44M_R$$\n",
        "Donde $E$ es la energía en ergios y $M_R$ es la magnitud de Richter.\n",
        "En este caso $E=K=4.28\\times 10^{25} \\text{erg}$, despejando $M_R$ se obtiene que: $$\\boxed{M_R=\\frac{\\log{K} -12.24}{1.44}=9.30}$$\n",
        "\n",
        "- *En \"Castle-Bravos\":*\n",
        "\n",
        "> La energía liberada por Castle-Bravo fue de $E_{CB}=15\\text{Mt}$, con lo que se tiene que: $$\\boxed{K=1024 \\text{Mt}\\bigg{(}\\frac{E_{CB}}{15\\text{Mt}}\\bigg{)}=68.3 E_{CB}}$$\n",
        "\n",
        "- *Tamaño del cráter:*\n",
        "\n",
        "> La ecuación para determinar el tamaño del cráter es: $$D=1.8\\rho_m^{0.11} \\rho_p^{-0.33} g^{-0.22} D_m^{0.13} K^{0.22} \\sin^{1/3}{\\theta}$$\n",
        "Donde $\\rho_m$ es la densidad del cuerpo impactor, $\\rho_p$ es la densidad del planeta impactado, $g$ es la aceleración gravitacional en la superficie del planeta, $D_m$ es el diámetro del cuerpo impactor, $K$ es la energía cinética del impactor al momento del impacto y $\\theta$ es el angulo de impacto respecto al horizonte.\n",
        "\n",
        "> En este caso tenemos que $\\rho_m=\\rho_p=3000 \\text{kg/m}^3$, $g=9.81 \\text{m/s}^2$, $D_m=2R=325 \\text{m}$ y $K=4.28 \\times 10^{18} \\text{J}$\n",
        "\n",
        ">De modo que para un impacto directo: $$\\boxed{D(\\theta=90^{\\circ}) \\approx 5 \\text{km}}$$\n",
        "\n",
        ">Y para un impacto con $\\theta =30^{\\circ}$: $$D(\\theta=30^{\\circ})=D(\\theta=90^{\\circ})\\sin^{1/3}{30^{\\circ}}$$\n",
        "$$\\boxed{D(\\theta=30^{\\circ}) \\approx 4 \\text{km} }$$\n",
        "\n",
        "- *Posibles cráteres secundarios:*\n",
        "\n",
        "> Teniendo en cuenta que la rapidez de eyección de las rocas excavadas ($v_o=500 \\text{m}/\\text{s}$) es mucho menor a la primera velocidad cósmica ($v\\approx 8 \\text{km/s}$) podemos suponer que la aceleración gravitacional no cambia a lo largo de la trayectoria que sigan antes de formar los cráteres secundarios, por lo que podemos usar la ecuación de tiro parabólico para el alcance máximo horizontal de una partícula con velocidad inicial $v_o$ y lanzada con un ángulo de elevación respecto al horizonte $\\theta$: $$ x_{max}=\\frac{v_o^2 \\sin{2\\theta}}{g} $$\n",
        "En este caso como queremos saber que tan lejos pueden llegar a caer las rocas excavadas usamos $\\theta=45 ^{\\circ}$, que es el ángulo de máximo alcance para una rapidez inicial dada.\n",
        "Con esto tenemos que la distancia máxima a la que pueden formarse cráteres secundarios es de: $$\\boxed{x_{max}=\\frac{v_o^2}{g}\\approx 25.5 \\text{km}}$$"
      ]
    },
    {
      "cell_type": "markdown",
      "metadata": {
        "id": "-VY3hZgUAlcg"
      },
      "source": [
        "__Problema 4:__\n",
        "> Teniendo en cuenta que el diámetro del cráter de Chicxulub es de unos 180 km, calcular el\n",
        "tamaño del impactor suponiendo lo siguiente:\n",
        "- Un impacto directo de un objeto proveniente del cinturón principal de asteroides. Esto supone\n",
        "asumir una densidad y una velocidad ajustadas a dichos objetos.\n",
        "- Un impacto directo de un objeto cometario proveniente de la nube de Oort. Esto supone asumir una\n",
        "densidad y una velocidad ajustadas a dichos objetos."
      ]
    },
    {
      "cell_type": "markdown",
      "metadata": {
        "id": "QMUnyhO6Alch"
      },
      "source": [
        "__Solución:__\n",
        "\n",
        "> Debe usarse la ecuación para el diámetro del cráter: $$D=1.8\\rho_m^{0.11} \\rho_p^{-0.33} g^{-0.22} D_m^{0.13} K^{0.22} \\sin^{1/3}{\\theta}$$\n",
        "Considerando un cuerpo esférico de densidad $\\rho_m$ y diámetro $D_m$, tenemos que su energía cinética estará dada por $K=\\frac{\\pi}{12}v^2 \\rho_m D_m^3$\n",
        "\n",
        "> De modo que al considerar un impacto directo ($\\theta =90^{\\circ}$) y despejar $D_m$ obtenemos:\n",
        "$$D_m = \\bigg{(}  \\frac{ D \\rho_p^{0.33} g^{0.22} }{ 1.3404 \\rho_m^{0.33} v^{0.44} }  \\bigg{)}^{1/0.79}$$\n",
        "\n",
        "- *Considerando un obeto proveniente del Cinturón de Asteroides:*\n",
        "\n",
        "> Considerando que los cuerpos del Cinturón Principal de asteroides alcanzan la Tierra con valores de rapidez en el rango $10 \\text{km/s}<v<40 \\text{km/s}$, podemos suponer la rapidez del impactor como la rapidez media $v=25 \\text{km/s}$. Y la densidad media de estos cuerpos es $\\rho_m \\approx 3300 \\text{kg/m}^3$. De modo que podemos tomar estos valores para el impactor de Chicxulub. Con esto reemplazando en la ecuación para $D_m$ se obtiene: $$ \\boxed{ D_m \\approx 20 \\text{km} } $$\n",
        "\n",
        "- *Considerando un obeto proveniente de la nube de Oort:*\n",
        "> Según Weissman (2007) el cometa Hale-Bopp tiene una densidad aproximada de $600 \\text{kg/m}^3$ y de impactar la Tierra podría hacerlo con una velocidad de $52.5 \\text{km/s}$. Suponiendo al objeto impactor de Chicxulub como similar al Hale-Bopp, podemos reemplazar estos valores en la ecuación para $D_m$ y obtener: $$ \\boxed{ D_m \\approx 27 \\text{km} } $$"
      ]
    },
    {
      "cell_type": "markdown",
      "metadata": {
        "id": "vf3meQ7AAlci"
      },
      "source": [
        "__Referencias:__\n",
        "\n",
        "- Grießmeier, J.M., Stadelmann, A., Grenfell, J.L., Lammer, H., Motschmann, U. (2009). \"On the protection of extrasolar Earth-like planets around K/M stars against galactic cosmic rays\". Icarus 199, 526–535.\n",
        "- Parker, E. L. (1958b). \"Dynamics of the Interplanetary Gas and Magnetic Fields\". American Astronomical Society.\n",
        "- Poirier, J. P. \"Introduction to the Physics of the Earth's Interior\". Cambridge University Press, (2003).\n",
        "- Valencia, D.,O’Connell R. J., Sasselov, D (2006). \"Internal structure of massive terrestrial planets\". Icarus 181, 545–554.\n",
        "- Weissman, P. R. (2007). \"The cometary impactor flux at the Earth\". Proceedings of the International Astronomical Union.\n",
        "- Zemansky, M. W., Dittman, R. H. \"Heat and Thermodynamics\". McGraw-Hill, (1997)."
      ]
    },
    {
      "cell_type": "code",
      "execution_count": null,
      "metadata": {
        "id": "Eks6VygmAlck"
      },
      "outputs": [],
      "source": []
    }
  ],
  "metadata": {
    "kernelspec": {
      "display_name": "Python 3",
      "language": "python",
      "name": "python3"
    },
    "language_info": {
      "codemirror_mode": {
        "name": "ipython",
        "version": 3
      },
      "file_extension": ".py",
      "mimetype": "text/x-python",
      "name": "python",
      "nbconvert_exporter": "python",
      "pygments_lexer": "ipython3",
      "version": "3.7.6"
    },
    "colab": {
      "provenance": []
    }
  },
  "nbformat": 4,
  "nbformat_minor": 0
}