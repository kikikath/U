{
  "nbformat": 4,
  "nbformat_minor": 0,
  "metadata": {
    "colab": {
      "provenance": []
    },
    "kernelspec": {
      "name": "python3",
      "display_name": "Python 3"
    },
    "language_info": {
      "name": "python"
    }
  },
  "cells": [
    {
      "cell_type": "markdown",
      "source": [
        "####Punto 4"
      ],
      "metadata": {
        "id": "asxBX7eU_1ar"
      }
    },
    {
      "cell_type": "code",
      "execution_count": 20,
      "metadata": {
        "id": "XA4I-_SD-95m"
      },
      "outputs": [],
      "source": [
        "r=1e12\n",
        "tv=3.15e13\n",
        "C = 1e3\n",
        "G=6.674e-11\n",
        "M=1.989e30"
      ]
    },
    {
      "cell_type": "code",
      "source": [
        "import numpy as np"
      ],
      "metadata": {
        "id": "kmacRQQY_dGL"
      },
      "execution_count": 3,
      "outputs": []
    },
    {
      "cell_type": "code",
      "source": [
        "alpha = (r**2/(tv*C**2))*np.sqrt((G*M)/(r**3))\n",
        "alpha"
      ],
      "metadata": {
        "colab": {
          "base_uri": "https://localhost:8080/"
        },
        "id": "_QIW46dc_ece",
        "outputId": "759f917c-b411-48d1-bb95-bd64ae5fe214"
      },
      "execution_count": 22,
      "outputs": [
        {
          "output_type": "execute_result",
          "data": {
            "text/plain": [
              "0.0003657631415779362"
            ]
          },
          "metadata": {},
          "execution_count": 22
        }
      ]
    },
    {
      "cell_type": "markdown",
      "source": [
        "###Punto 5"
      ],
      "metadata": {
        "id": "Qi01feSz_36q"
      }
    },
    {
      "cell_type": "code",
      "source": [
        "r = 1.4959e11\n",
        "ro=1e-9\n",
        "rho=ro*(100**3)/1000\n",
        "t=31536000\n",
        "eta = 5e-3\n",
        "mtie =6e24"
      ],
      "metadata": {
        "id": "T6l3klXx_u8d"
      },
      "execution_count": 34,
      "outputs": []
    },
    {
      "cell_type": "code",
      "source": [
        "600*np.pi*1.4959e11"
      ],
      "metadata": {
        "colab": {
          "base_uri": "https://localhost:8080/"
        },
        "id": "lhmWtlvaU3bM",
        "outputId": "4f4b5832-bfd4-4178-b479-790fd8a4d1b9"
      },
      "execution_count": 6,
      "outputs": [
        {
          "output_type": "execute_result",
          "data": {
            "text/plain": [
              "281970507030298.3"
            ]
          },
          "metadata": {},
          "execution_count": 6
        }
      ]
    },
    {
      "cell_type": "code",
      "source": [
        "masaR2 = rho*np.pi*(r)*t*np.sqrt((G*M)/(r**3))*eta\n",
        "masaR2"
      ],
      "metadata": {
        "colab": {
          "base_uri": "https://localhost:8080/"
        },
        "id": "JOM3xqaJKIDR",
        "outputId": "b4228e85-5168-4a44-e526-3d5574e3c99f"
      },
      "execution_count": 7,
      "outputs": [
        {
          "output_type": "execute_result",
          "data": {
            "text/plain": [
              "14756.579285784164"
            ]
          },
          "metadata": {},
          "execution_count": 7
        }
      ]
    },
    {
      "cell_type": "code",
      "source": [
        "rhpart=3*(100**3)/1000\n",
        "rad=(3*rho*r*t*eta*np.sqrt((G*M)/(r**3)))/(4*rhpart)\n",
        "rad"
      ],
      "metadata": {
        "colab": {
          "base_uri": "https://localhost:8080/"
        },
        "id": "9NAotY4dKu0U",
        "outputId": "7f2f7941-18a3-44ee-f45b-41bd5ae99c6f"
      },
      "execution_count": 8,
      "outputs": [
        {
          "output_type": "execute_result",
          "data": {
            "text/plain": [
              "1.1742912682300102"
            ]
          },
          "metadata": {},
          "execution_count": 8
        }
      ]
    },
    {
      "cell_type": "markdown",
      "source": [
        "###Punto 6"
      ],
      "metadata": {
        "id": "Vqn-h36L0maT"
      }
    },
    {
      "cell_type": "code",
      "source": [
        "sigma= 100/5\n",
        "n = np.sqrt((G*M)/(r**3))\n",
        "Mplane = (16*(np.pi**2)*(100**3)*(G**2))/(n**4)\n",
        "Mplane"
      ],
      "metadata": {
        "colab": {
          "base_uri": "https://localhost:8080/"
        },
        "id": "m3u6RAtRWgs4",
        "outputId": "5b6ab5d5-6bba-4c09-dfe5-6fe3d1a05b9f"
      },
      "execution_count": 35,
      "outputs": [
        {
          "output_type": "execute_result",
          "data": {
            "text/plain": [
              "447265638904464.94"
            ]
          },
          "metadata": {},
          "execution_count": 35
        }
      ]
    },
    {
      "cell_type": "code",
      "source": [
        "n = np.sqrt((G*M)/((r*5)**3))\n",
        "Mplane = (16*(np.pi**2)*(sigma**3)*(G**2))/(n**4)\n",
        "Mplane"
      ],
      "metadata": {
        "colab": {
          "base_uri": "https://localhost:8080/"
        },
        "id": "zLxytfVp1CV3",
        "outputId": "31b7ac43-d741-4461-87c5-050263d8acc2"
      },
      "execution_count": 36,
      "outputs": [
        {
          "output_type": "execute_result",
          "data": {
            "text/plain": [
              "5.590820486305809e+16"
            ]
          },
          "metadata": {},
          "execution_count": 36
        }
      ]
    },
    {
      "cell_type": "code",
      "source": [
        "r*5"
      ],
      "metadata": {
        "colab": {
          "base_uri": "https://localhost:8080/"
        },
        "id": "WU_Po-9e7iLI",
        "outputId": "7c8d78a4-0bb0-415e-dfb6-6cda55455c23"
      },
      "execution_count": 26,
      "outputs": [
        {
          "output_type": "execute_result",
          "data": {
            "text/plain": [
              "5000000000000.0"
            ]
          },
          "metadata": {},
          "execution_count": 26
        }
      ]
    },
    {
      "cell_type": "code",
      "source": [
        "n = np.sqrt((G*M)/((r*5)**3))\n",
        "Mplane = (16*(np.pi**2)*((200/5)**3)*(G**2))/(n**4)\n",
        "Mplane"
      ],
      "metadata": {
        "colab": {
          "base_uri": "https://localhost:8080/"
        },
        "id": "1S9c6N8y74e0",
        "outputId": "619cf968-5cf7-468c-f207-167bf230c764"
      },
      "execution_count": 38,
      "outputs": [
        {
          "output_type": "execute_result",
          "data": {
            "text/plain": [
              "4.472656389044647e+17"
            ]
          },
          "metadata": {},
          "execution_count": 38
        }
      ]
    },
    {
      "cell_type": "markdown",
      "source": [
        "####Punto 7"
      ],
      "metadata": {
        "id": "CiiAabWvcdvi"
      }
    },
    {
      "cell_type": "code",
      "source": [
        "5*r"
      ],
      "metadata": {
        "colab": {
          "base_uri": "https://localhost:8080/"
        },
        "id": "pXLaE99BiWq6",
        "outputId": "00042561-9a5b-4ecf-9bdc-0bcf6004f901"
      },
      "execution_count": 13,
      "outputs": [
        {
          "output_type": "execute_result",
          "data": {
            "text/plain": [
              "747950000000.0"
            ]
          },
          "metadata": {},
          "execution_count": 13
        }
      ]
    },
    {
      "cell_type": "code",
      "source": [
        "Mnep = 1.024e26\n",
        "rnepsol = 30*r\n",
        "Anep= np.pi*(((35*r)**2)-(25*r)**2)\n",
        "Fg=10\n",
        "volnep = (4*np.pi*((2.4622e7)**3))/3\n",
        "rhonep = Mnep/volnep\n",
        "rhonep"
      ],
      "metadata": {
        "colab": {
          "base_uri": "https://localhost:8080/"
        },
        "id": "RPGNcHlN8Id_",
        "outputId": "8805223f-3f8f-4ea4-c472-53267701c6d3"
      },
      "execution_count": 14,
      "outputs": [
        {
          "output_type": "execute_result",
          "data": {
            "text/plain": [
              "1637.7264623937879"
            ]
          },
          "metadata": {},
          "execution_count": 14
        }
      ]
    },
    {
      "cell_type": "code",
      "source": [
        "Anep"
      ],
      "metadata": {
        "colab": {
          "base_uri": "https://localhost:8080/"
        },
        "id": "arj3sbi1pTes",
        "outputId": "4338f1eb-c3e1-4a44-f09c-86d4d4c357b6"
      },
      "execution_count": 15,
      "outputs": [
        {
          "output_type": "execute_result",
          "data": {
            "text/plain": [
              "4.217996814666233e+25"
            ]
          },
          "metadata": {},
          "execution_count": 15
        }
      ]
    },
    {
      "cell_type": "code",
      "source": [
        "sigma = Mnep/Anep\n",
        "sigma"
      ],
      "metadata": {
        "colab": {
          "base_uri": "https://localhost:8080/"
        },
        "id": "MbymcbBij_sG",
        "outputId": "f0a01d53-7177-43db-cc18-c60c9d223635"
      },
      "execution_count": 16,
      "outputs": [
        {
          "output_type": "execute_result",
          "data": {
            "text/plain": [
              "2.4276926820795346"
            ]
          },
          "metadata": {},
          "execution_count": 16
        }
      ]
    },
    {
      "cell_type": "code",
      "source": [
        "n = np.sqrt((G*M)/(rnepsol**3))\n",
        "n"
      ],
      "metadata": {
        "colab": {
          "base_uri": "https://localhost:8080/"
        },
        "id": "d10cNfqgc17m",
        "outputId": "b38f48b3-2753-491a-e09b-e97ec468f5fc"
      },
      "execution_count": 17,
      "outputs": [
        {
          "output_type": "execute_result",
          "data": {
            "text/plain": [
              "1.211922273721625e-09"
            ]
          },
          "metadata": {},
          "execution_count": 17
        }
      ]
    },
    {
      "cell_type": "code",
      "source": [
        "tnep = (np.sqrt(np.pi)*(4*rhonep*Anep))/(np.sqrt(3)*Mnep*n*Fg)"
      ],
      "metadata": {
        "id": "yhqKzhayeTVX"
      },
      "execution_count": 18,
      "outputs": []
    },
    {
      "cell_type": "code",
      "source": [
        "tnep/(60*60*24*365)"
      ],
      "metadata": {
        "colab": {
          "base_uri": "https://localhost:8080/"
        },
        "id": "MYkc8FfDg7sc",
        "outputId": "d60cff40-07a8-4df5-ea99-6e6a729f2338"
      },
      "execution_count": 19,
      "outputs": [
        {
          "output_type": "execute_result",
          "data": {
            "text/plain": [
              "227849033204.76303"
            ]
          },
          "metadata": {},
          "execution_count": 19
        }
      ]
    },
    {
      "cell_type": "code",
      "source": [],
      "metadata": {
        "id": "byHVob_Qg8mo"
      },
      "execution_count": null,
      "outputs": []
    }
  ]
}